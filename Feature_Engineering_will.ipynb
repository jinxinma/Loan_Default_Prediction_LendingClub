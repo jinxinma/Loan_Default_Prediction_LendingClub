{
 "cells": [
  {
   "cell_type": "markdown",
   "metadata": {},
   "source": [
    "## 1. Import Libraries"
   ]
  },
  {
   "cell_type": "code",
   "execution_count": 1,
   "metadata": {
    "collapsed": false
   },
   "outputs": [],
   "source": [
    "# Feature_Engineering\n",
    "from pyspark.sql.types import *\n",
    "import pyspark.sql.functions as F\n",
    "from pyspark.ml.feature import StringIndexer\n",
    "from pyspark.sql.functions import *\n",
    "from pyspark.sql.functions import col, count, sum\n",
    "# Modeling\n",
    "from sklearn.model_selection import train_test_split\n",
    "import numpy as np\n",
    "from sklearn import linear_model, datasets\n",
    "from sklearn.metrics import *\n",
    "from sklearn.model_selection import cross_val_score\n",
    "import numpy as np\n",
    "from pyspark.ml.feature import OneHotEncoder"
   ]
  },
  {
   "cell_type": "markdown",
   "metadata": {},
   "source": [
    "## 2. Load Data and Convert to Spark Data Frame"
   ]
  },
  {
   "cell_type": "code",
   "execution_count": 2,
   "metadata": {
    "collapsed": false,
    "scrolled": true
   },
   "outputs": [
    {
     "data": {
      "text/plain": [
       "[u'id,member_id,loan_amnt,funded_amnt,funded_amnt_inv,term,int_rate,installment,grade,sub_grade,emp_title,emp_length,home_ownership,annual_inc,verification_status,issue_d,loan_status,pymnt_plan,url,desc,purpose,title,zip_code,addr_state,dti,delinq_2yrs,earliest_cr_line,inq_last_6mths,mths_since_last_delinq,mths_since_last_record,open_acc,pub_rec,revol_bal,revol_util,total_acc,initial_list_status,out_prncp,out_prncp_inv,total_pymnt,total_pymnt_inv,total_rec_prncp,total_rec_int,total_rec_late_fee,recoveries,collection_recovery_fee,last_pymnt_d,last_pymnt_amnt,next_pymnt_d,last_credit_pull_d,collections_12_mths_ex_med,mths_since_last_major_derog,policy_code,application_type,annual_inc_joint,dti_joint,verification_status_joint,acc_now_delinq,tot_coll_amt,tot_cur_bal,open_acc_6m,open_il_6m,open_il_12m,open_il_24m,mths_since_rcnt_il,total_bal_il,il_util,open_rv_12m,open_rv_24m,max_bal_bc,all_util,total_rev_hi_lim,inq_fi,total_cu_tl,inq_last_12m']"
      ]
     },
     "execution_count": 2,
     "metadata": {},
     "output_type": "execute_result"
    }
   ],
   "source": [
    "# read files\n",
    "sc.textFile(\"loan.csv\").take(1)"
   ]
  },
  {
   "cell_type": "code",
   "execution_count": 3,
   "metadata": {
    "collapsed": false
   },
   "outputs": [],
   "source": [
    "# load data as dataframe\n",
    "loan_df=spark.read.csv(\"loan.csv\",header=True)"
   ]
  },
  {
   "cell_type": "code",
   "execution_count": 4,
   "metadata": {
    "collapsed": false
   },
   "outputs": [
    {
     "data": {
      "text/plain": [
       "pyspark.sql.dataframe.DataFrame"
      ]
     },
     "execution_count": 4,
     "metadata": {},
     "output_type": "execute_result"
    }
   ],
   "source": [
    "loan_df.rdd.getNumPartitions()\n",
    "type(loan_df)"
   ]
  },
  {
   "cell_type": "markdown",
   "metadata": {},
   "source": [
    "## 3. Create response variable and features\n",
    "### 3.1 Remove some columns based on EDA results"
   ]
  },
  {
   "cell_type": "code",
   "execution_count": 5,
   "metadata": {
    "collapsed": true
   },
   "outputs": [],
   "source": [
    "# loan_df1 = loan_df.drop('desc','mths_since_last_delinq','mths_since_last_record','next_pymnt_d',\n",
    "#                         'mths_since_last_major_derog','annual_inc_joint','dti_joint','verification_status_joint',\n",
    "#                         'open_acc_6m','open_il_6m','open_il_12m','open_il_24m','mths_since_rcnt_il','total_bal_il',\n",
    "#                         'il_util','open_rv_12m','open_rv_24m','max_bal_bc','all_util','inq_fi','total_cu_tl',\n",
    "#                         'inq_last_12m', # with a lot NA\n",
    "#                         'id','member_id','collection_recovery_fee','last_pymnt_amnt','last_pymnt_d','out_prncp','out_prncp_inv',\n",
    "#                         'pymnt_plan','recoveries','term','title','total_pymnt','total_pymnt_inv','total_rec_int',\n",
    "#                         'total_rec_late_fee','total_rec_prncp','url','verification_status', 'initial_list_status', \n",
    "#                         'last_credit_pull_d','policy_code','emp_title','last_credit_pull_d' # domain knowledge\n",
    "#                        )\n",
    "\n",
    "#is that intentionally not leaving out drops?"
   ]
  },
  {
   "cell_type": "code",
   "execution_count": 6,
   "metadata": {
    "collapsed": true
   },
   "outputs": [],
   "source": [
    "# print loan_df1.head(1)\n",
    "# print len(loan_df1.columns)"
   ]
  },
  {
   "cell_type": "code",
   "execution_count": 7,
   "metadata": {
    "collapsed": false
   },
   "outputs": [],
   "source": [
    "loan_df2=loan_df.select(\n",
    "    loan_df.loan_amnt.cast(\"float\"),\n",
    "    loan_df.funded_amnt.cast(\"float\"),\n",
    "    loan_df.funded_amnt_inv.cast(\"float\"),\n",
    "    loan_df.int_rate.cast(\"float\"),  #convert to float\n",
    "    loan_df.installment.cast(\"float\"), #convert to float\n",
    "    'grade',\n",
    "    'sub_grade',   # NEED TO BE DUMMIED\n",
    "    'emp_length',\n",
    "    'home_ownership', #group & make it dummy, done \n",
    "    loan_df.annual_inc.cast(\"float\"),\n",
    "    # 'issue_d',  #why comment out?\n",
    "    'loan_status', \n",
    "    # response variable (pending for change after group discussion)\n",
    "    'purpose',  #make it dummy\n",
    "#     'zip_code', #interesting, worth dummying, might run into problems tho\n",
    "#     'addr_state', #dummy\n",
    "    'verification_status',\n",
    "#     'initial_list_status',\n",
    "    loan_df.dti.cast(\"float\"),#float done\n",
    "    loan_df.delinq_2yrs.cast(\"integer\"),  \n",
    "    #take out NAs, 2? 1, 3, mostly 0\n",
    "    # 'earliest_cr_line',\n",
    "    loan_df.inq_last_6mths.cast(\"integer\"), #similar to delingq_2yr\n",
    "    loan_df.open_acc.cast(\"integer\"), \n",
    "    loan_df.pub_rec.cast(\"integer\"), #what is it? 0,1\n",
    "    loan_df.revol_bal.cast(\"float\"), #done\n",
    "    loan_df.revol_util.cast(\"float\"),#done\n",
    "    loan_df.total_acc.cast(\"integer\"),\n",
    "    #loan_df.last_credit_pull_d.cast(\"integer\"), #date\n",
    "    loan_df.acc_now_delinq.cast(\"integer\"),#ok\n",
    "    loan_df.tot_coll_amt.cast(\"float\"), #done\n",
    "    loan_df.tot_cur_bal.cast(\"float\"), #done\n",
    "    loan_df.total_rev_hi_lim.cast(\"integer\") #what is this\n",
    ")"
   ]
  },
  {
   "cell_type": "markdown",
   "metadata": {},
   "source": [
    "### 3.2 Create response variable and remove rows with no valid response variable "
   ]
  },
  {
   "cell_type": "code",
   "execution_count": 8,
   "metadata": {
    "collapsed": true
   },
   "outputs": [],
   "source": [
    "# needs to fix that, encoding doesn't seem to be right\n",
    "\n",
    "def whetherpaid(x):\n",
    "    if x in ['Default', 'Charged Off', 'Does not meet the credit policy. Status:Charged Off']:\n",
    "        return 1\n",
    "    elif x in ['Does not meet the credit policy. Status:Fully Paid', 'Fully Paid']:\n",
    "        return 0\n",
    "    else:\n",
    "        return -1"
   ]
  },
  {
   "cell_type": "code",
   "execution_count": 9,
   "metadata": {
    "collapsed": true
   },
   "outputs": [],
   "source": [
    "paidflag = udf(lambda x: whetherpaid(x))"
   ]
  },
  {
   "cell_type": "code",
   "execution_count": 10,
   "metadata": {
    "collapsed": true
   },
   "outputs": [],
   "source": [
    "#subject to change\n",
    "loan_df3 = loan_df2.withColumn(\n",
    "    'paid_flag',\n",
    "    paidflag('loan_status').cast(\"integer\")\n",
    "        ).where(\"paid_flag != -1\").drop('loan_status')"
   ]
  },
  {
   "cell_type": "code",
   "execution_count": 11,
   "metadata": {
    "collapsed": false
   },
   "outputs": [
    {
     "name": "stdout",
     "output_type": "stream",
     "text": [
      "root\n",
      " |-- loan_amnt: float (nullable = true)\n",
      " |-- funded_amnt: float (nullable = true)\n",
      " |-- funded_amnt_inv: float (nullable = true)\n",
      " |-- int_rate: float (nullable = true)\n",
      " |-- installment: float (nullable = true)\n",
      " |-- grade: string (nullable = true)\n",
      " |-- sub_grade: string (nullable = true)\n",
      " |-- emp_length: string (nullable = true)\n",
      " |-- home_ownership: string (nullable = true)\n",
      " |-- annual_inc: float (nullable = true)\n",
      " |-- purpose: string (nullable = true)\n",
      " |-- verification_status: string (nullable = true)\n",
      " |-- dti: float (nullable = true)\n",
      " |-- delinq_2yrs: integer (nullable = true)\n",
      " |-- inq_last_6mths: integer (nullable = true)\n",
      " |-- open_acc: integer (nullable = true)\n",
      " |-- pub_rec: integer (nullable = true)\n",
      " |-- revol_bal: float (nullable = true)\n",
      " |-- revol_util: float (nullable = true)\n",
      " |-- total_acc: integer (nullable = true)\n",
      " |-- acc_now_delinq: integer (nullable = true)\n",
      " |-- tot_coll_amt: float (nullable = true)\n",
      " |-- tot_cur_bal: float (nullable = true)\n",
      " |-- total_rev_hi_lim: integer (nullable = true)\n",
      " |-- paid_flag: integer (nullable = true)\n",
      "\n"
     ]
    }
   ],
   "source": [
    "loan_df3.printSchema()\n"
   ]
  },
  {
   "cell_type": "markdown",
   "metadata": {},
   "source": [
    "### 3.3 Add more features\n",
    "#### 3.3.1 Create a numeric feature for \"emp_length\""
   ]
  },
  {
   "cell_type": "code",
   "execution_count": 12,
   "metadata": {
    "collapsed": false
   },
   "outputs": [],
   "source": [
    "import re\n",
    "def convert_to_int(s):\n",
    "    s = re.sub('\\\\D', '', s)  #remove any non-digital character\n",
    "    #\\d matches any digital, #\\D matches any non-digital\n",
    "    try:\n",
    "        return s\n",
    "    except ValueError:\n",
    "        return 'NaN'\n",
    "\n",
    "emp_to_num = udf(convert_to_int)\n",
    "loan_df4 = loan_df3.withColumn('emp_len',emp_to_num('emp_length').cast('integer')).drop('emp_length')"
   ]
  },
  {
   "cell_type": "markdown",
   "metadata": {},
   "source": [
    "#### 3.3.2 Create numeric variable for grade "
   ]
  },
  {
   "cell_type": "code",
   "execution_count": 13,
   "metadata": {
    "collapsed": false
   },
   "outputs": [
    {
     "name": "stdout",
     "output_type": "stream",
     "text": [
      "+---------+-----------+---------------+--------+-----------+-----+---------+--------------+----------+\n",
      "|loan_amnt|funded_amnt|funded_amnt_inv|int_rate|installment|grade|sub_grade|home_ownership|annual_inc|\n",
      "+---------+-----------+---------------+--------+-----------+-----+---------+--------------+----------+\n",
      "|        0|          0|              0|       0|          0|    0|        0|             0|         4|\n",
      "+---------+-----------+---------------+--------+-----------+-----+---------+--------------+----------+\n",
      "\n"
     ]
    }
   ],
   "source": [
    "# count how many nulls in each column\n",
    "def count_null(c):\n",
    "    return sum(col(c).isNull().cast(\"integer\")).alias(c)\n",
    "\n",
    "exprs = [count_null(c) for c in loan_df4.columns[0:9]]\n",
    "loan_df4.agg(*exprs).show()"
   ]
  },
  {
   "cell_type": "markdown",
   "metadata": {},
   "source": [
    "#### 3.3.3 Create numeric variable for grade "
   ]
  },
  {
   "cell_type": "code",
   "execution_count": 14,
   "metadata": {
    "collapsed": true
   },
   "outputs": [],
   "source": [
    "def home_ownership_func(x):\n",
    "    if x in ['ANY','OTHER','NONE']:\n",
    "        return 'Other'\n",
    "    else: \n",
    "        return x\n",
    "\n",
    "home_ownership = udf(home_ownership_func)  #fixed a function\n",
    "loan_df5 = loan_df4.withColumn('home_ownership',home_ownership('home_ownership'))"
   ]
  },
  {
   "cell_type": "code",
   "execution_count": 15,
   "metadata": {
    "collapsed": false
   },
   "outputs": [
    {
     "name": "stdout",
     "output_type": "stream",
     "text": [
      "+--------------+------+\n",
      "|home_ownership| count|\n",
      "+--------------+------+\n",
      "|           OWN| 22282|\n",
      "|         Other|   228|\n",
      "|          RENT|107831|\n",
      "|      MORTGAGE|126598|\n",
      "+--------------+------+\n",
      "\n"
     ]
    }
   ],
   "source": [
    "loan_df5.select('home_ownership').groupBy('home_ownership').count().show()"
   ]
  },
  {
   "cell_type": "markdown",
   "metadata": {},
   "source": [
    "#### 3.3.4 Add loan_inc_ratio feature "
   ]
  },
  {
   "cell_type": "code",
   "execution_count": 16,
   "metadata": {
    "collapsed": false
   },
   "outputs": [],
   "source": [
    "def calculate_ratio(a, b):\n",
    "    try:\n",
    "        return a/float(b)\n",
    "    except TypeError:\n",
    "        return None\n",
    "    except ZeroDivisionError:\n",
    "        return None\n",
    "\n",
    "ratio = udf(calculate_ratio) #define a udf_function ratio"
   ]
  },
  {
   "cell_type": "code",
   "execution_count": 17,
   "metadata": {
    "collapsed": true
   },
   "outputs": [],
   "source": [
    "loan_df6 = loan_df5.withColumn(\n",
    "    'loan_inc_ratio',ratio('loan_amnt','annual_inc'\n",
    "                          ).cast('float'))"
   ]
  },
  {
   "cell_type": "code",
   "execution_count": 18,
   "metadata": {
    "collapsed": false
   },
   "outputs": [],
   "source": [
    "loan_df7 = loan_df6.withColumn(\n",
    "    'instal_inc_ratio',\n",
    "    ratio('installment','annual_inc').cast('float'))"
   ]
  },
  {
   "cell_type": "markdown",
   "metadata": {},
   "source": [
    "#### 3.3.5 Add feature instal_inc_ratio\n"
   ]
  },
  {
   "cell_type": "code",
   "execution_count": 19,
   "metadata": {
    "collapsed": true
   },
   "outputs": [],
   "source": [
    "def calculate_monthly_ratio(a, b):\n",
    "    try:\n",
    "        return a/(float(b)/12)\n",
    "    except TypeError:\n",
    "        return None\n",
    "    except ZeroDivisionError:\n",
    "        return None\n",
    "    \n",
    "monthly_ratio = udf(calculate_monthly_ratio)"
   ]
  },
  {
   "cell_type": "code",
   "execution_count": 20,
   "metadata": {
    "collapsed": true
   },
   "outputs": [],
   "source": [
    "loan_df8 = loan_df7.withColumn(\n",
    "    'instal_inc_ratio',\n",
    "    ratio('installment','annual_inc').cast('float'))"
   ]
  },
  {
   "cell_type": "markdown",
   "metadata": {},
   "source": [
    "#### 3.3.6 Create dummy variables\n",
    "* Use StringIndexer to encode a string column of labels to a column of label indices, and most frequent label gets index 0.\n",
    "\n",
    "* Use OneHotEncoder to convert indices into dummy vectors"
   ]
  },
  {
   "cell_type": "code",
   "execution_count": 21,
   "metadata": {
    "collapsed": false
   },
   "outputs": [
    {
     "name": "stdout",
     "output_type": "stream",
     "text": [
      "purpose\n",
      "purpose\n",
      "grade\n",
      "grade\n",
      "sub_grade\n",
      "sub_grade\n",
      "verification_status\n",
      "verification_status\n",
      "home_ownership\n",
      "home_ownership\n"
     ]
    }
   ],
   "source": [
    "convert_list = [      \n",
    "               'purpose',\n",
    "               'grade',\n",
    "               'sub_grade',\n",
    "               'verification_status',\n",
    "               'home_ownership',\n",
    "                ]\n",
    "\n",
    "for item in convert_list:\n",
    "    print item\n",
    "    indexer = StringIndexer(inputCol=item, outputCol=item + 'Index')    \n",
    "    loan_df8 = indexer.fit(loan_df8).transform(loan_df8).drop(item)\n",
    "    onehotenc = OneHotEncoder(inputCol=item + 'Index', outputCol=item+\"-onehot\", dropLast=False)\n",
    "    # we can experiment with True\n",
    "    loan_df8 = onehotenc.transform(loan_df8).drop(item+'Index')\n",
    "    print item"
   ]
  },
  {
   "cell_type": "code",
   "execution_count": 22,
   "metadata": {
    "collapsed": false
   },
   "outputs": [],
   "source": [
    "loan_df8 = loan_df8.fillna(0.0, ['tot_coll_amt','tot_cur_bal', 'total_rev_hi_lim'])\n",
    "loan_df9 = loan_df8.dropna()"
   ]
  },
  {
   "cell_type": "code",
   "execution_count": 23,
   "metadata": {
    "collapsed": false
   },
   "outputs": [
    {
     "data": {
      "text/plain": [
       "['loan_amnt',\n",
       " 'funded_amnt',\n",
       " 'funded_amnt_inv',\n",
       " 'int_rate',\n",
       " 'installment',\n",
       " 'annual_inc',\n",
       " 'dti',\n",
       " 'delinq_2yrs',\n",
       " 'inq_last_6mths',\n",
       " 'open_acc',\n",
       " 'pub_rec',\n",
       " 'revol_bal',\n",
       " 'revol_util',\n",
       " 'total_acc',\n",
       " 'acc_now_delinq',\n",
       " 'tot_coll_amt',\n",
       " 'tot_cur_bal',\n",
       " 'total_rev_hi_lim',\n",
       " 'paid_flag',\n",
       " 'emp_len',\n",
       " 'loan_inc_ratio',\n",
       " 'instal_inc_ratio',\n",
       " 'purpose-onehot',\n",
       " 'grade-onehot',\n",
       " 'sub_grade-onehot',\n",
       " 'verification_status-onehot',\n",
       " 'home_ownership-onehot']"
      ]
     },
     "execution_count": 23,
     "metadata": {},
     "output_type": "execute_result"
    }
   ],
   "source": [
    "loan_df9.columns"
   ]
  },
  {
   "cell_type": "code",
   "execution_count": 24,
   "metadata": {
    "collapsed": false
   },
   "outputs": [],
   "source": [
    "loan_df_final = loan_df9.select(\n",
    "    'paid_flag',\n",
    "    'loan_amnt',\n",
    "    'funded_amnt',\n",
    "    'funded_amnt_inv',\n",
    "    'int_rate',\n",
    "    'installment',\n",
    "    'annual_inc',\n",
    "    'dti',\n",
    "    'delinq_2yrs',\n",
    "    'inq_last_6mths',\n",
    "    'open_acc',\n",
    "    'pub_rec',\n",
    "    'revol_bal',\n",
    "    'revol_util',\n",
    "    'total_acc',\n",
    "    'acc_now_delinq',\n",
    "    'tot_coll_amt',\n",
    "    'tot_cur_bal',\n",
    "    'total_rev_hi_lim',\n",
    "    'emp_len',\n",
    "    'loan_inc_ratio',\n",
    "    'instal_inc_ratio',\n",
    "    'purpose-onehot',\n",
    "    'grade-onehot',\n",
    "    'sub_grade-onehot',\n",
    "    'verification_status-onehot',\n",
    "    'home_ownership-onehot'\n",
    ")"
   ]
  },
  {
   "cell_type": "code",
   "execution_count": 25,
   "metadata": {
    "collapsed": false
   },
   "outputs": [
    {
     "name": "stdout",
     "output_type": "stream",
     "text": [
      "root\n",
      " |-- paid_flag: integer (nullable = true)\n",
      " |-- loan_amnt: float (nullable = true)\n",
      " |-- funded_amnt: float (nullable = true)\n",
      " |-- funded_amnt_inv: float (nullable = true)\n",
      " |-- int_rate: float (nullable = true)\n",
      " |-- installment: float (nullable = true)\n",
      " |-- annual_inc: float (nullable = true)\n",
      " |-- dti: float (nullable = true)\n",
      " |-- delinq_2yrs: integer (nullable = true)\n",
      " |-- inq_last_6mths: integer (nullable = true)\n",
      " |-- open_acc: integer (nullable = true)\n",
      " |-- pub_rec: integer (nullable = true)\n",
      " |-- revol_bal: float (nullable = true)\n",
      " |-- revol_util: float (nullable = true)\n",
      " |-- total_acc: integer (nullable = true)\n",
      " |-- acc_now_delinq: integer (nullable = true)\n",
      " |-- tot_coll_amt: float (nullable = false)\n",
      " |-- tot_cur_bal: float (nullable = false)\n",
      " |-- total_rev_hi_lim: integer (nullable = true)\n",
      " |-- emp_len: integer (nullable = true)\n",
      " |-- loan_inc_ratio: float (nullable = true)\n",
      " |-- instal_inc_ratio: float (nullable = true)\n",
      " |-- purpose-onehot: vector (nullable = true)\n",
      " |-- grade-onehot: vector (nullable = true)\n",
      " |-- sub_grade-onehot: vector (nullable = true)\n",
      " |-- verification_status-onehot: vector (nullable = true)\n",
      " |-- home_ownership-onehot: vector (nullable = true)\n",
      "\n"
     ]
    }
   ],
   "source": [
    "loan_df_final.take(1)\n",
    "loan_df_final.printSchema()"
   ]
  },
  {
   "cell_type": "code",
   "execution_count": 26,
   "metadata": {
    "collapsed": false
   },
   "outputs": [],
   "source": [
    "# count how many nulls in each column\n",
    "# def count_null(c):\n",
    "#     return sum(col(c).isNull().cast(\"integer\")).alias(c)\n",
    "\n",
    "# exprs = [count_null(c) for c in loan_df9.columns]\n",
    "# loan_df9.agg(*exprs).toPandas().T"
   ]
  },
  {
   "cell_type": "markdown",
   "metadata": {},
   "source": [
    "## 4. Modeling"
   ]
  },
  {
   "cell_type": "markdown",
   "metadata": {},
   "source": [
    "### 4.1 Splitting and Formatting Data"
   ]
  },
  {
   "cell_type": "code",
   "execution_count": 27,
   "metadata": {
    "collapsed": true
   },
   "outputs": [],
   "source": [
    "from pyspark.ml.feature import VectorAssembler\n",
    "from pyspark.ml.classification import RandomForestClassifier\n",
    "\n",
    "from pyspark.ml import Pipeline\n",
    "from pyspark.ml.classification import RandomForestClassifier\n",
    "from pyspark.ml.feature import StringIndexer, VectorIndexer\n",
    "from pyspark.ml.evaluation import MulticlassClassificationEvaluator\n",
    "from pyspark.mllib.evaluation import MulticlassMetrics"
   ]
  },
  {
   "cell_type": "code",
   "execution_count": 28,
   "metadata": {
    "collapsed": false
   },
   "outputs": [
    {
     "data": {
      "text/plain": [
       "[Row(label=0, loan_amnt=5000.0, funded_amnt=5000.0, funded_amnt_inv=4975.0, int_rate=10.649999618530273, installment=162.8699951171875, annual_inc=24000.0, dti=27.649999618530273, delinq_2yrs=0, inq_last_6mths=1, open_acc=3, pub_rec=0, revol_bal=13648.0, revol_util=83.69999694824219, total_acc=9, acc_now_delinq=0, tot_coll_amt=0.0, tot_cur_bal=0.0, total_rev_hi_lim=0, emp_len=10, loan_inc_ratio=0.2083333283662796, instal_inc_ratio=0.006786249577999115, purpose-onehot=SparseVector(265, {1: 1.0}), grade-onehot=SparseVector(7, {0: 1.0}), sub_grade-onehot=SparseVector(35, {3: 1.0}), verification_status-onehot=SparseVector(3, {0: 1.0}), home_ownership-onehot=SparseVector(4, {1: 1.0})),\n",
       " Row(label=1, loan_amnt=2500.0, funded_amnt=2500.0, funded_amnt_inv=2500.0, int_rate=15.270000457763672, installment=59.83000183105469, annual_inc=30000.0, dti=1.0, delinq_2yrs=0, inq_last_6mths=5, open_acc=3, pub_rec=0, revol_bal=1687.0, revol_util=9.399999618530273, total_acc=4, acc_now_delinq=0, tot_coll_amt=0.0, tot_cur_bal=0.0, total_rev_hi_lim=0, emp_len=1, loan_inc_ratio=0.0833333358168602, instal_inc_ratio=0.0019943334627896547, purpose-onehot=SparseVector(265, {6: 1.0}), grade-onehot=SparseVector(7, {1: 1.0}), sub_grade-onehot=SparseVector(35, {7: 1.0}), verification_status-onehot=SparseVector(3, {2: 1.0}), home_ownership-onehot=SparseVector(4, {1: 1.0}))]"
      ]
     },
     "execution_count": 28,
     "metadata": {},
     "output_type": "execute_result"
    }
   ],
   "source": [
    " # Split the data into training and test sets (30% held out for testing)\n",
    "loan_df=loan_df_final.withColumnRenamed('paid_flag','label')\n",
    "loan_df.head(2)"
   ]
  },
  {
   "cell_type": "code",
   "execution_count": 29,
   "metadata": {
    "collapsed": false
   },
   "outputs": [],
   "source": [
    "# va=VectorAssembler(outputCol='features',inputCols=loan_df.columns[:])\n",
    "va=VectorAssembler(outputCol='features',inputCols=loan_df.columns[1:])\n",
    "data=va.transform(loan_df).select('features','label')"
   ]
  },
  {
   "cell_type": "code",
   "execution_count": 30,
   "metadata": {
    "collapsed": false
   },
   "outputs": [
    {
     "data": {
      "text/plain": [
       "[Row(features=SparseVector(335, {0: 5000.0, 1: 5000.0, 2: 4975.0, 3: 10.65, 4: 162.87, 5: 24000.0, 6: 27.65, 8: 1.0, 9: 3.0, 11: 13648.0, 12: 83.7, 13: 9.0, 18: 10.0, 19: 0.2083, 20: 0.0068, 22: 1.0, 286: 1.0, 296: 1.0, 328: 1.0, 332: 1.0}), label=0),\n",
       " Row(features=SparseVector(335, {0: 2500.0, 1: 2500.0, 2: 2500.0, 3: 15.27, 4: 59.83, 5: 30000.0, 6: 1.0, 8: 5.0, 9: 3.0, 11: 1687.0, 12: 9.4, 13: 4.0, 18: 1.0, 19: 0.0833, 20: 0.002, 27: 1.0, 287: 1.0, 300: 1.0, 330: 1.0, 332: 1.0}), label=1),\n",
       " Row(features=SparseVector(335, {0: 2400.0, 1: 2400.0, 2: 2400.0, 3: 15.96, 4: 84.33, 5: 12252.0, 6: 8.72, 8: 2.0, 9: 2.0, 11: 2956.0, 12: 98.5, 13: 10.0, 18: 10.0, 19: 0.1959, 20: 0.0069, 26: 1.0, 287: 1.0, 303: 1.0, 329: 1.0, 332: 1.0}), label=0)]"
      ]
     },
     "execution_count": 30,
     "metadata": {},
     "output_type": "execute_result"
    }
   ],
   "source": [
    "data.head(3)"
   ]
  },
  {
   "cell_type": "code",
   "execution_count": 31,
   "metadata": {
    "collapsed": false
   },
   "outputs": [
    {
     "name": "stdout",
     "output_type": "stream",
     "text": [
      "+--------------------+-----+\n",
      "|            features|label|\n",
      "+--------------------+-----+\n",
      "|(335,[0,1,2,3,4,5...|    0|\n",
      "|(335,[0,1,2,3,4,5...|    1|\n",
      "|(335,[0,1,2,3,4,5...|    0|\n",
      "+--------------------+-----+\n",
      "only showing top 3 rows\n",
      "\n"
     ]
    }
   ],
   "source": [
    "data.show(3)"
   ]
  },
  {
   "cell_type": "code",
   "execution_count": 32,
   "metadata": {
    "collapsed": false
   },
   "outputs": [],
   "source": [
    "# Creating Training and Test Data\n",
    "data_sets=data.randomSplit([0.8,0.2])\n",
    "data_test=data_sets[1].cache()\n",
    "data_train=data_sets[0].cache()"
   ]
  },
  {
   "cell_type": "markdown",
   "metadata": {},
   "source": [
    "### 4.2 Random Forest"
   ]
  },
  {
   "cell_type": "code",
   "execution_count": 33,
   "metadata": {
    "collapsed": false
   },
   "outputs": [],
   "source": [
    "# bootstrap oversample to balance training data\n",
    "\n",
    "data_train_paid = data_train.filter(data_train.label == 0)\n",
    "data_train_not_paid = data_train.filter(data_train.label == 1)\n",
    "\n",
    "num_samples_train = data_train.count()\n",
    "half_num_samples_train = num_samples_train / 2\n",
    "\n",
    "data_train_paid = data_train_paid.sample(True, float(half_num_samples_train) / data_train_paid.count())\n",
    "data_train_not_paid = data_train_not_paid.sample(True, float(half_num_samples_train) / data_train_not_paid.count())"
   ]
  },
  {
   "cell_type": "code",
   "execution_count": 34,
   "metadata": {
    "collapsed": false
   },
   "outputs": [
    {
     "data": {
      "text/plain": [
       "197211"
      ]
     },
     "execution_count": 34,
     "metadata": {},
     "output_type": "execute_result"
    }
   ],
   "source": [
    "# continued\n",
    "data_train = data_train_paid.union(data_train_not_paid)\n",
    "data_train.count()"
   ]
  },
  {
   "cell_type": "code",
   "execution_count": 35,
   "metadata": {
    "collapsed": false
   },
   "outputs": [
    {
     "name": "stdout",
     "output_type": "stream",
     "text": [
      "98545\n",
      "98666\n"
     ]
    }
   ],
   "source": [
    "print data_train.where(data_train.label == 0).count()\n",
    "print data_train.where(data_train.label == 1).count()"
   ]
  },
  {
   "cell_type": "code",
   "execution_count": 36,
   "metadata": {
    "collapsed": false
   },
   "outputs": [
    {
     "name": "stdout",
     "output_type": "stream",
     "text": [
      "98545\n",
      "98666\n"
     ]
    }
   ],
   "source": [
    "print data_train_paid.count()\n",
    "print data_train_not_paid.count()"
   ]
  },
  {
   "cell_type": "code",
   "execution_count": 37,
   "metadata": {
    "collapsed": false
   },
   "outputs": [],
   "source": [
    "# Fit random forest\n",
    "rf = RandomForestClassifier(labelCol=\"label\", featuresCol=\"features\",maxDepth=15,numTrees=11)\n",
    "rfmodel=rf.fit(data_train)"
   ]
  },
  {
   "cell_type": "code",
   "execution_count": 38,
   "metadata": {
    "collapsed": true
   },
   "outputs": [],
   "source": [
    "# Make predictions.\n",
    "predictions = rfmodel.transform(data_test)"
   ]
  },
  {
   "cell_type": "code",
   "execution_count": 39,
   "metadata": {
    "collapsed": false
   },
   "outputs": [
    {
     "name": "stdout",
     "output_type": "stream",
     "text": [
      "+--------------------+-----+--------------------+--------------------+----------+\n",
      "|            features|label|       rawPrediction|         probability|prediction|\n",
      "+--------------------+-----+--------------------+--------------------+----------+\n",
      "|(335,[0,1,2,3,4,5...|    0|[4.23621091248352...|[0.38511008295304...|       1.0|\n",
      "|(335,[0,1,2,3,4,5...|    0|[7.59350564903186...|[0.69031869536653...|       0.0|\n",
      "|(335,[0,1,2,3,4,5...|    1|[4.75292114150630...|[0.43208374013693...|       1.0|\n",
      "|(335,[0,1,2,3,4,5...|    0|[4.37522674210312...|[0.39774788564573...|       1.0|\n",
      "|(335,[0,1,2,3,4,5...|    0|[2.93301389328822...|[0.26663762666256...|       1.0|\n",
      "|(335,[0,1,2,3,4,5...|    0|[6.28410521533159...|[0.57128229230287...|       0.0|\n",
      "|(335,[0,1,2,3,4,5...|    1|[4.22569336205473...|[0.38415394200497...|       1.0|\n",
      "|(335,[0,1,2,3,4,5...|    1|[5.95586569244037...|[0.54144233567639...|       0.0|\n",
      "|(335,[0,1,2,3,4,5...|    0|[6.26982754587984...|[0.56998432235271...|       0.0|\n",
      "|(335,[0,1,2,3,4,5...|    0|[7.36570876141903...|[0.66960988740173...|       0.0|\n",
      "+--------------------+-----+--------------------+--------------------+----------+\n",
      "only showing top 10 rows\n",
      "\n"
     ]
    }
   ],
   "source": [
    "predictions.show(10)"
   ]
  },
  {
   "cell_type": "code",
   "execution_count": 40,
   "metadata": {
    "collapsed": false
   },
   "outputs": [],
   "source": [
    "## This does not give correct error rate\n",
    "\n",
    "# Select (prediction, true label) and compute test error\n",
    "# evaluator = MulticlassClassificationEvaluator(\n",
    "#     labelCol=\"label\", predictionCol=\"prediction\")\n",
    "# accuracy = evaluator.evaluate(predictions)\n",
    "# print(\"Test Error = %g\" % (1.0 - accuracy))\n"
   ]
  },
  {
   "cell_type": "code",
   "execution_count": 41,
   "metadata": {
    "collapsed": false
   },
   "outputs": [],
   "source": [
    "prediction_list = predictions.collect()"
   ]
  },
  {
   "cell_type": "code",
   "execution_count": 42,
   "metadata": {
    "collapsed": false
   },
   "outputs": [],
   "source": [
    "predictionAndLabels = []\n",
    "for item in prediction_list:\n",
    "    predictionAndLabels.append((float(item[4]), float(item[1])))"
   ]
  },
  {
   "cell_type": "code",
   "execution_count": 43,
   "metadata": {
    "collapsed": false
   },
   "outputs": [
    {
     "name": "stdout",
     "output_type": "stream",
     "text": [
      "[[ 25418.  15163.]\n",
      " [  2973.   5790.]]\n",
      "0.276332744714\n",
      "0.660732625813\n",
      "0.632457846952\n"
     ]
    }
   ],
   "source": [
    "metrics = MulticlassMetrics(sc.parallelize(predictionAndLabels))\n",
    "print metrics.confusionMatrix().toArray()\n",
    "print metrics.precision(1)\n",
    "print metrics.recall(1)\n",
    "print metrics.accuracy"
   ]
  },
  {
   "cell_type": "code",
   "execution_count": 44,
   "metadata": {
    "collapsed": false
   },
   "outputs": [
    {
     "data": {
      "text/plain": [
       "[Row(features=SparseVector(335, {0: 18500.0, 1: 18500.0, 2: 18500.0, 3: 24.5, 4: 730.68, 5: 110000.0, 6: 10.6, 7: 1.0, 8: 2.0, 9: 14.0, 10: 1.0, 11: 11988.0, 12: 46.1, 13: 22.0, 14: 1.0, 16: 297516.0, 17: 26000.0, 18: 1.0, 19: 0.1682, 20: 0.0066, 24: 1.0, 291: 1.0, 320: 1.0, 328: 1.0, 331: 1.0}), label=0, rawPrediction=DenseVector([4.2362, 6.7638]), probability=DenseVector([0.3851, 0.6149]), prediction=1.0),\n",
       " Row(features=SparseVector(335, {0: 4800.0, 1: 4800.0, 2: 4800.0, 3: 13.53, 4: 162.96, 5: 55000.0, 6: 12.79, 7: 1.0, 8: 1.0, 9: 11.0, 10: 1.0, 11: 3255.0, 12: 32.9, 13: 41.0, 15: 734.0, 16: 21704.0, 17: 9900.0, 18: 5.0, 19: 0.0873, 20: 0.003, 21: 1.0, 286: 1.0, 298: 1.0, 330: 1.0, 332: 1.0}), label=0, rawPrediction=DenseVector([7.5935, 3.4065]), probability=DenseVector([0.6903, 0.3097]), prediction=0.0),\n",
       " Row(features=SparseVector(335, {0: 9000.0, 1: 9000.0, 2: 9000.0, 3: 19.2, 4: 330.82, 5: 105000.0, 6: 22.87, 7: 1.0, 8: 3.0, 9: 14.0, 10: 1.0, 11: 15953.0, 12: 62.9, 13: 24.0, 15: 151.0, 16: 300256.0, 17: 25381.0, 18: 1.0, 19: 0.0857, 20: 0.0032, 21: 1.0, 289: 1.0, 307: 1.0, 330: 1.0, 331: 1.0}), label=1, rawPrediction=DenseVector([4.7529, 6.2471]), probability=DenseVector([0.4321, 0.5679]), prediction=1.0),\n",
       " Row(features=SparseVector(335, {0: 10800.0, 1: 10800.0, 2: 10800.0, 3: 19.22, 4: 397.09, 5: 37440.0, 6: 16.83, 7: 1.0, 8: 1.0, 9: 8.0, 10: 1.0, 11: 7873.0, 12: 75.0, 13: 30.0, 15: 227.0, 16: 10598.0, 17: 10500.0, 18: 3.0, 19: 0.2885, 20: 0.0106, 21: 1.0, 289: 1.0, 308: 1.0, 330: 1.0, 332: 1.0}), label=0, rawPrediction=DenseVector([4.3752, 6.6248]), probability=DenseVector([0.3977, 0.6023]), prediction=1.0),\n",
       " Row(features=SparseVector(335, {0: 25975.0, 1: 25975.0, 2: 25925.0, 3: 23.4, 4: 738.23, 5: 61000.0, 6: 20.81, 7: 1.0, 8: 1.0, 9: 10.0, 10: 1.0, 11: 10778.0, 12: 80.4, 13: 16.0, 15: 1146.0, 16: 17288.0, 17: 13400.0, 18: 2.0, 19: 0.4258, 20: 0.0121, 21: 1.0, 290: 1.0, 317: 1.0, 328: 1.0, 332: 1.0}), label=0, rawPrediction=DenseVector([2.933, 8.067]), probability=DenseVector([0.2666, 0.7334]), prediction=1.0),\n",
       " Row(features=SparseVector(335, {0: 7000.0, 1: 7000.0, 2: 7000.0, 3: 14.47, 4: 240.85, 5: 78000.0, 6: 10.75, 7: 1.0, 8: 3.0, 9: 15.0, 10: 1.0, 11: 7783.0, 12: 21.2, 13: 27.0, 15: 182.0, 16: 203045.0, 17: 36700.0, 18: 2.0, 19: 0.0897, 20: 0.0031, 22: 1.0, 287: 1.0, 297: 1.0, 329: 1.0, 331: 1.0}), label=0, rawPrediction=DenseVector([6.2841, 4.7159]), probability=DenseVector([0.5713, 0.4287]), prediction=0.0),\n",
       " Row(features=SparseVector(335, {0: 15000.0, 1: 15000.0, 2: 15000.0, 3: 15.61, 4: 361.67, 5: 50000.0, 6: 15.05, 7: 1.0, 8: 2.0, 9: 10.0, 10: 1.0, 11: 9871.0, 12: 64.1, 13: 22.0, 15: 925.0, 16: 36095.0, 17: 15400.0, 18: 10.0, 19: 0.3, 20: 0.0072, 22: 1.0, 287: 1.0, 300: 1.0, 330: 1.0, 331: 1.0}), label=1, rawPrediction=DenseVector([4.2257, 6.7743]), probability=DenseVector([0.3842, 0.6158]), prediction=1.0),\n",
       " Row(features=SparseVector(335, {0: 7500.0, 1: 7500.0, 2: 7500.0, 3: 21.48, 4: 284.42, 5: 60000.0, 6: 13.18, 7: 1.0, 8: 1.0, 9: 9.0, 10: 3.0, 11: 4117.0, 12: 40.8, 13: 17.0, 15: 1207.0, 16: 120845.0, 17: 10100.0, 18: 10.0, 19: 0.125, 20: 0.0047, 24: 1.0, 290: 1.0, 314: 1.0, 330: 1.0, 331: 1.0}), label=1, rawPrediction=DenseVector([5.9559, 5.0441]), probability=DenseVector([0.5414, 0.4586]), prediction=0.0),\n",
       " Row(features=SparseVector(335, {0: 6000.0, 1: 6000.0, 2: 6000.0, 3: 12.85, 4: 201.74, 5: 55000.0, 6: 25.77, 7: 1.0, 8: 1.0, 9: 7.0, 10: 2.0, 11: 5189.0, 12: 55.8, 13: 28.0, 16: 39201.0, 17: 9300.0, 18: 2.0, 19: 0.1091, 20: 0.0037, 21: 1.0, 286: 1.0, 294: 1.0, 328: 1.0, 332: 1.0}), label=0, rawPrediction=DenseVector([6.2698, 4.7302]), probability=DenseVector([0.57, 0.43]), prediction=0.0),\n",
       " Row(features=SparseVector(335, {0: 10000.0, 1: 10000.0, 2: 10000.0, 3: 12.99, 4: 336.9, 5: 110000.0, 6: 7.47, 7: 1.0, 8: 1.0, 9: 12.0, 10: 1.0, 11: 8894.0, 12: 65.4, 13: 32.0, 16: 18013.0, 17: 13600.0, 18: 6.0, 19: 0.0909, 20: 0.0031, 21: 1.0, 286: 1.0, 294: 1.0, 330: 1.0, 331: 1.0}), label=0, rawPrediction=DenseVector([7.3657, 3.6343]), probability=DenseVector([0.6696, 0.3304]), prediction=0.0),\n",
       " Row(features=SparseVector(335, {0: 8000.0, 1: 8000.0, 2: 8000.0, 3: 13.67, 4: 272.15, 5: 70000.0, 6: 16.74, 7: 1.0, 8: 1.0, 9: 10.0, 10: 1.0, 11: 10376.0, 12: 63.3, 13: 24.0, 16: 43036.0, 17: 16400.0, 18: 6.0, 19: 0.1143, 20: 0.0039, 21: 1.0, 286: 1.0, 298: 1.0, 330: 1.0, 331: 1.0}), label=0, rawPrediction=DenseVector([7.1581, 3.8419]), probability=DenseVector([0.6507, 0.3493]), prediction=0.0),\n",
       " Row(features=SparseVector(335, {0: 18400.0, 1: 18400.0, 2: 18400.0, 3: 9.99, 4: 593.63, 5: 110000.0, 6: 5.27, 7: 1.0, 8: 1.0, 9: 8.0, 10: 1.0, 11: 9485.0, 12: 54.2, 13: 19.0, 16: 282757.0, 17: 17500.0, 18: 1.0, 19: 0.1673, 20: 0.0054, 21: 1.0, 286: 1.0, 301: 1.0, 328: 1.0, 331: 1.0}), label=0, rawPrediction=DenseVector([7.2678, 3.7322]), probability=DenseVector([0.6607, 0.3393]), prediction=0.0),\n",
       " Row(features=SparseVector(335, {0: 15000.0, 1: 15000.0, 2: 15000.0, 3: 9.67, 4: 481.69, 5: 57000.0, 6: 12.29, 7: 1.0, 8: 1.0, 9: 9.0, 10: 1.0, 11: 9717.0, 12: 56.5, 13: 25.0, 16: 18272.0, 17: 17200.0, 18: 7.0, 19: 0.2632, 20: 0.0085, 21: 1.0, 286: 1.0, 301: 1.0, 329: 1.0, 331: 1.0}), label=0, rawPrediction=DenseVector([6.7465, 4.2535]), probability=DenseVector([0.6133, 0.3867]), prediction=0.0),\n",
       " Row(features=SparseVector(335, {0: 10500.0, 1: 10500.0, 2: 10500.0, 3: 15.1, 4: 364.51, 5: 74000.0, 6: 13.06, 7: 2.0, 8: 3.0, 9: 9.0, 10: 1.0, 11: 4949.0, 12: 36.4, 13: 27.0, 16: 145072.0, 17: 13600.0, 18: 10.0, 19: 0.1419, 20: 0.0049, 21: 1.0, 287: 1.0, 297: 1.0, 329: 1.0, 331: 1.0}), label=1, rawPrediction=DenseVector([6.0939, 4.9061]), probability=DenseVector([0.554, 0.446]), prediction=0.0),\n",
       " Row(features=SparseVector(335, {0: 7000.0, 1: 7000.0, 2: 6950.0, 3: 14.47, 4: 240.85, 5: 45000.0, 6: 15.68, 7: 1.0, 8: 1.0, 9: 5.0, 10: 1.0, 11: 4543.0, 12: 74.0, 13: 33.0, 16: 19841.0, 17: 6150.0, 18: 10.0, 19: 0.1556, 20: 0.0054, 21: 1.0, 287: 1.0, 297: 1.0, 329: 1.0, 332: 1.0}), label=0, rawPrediction=DenseVector([5.9032, 5.0968]), probability=DenseVector([0.5367, 0.4633]), prediction=0.0),\n",
       " Row(features=SparseVector(335, {0: 35000.0, 1: 35000.0, 2: 35000.0, 3: 16.2, 4: 1233.96, 5: 142000.0, 6: 15.02, 7: 1.0, 8: 1.0, 9: 11.0, 10: 1.0, 11: 20669.0, 12: 78.3, 13: 41.0, 16: 355727.0, 17: 26400.0, 18: 10.0, 19: 0.2465, 20: 0.0087, 21: 1.0, 287: 1.0, 300: 1.0, 328: 1.0, 331: 1.0}), label=0, rawPrediction=DenseVector([5.4483, 5.5517]), probability=DenseVector([0.4953, 0.5047]), prediction=1.0),\n",
       " Row(features=SparseVector(335, {0: 18000.0, 1: 18000.0, 2: 17975.0, 3: 16.2, 4: 439.65, 5: 65147.0, 6: 24.48, 7: 1.0, 8: 1.0, 9: 14.0, 10: 1.0, 11: 4912.0, 12: 28.2, 13: 44.0, 16: 313730.0, 17: 17400.0, 18: 9.0, 19: 0.2763, 20: 0.0067, 21: 1.0, 287: 1.0, 300: 1.0, 330: 1.0, 331: 1.0}), label=0, rawPrediction=DenseVector([5.156, 5.844]), probability=DenseVector([0.4687, 0.5313]), prediction=1.0),\n",
       " Row(features=SparseVector(335, {0: 8000.0, 1: 8000.0, 2: 8000.0, 3: 17.1, 4: 285.63, 5: 67000.0, 6: 14.6, 7: 1.0, 8: 1.0, 9: 7.0, 10: 1.0, 11: 4544.0, 12: 65.9, 13: 19.0, 16: 213931.0, 17: 6900.0, 18: 4.0, 19: 0.1194, 20: 0.0043, 21: 1.0, 287: 1.0, 303: 1.0, 328: 1.0, 331: 1.0}), label=0, rawPrediction=DenseVector([5.4442, 5.5558]), probability=DenseVector([0.4949, 0.5051]), prediction=1.0),\n",
       " Row(features=SparseVector(335, {0: 14450.0, 1: 14450.0, 2: 14450.0, 3: 16.24, 4: 509.74, 5: 119000.0, 6: 12.21, 7: 1.0, 8: 2.0, 9: 10.0, 10: 2.0, 11: 12677.0, 12: 56.0, 13: 41.0, 16: 39028.0, 17: 22575.0, 18: 9.0, 19: 0.1214, 20: 0.0043, 21: 1.0, 287: 1.0, 303: 1.0, 329: 1.0, 332: 1.0}), label=0, rawPrediction=DenseVector([5.5688, 5.4312]), probability=DenseVector([0.5063, 0.4937]), prediction=0.0),\n",
       " Row(features=SparseVector(335, {0: 9800.0, 1: 9800.0, 2: 9800.0, 3: 8.9, 4: 311.19, 5: 67000.0, 6: 10.3, 7: 1.0, 8: 1.0, 9: 6.0, 10: 1.0, 11: 3997.0, 12: 56.3, 13: 20.0, 16: 28674.0, 17: 7100.0, 18: 6.0, 19: 0.1463, 20: 0.0046, 21: 1.0, 288: 1.0, 302: 1.0, 330: 1.0, 332: 1.0}), label=0, rawPrediction=DenseVector([8.2942, 2.7058]), probability=DenseVector([0.754, 0.246]), prediction=0.0),\n",
       " Row(features=SparseVector(335, {0: 17050.0, 1: 17050.0, 2: 17050.0, 3: 16.99, 4: 607.8, 5: 70000.0, 6: 25.54, 7: 1.0, 8: 2.0, 9: 14.0, 10: 1.0, 11: 7814.0, 12: 53.0, 13: 41.0, 16: 128473.0, 17: 14800.0, 18: 9.0, 19: 0.2436, 20: 0.0087, 21: 1.0, 289: 1.0, 305: 1.0, 329: 1.0, 331: 1.0}), label=0, rawPrediction=DenseVector([4.2508, 6.7492]), probability=DenseVector([0.3864, 0.6136]), prediction=1.0),\n",
       " Row(features=SparseVector(335, {0: 7375.0, 1: 7375.0, 2: 7375.0, 3: 17.57, 4: 265.04, 5: 75000.0, 6: 26.58, 7: 2.0, 8: 1.0, 9: 10.0, 10: 1.0, 11: 7572.0, 12: 57.7, 13: 19.0, 16: 181953.0, 17: 13121.0, 18: 1.0, 19: 0.0983, 20: 0.0035, 21: 1.0, 289: 1.0, 306: 1.0, 330: 1.0, 331: 1.0}), label=1, rawPrediction=DenseVector([4.9142, 6.0858]), probability=DenseVector([0.4467, 0.5533]), prediction=1.0),\n",
       " Row(features=SparseVector(335, {0: 9750.0, 1: 9750.0, 2: 9750.0, 3: 18.25, 4: 353.71, 5: 53000.0, 6: 22.31, 7: 1.0, 8: 4.0, 9: 9.0, 10: 1.0, 11: 6542.0, 12: 78.8, 13: 41.0, 16: 36683.0, 17: 8300.0, 18: 10.0, 19: 0.184, 20: 0.0067, 21: 1.0, 289: 1.0, 307: 1.0, 328: 1.0, 331: 1.0}), label=1, rawPrediction=DenseVector([4.3855, 6.6145]), probability=DenseVector([0.3987, 0.6013]), prediction=1.0),\n",
       " Row(features=SparseVector(335, {0: 18000.0, 1: 18000.0, 2: 17875.0, 3: 19.2, 4: 468.92, 5: 54000.0, 6: 28.78, 7: 1.0, 8: 1.0, 9: 17.0, 10: 1.0, 11: 17311.0, 12: 83.6, 13: 29.0, 16: 176051.0, 17: 20700.0, 18: 2.0, 19: 0.3333, 20: 0.0087, 21: 1.0, 289: 1.0, 307: 1.0, 330: 1.0, 331: 1.0}), label=0, rawPrediction=DenseVector([3.1771, 7.8229]), probability=DenseVector([0.2888, 0.7112]), prediction=1.0),\n",
       " Row(features=SparseVector(335, {0: 7200.0, 1: 7200.0, 2: 7200.0, 3: 19.97, 4: 267.47, 5: 36000.0, 6: 8.97, 7: 1.0, 8: 1.0, 9: 4.0, 10: 1.0, 11: 8702.0, 12: 66.9, 13: 15.0, 16: 8702.0, 17: 13000.0, 18: 10.0, 19: 0.2, 20: 0.0074, 21: 1.0, 289: 1.0, 310: 1.0, 329: 1.0, 331: 1.0}), label=0, rawPrediction=DenseVector([4.5388, 6.4612]), probability=DenseVector([0.4126, 0.5874]), prediction=1.0),\n",
       " Row(features=SparseVector(335, {0: 11700.0, 1: 11700.0, 2: 11700.0, 3: 22.4, 4: 449.26, 5: 60000.0, 6: 15.8, 7: 6.0, 8: 1.0, 9: 17.0, 10: 2.0, 11: 7359.0, 12: 54.1, 13: 29.0, 16: 282463.0, 17: 13600.0, 18: 10.0, 19: 0.195, 20: 0.0075, 21: 1.0, 290: 1.0, 315: 1.0, 330: 1.0, 331: 1.0}), label=0, rawPrediction=DenseVector([3.8513, 7.1487]), probability=DenseVector([0.3501, 0.6499]), prediction=1.0),\n",
       " Row(features=SparseVector(335, {0: 12000.0, 1: 12000.0, 2: 12000.0, 3: 22.9, 4: 337.6, 5: 95000.0, 6: 11.55, 7: 1.0, 8: 3.0, 9: 9.0, 10: 1.0, 11: 7977.0, 12: 83.1, 13: 12.0, 16: 234150.0, 17: 9600.0, 18: 9.0, 19: 0.1263, 20: 0.0036, 21: 1.0, 290: 1.0, 316: 1.0, 328: 1.0, 331: 1.0}), label=0, rawPrediction=DenseVector([4.1013, 6.8987]), probability=DenseVector([0.3728, 0.6272]), prediction=1.0),\n",
       " Row(features=SparseVector(335, {0: 12500.0, 1: 12500.0, 2: 12500.0, 3: 23.1, 4: 484.53, 5: 42000.0, 6: 16.03, 7: 1.0, 8: 1.0, 9: 9.0, 10: 1.0, 11: 13322.0, 12: 52.9, 13: 13.0, 16: 22273.0, 17: 25200.0, 18: 8.0, 19: 0.2976, 20: 0.0115, 21: 1.0, 290: 1.0, 316: 1.0, 328: 1.0, 331: 1.0}), label=0, rawPrediction=DenseVector([2.9507, 8.0493]), probability=DenseVector([0.2682, 0.7318]), prediction=1.0),\n",
       " Row(features=SparseVector(335, {0: 14125.0, 1: 14125.0, 2: 14100.0, 3: 25.83, 4: 421.49, 5: 80000.0, 6: 6.97, 7: 1.0, 8: 1.0, 9: 10.0, 10: 1.0, 11: 3510.0, 12: 34.4, 13: 24.0, 16: 97702.0, 17: 10200.0, 18: 10.0, 19: 0.1766, 20: 0.0053, 21: 1.0, 292: 1.0, 324: 1.0, 328: 1.0, 331: 1.0}), label=0, rawPrediction=DenseVector([4.1242, 6.8758]), probability=DenseVector([0.3749, 0.6251]), prediction=1.0),\n",
       " Row(features=SparseVector(335, {0: 12000.0, 1: 12000.0, 2: 11950.0, 3: 11.99, 4: 398.52, 5: 100000.0, 6: 15.6, 7: 1.0, 8: 1.0, 9: 15.0, 10: 1.0, 11: 10443.0, 12: 61.4, 13: 46.0, 16: 65772.0, 17: 17000.0, 18: 9.0, 19: 0.12, 20: 0.004, 22: 1.0, 286: 1.0, 293: 1.0, 330: 1.0, 331: 1.0}), label=0, rawPrediction=DenseVector([7.5271, 3.4729]), probability=DenseVector([0.6843, 0.3157]), prediction=0.0),\n",
       " Row(features=SparseVector(335, {0: 7200.0, 1: 7200.0, 2: 7200.0, 3: 12.99, 4: 242.57, 5: 50000.0, 6: 21.27, 7: 1.0, 8: 2.0, 9: 8.0, 10: 1.0, 11: 4979.0, 12: 83.0, 13: 17.0, 16: 89109.0, 17: 6000.0, 18: 6.0, 19: 0.144, 20: 0.0049, 22: 1.0, 286: 1.0, 294: 1.0, 328: 1.0, 331: 1.0}), label=0, rawPrediction=DenseVector([5.31, 5.69]), probability=DenseVector([0.4827, 0.5173]), prediction=1.0),\n",
       " Row(features=SparseVector(335, {0: 15000.0, 1: 15000.0, 2: 14900.0, 3: 13.53, 4: 509.25, 5: 70000.0, 6: 21.05, 7: 1.0, 8: 2.0, 9: 10.0, 10: 1.0, 11: 10008.0, 12: 61.0, 13: 21.0, 16: 35765.0, 17: 16400.0, 18: 1.0, 19: 0.2143, 20: 0.0073, 22: 1.0, 286: 1.0, 298: 1.0, 329: 1.0, 331: 1.0}), label=0, rawPrediction=DenseVector([6.1117, 4.8883]), probability=DenseVector([0.5556, 0.4444]), prediction=0.0),\n",
       " Row(features=SparseVector(335, {0: 25000.0, 1: 25000.0, 2: 25000.0, 3: 15.61, 4: 874.12, 5: 75890.0, 6: 2.37, 7: 2.0, 8: 4.0, 9: 10.0, 10: 1.0, 11: 4009.0, 12: 19.1, 13: 27.0, 16: 222530.0, 17: 21000.0, 18: 10.0, 19: 0.3294, 20: 0.0115, 22: 1.0, 287: 1.0, 299: 1.0, 328: 1.0, 331: 1.0}), label=0, rawPrediction=DenseVector([5.4503, 5.5497]), probability=DenseVector([0.4955, 0.5045]), prediction=1.0),\n",
       " Row(features=SparseVector(335, {0: 10000.0, 1: 10000.0, 2: 10000.0, 3: 17.76, 4: 360.33, 5: 45000.0, 6: 15.28, 7: 2.0, 8: 3.0, 9: 23.0, 10: 1.0, 11: 9542.0, 12: 32.3, 13: 46.0, 16: 240548.0, 17: 29500.0, 18: 1.0, 19: 0.2222, 20: 0.008, 22: 1.0, 289: 1.0, 305: 1.0, 328: 1.0, 332: 1.0}), label=0, rawPrediction=DenseVector([4.7972, 6.2028]), probability=DenseVector([0.4361, 0.5639]), prediction=1.0),\n",
       " Row(features=SparseVector(335, {0: 10000.0, 1: 10000.0, 2: 10000.0, 3: 19.52, 4: 369.2, 5: 72000.0, 6: 14.27, 7: 1.0, 8: 2.0, 9: 11.0, 10: 1.0, 11: 9607.0, 12: 50.8, 13: 17.0, 16: 24718.0, 17: 18900.0, 18: 9.0, 19: 0.1389, 20: 0.0051, 22: 1.0, 289: 1.0, 308: 1.0, 328: 1.0, 332: 1.0}), label=0, rawPrediction=DenseVector([4.4764, 6.5236]), probability=DenseVector([0.4069, 0.5931]), prediction=1.0),\n",
       " Row(features=SparseVector(335, {0: 11500.0, 1: 11500.0, 2: 11425.0, 3: 24.08, 4: 331.37, 5: 35000.0, 6: 14.91, 7: 2.0, 8: 1.0, 9: 13.0, 10: 1.0, 11: 10562.0, 12: 41.7, 13: 21.0, 16: 10562.0, 17: 25300.0, 18: 3.0, 19: 0.3286, 20: 0.0095, 22: 1.0, 291: 1.0, 319: 1.0, 328: 1.0, 332: 1.0}), label=0, rawPrediction=DenseVector([3.2055, 7.7945]), probability=DenseVector([0.2914, 0.7086]), prediction=1.0),\n",
       " Row(features=SparseVector(335, {0: 10000.0, 1: 10000.0, 2: 10000.0, 3: 10.99, 4: 327.34, 5: 45000.0, 6: 18.13, 7: 3.0, 8: 2.0, 9: 10.0, 10: 1.0, 11: 7602.0, 12: 51.0, 13: 40.0, 16: 24269.0, 17: 14900.0, 18: 10.0, 19: 0.2222, 20: 0.0073, 23: 1.0, 286: 1.0, 296: 1.0, 330: 1.0, 331: 1.0}), label=0, rawPrediction=DenseVector([6.3079, 4.6921]), probability=DenseVector([0.5734, 0.4266]), prediction=0.0),\n",
       " Row(features=SparseVector(335, {0: 8500.0, 1: 8500.0, 2: 8500.0, 3: 15.61, 4: 297.21, 5: 54000.0, 6: 12.71, 7: 1.0, 8: 4.0, 9: 12.0, 10: 1.0, 11: 4216.0, 12: 31.0, 13: 54.0, 16: 65983.0, 17: 13600.0, 18: 4.0, 19: 0.1574, 20: 0.0055, 23: 1.0, 287: 1.0, 299: 1.0, 328: 1.0, 331: 1.0}), label=0, rawPrediction=DenseVector([6.7392, 4.2608]), probability=DenseVector([0.6127, 0.3873]), prediction=0.0),\n",
       " Row(features=SparseVector(335, {0: 10750.0, 1: 10750.0, 2: 10750.0, 3: 15.61, 4: 375.88, 5: 55000.0, 6: 7.64, 7: 1.0, 8: 1.0, 9: 5.0, 10: 1.0, 11: 4887.0, 12: 95.8, 13: 7.0, 16: 63685.0, 17: 5100.0, 18: 10.0, 19: 0.1955, 20: 0.0068, 23: 1.0, 287: 1.0, 299: 1.0, 328: 1.0, 331: 1.0}), label=0, rawPrediction=DenseVector([4.5384, 6.4616]), probability=DenseVector([0.4126, 0.5874]), prediction=1.0),\n",
       " Row(features=SparseVector(335, {0: 31825.0, 1: 31825.0, 2: 31800.0, 3: 24.5, 4: 924.81, 5: 71720.0, 6: 16.82, 7: 1.0, 8: 4.0, 9: 12.0, 10: 1.0, 11: 15599.0, 12: 59.3, 13: 28.0, 16: 274541.0, 17: 26300.0, 18: 10.0, 19: 0.4437, 20: 0.0129, 23: 1.0, 291: 1.0, 320: 1.0, 328: 1.0, 331: 1.0}), label=1, rawPrediction=DenseVector([3.1284, 7.8716]), probability=DenseVector([0.2844, 0.7156]), prediction=1.0),\n",
       " Row(features=SparseVector(335, {0: 20000.0, 1: 20000.0, 2: 20000.0, 3: 24.5, 4: 581.18, 5: 85000.0, 6: 12.62, 7: 1.0, 8: 2.0, 9: 11.0, 10: 1.0, 11: 6721.0, 12: 71.5, 13: 42.0, 16: 147034.0, 17: 9900.0, 18: 6.0, 19: 0.2353, 20: 0.0068, 23: 1.0, 291: 1.0, 320: 1.0, 330: 1.0, 331: 1.0}), label=0, rawPrediction=DenseVector([3.8037, 7.1963]), probability=DenseVector([0.3458, 0.6542]), prediction=1.0),\n",
       " Row(features=SparseVector(335, {0: 14575.0, 1: 14575.0, 2: 14575.0, 3: 17.57, 4: 523.79, 5: 150000.0, 6: 12.58, 7: 1.0, 8: 1.0, 9: 13.0, 10: 2.0, 11: 5352.0, 12: 22.3, 13: 43.0, 16: 134065.0, 17: 24000.0, 18: 10.0, 19: 0.0972, 20: 0.0035, 24: 1.0, 289: 1.0, 306: 1.0, 328: 1.0, 332: 1.0}), label=1, rawPrediction=DenseVector([5.0937, 5.9063]), probability=DenseVector([0.4631, 0.5369]), prediction=1.0),\n",
       " Row(features=SparseVector(335, {0: 21000.0, 1: 21000.0, 2: 21000.0, 3: 24.99, 4: 616.26, 5: 96000.0, 6: 7.09, 7: 1.0, 8: 2.0, 9: 11.0, 10: 1.0, 11: 14502.0, 12: 69.0, 13: 19.0, 16: 157071.0, 17: 21900.0, 18: 6.0, 19: 0.2188, 20: 0.0064, 24: 1.0, 291: 1.0, 321: 1.0, 328: 1.0, 331: 1.0}), label=0, rawPrediction=DenseVector([3.7689, 7.2311]), probability=DenseVector([0.3426, 0.6574]), prediction=1.0),\n",
       " Row(features=SparseVector(335, {0: 30000.0, 1: 30000.0, 2: 29950.0, 3: 24.99, 4: 880.37, 5: 180000.0, 6: 4.32, 7: 1.0, 8: 3.0, 9: 13.0, 10: 2.0, 11: 19381.0, 12: 41.6, 13: 38.0, 16: 361795.0, 17: 46600.0, 18: 10.0, 19: 0.1667, 20: 0.0049, 26: 1.0, 291: 1.0, 321: 1.0, 328: 1.0, 331: 1.0}), label=0, rawPrediction=DenseVector([4.629, 6.371]), probability=DenseVector([0.4208, 0.5792]), prediction=1.0),\n",
       " Row(features=SparseVector(335, {0: 5000.0, 1: 5000.0, 2: 5000.0, 3: 10.99, 4: 163.67, 5: 52000.0, 6: 4.8, 7: 1.0, 8: 2.0, 9: 8.0, 10: 1.0, 11: 5661.0, 12: 41.9, 13: 17.0, 18: 10.0, 19: 0.0962, 20: 0.0031, 21: 1.0, 286: 1.0, 293: 1.0, 329: 1.0, 331: 1.0}), label=0, rawPrediction=DenseVector([7.1449, 3.8551]), probability=DenseVector([0.6495, 0.3505]), prediction=0.0),\n",
       " Row(features=SparseVector(335, {0: 7800.0, 1: 7800.0, 2: 7700.0, 3: 9.99, 4: 251.65, 5: 60000.0, 6: 11.06, 7: 1.0, 8: 1.0, 9: 6.0, 10: 1.0, 11: 9147.0, 12: 54.3, 13: 16.0, 18: 10.0, 19: 0.13, 20: 0.0042, 21: 1.0, 286: 1.0, 294: 1.0, 328: 1.0, 331: 1.0}), label=0, rawPrediction=DenseVector([7.2544, 3.7456]), probability=DenseVector([0.6595, 0.3405]), prediction=0.0),\n",
       " Row(features=SparseVector(335, {0: 5000.0, 1: 5000.0, 2: 4975.0, 3: 12.61, 4: 167.54, 5: 40000.0, 6: 8.16, 7: 2.0, 8: 3.0, 9: 9.0, 10: 1.0, 11: 4325.0, 12: 24.4, 13: 22.0, 18: 6.0, 19: 0.125, 20: 0.0042, 21: 1.0, 287: 1.0, 297: 1.0, 330: 1.0, 332: 1.0}), label=0, rawPrediction=DenseVector([5.5325, 5.4675]), probability=DenseVector([0.503, 0.497]), prediction=0.0),\n",
       " Row(features=SparseVector(335, {0: 8000.0, 1: 8000.0, 2: 8000.0, 3: 14.65, 4: 275.96, 5: 33000.0, 6: 18.36, 7: 1.0, 8: 2.0, 9: 7.0, 10: 1.0, 11: 3017.0, 12: 62.9, 13: 17.0, 18: 10.0, 19: 0.2424, 20: 0.0084, 21: 1.0, 287: 1.0, 299: 1.0, 330: 1.0, 332: 1.0}), label=1, rawPrediction=DenseVector([4.6821, 6.3179]), probability=DenseVector([0.4256, 0.5744]), prediction=1.0),\n",
       " Row(features=SparseVector(335, {0: 12000.0, 1: 12000.0, 2: 12000.0, 3: 13.85, 4: 409.25, 5: 52000.0, 6: 21.42, 7: 1.0, 8: 1.0, 9: 14.0, 10: 1.0, 11: 35536.0, 12: 85.0, 13: 25.0, 18: 10.0, 19: 0.2308, 20: 0.0079, 21: 1.0, 287: 1.0, 300: 1.0, 329: 1.0, 331: 1.0}), label=0, rawPrediction=DenseVector([5.0474, 5.9526]), probability=DenseVector([0.4589, 0.5411]), prediction=1.0),\n",
       " Row(features=SparseVector(335, {0: 20000.0, 1: 20000.0, 2: 19225.0, 3: 14.96, 4: 692.92, 5: 79894.0, 6: 17.57, 7: 1.0, 8: 1.0, 9: 18.0, 10: 1.0, 11: 21111.0, 12: 86.9, 13: 31.0, 18: 7.0, 19: 0.2503, 20: 0.0087, 21: 1.0, 289: 1.0, 306: 1.0, 328: 1.0, 331: 1.0}), label=0, rawPrediction=DenseVector([5.5684, 5.4316]), probability=DenseVector([0.5062, 0.4938]), prediction=0.0),\n",
       " Row(features=SparseVector(335, {0: 8000.0, 1: 8000.0, 2: 8000.0, 3: 15.58, 4: 279.61, 5: 48000.0, 6: 22.25, 7: 1.0, 8: 3.0, 9: 14.0, 10: 1.0, 11: 8784.0, 12: 73.2, 13: 30.0, 18: 3.0, 19: 0.1667, 20: 0.0058, 21: 1.0, 289: 1.0, 307: 1.0, 330: 1.0, 332: 1.0}), label=1, rawPrediction=DenseVector([4.3422, 6.6578]), probability=DenseVector([0.3947, 0.6053]), prediction=1.0),\n",
       " Row(features=SparseVector(335, {0: 16000.0, 1: 16000.0, 2: 15990.8926, 3: 15.65, 4: 559.78, 5: 53684.0, 6: 12.94, 7: 1.0, 8: 2.0, 9: 7.0, 10: 1.0, 11: 10728.0, 12: 91.7, 13: 25.0, 18: 10.0, 19: 0.298, 20: 0.0104, 21: 1.0, 289: 1.0, 308: 1.0, 329: 1.0, 331: 1.0}), label=0, rawPrediction=DenseVector([4.5624, 6.4376]), probability=DenseVector([0.4148, 0.5852]), prediction=1.0),\n",
       " Row(features=SparseVector(335, {0: 6000.0, 1: 6000.0, 2: 1025.0, 3: 12.8, 4: 201.6, 5: 57000.0, 6: 15.2, 7: 2.0, 8: 4.0, 9: 13.0, 10: 1.0, 11: 13622.0, 12: 79.7, 13: 31.0, 18: 8.0, 19: 0.1053, 20: 0.0035, 21: 1.0, 289: 1.0, 308: 1.0, 329: 1.0, 332: 1.0}), label=0, rawPrediction=DenseVector([3.9003, 7.0997]), probability=DenseVector([0.3546, 0.6454]), prediction=1.0),\n",
       " Row(features=SparseVector(335, {0: 7800.0, 1: 7800.0, 2: 7800.0, 3: 16.07, 4: 274.52, 5: 40000.0, 6: 20.34, 7: 1.0, 8: 5.0, 9: 13.0, 10: 2.0, 11: 9131.0, 12: 78.9, 13: 40.0, 18: 3.0, 19: 0.195, 20: 0.0069, 21: 1.0, 289: 1.0, 310: 1.0, 328: 1.0, 331: 1.0}), label=0, rawPrediction=DenseVector([4.6077, 6.3923]), probability=DenseVector([0.4189, 0.5811]), prediction=1.0),\n",
       " Row(features=SparseVector(335, {0: 5500.0, 1: 5500.0, 2: 5500.0, 3: 17.49, 4: 197.44, 5: 62000.0, 6: 12.45, 7: 1.0, 8: 2.0, 9: 5.0, 10: 1.0, 11: 5592.0, 12: 93.2, 13: 18.0, 18: 10.0, 19: 0.0887, 20: 0.0032, 21: 1.0, 289: 1.0, 310: 1.0, 328: 1.0, 332: 1.0}), label=0, rawPrediction=DenseVector([4.8446, 6.1554]), probability=DenseVector([0.4404, 0.5596]), prediction=1.0),\n",
       " Row(features=SparseVector(335, {0: 16000.0, 1: 11375.0, 2: 11375.0, 3: 19.69, 4: 299.41, 5: 55000.0, 6: 22.21, 7: 2.0, 8: 1.0, 9: 11.0, 10: 1.0, 11: 15942.0, 12: 89.1, 13: 24.0, 18: 10.0, 19: 0.2909, 20: 0.0054, 21: 1.0, 290: 1.0, 317: 1.0, 328: 1.0, 333: 1.0}), label=0, rawPrediction=DenseVector([2.9804, 8.0196]), probability=DenseVector([0.2709, 0.7291]), prediction=1.0),\n",
       " Row(features=SparseVector(335, {0: 21725.0, 1: 21725.0, 2: 21700.0, 3: 20.89, 4: 586.4, 5: 40000.0, 6: 15.12, 7: 3.0, 8: 2.0, 9: 9.0, 10: 1.0, 11: 3904.0, 12: 38.7, 13: 25.0, 18: 10.0, 19: 0.5431, 20: 0.0147, 21: 1.0, 291: 1.0, 318: 1.0, 328: 1.0, 333: 1.0}), label=1, rawPrediction=DenseVector([2.8639, 8.1361]), probability=DenseVector([0.2604, 0.7396]), prediction=1.0),\n",
       " Row(features=SparseVector(335, {0: 25000.0, 1: 25000.0, 2: 23787.9551, 3: 18.3, 4: 907.6, 5: 116000.0, 6: 15.2, 7: 1.0, 8: 2.0, 9: 17.0, 10: 1.0, 11: 16791.0, 12: 87.0, 13: 30.0, 18: 10.0, 19: 0.2155, 20: 0.0078, 21: 1.0, 291: 1.0, 318: 1.0, 329: 1.0, 331: 1.0}), label=0, rawPrediction=DenseVector([4.0218, 6.9782]), probability=DenseVector([0.3656, 0.6344]), prediction=1.0),\n",
       " Row(features=SparseVector(335, {0: 5000.0, 1: 5000.0, 2: 2074.9922, 3: 17.34, 4: 179.12, 5: 35000.0, 6: 26.78, 7: 1.0, 8: 5.0, 9: 5.0, 10: 1.0, 11: 5101.0, 12: 92.7, 13: 27.0, 18: 1.0, 19: 0.1429, 20: 0.0051, 21: 1.0, 292: 1.0, 323: 1.0, 329: 1.0, 332: 1.0}), label=1, rawPrediction=DenseVector([3.2143, 7.7857]), probability=DenseVector([0.2922, 0.7078]), prediction=1.0),\n",
       " Row(features=SparseVector(335, {0: 6000.0, 1: 6000.0, 2: 5950.0, 3: 21.14, 4: 162.8, 5: 42000.0, 6: 1.27, 7: 2.0, 8: 7.0, 9: 7.0, 10: 1.0, 11: 3918.0, 12: 60.3, 13: 18.0, 18: 3.0, 19: 0.1429, 20: 0.0039, 21: 1.0, 292: 1.0, 327: 1.0, 330: 1.0, 331: 1.0}), label=1, rawPrediction=DenseVector([3.5357, 7.4643]), probability=DenseVector([0.3214, 0.6786]), prediction=1.0),\n",
       " Row(features=SparseVector(335, {0: 7500.0, 1: 7500.0, 2: 2194.45, 3: 10.64, 4: 244.27, 5: 40000.0, 6: 2.07, 7: 1.0, 8: 8.0, 9: 9.0, 10: 1.0, 11: 599.0, 12: 3.2, 13: 16.0, 18: 10.0, 19: 0.1875, 20: 0.0061, 22: 1.0, 286: 1.0, 294: 1.0, 329: 1.0, 331: 1.0}), label=1, rawPrediction=DenseVector([6.6746, 4.3254]), probability=DenseVector([0.6068, 0.3932]), prediction=0.0),\n",
       " Row(features=SparseVector(335, {0: 4000.0, 1: 4000.0, 2: 4000.0, 3: 13.61, 4: 135.96, 5: 35000.0, 6: 6.72, 7: 1.0, 8: 1.0, 9: 9.0, 10: 1.0, 11: 4827.0, 12: 77.9, 13: 30.0, 18: 10.0, 19: 0.1143, 20: 0.0039, 22: 1.0, 287: 1.0, 297: 1.0, 329: 1.0, 331: 1.0}), label=0, rawPrediction=DenseVector([6.0341, 4.9659]), probability=DenseVector([0.5486, 0.4514]), prediction=0.0),\n",
       " Row(features=SparseVector(335, {0: 5000.0, 1: 5000.0, 2: 5000.0, 3: 13.8, 4: 170.41, 5: 67200.0, 6: 14.18, 7: 1.0, 8: 2.0, 9: 9.0, 10: 1.0, 11: 6133.0, 12: 60.1, 13: 23.0, 18: 10.0, 19: 0.0744, 20: 0.0025, 23: 1.0, 287: 1.0, 300: 1.0, 329: 1.0, 331: 1.0}), label=0, rawPrediction=DenseVector([5.6243, 5.3757]), probability=DenseVector([0.5113, 0.4887]), prediction=0.0),\n",
       " Row(features=SparseVector(335, {0: 4750.0, 1: 4750.0, 2: 4746.751, 3: 15.21, 4: 113.53, 5: 27600.0, 6: 22.65, 7: 1.0, 8: 2.0, 9: 8.0, 10: 1.0, 11: 8934.0, 12: 69.3, 13: 31.0, 18: 1.0, 19: 0.1721, 20: 0.0041, 23: 1.0, 289: 1.0, 306: 1.0, 329: 1.0, 331: 1.0}), label=0, rawPrediction=DenseVector([4.9309, 6.0691]), probability=DenseVector([0.4483, 0.5517]), prediction=1.0),\n",
       " Row(features=SparseVector(335, {0: 20000.0, 1: 20000.0, 2: 18750.0, 3: 17.56, 4: 503.1, 5: 70000.0, 6: 0.26, 7: 1.0, 8: 2.0, 9: 5.0, 10: 1.0, 11: 92.0, 12: 1.8, 13: 28.0, 18: 8.0, 19: 0.2857, 20: 0.0072, 23: 1.0, 290: 1.0, 316: 1.0, 330: 1.0, 333: 1.0}), label=0, rawPrediction=DenseVector([4.2621, 6.7379]), probability=DenseVector([0.3875, 0.6125]), prediction=1.0),\n",
       " Row(features=SparseVector(335, {0: 20500.0, 1: 20500.0, 2: 20136.9434, 3: 18.67, 4: 748.06, 5: 78000.0, 6: 12.45, 7: 1.0, 8: 4.0, 9: 9.0, 10: 1.0, 11: 32265.0, 12: 88.9, 13: 27.0, 18: 5.0, 19: 0.2628, 20: 0.0096, 23: 1.0, 291: 1.0, 319: 1.0, 329: 1.0, 331: 1.0}), label=0, rawPrediction=DenseVector([4.4581, 6.5419]), probability=DenseVector([0.4053, 0.5947]), prediction=1.0),\n",
       " Row(features=SparseVector(335, {0: 16000.0, 1: 16000.0, 2: 15900.0, 3: 19.29, 4: 417.61, 5: 88000.0, 6: 14.66, 7: 1.0, 8: 2.0, 9: 9.0, 10: 1.0, 11: 27773.0, 12: 97.4, 13: 35.0, 18: 8.0, 19: 0.1818, 20: 0.0047, 23: 1.0, 291: 1.0, 322: 1.0, 330: 1.0, 331: 1.0}), label=0, rawPrediction=DenseVector([3.4566, 7.5434]), probability=DenseVector([0.3142, 0.6858]), prediction=1.0),\n",
       " Row(features=SparseVector(335, {0: 5000.0, 1: 5000.0, 2: 4792.0244, 3: 12.18, 4: 166.5, 5: 67500.0, 6: 14.99, 7: 1.0, 8: 1.0, 9: 10.0, 10: 1.0, 11: 1461.0, 12: 23.2, 13: 31.0, 18: 1.0, 19: 0.0741, 20: 0.0025, 24: 1.0, 286: 1.0, 294: 1.0, 330: 1.0, 332: 1.0}), label=0, rawPrediction=DenseVector([7.4069, 3.5931]), probability=DenseVector([0.6734, 0.3266]), prediction=0.0),\n",
       " Row(features=SparseVector(335, {0: 3500.0, 1: 1975.0, 2: 1498.5699, 3: 13.79, 4: 67.3, 5: 83500.0, 6: 13.42, 7: 2.0, 8: 2.0, 9: 11.0, 10: 1.0, 11: 11386.0, 12: 55.0, 13: 29.0, 18: 9.0, 19: 0.0419, 20: 0.0008, 24: 1.0, 287: 1.0, 303: 1.0, 329: 1.0, 332: 1.0}), label=0, rawPrediction=DenseVector([6.6838, 4.3162]), probability=DenseVector([0.6076, 0.3924]), prediction=0.0),\n",
       " Row(features=SparseVector(335, {0: 6725.0, 1: 6725.0, 2: 6725.0, 3: 17.99, 4: 170.74, 5: 75000.0, 6: 8.58, 7: 1.0, 8: 1.0, 9: 7.0, 10: 1.0, 11: 7347.0, 12: 69.3, 13: 20.0, 18: 9.0, 19: 0.0897, 20: 0.0023, 24: 1.0, 290: 1.0, 313: 1.0, 330: 1.0, 332: 1.0}), label=1, rawPrediction=DenseVector([5.4157, 5.5843]), probability=DenseVector([0.4923, 0.5077]), prediction=1.0),\n",
       " Row(features=SparseVector(335, {0: 6000.0, 1: 6000.0, 2: 3833.72, 3: 15.13, 4: 208.38, 5: 40000.0, 6: 13.5, 7: 3.0, 8: 5.0, 9: 6.0, 10: 1.0, 11: 1184.0, 12: 29.6, 13: 14.0, 18: 3.0, 19: 0.15, 20: 0.0052, 24: 1.0, 290: 1.0, 316: 1.0, 329: 1.0, 331: 1.0}), label=0, rawPrediction=DenseVector([4.8187, 6.1813]), probability=DenseVector([0.4381, 0.5619]), prediction=1.0),\n",
       " Row(features=SparseVector(335, {0: 16000.0, 1: 16000.0, 2: 15975.0, 3: 17.88, 4: 405.26, 5: 75500.0, 6: 19.35, 7: 1.0, 8: 3.0, 9: 9.0, 10: 1.0, 11: 8979.0, 12: 85.5, 13: 27.0, 18: 7.0, 19: 0.2119, 20: 0.0054, 24: 1.0, 290: 1.0, 317: 1.0, 328: 1.0, 333: 1.0}), label=0, rawPrediction=DenseVector([3.4184, 7.5816]), probability=DenseVector([0.3108, 0.6892]), prediction=1.0),\n",
       " Row(features=SparseVector(335, {0: 5000.0, 1: 5000.0, 2: 5000.0, 3: 12.69, 4: 167.73, 5: 39000.0, 6: 12.65, 7: 1.0, 8: 1.0, 9: 5.0, 10: 1.0, 11: 2211.0, 12: 51.4, 13: 11.0, 18: 6.0, 19: 0.1282, 20: 0.0043, 25: 1.0, 286: 1.0, 298: 1.0, 329: 1.0, 332: 1.0}), label=0, rawPrediction=DenseVector([7.0748, 3.9252]), probability=DenseVector([0.6432, 0.3568]), prediction=0.0),\n",
       " Row(features=SparseVector(335, {0: 8000.0, 1: 8000.0, 2: 8000.0, 3: 13.49, 4: 271.45, 5: 130000.0, 6: 3.42, 7: 1.0, 8: 2.0, 9: 6.0, 10: 1.0, 11: 2064.0, 12: 31.8, 13: 9.0, 18: 3.0, 19: 0.0615, 20: 0.0021, 25: 1.0, 287: 1.0, 297: 1.0, 329: 1.0, 331: 1.0}), label=0, rawPrediction=DenseVector([6.5396, 4.4604]), probability=DenseVector([0.5945, 0.4055]), prediction=0.0),\n",
       " Row(features=SparseVector(335, {0: 6000.0, 1: 6000.0, 2: 6000.0, 3: 15.62, 4: 209.82, 5: 71000.0, 6: 2.99, 7: 1.0, 8: 1.0, 9: 7.0, 10: 1.0, 11: 4979.0, 12: 64.7, 13: 13.0, 18: 10.0, 19: 0.0845, 20: 0.003, 25: 1.0, 289: 1.0, 305: 1.0, 329: 1.0, 331: 1.0}), label=0, rawPrediction=DenseVector([5.1383, 5.8617]), probability=DenseVector([0.4671, 0.5329]), prediction=1.0),\n",
       " Row(features=SparseVector(335, {0: 3000.0, 1: 3000.0, 2: 3000.0, 3: 13.92, 4: 102.42, 5: 200000.0, 6: 5.35, 7: 1.0, 8: 1.0, 9: 10.0, 10: 1.0, 11: 5415.0, 12: 12.8, 13: 20.0, 18: 4.0, 19: 0.015, 20: 0.0005, 26: 1.0, 287: 1.0, 300: 1.0, 329: 1.0, 331: 1.0}), label=0, rawPrediction=DenseVector([7.4072, 3.5928]), probability=DenseVector([0.6734, 0.3266]), prediction=0.0),\n",
       " Row(features=SparseVector(335, {0: 5600.0, 1: 5600.0, 2: 5600.0, 3: 18.39, 4: 143.4, 5: 67200.0, 6: 13.54, 7: 7.0, 8: 1.0, 9: 9.0, 10: 1.0, 11: 820.0, 12: 7.5, 13: 25.0, 18: 10.0, 19: 0.0833, 20: 0.0021, 26: 1.0, 290: 1.0, 314: 1.0, 330: 1.0, 332: 1.0}), label=1, rawPrediction=DenseVector([4.3734, 6.6266]), probability=DenseVector([0.3976, 0.6024]), prediction=1.0),\n",
       " Row(features=SparseVector(335, {0: 2100.0, 1: 2100.0, 2: 2100.0, 3: 13.06, 4: 70.82, 5: 72000.0, 6: 15.42, 7: 1.0, 8: 1.0, 9: 9.0, 10: 1.0, 11: 8600.0, 12: 74.8, 13: 20.0, 18: 4.0, 19: 0.0292, 20: 0.001, 27: 1.0, 287: 1.0, 297: 1.0, 329: 1.0, 331: 1.0}), label=0, rawPrediction=DenseVector([7.3857, 3.6143]), probability=DenseVector([0.6714, 0.3286]), prediction=0.0),\n",
       " Row(features=SparseVector(335, {0: 7000.0, 1: 7000.0, 2: 7000.0, 3: 15.21, 4: 167.31, 5: 27000.0, 6: 0.89, 7: 2.0, 8: 1.0, 9: 4.0, 10: 1.0, 11: 986.0, 12: 37.9, 13: 13.0, 18: 5.0, 19: 0.2593, 20: 0.0062, 27: 1.0, 289: 1.0, 306: 1.0, 328: 1.0, 331: 1.0}), label=0, rawPrediction=DenseVector([5.9494, 5.0506]), probability=DenseVector([0.5409, 0.4591]), prediction=0.0),\n",
       " Row(features=SparseVector(335, {0: 5000.0, 1: 5000.0, 2: 4930.1177, 3: 16.32, 4: 176.57, 5: 144000.0, 6: 4.35, 7: 1.0, 8: 1.0, 9: 3.0, 10: 1.0, 11: 157.0, 12: 52.3, 13: 15.0, 18: 10.0, 19: 0.0347, 20: 0.0012, 27: 1.0, 290: 1.0, 315: 1.0, 329: 1.0, 332: 1.0}), label=0, rawPrediction=DenseVector([4.9821, 6.0179]), probability=DenseVector([0.4529, 0.5471]), prediction=1.0),\n",
       " Row(features=SparseVector(335, {0: 4800.0, 1: 4800.0, 2: 4053.6948, 3: 13.87, 4: 163.75, 5: 48000.0, 6: 9.18, 7: 2.0, 8: 2.0, 9: 10.0, 10: 1.0, 11: 4945.0, 12: 64.2, 13: 20.0, 18: 3.0, 19: 0.1, 20: 0.0034, 28: 1.0, 289: 1.0, 310: 1.0, 329: 1.0, 332: 1.0}), label=0, rawPrediction=DenseVector([5.1889, 5.8111]), probability=DenseVector([0.4717, 0.5283]), prediction=1.0),\n",
       " Row(features=SparseVector(335, {0: 19000.0, 1: 19000.0, 2: 19000.0, 3: 19.91, 4: 502.44, 5: 58000.0, 6: 7.03, 7: 2.0, 8: 1.0, 9: 3.0, 10: 1.0, 12: 32.71, 13: 29.0, 18: 3.0, 19: 0.3276, 20: 0.0087, 21: 1.0, 290: 1.0, 316: 1.0, 330: 1.0, 331: 1.0}), label=0, rawPrediction=DenseVector([3.4445, 7.5555]), probability=DenseVector([0.3131, 0.6869]), prediction=1.0),\n",
       " Row(features=SparseVector(335, {0: 4500.0, 1: 4500.0, 2: 875.0, 3: 15.05, 4: 156.12, 5: 82000.0, 6: 11.56, 7: 2.0, 8: 1.0, 9: 6.0, 10: 1.0, 13: 13.0, 18: 2.0, 19: 0.0549, 20: 0.0019, 25: 1.0, 289: 1.0, 308: 1.0, 328: 1.0, 331: 1.0}), label=0, rawPrediction=DenseVector([4.6917, 6.3083]), probability=DenseVector([0.4265, 0.5735]), prediction=1.0),\n",
       " Row(features=SparseVector(335, {0: 12000.0, 1: 12000.0, 2: 12000.0, 3: 14.3, 4: 411.89, 5: 57000.0, 6: 20.31, 7: 2.0, 8: 1.0, 9: 15.0, 11: 6302.0, 12: 20.3, 13: 30.0, 14: 1.0, 16: 17935.0, 17: 31000.0, 18: 10.0, 19: 0.2105, 20: 0.0072, 21: 1.0, 287: 1.0, 295: 1.0, 328: 1.0, 332: 1.0}), label=0, rawPrediction=DenseVector([6.2599, 4.7401]), probability=DenseVector([0.5691, 0.4309]), prediction=0.0),\n",
       " Row(features=SparseVector(335, {0: 6500.0, 1: 6500.0, 2: 6500.0, 3: 18.55, 4: 236.79, 5: 90000.0, 6: 5.12, 7: 5.0, 8: 1.0, 9: 9.0, 11: 1239.0, 12: 3.6, 13: 40.0, 14: 1.0, 16: 244027.0, 17: 34300.0, 18: 10.0, 19: 0.0722, 20: 0.0026, 21: 1.0, 289: 1.0, 306: 1.0, 328: 1.0, 331: 1.0}), label=0, rawPrediction=DenseVector([6.2519, 4.7481]), probability=DenseVector([0.5684, 0.4316]), prediction=0.0),\n",
       " Row(features=SparseVector(335, {0: 25000.0, 1: 25000.0, 2: 25000.0, 3: 20.2, 4: 931.64, 5: 70000.0, 6: 23.57, 7: 1.0, 8: 2.0, 9: 16.0, 11: 14323.0, 12: 38.0, 13: 30.0, 14: 1.0, 16: 340119.0, 17: 37700.0, 18: 10.0, 19: 0.3571, 20: 0.0133, 34: 1.0, 289: 1.0, 310: 1.0, 330: 1.0, 331: 1.0}), label=0, rawPrediction=DenseVector([4.2521, 6.7479]), probability=DenseVector([0.3866, 0.6134]), prediction=1.0),\n",
       " Row(features=SparseVector(335, {0: 5000.0, 1: 5000.0, 2: 5000.0, 3: 11.99, 4: 166.05, 5: 85000.0, 6: 19.77, 7: 2.0, 8: 1.0, 9: 13.0, 11: 18411.0, 12: 67.7, 13: 40.0, 15: 256.0, 16: 335214.0, 17: 27200.0, 18: 7.0, 19: 0.0588, 20: 0.002, 21: 1.0, 286: 1.0, 293: 1.0, 328: 1.0, 331: 1.0}), label=0, rawPrediction=DenseVector([6.5548, 4.4452]), probability=DenseVector([0.5959, 0.4041]), prediction=0.0),\n",
       " Row(features=SparseVector(335, {0: 6000.0, 1: 6000.0, 2: 6000.0, 3: 11.99, 4: 199.26, 5: 45000.0, 6: 10.69, 7: 1.0, 8: 1.0, 9: 8.0, 11: 3919.0, 12: 43.5, 13: 17.0, 15: 453.0, 16: 256306.0, 17: 9000.0, 18: 5.0, 19: 0.1333, 20: 0.0044, 21: 1.0, 286: 1.0, 293: 1.0, 328: 1.0, 331: 1.0}), label=0, rawPrediction=DenseVector([8.1706, 2.8294]), probability=DenseVector([0.7428, 0.2572]), prediction=0.0),\n",
       " Row(features=SparseVector(335, {0: 21000.0, 1: 21000.0, 2: 21000.0, 3: 11.99, 4: 697.41, 5: 130000.0, 6: 9.6, 7: 1.0, 8: 1.0, 9: 17.0, 11: 12018.0, 12: 32.6, 13: 53.0, 15: 101.0, 16: 285433.0, 17: 36900.0, 18: 10.0, 19: 0.1615, 20: 0.0054, 21: 1.0, 286: 1.0, 293: 1.0, 328: 1.0, 333: 1.0}), label=0, rawPrediction=DenseVector([6.542, 4.458]), probability=DenseVector([0.5947, 0.4053]), prediction=0.0),\n",
       " Row(features=SparseVector(335, {0: 10000.0, 1: 10000.0, 2: 9950.0, 3: 11.99, 4: 332.1, 5: 55000.0, 6: 14.16, 7: 1.0, 8: 1.0, 9: 10.0, 11: 10364.0, 12: 58.6, 13: 22.0, 15: 55.0, 16: 156229.0, 17: 17700.0, 18: 8.0, 19: 0.1818, 20: 0.006, 21: 1.0, 286: 1.0, 293: 1.0, 329: 1.0, 331: 1.0}), label=0, rawPrediction=DenseVector([6.8639, 4.1361]), probability=DenseVector([0.624, 0.376]), prediction=0.0),\n",
       " Row(features=SparseVector(335, {0: 6400.0, 1: 6400.0, 2: 6400.0, 3: 12.99, 4: 215.62, 5: 75000.0, 6: 20.7, 7: 1.0, 8: 2.0, 9: 15.0, 11: 14771.0, 12: 48.7, 13: 37.0, 15: 126.0, 16: 256032.0, 17: 30300.0, 18: 1.0, 19: 0.0853, 20: 0.0029, 21: 1.0, 286: 1.0, 294: 1.0, 330: 1.0, 331: 1.0}), label=1, rawPrediction=DenseVector([6.9866, 4.0134]), probability=DenseVector([0.6351, 0.3649]), prediction=0.0),\n",
       " Row(features=SparseVector(335, {0: 9000.0, 1: 9000.0, 2: 9000.0, 3: 12.85, 4: 302.6, 5: 48019.0, 6: 23.44, 7: 1.0, 8: 1.0, 9: 8.0, 11: 13494.0, 12: 39.8, 13: 26.0, 15: 171.0, 16: 22608.0, 17: 33900.0, 18: 10.0, 19: 0.1874, 20: 0.0063, 21: 1.0, 286: 1.0, 294: 1.0, 330: 1.0, 331: 1.0}), label=0, rawPrediction=DenseVector([6.171, 4.829]), probability=DenseVector([0.561, 0.439]), prediction=0.0),\n",
       " Row(features=SparseVector(335, {0: 12900.0, 1: 12900.0, 2: 12900.0, 3: 12.99, 4: 434.59, 5: 86000.0, 6: 19.26, 7: 2.0, 8: 1.0, 9: 11.0, 11: 17594.0, 12: 68.2, 13: 20.0, 15: 51.0, 16: 75393.0, 17: 25800.0, 18: 1.0, 19: 0.15, 20: 0.0051, 21: 1.0, 286: 1.0, 294: 1.0, 330: 1.0, 332: 1.0}), label=0, rawPrediction=DenseVector([6.4969, 4.5031]), probability=DenseVector([0.5906, 0.4094]), prediction=0.0),\n",
       " Row(features=SparseVector(335, {0: 9000.0, 1: 9000.0, 2: 9000.0, 3: 10.99, 4: 294.61, 5: 75000.0, 6: 8.29, 7: 1.0, 8: 1.0, 9: 13.0, 11: 5380.0, 12: 33.2, 13: 18.0, 15: 285.0, 16: 37263.0, 17: 16200.0, 18: 2.0, 19: 0.12, 20: 0.0039, 21: 1.0, 286: 1.0, 296: 1.0, 329: 1.0, 332: 1.0}), label=0, rawPrediction=DenseVector([7.3303, 3.6697]), probability=DenseVector([0.6664, 0.3336]), prediction=0.0),\n",
       " Row(features=SparseVector(335, {0: 10000.0, 1: 10000.0, 2: 10000.0, 3: 10.99, 4: 217.38, 5: 87000.0, 6: 17.53, 7: 3.0, 8: 1.0, 9: 12.0, 11: 7725.0, 12: 16.8, 13: 30.0, 15: 1940.0, 16: 265515.0, 17: 45900.0, 18: 8.0, 19: 0.1149, 20: 0.0025, 21: 1.0, 286: 1.0, 296: 1.0, 330: 1.0, 331: 1.0}), label=0, rawPrediction=DenseVector([7.9716, 3.0284]), probability=DenseVector([0.7247, 0.2753]), prediction=0.0),\n",
       " Row(features=SparseVector(335, {0: 15000.0, 1: 15000.0, 2: 15000.0, 3: 13.53, 4: 509.25, 5: 70000.0, 6: 6.66, 7: 2.0, 8: 2.0, 9: 6.0, 11: 5088.0, 12: 58.5, 13: 38.0, 15: 2086.0, 16: 154831.0, 17: 8700.0, 18: 2.0, 19: 0.2143, 20: 0.0073, 21: 1.0, 286: 1.0, 298: 1.0, 329: 1.0, 331: 1.0}), label=0, rawPrediction=DenseVector([6.7065, 4.2935]), probability=DenseVector([0.6097, 0.3903]), prediction=0.0),\n",
       " Row(features=SparseVector(335, {0: 16000.0, 1: 16000.0, 2: 16000.0, 3: 13.67, 4: 544.29, 5: 60000.0, 6: 11.04, 7: 1.0, 8: 2.0, 9: 19.0, 11: 6651.0, 12: 27.8, 13: 48.0, 15: 920.0, 16: 200264.0, 17: 23900.0, 18: 7.0, 19: 0.2667, 20: 0.0091, 21: 1.0, 286: 1.0, 298: 1.0, 329: 1.0, 331: 1.0}), label=0, rawPrediction=DenseVector([6.836, 4.164]), probability=DenseVector([0.6215, 0.3785]), prediction=0.0),\n",
       " Row(features=SparseVector(335, {0: 8400.0, 1: 8400.0, 2: 8350.0, 3: 13.53, 4: 285.18, 5: 65000.0, 6: 13.44, 7: 1.0, 8: 1.0, 9: 9.0, 11: 8252.0, 12: 48.8, 13: 23.0, 15: 90.0, 16: 20954.0, 17: 16900.0, 18: 1.0, 19: 0.1292, 20: 0.0044, 21: 1.0, 286: 1.0, 298: 1.0, 330: 1.0, 332: 1.0}), label=0, rawPrediction=DenseVector([6.4357, 4.5643]), probability=DenseVector([0.5851, 0.4149]), prediction=0.0),\n",
       " Row(features=SparseVector(335, {0: 10000.0, 1: 10000.0, 2: 10000.0, 3: 13.67, 4: 340.18, 5: 50500.0, 6: 15.57, 7: 1.0, 8: 1.0, 9: 13.0, 11: 10489.0, 12: 51.9, 13: 28.0, 15: 98.0, 16: 22497.0, 17: 20200.0, 18: 8.0, 19: 0.198, 20: 0.0067, 21: 1.0, 286: 1.0, 298: 1.0, 330: 1.0, 332: 1.0}), label=0, rawPrediction=DenseVector([6.3188, 4.6812]), probability=DenseVector([0.5744, 0.4256]), prediction=0.0),\n",
       " Row(features=SparseVector(335, {0: 17500.0, 1: 17500.0, 2: 17500.0, 3: 14.3, 4: 600.67, 5: 85000.0, 6: 25.36, 7: 2.0, 8: 3.0, 9: 15.0, 11: 24455.0, 12: 60.4, 13: 28.0, 15: 163.0, 16: 299576.0, 17: 40500.0, 18: 10.0, 19: 0.2059, 20: 0.0071, 21: 1.0, 287: 1.0, 295: 1.0, 328: 1.0, 331: 1.0}), label=0, rawPrediction=DenseVector([6.193, 4.807]), probability=DenseVector([0.563, 0.437]), prediction=0.0),\n",
       " Row(features=SparseVector(335, {0: 8000.0, 1: 8000.0, 2: 8000.0, 3: 14.3, 4: 274.59, 5: 95000.0, 6: 22.31, 7: 1.0, 8: 5.0, 9: 14.0, 11: 16149.0, 12: 71.8, 13: 38.0, 15: 527.0, 16: 97355.0, 17: 22500.0, 18: 2.0, 19: 0.0842, 20: 0.0029, 21: 1.0, 287: 1.0, 295: 1.0, 330: 1.0, 331: 1.0}), label=0, rawPrediction=DenseVector([5.6614, 5.3386]), probability=DenseVector([0.5147, 0.4853]), prediction=0.0),\n",
       " Row(features=SparseVector(335, {0: 8300.0, 1: 8300.0, 2: 8300.0, 3: 15.1, 4: 288.13, 5: 54000.0, 6: 18.49, 7: 1.0, 8: 1.0, 9: 9.0, 11: 3711.0, 12: 50.8, 13: 15.0, 15: 85.0, 16: 18830.0, 17: 7300.0, 18: 10.0, 19: 0.1537, 20: 0.0053, 21: 1.0, 287: 1.0, 297: 1.0, 329: 1.0, 332: 1.0}), label=0, rawPrediction=DenseVector([5.0261, 5.9739]), probability=DenseVector([0.4569, 0.5431]), prediction=1.0),\n",
       " Row(features=SparseVector(335, {0: 11000.0, 1: 11000.0, 2: 11000.0, 3: 15.1, 4: 381.86, 5: 87000.0, 6: 17.88, 7: 1.0, 8: 2.0, 9: 10.0, 11: 18375.0, 12: 87.5, 13: 27.0, 15: 61.0, 16: 215207.0, 17: 21000.0, 18: 10.0, 19: 0.1264, 20: 0.0044, 21: 1.0, 287: 1.0, 297: 1.0, 330: 1.0, 331: 1.0}), label=0, rawPrediction=DenseVector([5.5182, 5.4818]), probability=DenseVector([0.5017, 0.4983]), prediction=0.0),\n",
       " Row(features=SparseVector(335, {0: 15000.0, 1: 15000.0, 2: 15000.0, 3: 15.1, 4: 520.72, 5: 90000.0, 6: 20.73, 7: 4.0, 8: 2.0, 9: 10.0, 11: 11616.0, 12: 37.0, 13: 23.0, 15: 89.0, 16: 176435.0, 17: 31400.0, 18: 10.0, 19: 0.1667, 20: 0.0058, 21: 1.0, 287: 1.0, 297: 1.0, 330: 1.0, 331: 1.0}), label=0, rawPrediction=DenseVector([6.2925, 4.7075]), probability=DenseVector([0.572, 0.428]), prediction=0.0),\n",
       " Row(features=SparseVector(335, {0: 25000.0, 1: 25000.0, 2: 25000.0, 3: 14.47, 4: 860.16, 5: 137000.0, 6: 19.52, 7: 2.0, 8: 1.0, 9: 23.0, 11: 17635.0, 12: 42.7, 13: 54.0, 15: 136.0, 16: 120537.0, 17: 41300.0, 18: 1.0, 19: 0.1825, 20: 0.0063, 21: 1.0, 287: 1.0, 297: 1.0, 330: 1.0, 331: 1.0}), label=1, rawPrediction=DenseVector([6.0965, 4.9035]), probability=DenseVector([0.5542, 0.4458]), prediction=0.0),\n",
       " Row(features=SparseVector(335, {0: 15000.0, 1: 15000.0, 2: 15000.0, 3: 16.2, 4: 528.84, 5: 80000.0, 6: 5.66, 7: 1.0, 8: 2.0, 9: 12.0, 11: 14578.0, 12: 71.5, 13: 28.0, 15: 90.0, 16: 98731.0, 17: 20400.0, 18: 10.0, 19: 0.1875, 20: 0.0066, 21: 1.0, 287: 1.0, 300: 1.0, 329: 1.0, 331: 1.0}), label=0, rawPrediction=DenseVector([5.9723, 5.0277]), probability=DenseVector([0.5429, 0.4571]), prediction=0.0),\n",
       " Row(features=SparseVector(335, {0: 6975.0, 1: 6975.0, 2: 6975.0, 3: 17.1, 4: 249.03, 5: 55000.0, 6: 15.69, 7: 1.0, 8: 2.0, 9: 10.0, 11: 4008.0, 12: 28.2, 13: 33.0, 15: 212.0, 16: 136728.0, 17: 14200.0, 18: 9.0, 19: 0.1268, 20: 0.0045, 21: 1.0, 287: 1.0, 303: 1.0, 328: 1.0, 331: 1.0}), label=0, rawPrediction=DenseVector([6.5985, 4.4015]), probability=DenseVector([0.5999, 0.4001]), prediction=0.0),\n",
       " Row(features=SparseVector(335, {0: 19425.0, 1: 19425.0, 2: 19425.0, 3: 17.1, 4: 483.81, 5: 55000.0, 6: 31.68, 7: 1.0, 8: 1.0, 9: 23.0, 11: 23913.0, 12: 29.2, 13: 36.0, 15: 385.0, 16: 210752.0, 17: 82000.0, 18: 7.0, 19: 0.3532, 20: 0.0088, 21: 1.0, 287: 1.0, 303: 1.0, 330: 1.0, 331: 1.0}), label=0, rawPrediction=DenseVector([4.5618, 6.4382]), probability=DenseVector([0.4147, 0.5853]), prediction=1.0),\n",
       " Row(features=SparseVector(335, {0: 9600.0, 1: 9600.0, 2: 9600.0, 3: 18.55, 4: 349.72, 5: 57000.0, 6: 10.84, 7: 1.0, 8: 2.0, 9: 8.0, 11: 3054.0, 12: 41.3, 13: 17.0, 15: 111.0, 16: 191725.0, 17: 7400.0, 18: 5.0, 19: 0.1684, 20: 0.0061, 21: 1.0, 289: 1.0, 306: 1.0, 329: 1.0, 331: 1.0}), label=0, rawPrediction=DenseVector([5.2165, 5.7835]), probability=DenseVector([0.4742, 0.5258]), prediction=1.0),\n",
       " Row(features=SparseVector(335, {0: 15850.0, 1: 15850.0, 2: 15850.0, 3: 21.0, 4: 428.8, 5: 60000.0, 6: 21.58, 7: 1.0, 8: 2.0, 9: 18.0, 11: 12106.0, 12: 49.6, 13: 29.0, 15: 200.0, 16: 121337.0, 17: 24400.0, 18: 10.0, 19: 0.2642, 20: 0.0071, 21: 1.0, 290: 1.0, 313: 1.0, 328: 1.0, 331: 1.0}), label=1, rawPrediction=DenseVector([4.7775, 6.2225]), probability=DenseVector([0.4343, 0.5657]), prediction=1.0),\n",
       " Row(features=SparseVector(335, {0: 11200.0, 1: 11200.0, 2: 11200.0, 3: 21.7, 4: 307.43, 5: 52430.0, 6: 19.82, 7: 1.0, 8: 1.0, 9: 12.0, 11: 4780.0, 12: 38.5, 13: 29.0, 15: 2364.0, 16: 179869.0, 17: 12400.0, 18: 10.0, 19: 0.2136, 20: 0.0059, 21: 1.0, 290: 1.0, 314: 1.0, 328: 1.0, 332: 1.0}), label=1, rawPrediction=DenseVector([3.527, 7.473]), probability=DenseVector([0.3206, 0.6794]), prediction=1.0),\n",
       " Row(features=SparseVector(335, {0: 22250.0, 1: 22250.0, 2: 22250.0, 3: 22.9, 4: 625.97, 5: 50000.0, 6: 33.41, 7: 1.0, 8: 1.0, 9: 18.0, 11: 13118.0, 12: 24.6, 13: 31.0, 15: 645.0, 16: 110632.0, 17: 53400.0, 18: 10.0, 19: 0.445, 20: 0.0125, 21: 1.0, 290: 1.0, 316: 1.0, 328: 1.0, 331: 1.0}), label=1, rawPrediction=DenseVector([3.2515, 7.7485]), probability=DenseVector([0.2956, 0.7044]), prediction=1.0),\n",
       " Row(features=SparseVector(335, {0: 4250.0, 1: 4250.0, 2: 4250.0, 3: 22.9, 4: 164.3, 5: 59000.0, 6: 10.85, 7: 2.0, 8: 2.0, 9: 9.0, 11: 29347.0, 12: 86.1, 13: 25.0, 15: 4501.0, 16: 314121.0, 17: 34100.0, 18: 10.0, 19: 0.072, 20: 0.0028, 21: 1.0, 290: 1.0, 316: 1.0, 330: 1.0, 331: 1.0}), label=1, rawPrediction=DenseVector([4.0138, 6.9862]), probability=DenseVector([0.3649, 0.6351]), prediction=1.0),\n",
       " Row(features=SparseVector(335, {0: 11700.0, 1: 11700.0, 2: 11700.0, 3: 24.5, 4: 339.99, 5: 35000.0, 6: 33.5, 7: 1.0, 8: 3.0, 9: 16.0, 11: 8328.0, 12: 65.1, 13: 30.0, 15: 88.0, 16: 27582.0, 17: 12800.0, 18: 2.0, 19: 0.3343, 20: 0.0097, 21: 1.0, 291: 1.0, 320: 1.0, 328: 1.0, 332: 1.0}), label=1, rawPrediction=DenseVector([2.5247, 8.4753]), probability=DenseVector([0.2295, 0.7705]), prediction=1.0),\n",
       " Row(features=SparseVector(335, {0: 13750.0, 1: 13750.0, 2: 13750.0, 3: 12.99, 4: 463.23, 5: 86000.0, 6: 3.91, 7: 2.0, 8: 2.0, 9: 10.0, 11: 6482.0, 12: 35.0, 13: 48.0, 15: 537.0, 16: 279178.0, 17: 18600.0, 18: 10.0, 19: 0.1599, 20: 0.0054, 22: 1.0, 286: 1.0, 294: 1.0, 330: 1.0, 331: 1.0}), label=0, rawPrediction=DenseVector([7.3365, 3.6635]), probability=DenseVector([0.667, 0.333]), prediction=0.0),\n",
       " Row(features=SparseVector(335, {0: 16200.0, 1: 16200.0, 2: 16200.0, 3: 10.99, 4: 530.3, 5: 80000.0, 6: 27.6, 7: 1.0, 8: 1.0, 9: 20.0, 11: 18389.0, 12: 65.7, 13: 60.0, 15: 280.0, 16: 206197.0, 17: 28000.0, 18: 8.0, 19: 0.2025, 20: 0.0066, 22: 1.0, 286: 1.0, 296: 1.0, 329: 1.0, 333: 1.0}), label=0, rawPrediction=DenseVector([6.6094, 4.3906]), probability=DenseVector([0.6009, 0.3991]), prediction=0.0),\n",
       " Row(features=SparseVector(335, {0: 2800.0, 1: 2800.0, 2: 2800.0, 3: 13.67, 4: 95.25, 5: 40000.0, 6: 19.2, 7: 2.0, 8: 1.0, 9: 7.0, 11: 2256.0, 12: 16.0, 13: 25.0, 15: 68.0, 16: 31386.0, 17: 14100.0, 18: 1.0, 19: 0.07, 20: 0.0024, 22: 1.0, 286: 1.0, 298: 1.0, 329: 1.0, 331: 1.0}), label=0, rawPrediction=DenseVector([6.8235, 4.1765]), probability=DenseVector([0.6203, 0.3797]), prediction=0.0),\n",
       " Row(features=SparseVector(335, {0: 15750.0, 1: 15750.0, 2: 15750.0, 3: 13.53, 4: 534.71, 5: 120000.0, 6: 8.71, 7: 1.0, 8: 1.0, 9: 14.0, 11: 10651.0, 12: 52.7, 13: 24.0, 15: 600.0, 16: 507761.0, 17: 20200.0, 18: 10.0, 19: 0.1312, 20: 0.0045, 22: 1.0, 286: 1.0, 298: 1.0, 330: 1.0, 331: 1.0}), label=0, rawPrediction=DenseVector([6.9258, 4.0742]), probability=DenseVector([0.6296, 0.3704]), prediction=0.0),\n",
       " Row(features=SparseVector(335, {0: 30000.0, 1: 30000.0, 2: 30000.0, 3: 9.67, 4: 963.38, 5: 100000.0, 6: 10.78, 7: 1.0, 8: 1.0, 9: 14.0, 11: 13930.0, 12: 33.0, 13: 33.0, 15: 370.0, 16: 152016.0, 17: 42200.0, 18: 1.0, 19: 0.3, 20: 0.0096, 22: 1.0, 286: 1.0, 301: 1.0, 330: 1.0, 331: 1.0}), label=0, rawPrediction=DenseVector([6.0594, 4.9406]), probability=DenseVector([0.5509, 0.4491]), prediction=0.0),\n",
       " Row(features=SparseVector(335, {0: 12800.0, 1: 12800.0, 2: 12800.0, 3: 8.9, 4: 406.45, 5: 125000.0, 6: 26.93, 7: 1.0, 8: 2.0, 9: 19.0, 11: 11808.0, 12: 42.6, 13: 43.0, 15: 250.0, 16: 380202.0, 17: 27700.0, 18: 10.0, 19: 0.1024, 20: 0.0033, 22: 1.0, 288: 1.0, 302: 1.0, 330: 1.0, 333: 1.0}), label=1, rawPrediction=DenseVector([9.2425, 1.7575]), probability=DenseVector([0.8402, 0.1598]), prediction=0.0),\n",
       " Row(features=SparseVector(335, {0: 10400.0, 1: 10400.0, 2: 10400.0, 3: 11.99, 4: 345.38, 5: 65000.0, 6: 2.6, 7: 1.0, 8: 1.0, 9: 10.0, 11: 4081.0, 12: 51.7, 13: 59.0, 15: 17959.0, 16: 246845.0, 17: 7900.0, 18: 2.0, 19: 0.16, 20: 0.0053, 23: 1.0, 286: 1.0, 293: 1.0, 329: 1.0, 333: 1.0}), label=0, rawPrediction=DenseVector([7.572, 3.428]), probability=DenseVector([0.6884, 0.3116]), prediction=0.0),\n",
       " Row(features=SparseVector(335, {0: 8325.0, 1: 8325.0, 2: 8325.0, 3: 16.2, 4: 293.51, 5: 70000.0, 6: 7.54, 7: 1.0, 8: 1.0, 9: 2.0, 11: 475.0, 12: 95.0, 13: 29.0, 15: 94.0, 16: 133965.0, 17: 500.0, 18: 10.0, 19: 0.1189, 20: 0.0042, 23: 1.0, 287: 1.0, 300: 1.0, 328: 1.0, 331: 1.0}), label=1, rawPrediction=DenseVector([6.0784, 4.9216]), probability=DenseVector([0.5526, 0.4474]), prediction=0.0),\n",
       " Row(features=SparseVector(335, {0: 6500.0, 1: 6500.0, 2: 6500.0, 3: 13.67, 4: 221.12, 5: 130000.0, 6: 12.69, 7: 1.0, 8: 1.0, 9: 12.0, 11: 9023.0, 12: 37.0, 13: 28.0, 15: 326.0, 16: 47822.0, 17: 24400.0, 18: 10.0, 19: 0.05, 20: 0.0017, 24: 1.0, 286: 1.0, 298: 1.0, 329: 1.0, 331: 1.0}), label=0, rawPrediction=DenseVector([7.0944, 3.9056]), probability=DenseVector([0.6449, 0.3551]), prediction=0.0),\n",
       " Row(features=SparseVector(335, {0: 4000.0, 1: 4000.0, 2: 4000.0, 3: 15.61, 4: 139.86, 5: 49992.0, 6: 24.65, 7: 1.0, 8: 1.0, 9: 15.0, 11: 14720.0, 12: 72.5, 13: 29.0, 15: 146.0, 16: 173753.0, 17: 20300.0, 18: 7.0, 19: 0.08, 20: 0.0028, 24: 1.0, 287: 1.0, 299: 1.0, 328: 1.0, 331: 1.0}), label=0, rawPrediction=DenseVector([5.6803, 5.3197]), probability=DenseVector([0.5164, 0.4836]), prediction=0.0),\n",
       " Row(features=SparseVector(335, {0: 3600.0, 1: 3600.0, 2: 3600.0, 3: 11.99, 4: 119.56, 5: 43582.0, 6: 26.99, 7: 1.0, 8: 1.0, 9: 14.0, 11: 2738.0, 12: 19.8, 13: 23.0, 15: 486.0, 16: 31947.0, 17: 13800.0, 18: 7.0, 19: 0.0826, 20: 0.0027, 25: 1.0, 286: 1.0, 293: 1.0, 330: 1.0, 332: 1.0}), label=1, rawPrediction=DenseVector([6.6572, 4.3428]), probability=DenseVector([0.6052, 0.3948]), prediction=0.0),\n",
       " Row(features=SparseVector(335, {0: 20125.0, 1: 20125.0, 2: 20125.0, 3: 21.7, 4: 765.47, 5: 65000.0, 6: 12.17, 7: 1.0, 8: 2.0, 9: 5.0, 11: 2548.0, 12: 39.2, 13: 10.0, 15: 985.0, 16: 24499.0, 17: 6500.0, 18: 9.0, 19: 0.3096, 20: 0.0118, 26: 1.0, 290: 1.0, 314: 1.0, 330: 1.0, 331: 1.0}), label=1, rawPrediction=DenseVector([3.0019, 7.9981]), probability=DenseVector([0.2729, 0.7271]), prediction=1.0),\n",
       " Row(features=SparseVector(335, {0: 26325.0, 1: 26325.0, 2: 26300.0, 3: 24.08, 4: 1033.92, 5: 67489.0, 6: 18.3, 7: 2.0, 8: 3.0, 9: 17.0, 11: 108204.0, 12: 32.8, 13: 40.0, 15: 100.0, 16: 269585.0, 17: 147400.0, 18: 4.0, 19: 0.3901, 20: 0.0153, 26: 1.0, 291: 1.0, 319: 1.0, 328: 1.0, 331: 1.0}), label=1, rawPrediction=DenseVector([2.8748, 8.1252]), probability=DenseVector([0.2613, 0.7387]), prediction=1.0),\n",
       " Row(features=SparseVector(335, {0: 12000.0, 1: 12000.0, 2: 12000.0, 3: 13.98, 4: 410.02, 5: 75000.0, 6: 12.42, 7: 3.0, 8: 1.0, 9: 11.0, 11: 10507.0, 12: 37.0, 13: 30.0, 15: 1422.0, 16: 204184.0, 17: 28400.0, 18: 10.0, 19: 0.16, 20: 0.0055, 28: 1.0, 287: 1.0, 295: 1.0, 329: 1.0, 331: 1.0}), label=0, rawPrediction=DenseVector([6.41, 4.59]), probability=DenseVector([0.5827, 0.4173]), prediction=0.0),\n",
       " Row(features=SparseVector(335, {0: 35000.0, 1: 35000.0, 2: 35000.0, 3: 13.98, 4: 1195.88, 5: 250000.0, 6: 18.31, 7: 3.0, 8: 1.0, 9: 21.0, 11: 5131.0, 12: 53.4, 13: 52.0, 15: 687.0, 16: 594856.0, 17: 9600.0, 18: 8.0, 19: 0.14, 20: 0.0048, 31: 1.0, 287: 1.0, 295: 1.0, 328: 1.0, 331: 1.0}), label=0, rawPrediction=DenseVector([6.7299, 4.2701]), probability=DenseVector([0.6118, 0.3882]), prediction=0.0),\n",
       " Row(features=SparseVector(335, {0: 20000.0, 1: 20000.0, 2: 20000.0, 3: 11.99, 4: 664.2, 5: 61000.0, 6: 15.05, 7: 1.0, 8: 2.0, 9: 14.0, 11: 30112.0, 12: 68.9, 13: 22.0, 16: 130746.0, 17: 86700.0, 18: 6.0, 19: 0.3279, 20: 0.0109, 21: 1.0, 286: 1.0, 293: 1.0, 328: 1.0, 331: 1.0}), label=1, rawPrediction=DenseVector([6.0794, 4.9206]), probability=DenseVector([0.5527, 0.4473]), prediction=0.0),\n",
       " Row(features=SparseVector(335, {0: 12000.0, 1: 12000.0, 2: 12000.0, 3: 11.99, 4: 398.52, 5: 120000.0, 6: 10.27, 7: 1.0, 8: 1.0, 9: 15.0, 11: 11107.0, 12: 26.2, 13: 23.0, 16: 483929.0, 17: 42400.0, 18: 9.0, 19: 0.1, 20: 0.0033, 21: 1.0, 286: 1.0, 293: 1.0, 329: 1.0, 331: 1.0}), label=0, rawPrediction=DenseVector([7.8448, 3.1552]), probability=DenseVector([0.7132, 0.2868]), prediction=0.0),\n",
       " Row(features=SparseVector(335, {0: 15000.0, 1: 15000.0, 2: 15000.0, 3: 11.99, 4: 498.15, 5: 110000.0, 6: 11.95, 7: 1.0, 8: 2.0, 9: 13.0, 11: 25148.0, 12: 59.9, 13: 33.0, 16: 357812.0, 17: 41980.0, 18: 10.0, 19: 0.1364, 20: 0.0045, 21: 1.0, 286: 1.0, 293: 1.0, 329: 1.0, 331: 1.0}), label=0, rawPrediction=DenseVector([7.7751, 3.2249]), probability=DenseVector([0.7068, 0.2932]), prediction=0.0),\n",
       " Row(features=SparseVector(335, {0: 10000.0, 1: 10000.0, 2: 10000.0, 3: 11.99, 4: 332.1, 5: 80000.0, 6: 13.18, 7: 1.0, 8: 1.0, 9: 13.0, 11: 11314.0, 12: 49.4, 13: 24.0, 16: 35173.0, 17: 22900.0, 18: 9.0, 19: 0.125, 20: 0.0042, 21: 1.0, 286: 1.0, 293: 1.0, 329: 1.0, 332: 1.0}), label=1, rawPrediction=DenseVector([6.9084, 4.0916]), probability=DenseVector([0.628, 0.372]), prediction=0.0),\n",
       " Row(features=SparseVector(335, {0: 15000.0, 1: 15000.0, 2: 15000.0, 3: 11.99, 4: 498.15, 5: 85000.0, 6: 10.66, 7: 6.0, 8: 2.0, 9: 5.0, 11: 7017.0, 12: 70.9, 13: 35.0, 16: 77836.0, 17: 9900.0, 18: 6.0, 19: 0.1765, 20: 0.0059, 21: 1.0, 286: 1.0, 293: 1.0, 329: 1.0, 332: 1.0}), label=0, rawPrediction=DenseVector([6.7278, 4.2722]), probability=DenseVector([0.6116, 0.3884]), prediction=0.0),\n",
       " Row(features=SparseVector(335, {0: 7500.0, 1: 7500.0, 2: 7500.0, 3: 11.99, 4: 249.08, 5: 50000.0, 6: 17.71, 7: 2.0, 8: 1.0, 9: 12.0, 11: 7963.0, 12: 69.2, 13: 20.0, 16: 78686.0, 17: 11500.0, 18: 6.0, 19: 0.15, 20: 0.005, 21: 1.0, 286: 1.0, 293: 1.0, 330: 1.0, 331: 1.0}), label=0, rawPrediction=DenseVector([6.4654, 4.5346]), probability=DenseVector([0.5878, 0.4122]), prediction=0.0),\n",
       " Row(features=SparseVector(335, {0: 10000.0, 1: 10000.0, 2: 10000.0, 3: 11.99, 4: 332.1, 5: 116000.0, 6: 13.34, 7: 1.0, 8: 4.0, 9: 18.0, 11: 11483.0, 12: 25.7, 13: 50.0, 16: 303351.0, 17: 44600.0, 18: 1.0, 19: 0.0862, 20: 0.0029, 21: 1.0, 286: 1.0, 293: 1.0, 330: 1.0, 331: 1.0}), label=0, rawPrediction=DenseVector([7.8191, 3.1809]), probability=DenseVector([0.7108, 0.2892]), prediction=0.0),\n",
       " Row(features=SparseVector(335, {0: 15000.0, 1: 15000.0, 2: 15000.0, 3: 11.99, 4: 498.15, 5: 75000.0, 6: 23.25, 7: 1.0, 8: 1.0, 9: 7.0, 11: 11275.0, 12: 84.8, 13: 31.0, 16: 153162.0, 17: 13300.0, 18: 6.0, 19: 0.2, 20: 0.0066, 21: 1.0, 286: 1.0, 293: 1.0, 330: 1.0, 331: 1.0}), label=0, rawPrediction=DenseVector([6.5184, 4.4816]), probability=DenseVector([0.5926, 0.4074]), prediction=0.0),\n",
       " Row(features=SparseVector(335, {0: 1500.0, 1: 1500.0, 2: 1500.0, 3: 11.99, 4: 49.82, 5: 56000.0, 6: 17.61, 7: 1.0, 8: 2.0, 9: 7.0, 11: 9658.0, 12: 20.6, 13: 28.0, 16: 9658.0, 17: 46900.0, 18: 1.0, 19: 0.0268, 20: 0.0009, 21: 1.0, 286: 1.0, 293: 1.0, 330: 1.0, 332: 1.0}), label=0, rawPrediction=DenseVector([6.8944, 4.1056]), probability=DenseVector([0.6268, 0.3732]), prediction=0.0),\n",
       " Row(features=SparseVector(335, {0: 5000.0, 1: 5000.0, 2: 5000.0, 3: 11.99, 4: 166.05, 5: 31100.0, 6: 4.78, 7: 2.0, 8: 1.0, 9: 6.0, 11: 4425.0, 12: 30.7, 13: 41.0, 16: 134853.0, 17: 14400.0, 18: 3.0, 19: 0.1608, 20: 0.0053, 21: 1.0, 286: 1.0, 293: 1.0, 330: 1.0, 332: 1.0}), label=1, rawPrediction=DenseVector([6.597, 4.403]), probability=DenseVector([0.5997, 0.4003]), prediction=0.0),\n",
       " Row(features=SparseVector(335, {0: 12000.0, 1: 12000.0, 2: 12000.0, 3: 11.99, 4: 398.52, 5: 73000.0, 6: 14.34, 7: 1.0, 8: 1.0, 9: 8.0, 11: 6634.0, 12: 27.8, 13: 18.0, 16: 51822.0, 17: 23900.0, 18: 10.0, 19: 0.1644, 20: 0.0055, 21: 1.0, 286: 1.0, 293: 1.0, 330: 1.0, 332: 1.0}), label=0, rawPrediction=DenseVector([6.7958, 4.2042]), probability=DenseVector([0.6178, 0.3822]), prediction=0.0),\n",
       " Row(features=SparseVector(335, {0: 8000.0, 1: 8000.0, 2: 8000.0, 3: 11.99, 4: 265.68, 5: 30000.0, 6: 16.48, 7: 1.0, 8: 1.0, 9: 10.0, 11: 10884.0, 12: 34.0, 13: 25.0, 16: 10884.0, 17: 32000.0, 18: 3.0, 19: 0.2667, 20: 0.0089, 21: 1.0, 286: 1.0, 293: 1.0, 330: 1.0, 333: 1.0}), label=0, rawPrediction=DenseVector([5.6923, 5.3077]), probability=DenseVector([0.5175, 0.4825]), prediction=0.0),\n",
       " Row(features=SparseVector(335, {0: 6000.0, 1: 6000.0, 2: 5950.0, 3: 12.99, 4: 202.14, 5: 32000.0, 6: 17.93, 7: 1.0, 8: 2.0, 9: 6.0, 11: 3362.0, 12: 50.9, 13: 23.0, 16: 7595.0, 17: 6600.0, 18: 1.0, 19: 0.1875, 20: 0.0063, 21: 1.0, 286: 1.0, 294: 1.0, 328: 1.0, 331: 1.0}), label=0, rawPrediction=DenseVector([6.0248, 4.9752]), probability=DenseVector([0.5477, 0.4523]), prediction=0.0),\n",
       " Row(features=SparseVector(335, {0: 9500.0, 1: 9500.0, 2: 9500.0, 3: 12.99, 4: 320.05, 5: 50000.0, 6: 18.41, 7: 1.0, 8: 2.0, 9: 8.0, 11: 9594.0, 12: 37.2, 13: 24.0, 16: 204695.0, 17: 25800.0, 18: 10.0, 19: 0.19, 20: 0.0064, 21: 1.0, 286: 1.0, 294: 1.0, 328: 1.0, 331: 1.0}), label=0, rawPrediction=DenseVector([6.5665, 4.4335]), probability=DenseVector([0.597, 0.403]), prediction=0.0),\n",
       " Row(features=SparseVector(335, {0: 10000.0, 1: 10000.0, 2: 10000.0, 3: 12.85, 4: 336.22, 5: 90064.0, 6: 13.06, 7: 3.0, 8: 1.0, 9: 13.0, 11: 13080.0, 12: 51.7, 13: 39.0, 16: 402772.0, 17: 25300.0, 18: 10.0, 19: 0.111, 20: 0.0037, 21: 1.0, 286: 1.0, 294: 1.0, 328: 1.0, 331: 1.0}), label=0, rawPrediction=DenseVector([7.3016, 3.6984]), probability=DenseVector([0.6638, 0.3362]), prediction=0.0),\n",
       " Row(features=SparseVector(335, {0: 10000.0, 1: 10000.0, 2: 10000.0, 3: 12.99, 4: 336.9, 5: 120000.0, 6: 19.19, 7: 2.0, 8: 3.0, 9: 13.0, 11: 21064.0, 12: 72.6, 13: 25.0, 16: 153983.0, 17: 29000.0, 18: 10.0, 19: 0.0833, 20: 0.0028, 21: 1.0, 286: 1.0, 294: 1.0, 328: 1.0, 331: 1.0}), label=0, rawPrediction=DenseVector([6.2225, 4.7775]), probability=DenseVector([0.5657, 0.4343]), prediction=0.0),\n",
       " Row(features=SparseVector(335, {0: 16000.0, 1: 16000.0, 2: 16000.0, 3: 12.99, 4: 539.03, 5: 96000.0, 6: 21.78, 7: 1.0, 8: 1.0, 9: 18.0, 11: 46026.0, 12: 71.8, 13: 46.0, 16: 62550.0, 17: 64100.0, 18: 2.0, 19: 0.1667, 20: 0.0056, 21: 1.0, 286: 1.0, 294: 1.0, 328: 1.0, 332: 1.0}), label=0, rawPrediction=DenseVector([6.0485, 4.9515]), probability=DenseVector([0.5499, 0.4501]), prediction=0.0),\n",
       " Row(features=SparseVector(335, {0: 20000.0, 1: 20000.0, 2: 20000.0, 3: 12.99, 4: 673.79, 5: 81000.0, 6: 22.83, 7: 1.0, 8: 1.0, 9: 18.0, 11: 30372.0, 12: 59.1, 13: 35.0, 16: 107313.0, 17: 51400.0, 18: 9.0, 19: 0.2469, 20: 0.0083, 21: 1.0, 286: 1.0, 294: 1.0, 328: 1.0, 332: 1.0}), label=0, rawPrediction=DenseVector([6.2356, 4.7644]), probability=DenseVector([0.5669, 0.4331]), prediction=0.0),\n",
       " Row(features=SparseVector(335, {0: 15000.0, 1: 15000.0, 2: 15000.0, 3: 12.85, 4: 504.33, 5: 62000.0, 6: 7.2, 7: 2.0, 8: 3.0, 9: 8.0, 11: 6196.0, 12: 15.5, 13: 26.0, 16: 112817.0, 17: 40000.0, 18: 10.0, 19: 0.2419, 20: 0.0081, 21: 1.0, 286: 1.0, 294: 1.0, 329: 1.0, 331: 1.0}), label=0, rawPrediction=DenseVector([6.2646, 4.7354]), probability=DenseVector([0.5695, 0.4305]), prediction=0.0),\n",
       " Row(features=SparseVector(335, {0: 9750.0, 1: 9750.0, 2: 9750.0, 3: 12.99, 4: 328.47, 5: 45000.0, 6: 22.83, 7: 2.0, 8: 1.0, 9: 9.0, 11: 1944.0, 12: 36.7, 13: 17.0, 16: 32794.0, 17: 5300.0, 18: 2.0, 19: 0.2167, 20: 0.0073, 21: 1.0, 286: 1.0, 294: 1.0, 329: 1.0, 332: 1.0}), label=0, rawPrediction=DenseVector([6.0957, 4.9043]), probability=DenseVector([0.5542, 0.4458]), prediction=0.0),\n",
       " Row(features=SparseVector(335, {0: 16000.0, 1: 16000.0, 2: 16000.0, 3: 12.99, 4: 539.03, 5: 65000.0, 6: 13.35, 7: 1.0, 8: 2.0, 9: 12.0, 11: 8946.0, 12: 50.5, 13: 49.0, 16: 54585.0, 17: 17700.0, 18: 6.0, 19: 0.2462, 20: 0.0083, 21: 1.0, 286: 1.0, 294: 1.0, 329: 1.0, 332: 1.0}), label=0, rawPrediction=DenseVector([6.0288, 4.9712]), probability=DenseVector([0.5481, 0.4519]), prediction=0.0),\n",
       " Row(features=SparseVector(335, {0: 6500.0, 1: 6500.0, 2: 6500.0, 3: 12.99, 4: 218.98, 5: 51000.0, 6: 16.72, 7: 2.0, 8: 3.0, 9: 10.0, 11: 7826.0, 12: 35.3, 13: 34.0, 16: 36456.0, 17: 22200.0, 18: 10.0, 19: 0.1275, 20: 0.0043, 21: 1.0, 286: 1.0, 294: 1.0, 329: 1.0, 333: 1.0}), label=0, rawPrediction=DenseVector([6.7455, 4.2545]), probability=DenseVector([0.6132, 0.3868]), prediction=0.0),\n",
       " Row(features=SparseVector(335, {0: 21000.0, 1: 21000.0, 2: 20800.0, 3: 12.85, 4: 706.06, 5: 220000.0, 6: 9.69, 7: 1.0, 8: 1.0, 9: 11.0, 11: 76405.0, 12: 87.0, 13: 30.0, 16: 309800.0, 17: 87800.0, 18: 3.0, 19: 0.0955, 20: 0.0032, 21: 1.0, 286: 1.0, 294: 1.0, 330: 1.0, 331: 1.0}), label=0, rawPrediction=DenseVector([7.2895, 3.7105]), probability=DenseVector([0.6627, 0.3373]), prediction=0.0),\n",
       " Row(features=SparseVector(335, {0: 34000.0, 1: 34000.0, 2: 34000.0, 3: 12.85, 4: 1143.14, 5: 121000.0, 6: 18.22, 7: 1.0, 8: 1.0, 9: 12.0, 11: 24272.0, 12: 65.6, 13: 35.0, 16: 210693.0, 17: 37000.0, 18: 10.0, 19: 0.281, 20: 0.0094, 21: 1.0, 286: 1.0, 294: 1.0, 330: 1.0, 331: 1.0}), label=0, rawPrediction=DenseVector([6.2381, 4.7619]), probability=DenseVector([0.5671, 0.4329]), prediction=0.0),\n",
       " Row(features=SparseVector(335, {0: 10000.0, 1: 10000.0, 2: 10000.0, 3: 12.99, 4: 336.9, 5: 35000.0, 6: 23.96, 7: 1.0, 8: 1.0, 9: 9.0, 11: 10692.0, 12: 50.7, 13: 12.0, 16: 25522.0, 17: 21100.0, 18: 2.0, 19: 0.2857, 20: 0.0096, 21: 1.0, 286: 1.0, 294: 1.0, 330: 1.0, 332: 1.0}), label=0, rawPrediction=DenseVector([4.9563, 6.0437]), probability=DenseVector([0.4506, 0.5494]), prediction=1.0),\n",
       " Row(features=SparseVector(335, {0: 15000.0, 1: 15000.0, 2: 15000.0, 3: 12.99, 4: 505.34, 5: 75000.0, 6: 11.47, 7: 2.0, 8: 1.0, 9: 13.0, 11: 6591.0, 12: 86.7, 13: 21.0, 16: 32300.0, 17: 7600.0, 18: 6.0, 19: 0.2, 20: 0.0067, 21: 1.0, 286: 1.0, 294: 1.0, 330: 1.0, 332: 1.0}), label=0, rawPrediction=DenseVector([6.3948, 4.6052]), probability=DenseVector([0.5813, 0.4187]), prediction=0.0),\n",
       " Row(features=SparseVector(335, {0: 20000.0, 1: 20000.0, 2: 19950.0, 3: 12.85, 4: 672.44, 5: 51000.0, 6: 23.39, 7: 1.0, 8: 1.0, 9: 9.0, 11: 14139.0, 12: 76.8, 13: 28.0, 16: 36128.0, 17: 18400.0, 18: 5.0, 19: 0.3922, 20: 0.0132, 21: 1.0, 286: 1.0, 294: 1.0, 330: 1.0, 332: 1.0}), label=0, rawPrediction=DenseVector([5.5009, 5.4991]), probability=DenseVector([0.5001, 0.4999]), prediction=0.0),\n",
       " Row(features=SparseVector(335, {0: 20000.0, 1: 20000.0, 2: 20000.0, 3: 10.99, 4: 654.68, 5: 83500.0, 6: 24.98, 7: 1.0, 8: 1.0, 9: 13.0, 11: 19565.0, 12: 32.4, 13: 30.0, 16: 236661.0, 17: 60300.0, 18: 8.0, 19: 0.2395, 20: 0.0078, 21: 1.0, 286: 1.0, 296: 1.0, 328: 1.0, 331: 1.0}), label=0, rawPrediction=DenseVector([6.8039, 4.1961]), probability=DenseVector([0.6185, 0.3815]), prediction=0.0),\n",
       " Row(features=SparseVector(335, {0: 7000.0, 1: 7000.0, 2: 7000.0, 3: 10.99, 4: 229.14, 5: 62400.0, 6: 10.21, 7: 2.0, 8: 1.0, 9: 8.0, 11: 9694.0, 12: 91.5, 13: 24.0, 16: 308601.0, 17: 10600.0, 18: 1.0, 19: 0.1122, 20: 0.0037, 21: 1.0, 286: 1.0, 296: 1.0, 329: 1.0, 331: 1.0}), label=0, rawPrediction=DenseVector([7.5759, 3.4241]), probability=DenseVector([0.6887, 0.3113]), prediction=0.0),\n",
       " Row(features=SparseVector(335, {0: 12000.0, 1: 12000.0, 2: 12000.0, 3: 10.99, 4: 392.81, 5: 65000.0, 6: 21.29, 7: 1.0, 8: 1.0, 9: 11.0, 11: 15228.0, 12: 59.7, 13: 35.0, 16: 175053.0, 17: 25500.0, 18: 1.0, 19: 0.1846, 20: 0.006, 21: 1.0, 286: 1.0, 296: 1.0, 330: 1.0, 331: 1.0}), label=0, rawPrediction=DenseVector([7.1579, 3.8421]), probability=DenseVector([0.6507, 0.3493]), prediction=0.0),\n",
       " Row(features=SparseVector(335, {0: 18000.0, 1: 18000.0, 2: 17975.0, 3: 10.99, 4: 589.22, 5: 135000.0, 6: 11.09, 7: 2.0, 8: 2.0, 9: 11.0, 11: 13351.0, 12: 76.7, 13: 33.0, 16: 356555.0, 17: 17400.0, 18: 2.0, 19: 0.1333, 20: 0.0044, 21: 1.0, 286: 1.0, 296: 1.0, 330: 1.0, 331: 1.0}), label=0, rawPrediction=DenseVector([7.7659, 3.2341]), probability=DenseVector([0.706, 0.294]), prediction=0.0),\n",
       " Row(features=SparseVector(335, {0: 5300.0, 1: 5300.0, 2: 5300.0, 3: 13.67, 4: 180.3, 5: 85000.0, 6: 9.28, 7: 2.0, 8: 1.0, 9: 15.0, 11: 7744.0, 12: 25.9, 13: 28.0, 16: 135867.0, 17: 29900.0, 18: 2.0, 19: 0.0624, 20: 0.0021, 21: 1.0, 286: 1.0, 298: 1.0, 328: 1.0, 331: 1.0}), label=1, rawPrediction=DenseVector([7.0948, 3.9052]), probability=DenseVector([0.645, 0.355]), prediction=0.0),\n",
       " Row(features=SparseVector(335, {0: 16000.0, 1: 16000.0, 2: 16000.0, 3: 13.67, 4: 544.29, 5: 85000.0, 6: 30.14, 7: 1.0, 8: 1.0, 9: 14.0, 11: 22118.0, 12: 69.1, 13: 35.0, 16: 245742.0, 17: 32000.0, 18: 10.0, 19: 0.1882, 20: 0.0064, 21: 1.0, 286: 1.0, 298: 1.0, 328: 1.0, 331: 1.0}), label=1, rawPrediction=DenseVector([6.1154, 4.8846]), probability=DenseVector([0.5559, 0.4441]), prediction=0.0),\n",
       " Row(features=SparseVector(335, {0: 17000.0, 1: 17000.0, 2: 17000.0, 3: 13.53, 4: 391.44, 5: 125000.0, 6: 17.47, 7: 1.0, 8: 1.0, 9: 9.0, 11: 1604.0, 12: 7.7, 13: 36.0, 16: 238930.0, 17: 20900.0, 18: 1.0, 19: 0.136, 20: 0.0031, 21: 1.0, 286: 1.0, 298: 1.0, 328: 1.0, 331: 1.0}), label=0, rawPrediction=DenseVector([6.9323, 4.0677]), probability=DenseVector([0.6302, 0.3698]), prediction=0.0),\n",
       " Row(features=SparseVector(335, {0: 16000.0, 1: 16000.0, 2: 16000.0, 3: 13.67, 4: 544.29, 5: 50000.0, 6: 21.17, 7: 1.0, 8: 1.0, 9: 26.0, 11: 10404.0, 12: 34.6, 13: 46.0, 16: 69835.0, 17: 30100.0, 18: 2.0, 19: 0.32, 20: 0.0109, 21: 1.0, 286: 1.0, 298: 1.0, 328: 1.0, 332: 1.0}), label=0, rawPrediction=DenseVector([4.4141, 6.5859]), probability=DenseVector([0.4013, 0.5987]), prediction=1.0),\n",
       " Row(features=SparseVector(335, {0: 30000.0, 1: 30000.0, 2: 30000.0, 3: 13.67, 4: 1020.53, 5: 125000.0, 6: 22.53, 7: 1.0, 8: 3.0, 9: 15.0, 11: 42935.0, 12: 66.2, 13: 56.0, 16: 125949.0, 17: 64900.0, 18: 1.0, 19: 0.24, 20: 0.0082, 21: 1.0, 286: 1.0, 298: 1.0, 328: 1.0, 332: 1.0}), label=0, rawPrediction=DenseVector([5.7227, 5.2773]), probability=DenseVector([0.5202, 0.4798]), prediction=0.0),\n",
       " Row(features=SparseVector(335, {0: 7000.0, 1: 7000.0, 2: 7000.0, 3: 13.53, 4: 237.65, 5: 105000.0, 6: 19.68, 7: 1.0, 8: 1.0, 9: 17.0, 11: 33548.0, 12: 36.4, 13: 53.0, 16: 109044.0, 17: 92200.0, 18: 1.0, 19: 0.0667, 20: 0.0023, 21: 1.0, 286: 1.0, 298: 1.0, 329: 1.0, 332: 1.0}), label=0, rawPrediction=DenseVector([6.7391, 4.2609]), probability=DenseVector([0.6126, 0.3874]), prediction=0.0),\n",
       " Row(features=SparseVector(335, {0: 10000.0, 1: 10000.0, 2: 10000.0, 3: 13.67, 4: 340.18, 5: 60000.0, 6: 27.56, 7: 2.0, 8: 1.0, 9: 8.0, 11: 12846.0, 12: 76.0, 13: 24.0, 16: 32594.0, 17: 16900.0, 18: 10.0, 19: 0.1667, 20: 0.0057, 21: 1.0, 286: 1.0, 298: 1.0, 329: 1.0, 333: 1.0}), label=1, rawPrediction=DenseVector([6.1673, 4.8327]), probability=DenseVector([0.5607, 0.4393]), prediction=0.0),\n",
       " Row(features=SparseVector(335, {0: 13200.0, 1: 13200.0, 2: 13200.0, 3: 13.67, 4: 449.04, 5: 86600.0, 6: 30.07, 7: 1.0, 8: 1.0, 9: 9.0, 11: 19836.0, 12: 52.3, 13: 21.0, 16: 104474.0, 17: 37900.0, 18: 7.0, 19: 0.1524, 20: 0.0052, 21: 1.0, 286: 1.0, 298: 1.0, 330: 1.0, 331: 1.0}), label=0, rawPrediction=DenseVector([6.6859, 4.3141]), probability=DenseVector([0.6078, 0.3922]), prediction=0.0),\n",
       " Row(features=SparseVector(335, {0: 5000.0, 1: 5000.0, 2: 5000.0, 3: 13.67, 4: 170.09, 5: 40000.0, 6: 16.89, 7: 1.0, 8: 2.0, 9: 8.0, 11: 2194.0, 12: 12.4, 13: 16.0, 16: 41123.0, 17: 17700.0, 18: 1.0, 19: 0.125, 20: 0.0043, 21: 1.0, 286: 1.0, 298: 1.0, 330: 1.0, 332: 1.0}), label=0, rawPrediction=DenseVector([6.1179, 4.8821]), probability=DenseVector([0.5562, 0.4438]), prediction=0.0),\n",
       " Row(features=SparseVector(335, {0: 13000.0, 1: 13000.0, 2: 13000.0, 3: 13.67, 4: 442.23, 5: 68000.0, 6: 20.35, 7: 7.0, 8: 2.0, 9: 5.0, 11: 2952.0, 12: 50.0, 13: 22.0, 16: 36690.0, 17: 5900.0, 18: 4.0, 19: 0.1912, 20: 0.0065, 21: 1.0, 286: 1.0, 298: 1.0, 330: 1.0, 332: 1.0}), label=0, rawPrediction=DenseVector([6.2405, 4.7595]), probability=DenseVector([0.5673, 0.4327]), prediction=0.0),\n",
       " Row(features=SparseVector(335, {0: 15000.0, 1: 15000.0, 2: 15000.0, 3: 13.67, 4: 510.27, 5: 48000.0, 6: 9.65, 7: 1.0, 8: 1.0, 9: 17.0, 11: 14360.0, 12: 57.2, 13: 43.0, 16: 14360.0, 17: 25100.0, 18: 10.0, 19: 0.3125, 20: 0.0106, 21: 1.0, 286: 1.0, 298: 1.0, 330: 1.0, 332: 1.0}), label=0, rawPrediction=DenseVector([5.1936, 5.8064]), probability=DenseVector([0.4721, 0.5279]), prediction=1.0),\n",
       " Row(features=SparseVector(335, {0: 18000.0, 1: 18000.0, 2: 18000.0, 3: 13.67, 4: 612.32, 5: 40000.0, 6: 23.97, 7: 1.0, 8: 2.0, 9: 5.0, 11: 17477.0, 12: 80.9, 13: 28.0, 16: 48694.0, 17: 21600.0, 18: 1.0, 19: 0.45, 20: 0.0153, 21: 1.0, 286: 1.0, 298: 1.0, 330: 1.0, 332: 1.0}), label=0, rawPrediction=DenseVector([5.1268, 5.8732]), probability=DenseVector([0.4661, 0.5339]), prediction=1.0),\n",
       " Row(features=SparseVector(335, {0: 20000.0, 1: 20000.0, 2: 19950.0, 3: 13.53, 4: 679.0, 5: 73784.0, 6: 9.81, 7: 2.0, 8: 1.0, 9: 7.0, 11: 9721.0, 12: 66.1, 13: 14.0, 16: 17627.0, 17: 14700.0, 18: 10.0, 19: 0.2711, 20: 0.0092, 21: 1.0, 286: 1.0, 298: 1.0, 330: 1.0, 332: 1.0}), label=0, rawPrediction=DenseVector([6.0554, 4.9446]), probability=DenseVector([0.5505, 0.4495]), prediction=0.0),\n",
       " Row(features=SparseVector(335, {0: 5500.0, 1: 5500.0, 2: 5450.0, 3: 9.99, 4: 177.45, 5: 57000.0, 6: 19.37, 7: 1.0, 8: 2.0, 9: 8.0, 11: 34702.0, 12: 53.9, 13: 29.0, 16: 40104.0, 17: 64400.0, 18: 10.0, 19: 0.0965, 20: 0.0031, 21: 1.0, 286: 1.0, 301: 1.0, 328: 1.0, 331: 1.0}), label=0, rawPrediction=DenseVector([7.3295, 3.6705]), probability=DenseVector([0.6663, 0.3337]), prediction=0.0),\n",
       " Row(features=SparseVector(335, {0: 12000.0, 1: 12000.0, 2: 11975.0, 3: 9.67, 4: 385.35, 5: 200000.0, 6: 3.1, 7: 1.0, 8: 3.0, 9: 13.0, 11: 13219.0, 12: 23.9, 13: 45.0, 16: 13219.0, 17: 55400.0, 18: 10.0, 19: 0.06, 20: 0.0019, 21: 1.0, 286: 1.0, 301: 1.0, 328: 1.0, 331: 1.0}), label=0, rawPrediction=DenseVector([7.1027, 3.8973]), probability=DenseVector([0.6457, 0.3543]), prediction=0.0),\n",
       " Row(features=SparseVector(335, {0: 14000.0, 1: 14000.0, 2: 14000.0, 3: 9.99, 4: 451.68, 5: 200000.0, 6: 8.61, 7: 2.0, 8: 1.0, 9: 10.0, 11: 17559.0, 12: 59.3, 13: 17.0, 16: 281248.0, 17: 29600.0, 18: 9.0, 19: 0.07, 20: 0.0023, 21: 1.0, 286: 1.0, 301: 1.0, 328: 1.0, 331: 1.0}), label=1, rawPrediction=DenseVector([7.0884, 3.9116]), probability=DenseVector([0.6444, 0.3556]), prediction=0.0),\n",
       " Row(features=SparseVector(335, {0: 15000.0, 1: 15000.0, 2: 15000.0, 3: 9.67, 4: 481.69, 5: 103900.0, 6: 7.13, 7: 1.0, 8: 1.0, 9: 12.0, 11: 25846.0, 12: 48.6, 13: 29.0, 16: 331336.0, 17: 53200.0, 18: 3.0, 19: 0.1444, 20: 0.0046, 21: 1.0, 286: 1.0, 301: 1.0, 328: 1.0, 331: 1.0}), label=0, rawPrediction=DenseVector([7.3692, 3.6308]), probability=DenseVector([0.6699, 0.3301]), prediction=0.0),\n",
       " Row(features=SparseVector(335, {0: 18000.0, 1: 18000.0, 2: 18000.0, 3: 9.67, 4: 578.03, 5: 275000.0, 6: 8.17, 7: 2.0, 8: 2.0, 9: 9.0, 11: 32416.0, 12: 85.7, 13: 30.0, 16: 254233.0, 17: 39800.0, 18: 2.0, 19: 0.0655, 20: 0.0021, 21: 1.0, 286: 1.0, 301: 1.0, 328: 1.0, 331: 1.0}), label=0, rawPrediction=DenseVector([7.7161, 3.2839]), probability=DenseVector([0.7015, 0.2985]), prediction=0.0),\n",
       " Row(features=SparseVector(335, {0: 7000.0, 1: 7000.0, 2: 7000.0, 3: 9.67, 4: 224.79, 5: 75000.0, 6: 17.39, 7: 1.0, 8: 1.0, 9: 16.0, 11: 7889.0, 12: 18.6, 13: 22.0, 16: 36833.0, 17: 42500.0, 18: 10.0, 19: 0.0933, 20: 0.003, 21: 1.0, 286: 1.0, 301: 1.0, 328: 1.0, 332: 1.0}), label=0, rawPrediction=DenseVector([7.3715, 3.6285]), probability=DenseVector([0.6701, 0.3299]), prediction=0.0),\n",
       " Row(features=SparseVector(335, {0: 16800.0, 1: 16800.0, 2: 16800.0, 3: 9.67, 4: 539.49, 5: 100000.0, 6: 21.48, 7: 2.0, 8: 2.0, 9: 7.0, 11: 10458.0, 12: 38.0, 13: 26.0, 16: 69978.0, 17: 27500.0, 18: 10.0, 19: 0.168, 20: 0.0054, 21: 1.0, 286: 1.0, 301: 1.0, 328: 1.0, 332: 1.0}), label=0, rawPrediction=DenseVector([6.5704, 4.4296]), probability=DenseVector([0.5973, 0.4027]), prediction=0.0),\n",
       " Row(features=SparseVector(335, {0: 19075.0, 1: 19075.0, 2: 19075.0, 3: 9.99, 4: 615.41, 5: 50000.0, 6: 20.77, 7: 1.0, 8: 1.0, 9: 7.0, 11: 2276.0, 12: 15.3, 13: 20.0, 16: 22307.0, 17: 14892.0, 18: 10.0, 19: 0.3815, 20: 0.0123, 21: 1.0, 286: 1.0, 301: 1.0, 328: 1.0, 332: 1.0}), label=1, rawPrediction=DenseVector([5.7729, 5.2271]), probability=DenseVector([0.5248, 0.4752]), prediction=0.0),\n",
       " Row(features=SparseVector(335, {0: 8000.0, 1: 8000.0, 2: 8000.0, 3: 9.67, 4: 256.9, 5: 28000.0, 6: 21.69, 7: 1.0, 8: 1.0, 9: 11.0, 11: 8280.0, 12: 20.9, 13: 35.0, 16: 117312.0, 17: 39600.0, 18: 9.0, 19: 0.2857, 20: 0.0092, 21: 1.0, 286: 1.0, 301: 1.0, 330: 1.0, 331: 1.0}), label=0, rawPrediction=DenseVector([6.1517, 4.8483]), probability=DenseVector([0.5592, 0.4408]), prediction=0.0),\n",
       " Row(features=SparseVector(335, {0: 15000.0, 1: 15000.0, 2: 15000.0, 3: 9.99, 4: 483.94, 5: 145000.0, 6: 22.53, 7: 3.0, 8: 1.0, 9: 10.0, 11: 21370.0, 12: 77.7, 13: 37.0, 16: 672920.0, 17: 27500.0, 18: 10.0, 19: 0.1034, 20: 0.0033, 21: 1.0, 286: 1.0, 301: 1.0, 330: 1.0, 331: 1.0}), label=0, rawPrediction=DenseVector([7.6797, 3.3203]), probability=DenseVector([0.6982, 0.3018]), prediction=0.0),\n",
       " Row(features=SparseVector(335, {0: 6400.0, 1: 6400.0, 2: 6400.0, 3: 9.67, 4: 205.52, 5: 82000.0, 6: 11.0, 7: 1.0, 8: 2.0, 9: 10.0, 11: 5500.0, 12: 57.9, 13: 23.0, 16: 25599.0, 17: 9500.0, 18: 4.0, 19: 0.078, 20: 0.0025, 21: 1.0, 286: 1.0, 301: 1.0, 330: 1.0, 332: 1.0}), label=0, rawPrediction=DenseVector([7.0279, 3.9721]), probability=DenseVector([0.6389, 0.3611]), prediction=0.0),\n",
       " Row(features=SparseVector(335, {0: 12000.0, 1: 12000.0, 2: 12000.0, 3: 14.3, 4: 411.89, 5: 250000.0, 6: 5.46, 7: 1.0, 8: 1.0, 9: 10.0, 11: 12200.0, 12: 49.0, 13: 20.0, 16: 715957.0, 17: 24900.0, 18: 10.0, 19: 0.048, 20: 0.0016, 21: 1.0, 287: 1.0, 295: 1.0, 328: 1.0, 331: 1.0}), label=0, rawPrediction=DenseVector([6.2841, 4.7159]), probability=DenseVector([0.5713, 0.4287]), prediction=0.0),\n",
       " Row(features=SparseVector(335, {0: 12375.0, 1: 12375.0, 2: 12375.0, 3: 14.3, 4: 424.76, 5: 44000.0, 6: 22.91, 7: 2.0, 8: 1.0, 9: 14.0, 11: 14587.0, 12: 57.4, 13: 33.0, 16: 211126.0, 17: 25400.0, 18: 8.0, 19: 0.2813, 20: 0.0097, 21: 1.0, 287: 1.0, 295: 1.0, 328: 1.0, 331: 1.0}), label=0, rawPrediction=DenseVector([4.8165, 6.1835]), probability=DenseVector([0.4379, 0.5621]), prediction=1.0),\n",
       " Row(features=SparseVector(335, {0: 35000.0, 1: 35000.0, 2: 34950.0, 3: 14.3, 4: 1201.33, 5: 130000.0, 6: 16.97, 7: 1.0, 8: 2.0, 9: 10.0, 11: 22186.0, 12: 42.9, 13: 20.0, 16: 374799.0, 17: 51700.0, 18: 10.0, 19: 0.2692, 20: 0.0092, 21: 1.0, 287: 1.0, 295: 1.0, 328: 1.0, 331: 1.0}), label=0, rawPrediction=DenseVector([5.9583, 5.0417]), probability=DenseVector([0.5417, 0.4583]), prediction=0.0),\n",
       " Row(features=SparseVector(335, {0: 9000.0, 1: 9000.0, 2: 9000.0, 3: 14.3, 4: 308.92, 5: 75000.0, 6: 21.86, 7: 1.0, 8: 1.0, 9: 13.0, 11: 19440.0, 12: 39.8, 13: 39.0, 16: 30676.0, 17: 48900.0, 18: 10.0, 19: 0.12, 20: 0.0041, 21: 1.0, 287: 1.0, 295: 1.0, 328: 1.0, 332: 1.0}), label=0, rawPrediction=DenseVector([5.7615, 5.2385]), probability=DenseVector([0.5238, 0.4762]), prediction=0.0),\n",
       " Row(features=SparseVector(335, {0: 25000.0, 1: 25000.0, 2: 25000.0, 3: 14.3, 4: 858.09, 5: 62500.0, 6: 20.16, 7: 1.0, 8: 3.0, 9: 14.0, 11: 19353.0, 12: 46.2, 13: 51.0, 16: 19353.0, 17: 42000.0, 18: 10.0, 19: 0.4, 20: 0.0137, 21: 1.0, 287: 1.0, 295: 1.0, 328: 1.0, 332: 1.0}), label=0, rawPrediction=DenseVector([5.1816, 5.8184]), probability=DenseVector([0.4711, 0.5289]), prediction=1.0),\n",
       " Row(features=SparseVector(335, {0: 9000.0, 1: 9000.0, 2: 9000.0, 3: 13.98, 4: 307.52, 5: 54000.0, 6: 8.33, 7: 1.0, 8: 2.0, 9: 13.0, 11: 13417.0, 12: 62.7, 13: 23.0, 16: 124589.0, 17: 21400.0, 18: 6.0, 19: 0.1667, 20: 0.0057, 21: 1.0, 287: 1.0, 295: 1.0, 329: 1.0, 331: 1.0}), label=0, rawPrediction=DenseVector([6.0051, 4.9949]), probability=DenseVector([0.5459, 0.4541]), prediction=0.0),\n",
       " Row(features=SparseVector(335, {0: 10700.0, 1: 10700.0, 2: 10700.0, 3: 13.98, 4: 248.86, 5: 60000.0, 6: 15.79, 7: 4.0, 8: 1.0, 9: 18.0, 11: 7778.0, 12: 57.6, 13: 31.0, 16: 145911.0, 17: 13500.0, 18: 3.0, 19: 0.1783, 20: 0.0041, 21: 1.0, 287: 1.0, 295: 1.0, 330: 1.0, 331: 1.0}), label=0, rawPrediction=DenseVector([6.3402, 4.6598]), probability=DenseVector([0.5764, 0.4236]), prediction=0.0),\n",
       " Row(features=SparseVector(335, {0: 12000.0, 1: 12000.0, 2: 12000.0, 3: 14.3, 4: 411.89, 5: 52000.0, 6: 33.9, 7: 1.0, 8: 2.0, 9: 15.0, 11: 8019.0, 12: 38.9, 13: 32.0, 16: 142294.0, 17: 20600.0, 18: 10.0, 19: 0.2308, 20: 0.0079, 21: 1.0, 287: 1.0, 295: 1.0, 330: 1.0, 331: 1.0}), label=0, rawPrediction=DenseVector([5.2872, 5.7128]), probability=DenseVector([0.4807, 0.5193]), prediction=1.0),\n",
       " Row(features=SparseVector(335, {0: 12500.0, 1: 12500.0, 2: 12500.0, 3: 14.3, 4: 429.05, 5: 70000.0, 6: 25.46, 7: 3.0, 8: 1.0, 9: 12.0, 11: 36003.0, 12: 73.6, 13: 22.0, 16: 139820.0, 17: 48900.0, 18: 10.0, 19: 0.1786, 20: 0.0061, 21: 1.0, 287: 1.0, 295: 1.0, 330: 1.0, 331: 1.0}), label=0, rawPrediction=DenseVector([5.3491, 5.6509]), probability=DenseVector([0.4863, 0.5137]), prediction=1.0),\n",
       " Row(features=SparseVector(335, {0: 20000.0, 1: 20000.0, 2: 20000.0, 3: 14.3, 4: 686.48, 5: 100000.0, 6: 7.87, 7: 3.0, 8: 2.0, 9: 14.0, 11: 5886.0, 12: 35.2, 13: 42.0, 16: 109393.0, 17: 16700.0, 18: 10.0, 19: 0.2, 20: 0.0069, 21: 1.0, 287: 1.0, 295: 1.0, 330: 1.0, 331: 1.0}), label=1, rawPrediction=DenseVector([5.9019, 5.0981]), probability=DenseVector([0.5365, 0.4635]), prediction=0.0),\n",
       " Row(features=SparseVector(335, {0: 24000.0, 1: 24000.0, 2: 23975.0, 3: 14.3, 4: 823.77, 5: 75000.0, 6: 9.71, 7: 1.0, 8: 1.0, 9: 13.0, 11: 20127.0, 12: 42.8, 13: 21.0, 16: 228243.0, 17: 47000.0, 18: 5.0, 19: 0.32, 20: 0.011, 21: 1.0, 287: 1.0, 295: 1.0, 330: 1.0, 331: 1.0}), label=1, rawPrediction=DenseVector([5.3495, 5.6505]), probability=DenseVector([0.4863, 0.5137]), prediction=1.0),\n",
       " Row(features=SparseVector(335, {0: 20000.0, 1: 20000.0, 2: 20000.0, 3: 14.3, 4: 686.48, 5: 90000.0, 6: 7.35, 7: 1.0, 8: 3.0, 9: 7.0, 11: 35026.0, 12: 89.6, 13: 20.0, 16: 137178.0, 17: 39100.0, 18: 10.0, 19: 0.2222, 20: 0.0076, 21: 1.0, 287: 1.0, 295: 1.0, 330: 1.0, 333: 1.0}), label=0, rawPrediction=DenseVector([5.5588, 5.4412]), probability=DenseVector([0.5053, 0.4947]), prediction=0.0),\n",
       " Row(features=SparseVector(335, {0: 15000.0, 1: 15000.0, 2: 15000.0, 3: 15.1, 4: 520.72, 5: 90000.0, 6: 33.33, 7: 1.0, 8: 1.0, 9: 14.0, 11: 19324.0, 12: 64.8, 13: 42.0, 16: 338659.0, 17: 29800.0, 18: 3.0, 19: 0.1667, 20: 0.0058, 21: 1.0, 287: 1.0, 297: 1.0, 328: 1.0, 331: 1.0}), label=0, rawPrediction=DenseVector([5.1993, 5.8007]), probability=DenseVector([0.4727, 0.5273]), prediction=1.0),\n",
       " Row(features=SparseVector(335, {0: 5000.0, 1: 5000.0, 2: 5000.0, 3: 15.1, 4: 173.58, 5: 175000.0, 6: 7.08, 7: 2.0, 8: 3.0, 9: 9.0, 11: 11666.0, 12: 78.3, 13: 50.0, 16: 584306.0, 17: 14900.0, 18: 10.0, 19: 0.0286, 20: 0.001, 21: 1.0, 287: 1.0, 297: 1.0, 329: 1.0, 331: 1.0}), label=0, rawPrediction=DenseVector([7.7807, 3.2193]), probability=DenseVector([0.7073, 0.2927]), prediction=0.0),\n",
       " Row(features=SparseVector(335, {0: 6000.0, 1: 6000.0, 2: 6000.0, 3: 14.47, 4: 206.44, 5: 105000.0, 6: 22.99, 7: 1.0, 8: 1.0, 9: 13.0, 11: 12934.0, 12: 57.2, 13: 35.0, 16: 233642.0, 17: 22600.0, 18: 8.0, 19: 0.0571, 20: 0.002, 21: 1.0, 287: 1.0, 297: 1.0, 329: 1.0, 331: 1.0}), label=0, rawPrediction=DenseVector([6.291, 4.709]), probability=DenseVector([0.5719, 0.4281]), prediction=0.0),\n",
       " Row(features=SparseVector(335, {0: 8000.0, 1: 8000.0, 2: 8000.0, 3: 15.1, 4: 277.72, 5: 78000.0, 6: 13.43, 7: 1.0, 8: 2.0, 9: 12.0, 11: 12771.0, 12: 88.7, 13: 31.0, 16: 163606.0, 17: 14400.0, 18: 10.0, 19: 0.1026, 20: 0.0036, 21: 1.0, 287: 1.0, 297: 1.0, 329: 1.0, 331: 1.0}), label=0, rawPrediction=DenseVector([6.1177, 4.8823]), probability=DenseVector([0.5562, 0.4438]), prediction=0.0),\n",
       " Row(features=SparseVector(335, {0: 8400.0, 1: 8400.0, 2: 8400.0, 3: 15.1, 4: 291.61, 5: 65000.0, 6: 16.78, 7: 1.0, 8: 2.0, 9: 26.0, 11: 14378.0, 12: 55.9, 13: 46.0, 16: 34604.0, 17: 25700.0, 18: 2.0, 19: 0.1292, 20: 0.0045, 21: 1.0, 287: 1.0, 297: 1.0, 329: 1.0, 331: 1.0}), label=0, rawPrediction=DenseVector([5.3068, 5.6932]), probability=DenseVector([0.4824, 0.5176]), prediction=1.0),\n",
       " Row(features=SparseVector(335, {0: 9000.0, 1: 9000.0, 2: 9000.0, 3: 14.47, 4: 309.66, 5: 60000.0, 6: 20.48, 7: 1.0, 8: 2.0, 9: 11.0, 11: 7959.0, 12: 74.0, 13: 27.0, 16: 161993.0, 17: 10690.0, 18: 5.0, 19: 0.15, 20: 0.0052, 21: 1.0, 287: 1.0, 297: 1.0, 329: 1.0, 331: 1.0}), label=1, rawPrediction=DenseVector([5.1326, 5.8674]), probability=DenseVector([0.4666, 0.5334]), prediction=1.0),\n",
       " Row(features=SparseVector(335, {0: 14000.0, 1: 14000.0, 2: 14000.0, 3: 15.1, 4: 486.01, 5: 65000.0, 6: 17.02, 7: 1.0, 8: 1.0, 9: 14.0, 11: 12217.0, 12: 47.9, 13: 28.0, 16: 166289.0, 17: 25500.0, 18: 10.0, 19: 0.2154, 20: 0.0075, 21: 1.0, 287: 1.0, 297: 1.0, 329: 1.0, 331: 1.0}), label=0, rawPrediction=DenseVector([5.5531, 5.4469]), probability=DenseVector([0.5048, 0.4952]), prediction=0.0),\n",
       " Row(features=SparseVector(335, {0: 14000.0, 1: 14000.0, 2: 14000.0, 3: 15.1, 4: 486.01, 5: 98000.0, 6: 16.95, 7: 2.0, 8: 1.0, 9: 8.0, 11: 6886.0, 12: 60.9, 13: 14.0, 16: 138025.0, 17: 11300.0, 18: 7.0, 19: 0.1429, 20: 0.005, 21: 1.0, 287: 1.0, 297: 1.0, 329: 1.0, 331: 1.0}), label=0, rawPrediction=DenseVector([5.8106, 5.1894]), probability=DenseVector([0.5282, 0.4718]), prediction=0.0),\n",
       " Row(features=SparseVector(335, {0: 10575.0, 1: 10575.0, 2: 10575.0, 3: 15.1, 4: 367.11, 5: 42000.0, 6: 17.31, 7: 1.0, 8: 1.0, 9: 9.0, 11: 5006.0, 12: 34.3, 13: 17.0, 16: 21032.0, 17: 14600.0, 18: 4.0, 19: 0.2518, 20: 0.0087, 21: 1.0, 287: 1.0, 297: 1.0, 329: 1.0, 332: 1.0}), label=0, rawPrediction=DenseVector([5.0621, 5.9379]), probability=DenseVector([0.4602, 0.5398]), prediction=1.0),\n",
       " Row(features=SparseVector(335, {0: 11000.0, 1: 11000.0, 2: 11000.0, 3: 14.47, 4: 378.47, 5: 90000.0, 6: 12.05, 7: 1.0, 8: 2.0, 9: 15.0, 11: 6429.0, 12: 42.3, 13: 31.0, 16: 32004.0, 17: 15200.0, 18: 8.0, 19: 0.1222, 20: 0.0042, 21: 1.0, 287: 1.0, 297: 1.0, 329: 1.0, 332: 1.0}), label=0, rawPrediction=DenseVector([6.1645, 4.8355]), probability=DenseVector([0.5604, 0.4396]), prediction=0.0),\n",
       " Row(features=SparseVector(335, {0: 8325.0, 1: 8325.0, 2: 8325.0, 3: 15.1, 4: 289.0, 5: 25500.0, 6: 9.6, 7: 1.0, 8: 1.0, 9: 12.0, 11: 6485.0, 12: 29.1, 13: 19.0, 16: 21256.0, 17: 22300.0, 18: 8.0, 19: 0.3265, 20: 0.0113, 21: 1.0, 287: 1.0, 297: 1.0, 330: 1.0, 332: 1.0}), label=0, rawPrediction=DenseVector([4.7283, 6.2717]), probability=DenseVector([0.4298, 0.5702]), prediction=1.0),\n",
       " Row(features=SparseVector(335, {0: 14000.0, 1: 14000.0, 2: 14000.0, 3: 15.1, 4: 486.01, 5: 42000.0, 6: 20.31, 7: 1.0, 8: 1.0, 9: 10.0, 11: 10635.0, 12: 40.7, 13: 21.0, 16: 121910.0, 17: 26100.0, 18: 7.0, 19: 0.3333, 20: 0.0116, 21: 1.0, 287: 1.0, 297: 1.0, 330: 1.0, 332: 1.0}), label=1, rawPrediction=DenseVector([4.5212, 6.4788]), probability=DenseVector([0.411, 0.589]), prediction=1.0),\n",
       " Row(features=SparseVector(335, {0: 10000.0, 1: 10000.0, 2: 10000.0, 3: 15.1, 4: 347.15, 5: 65000.0, 6: 15.07, 7: 1.0, 8: 2.0, 9: 8.0, 11: 16743.0, 12: 61.3, 13: 42.0, 16: 37044.0, 17: 27300.0, 18: 3.0, 19: 0.1538, 20: 0.0053, 21: 1.0, 287: 1.0, 297: 1.0, 330: 1.0, 333: 1.0}), label=0, rawPrediction=DenseVector([5.3161, 5.6839]), probability=DenseVector([0.4833, 0.5167]), prediction=1.0),\n",
       " Row(features=SparseVector(335, {0: 15000.0, 1: 15000.0, 2: 15000.0, 3: 15.61, 4: 361.67, 5: 45000.0, 6: 16.91, 7: 1.0, 8: 1.0, 9: 14.0, 11: 10889.0, 12: 42.5, 13: 33.0, 16: 88418.0, 17: 25600.0, 18: 10.0, 19: 0.3333, 20: 0.008, 21: 1.0, 287: 1.0, 299: 1.0, 328: 1.0, 331: 1.0}), label=0, rawPrediction=DenseVector([4.7482, 6.2518]), probability=DenseVector([0.4317, 0.5683]), prediction=1.0),\n",
       " Row(features=SparseVector(335, {0: 20000.0, 1: 20000.0, 2: 20000.0, 3: 15.61, 4: 482.23, 5: 92000.0, 6: 18.65, 7: 1.0, 8: 1.0, 9: 10.0, 11: 34263.0, 12: 77.9, 13: 21.0, 16: 504736.0, 17: 44000.0, 18: 10.0, 19: 0.2174, 20: 0.0052, 21: 1.0, 287: 1.0, 299: 1.0, 328: 1.0, 331: 1.0}), label=1, rawPrediction=DenseVector([5.1625, 5.8375]), probability=DenseVector([0.4693, 0.5307]), prediction=1.0),\n",
       " Row(features=SparseVector(335, {0: 28000.0, 1: 28000.0, 2: 28000.0, 3: 15.61, 4: 979.02, 5: 113000.0, 6: 19.47, 7: 1.0, 8: 1.0, 9: 12.0, 11: 12885.0, 12: 30.2, 13: 47.0, 16: 72260.0, 17: 42700.0, 18: 10.0, 19: 0.2478, 20: 0.0087, 21: 1.0, 287: 1.0, 299: 1.0, 328: 1.0, 333: 1.0}), label=0, rawPrediction=DenseVector([5.3912, 5.6088]), probability=DenseVector([0.4901, 0.5099]), prediction=1.0),\n",
       " Row(features=SparseVector(335, {0: 35000.0, 1: 35000.0, 2: 35000.0, 3: 15.61, 4: 1223.77, 5: 115000.0, 6: 11.71, 7: 1.0, 8: 1.0, 9: 12.0, 11: 24558.0, 12: 49.6, 13: 25.0, 16: 39449.0, 17: 49500.0, 18: 3.0, 19: 0.3043, 20: 0.0106, 21: 1.0, 287: 1.0, 299: 1.0, 328: 1.0, 333: 1.0}), label=0, rawPrediction=DenseVector([5.1137, 5.8863]), probability=DenseVector([0.4649, 0.5351]), prediction=1.0),\n",
       " Row(features=SparseVector(335, {0: 4000.0, 1: 4000.0, 2: 4000.0, 3: 15.22, 4: 139.1, 5: 60000.0, 6: 15.48, 7: 2.0, 8: 2.0, 9: 5.0, 11: 5673.0, 12: 45.0, 13: 17.0, 16: 24029.0, 17: 12600.0, 18: 10.0, 19: 0.0667, 20: 0.0023, 21: 1.0, 287: 1.0, 299: 1.0, 329: 1.0, 332: 1.0}), label=0, rawPrediction=DenseVector([5.2632, 5.7368]), probability=DenseVector([0.4785, 0.5215]), prediction=1.0),\n",
       " Row(features=SparseVector(335, {0: 6850.0, 1: 6850.0, 2: 6850.0, 3: 15.22, 4: 238.2, 5: 45000.0, 6: 10.13, 7: 1.0, 8: 1.0, 9: 6.0, 11: 5356.0, 12: 61.6, 13: 14.0, 16: 13063.0, 17: 8700.0, 18: 3.0, 19: 0.1522, 20: 0.0053, 21: 1.0, 287: 1.0, 299: 1.0, 329: 1.0, 333: 1.0}), label=0, rawPrediction=DenseVector([5.8265, 5.1735]), probability=DenseVector([0.5297, 0.4703]), prediction=0.0),\n",
       " Row(features=SparseVector(335, {0: 18000.0, 1: 18000.0, 2: 18000.0, 3: 14.98, 4: 623.8, 5: 76000.0, 6: 11.5, 7: 2.0, 8: 1.0, 9: 6.0, 11: 2761.0, 12: 61.4, 13: 30.0, 16: 20520.0, 17: 4500.0, 18: 10.0, 19: 0.2368, 20: 0.0082, 21: 1.0, 287: 1.0, 299: 1.0, 329: 1.0, 333: 1.0}), label=1, rawPrediction=DenseVector([5.8354, 5.1646]), probability=DenseVector([0.5305, 0.4695]), prediction=0.0),\n",
       " Row(features=SparseVector(335, {0: 8875.0, 1: 8875.0, 2: 8875.0, 3: 14.98, 4: 307.57, 5: 54000.0, 6: 8.4, 7: 2.0, 8: 1.0, 9: 7.0, 11: 3065.0, 12: 42.0, 13: 14.0, 16: 107296.0, 17: 7300.0, 18: 3.0, 19: 0.1644, 20: 0.0057, 21: 1.0, 287: 1.0, 299: 1.0, 330: 1.0, 331: 1.0}), label=1, rawPrediction=DenseVector([5.3901, 5.6099]), probability=DenseVector([0.49, 0.51]), prediction=1.0),\n",
       " Row(features=SparseVector(335, {0: 20000.0, 1: 20000.0, 2: 20000.0, 3: 15.61, 4: 699.3, 5: 83000.0, 6: 15.46, 7: 1.0, 8: 2.0, 9: 10.0, 11: 6364.0, 12: 35.8, 13: 44.0, 16: 344880.0, 17: 17800.0, 18: 2.0, 19: 0.241, 20: 0.0084, 21: 1.0, 287: 1.0, 299: 1.0, 330: 1.0, 331: 1.0}), label=0, rawPrediction=DenseVector([5.5885, 5.4115]), probability=DenseVector([0.508, 0.492]), prediction=0.0),\n",
       " Row(features=SparseVector(335, {0: 21000.0, 1: 21000.0, 2: 21000.0, 3: 15.61, 4: 734.27, 5: 78000.0, 6: 25.09, 7: 1.0, 8: 2.0, 9: 15.0, 11: 7660.0, 12: 39.9, 13: 43.0, 16: 90254.0, 17: 19200.0, 18: 10.0, 19: 0.2692, 20: 0.0094, 21: 1.0, 287: 1.0, 299: 1.0, 330: 1.0, 332: 1.0}), label=0, rawPrediction=DenseVector([4.5369, 6.4631]), probability=DenseVector([0.4124, 0.5876]), prediction=1.0),\n",
       " Row(features=SparseVector(335, {0: 14000.0, 1: 14000.0, 2: 14000.0, 3: 15.61, 4: 337.56, 5: 85000.0, 6: 10.32, 7: 1.0, 8: 2.0, 9: 14.0, 11: 6373.0, 12: 60.7, 13: 33.0, 16: 100491.0, 17: 10500.0, 18: 2.0, 19: 0.1647, 20: 0.004, 21: 1.0, 287: 1.0, 300: 1.0, 328: 1.0, 331: 1.0}), label=1, rawPrediction=DenseVector([5.531, 5.469]), probability=DenseVector([0.5028, 0.4972]), prediction=0.0),\n",
       " Row(features=SparseVector(335, {0: 28000.0, 1: 28000.0, 2: 28000.0, 3: 15.61, 4: 979.02, 5: 160000.0, 6: 10.34, 7: 1.0, 8: 2.0, 9: 11.0, 11: 32153.0, 12: 75.3, 13: 25.0, 16: 350479.0, 17: 42700.0, 18: 10.0, 19: 0.175, 20: 0.0061, 21: 1.0, 287: 1.0, 300: 1.0, 328: 1.0, 331: 1.0}), label=0, rawPrediction=DenseVector([5.7856, 5.2144]), probability=DenseVector([0.526, 0.474]), prediction=0.0),\n",
       " Row(features=SparseVector(335, {0: 2500.0, 1: 2500.0, 2: 2500.0, 3: 16.2, 4: 88.14, 5: 37000.0, 6: 15.63, 7: 1.0, 8: 2.0, 9: 2.0, 11: 381.0, 12: 3.5, 13: 17.0, 16: 23260.0, 17: 10900.0, 18: 3.0, 19: 0.0676, 20: 0.0024, 21: 1.0, 287: 1.0, 300: 1.0, 328: 1.0, 332: 1.0}), label=0, rawPrediction=DenseVector([5.206, 5.794]), probability=DenseVector([0.4733, 0.5267]), prediction=1.0),\n",
       " Row(features=SparseVector(335, {0: 12000.0, 1: 12000.0, 2: 12000.0, 3: 16.2, 4: 423.08, 5: 60000.0, 6: 32.82, 7: 4.0, 8: 3.0, 9: 15.0, 11: 8845.0, 12: 53.3, 13: 40.0, 16: 75216.0, 17: 16600.0, 18: 10.0, 19: 0.2, 20: 0.0071, 21: 1.0, 287: 1.0, 300: 1.0, 328: 1.0, 332: 1.0}), label=0, rawPrediction=DenseVector([4.6359, 6.3641]), probability=DenseVector([0.4214, 0.5786]), prediction=1.0),\n",
       " Row(features=SparseVector(335, {0: 6000.0, 1: 6000.0, 2: 6000.0, 3: 16.2, 4: 211.54, 5: 49000.0, 6: 21.87, 7: 2.0, 8: 1.0, 9: 7.0, 11: 8738.0, 12: 80.9, 13: 19.0, 16: 96837.0, 17: 10800.0, 18: 3.0, 19: 0.1224, 20: 0.0043, 21: 1.0, 287: 1.0, 300: 1.0, 329: 1.0, 331: 1.0}), label=0, rawPrediction=DenseVector([5.1126, 5.8874]), probability=DenseVector([0.4648, 0.5352]), prediction=1.0),\n",
       " Row(features=SparseVector(335, {0: 12000.0, 1: 12000.0, 2: 12000.0, 3: 16.2, 4: 423.08, 5: 60000.0, 6: 17.56, 7: 1.0, 8: 1.0, 9: 13.0, 11: 10257.0, 12: 55.7, 13: 21.0, 16: 138251.0, 17: 18400.0, 18: 5.0, 19: 0.2, 20: 0.0071, 21: 1.0, 287: 1.0, 300: 1.0, 329: 1.0, 331: 1.0}), label=0, rawPrediction=DenseVector([5.5623, 5.4377]), probability=DenseVector([0.5057, 0.4943]), prediction=0.0),\n",
       " Row(features=SparseVector(335, {0: 15000.0, 1: 15000.0, 2: 15000.0, 3: 16.2, 4: 528.84, 5: 118000.0, 6: 7.75, 7: 1.0, 8: 2.0, 9: 7.0, 11: 16726.0, 12: 89.9, 13: 23.0, 16: 436368.0, 17: 18600.0, 18: 4.0, 19: 0.1271, 20: 0.0045, 21: 1.0, 287: 1.0, 300: 1.0, 329: 1.0, 331: 1.0}), label=0, rawPrediction=DenseVector([6.4548, 4.5452]), probability=DenseVector([0.5868, 0.4132]), prediction=0.0),\n",
       " Row(features=SparseVector(335, {0: 15000.0, 1: 15000.0, 2: 15000.0, 3: 16.2, 4: 528.84, 5: 160000.0, 6: 7.49, 7: 2.0, 8: 2.0, 9: 8.0, 11: 4701.0, 12: 66.2, 13: 23.0, 16: 178366.0, 17: 7100.0, 18: 1.0, 19: 0.0938, 20: 0.0033, 21: 1.0, 287: 1.0, 300: 1.0, 329: 1.0, 331: 1.0}), label=0, rawPrediction=DenseVector([6.1271, 4.8729]), probability=DenseVector([0.557, 0.443]), prediction=0.0),\n",
       " Row(features=SparseVector(335, {0: 11500.0, 1: 11500.0, 2: 11500.0, 3: 16.2, 4: 405.45, 5: 40000.0, 6: 11.64, 7: 1.0, 8: 1.0, 9: 8.0, 11: 7762.0, 12: 80.0, 13: 32.0, 16: 7993.0, 17: 9700.0, 18: 1.0, 19: 0.2875, 20: 0.0101, 21: 1.0, 287: 1.0, 300: 1.0, 329: 1.0, 332: 1.0}), label=0, rawPrediction=DenseVector([4.9563, 6.0437]), probability=DenseVector([0.4506, 0.5494]), prediction=1.0),\n",
       " Row(features=SparseVector(335, {0: 1550.0, 1: 1550.0, 2: 1550.0, 3: 16.2, 4: 54.65, 5: 34560.0, 6: 10.73, 7: 1.0, 8: 2.0, 9: 10.0, 11: 7240.0, 12: 33.2, 13: 39.0, 16: 34178.0, 17: 21800.0, 18: 10.0, 19: 0.0448, 20: 0.0016, 21: 1.0, 287: 1.0, 300: 1.0, 330: 1.0, 331: 1.0}), label=0, rawPrediction=DenseVector([5.6358, 5.3642]), probability=DenseVector([0.5123, 0.4877]), prediction=0.0),\n",
       " Row(features=SparseVector(335, {0: 10200.0, 1: 10200.0, 2: 10200.0, 3: 15.61, 4: 356.65, 5: 91000.0, 6: 19.2, 7: 2.0, 8: 1.0, 9: 15.0, 11: 19069.0, 12: 57.3, 13: 29.0, 16: 268894.0, 17: 33300.0, 18: 10.0, 19: 0.1121, 20: 0.0039, 21: 1.0, 287: 1.0, 300: 1.0, 330: 1.0, 331: 1.0}), label=0, rawPrediction=DenseVector([5.9187, 5.0813]), probability=DenseVector([0.5381, 0.4619]), prediction=0.0),\n",
       " Row(features=SparseVector(335, {0: 15000.0, 1: 15000.0, 2: 15000.0, 3: 16.2, 4: 528.84, 5: 145000.0, 6: 2.23, 7: 2.0, 8: 3.0, 9: 14.0, 11: 7692.0, 12: 38.3, 13: 22.0, 16: 164171.0, 17: 20100.0, 18: 10.0, 19: 0.1034, 20: 0.0036, 21: 1.0, 287: 1.0, 300: 1.0, 330: 1.0, 331: 1.0}), label=0, rawPrediction=DenseVector([5.6152, 5.3848]), probability=DenseVector([0.5105, 0.4895]), prediction=0.0),\n",
       " Row(features=SparseVector(335, {0: 22500.0, 1: 22500.0, 2: 22500.0, 3: 15.61, 4: 786.71, 5: 125000.0, 6: 22.64, 7: 1.0, 8: 2.0, 9: 12.0, 11: 21358.0, 12: 85.2, 13: 28.0, 16: 172057.0, 17: 25100.0, 18: 10.0, 19: 0.18, 20: 0.0063, 21: 1.0, 287: 1.0, 300: 1.0, 330: 1.0, 331: 1.0}), label=1, rawPrediction=DenseVector([5.1608, 5.8392]), probability=DenseVector([0.4692, 0.5308]), prediction=1.0),\n",
       " Row(features=SparseVector(335, {0: 3625.0, 1: 3625.0, 2: 3625.0, 3: 16.2, 4: 127.81, 5: 59084.3984, 6: 13.02, 7: 1.0, 8: 1.0, 9: 7.0, 11: 2465.0, 12: 44.8, 13: 21.0, 16: 10774.0, 17: 5500.0, 18: 9.0, 19: 0.0614, 20: 0.0022, 21: 1.0, 287: 1.0, 300: 1.0, 330: 1.0, 332: 1.0}), label=0, rawPrediction=DenseVector([4.802, 6.198]), probability=DenseVector([0.4365, 0.5635]), prediction=1.0),\n",
       " Row(features=SparseVector(335, {0: 8000.0, 1: 8000.0, 2: 8000.0, 3: 16.2, 4: 282.05, 5: 40000.0, 6: 24.12, 7: 1.0, 8: 1.0, 9: 10.0, 11: 5040.0, 12: 86.9, 13: 16.0, 16: 22601.0, 17: 5800.0, 18: 7.0, 19: 0.2, 20: 0.0071, 21: 1.0, 287: 1.0, 300: 1.0, 330: 1.0, 332: 1.0}), label=0, rawPrediction=DenseVector([4.5063, 6.4937]), probability=DenseVector([0.4097, 0.5903]), prediction=1.0),\n",
       " Row(features=SparseVector(335, {0: 10200.0, 1: 10200.0, 2: 10200.0, 3: 15.61, 4: 245.94, 5: 45000.0, 6: 11.71, 7: 1.0, 8: 1.0, 9: 9.0, 11: 7941.0, 12: 50.9, 13: 28.0, 16: 15996.0, 17: 15600.0, 18: 10.0, 19: 0.2267, 20: 0.0055, 21: 1.0, 287: 1.0, 300: 1.0, 330: 1.0, 332: 1.0}), label=0, rawPrediction=DenseVector([4.6892, 6.3108]), probability=DenseVector([0.4263, 0.5737]), prediction=1.0),\n",
       " Row(features=SparseVector(335, {0: 10000.0, 1: 10000.0, 2: 10000.0, 3: 17.1, 4: 249.07, 5: 64000.0, 6: 25.26, 7: 1.0, 8: 1.0, 9: 23.0, 11: 29676.0, 12: 71.0, 13: 46.0, 16: 309839.0, 17: 41800.0, 18: 1.0, 19: 0.1563, 20: 0.0039, 21: 1.0, 287: 1.0, 303: 1.0, 328: 1.0, 331: 1.0}), label=1, rawPrediction=DenseVector([4.8303, 6.1697]), probability=DenseVector([0.4391, 0.5609]), prediction=1.0),\n",
       " Row(features=SparseVector(335, {0: 12000.0, 1: 12000.0, 2: 12000.0, 3: 17.1, 4: 298.88, 5: 98000.0, 6: 7.68, 7: 1.0, 8: 3.0, 9: 11.0, 11: 12413.0, 12: 63.0, 13: 31.0, 16: 330183.0, 17: 19700.0, 18: 2.0, 19: 0.1224, 20: 0.003, 21: 1.0, 287: 1.0, 303: 1.0, 328: 1.0, 331: 1.0}), label=0, rawPrediction=DenseVector([6.0676, 4.9324]), probability=DenseVector([0.5516, 0.4484]), prediction=0.0),\n",
       " Row(features=SparseVector(335, {0: 12000.0, 1: 12000.0, 2: 12000.0, 3: 16.24, 4: 293.35, 5: 70000.0, 6: 17.21, 7: 2.0, 8: 1.0, 9: 9.0, 11: 10233.0, 12: 41.4, 13: 17.0, 16: 20347.0, 17: 24700.0, 18: 5.0, 19: 0.1714, 20: 0.0042, 21: 1.0, 287: 1.0, 303: 1.0, 328: 1.0, 332: 1.0}), label=1, rawPrediction=DenseVector([5.1178, 5.8822]), probability=DenseVector([0.4653, 0.5347]), prediction=1.0),\n",
       " Row(features=SparseVector(335, {0: 19500.0, 1: 19500.0, 2: 19500.0, 3: 17.1, 4: 696.2, 5: 70000.0, 6: 11.3, 7: 10.0, 8: 1.0, 9: 20.0, 11: 6486.0, 12: 59.0, 13: 47.0, 16: 100983.0, 17: 11000.0, 18: 6.0, 19: 0.2786, 20: 0.0099, 21: 1.0, 287: 1.0, 303: 1.0, 328: 1.0, 332: 1.0}), label=1, rawPrediction=DenseVector([4.4086, 6.5914]), probability=DenseVector([0.4008, 0.5992]), prediction=1.0),\n",
       " Row(features=SparseVector(335, {0: 24250.0, 1: 24250.0, 2: 24250.0, 3: 17.1, 4: 603.98, 5: 72000.0, 6: 17.6, 7: 1.0, 8: 1.0, 9: 11.0, 11: 24587.0, 12: 49.7, 13: 22.0, 16: 110188.0, 17: 49500.0, 18: 9.0, 19: 0.3368, 20: 0.0084, 21: 1.0, 287: 1.0, 303: 1.0, 328: 1.0, 332: 1.0}), label=0, rawPrediction=DenseVector([4.0189, 6.9811]), probability=DenseVector([0.3654, 0.6346]), prediction=1.0),\n",
       " Row(features=SparseVector(335, {0: 14000.0, 1: 14000.0, 2: 14000.0, 3: 17.1, 4: 348.69, 5: 97000.0, 6: 16.12, 7: 3.0, 8: 1.0, 9: 11.0, 11: 36247.0, 12: 74.9, 13: 23.0, 16: 70946.0, 17: 48400.0, 18: 10.0, 19: 0.1443, 20: 0.0036, 21: 1.0, 287: 1.0, 303: 1.0, 328: 1.0, 333: 1.0}), label=0, rawPrediction=DenseVector([4.4126, 6.5874]), probability=DenseVector([0.4011, 0.5989]), prediction=1.0),\n",
       " Row(features=SparseVector(335, {0: 18000.0, 1: 18000.0, 2: 18000.0, 3: 17.1, 4: 642.65, 5: 85000.0, 6: 16.97, 7: 1.0, 8: 2.0, 9: 10.0, 11: 19894.0, 12: 61.8, 13: 19.0, 16: 37392.0, 17: 32200.0, 18: 10.0, 19: 0.2118, 20: 0.0076, 21: 1.0, 287: 1.0, 303: 1.0, 328: 1.0, 333: 1.0}), label=0, rawPrediction=DenseVector([4.3599, 6.6401]), probability=DenseVector([0.3964, 0.6036]), prediction=1.0),\n",
       " Row(features=SparseVector(335, {0: 7000.0, 1: 7000.0, 2: 7000.0, 3: 17.1, 4: 249.92, 5: 30000.0, 6: 16.02, 7: 1.0, 8: 1.0, 9: 19.0, 11: 6654.0, 12: 31.2, 13: 40.0, 16: 9451.0, 17: 21300.0, 18: 3.0, 19: 0.2333, 20: 0.0083, 21: 1.0, 287: 1.0, 303: 1.0, 329: 1.0, 332: 1.0}), label=1, rawPrediction=DenseVector([6.1352, 4.8648]), probability=DenseVector([0.5577, 0.4423]), prediction=0.0),\n",
       " Row(features=SparseVector(335, {0: 9750.0, 1: 9750.0, 2: 9750.0, 3: 17.1, 4: 348.1, 5: 61000.0, 6: 12.22, 7: 2.0, 8: 2.0, 9: 12.0, 11: 7410.0, 12: 37.0, 13: 17.0, 16: 137071.0, 17: 20000.0, 18: 1.0, 19: 0.1598, 20: 0.0057, 21: 1.0, 287: 1.0, 303: 1.0, 330: 1.0, 331: 1.0}), label=0, rawPrediction=DenseVector([5.6844, 5.3156]), probability=DenseVector([0.5168, 0.4832]), prediction=0.0),\n",
       " Row(features=SparseVector(335, {0: 10000.0, 1: 10000.0, 2: 10000.0, 3: 16.24, 4: 352.76, 5: 77000.0, 6: 13.23, 7: 2.0, 8: 1.0, 9: 15.0, 11: 12876.0, 12: 74.0, 13: 31.0, 16: 318009.0, 17: 17400.0, 18: 10.0, 19: 0.1299, 20: 0.0046, 21: 1.0, 287: 1.0, 303: 1.0, 330: 1.0, 331: 1.0}), label=0, rawPrediction=DenseVector([5.6858, 5.3142]), probability=DenseVector([0.5169, 0.4831]), prediction=0.0),\n",
       " Row(features=SparseVector(335, {0: 10000.0, 1: 10000.0, 2: 10000.0, 3: 17.1, 4: 357.03, 5: 100000.0, 6: 9.37, 7: 6.0, 8: 2.0, 9: 12.0, 11: 6600.0, 12: 33.2, 13: 26.0, 16: 428434.0, 17: 19900.0, 18: 7.0, 19: 0.1, 20: 0.0036, 21: 1.0, 287: 1.0, 303: 1.0, 330: 1.0, 331: 1.0}), label=1, rawPrediction=DenseVector([5.3275, 5.6725]), probability=DenseVector([0.4843, 0.5157]), prediction=1.0),\n",
       " Row(features=SparseVector(335, {0: 14400.0, 1: 14400.0, 2: 14400.0, 3: 17.1, 4: 358.66, 5: 100000.0, 6: 14.06, 7: 1.0, 8: 1.0, 9: 8.0, 11: 8832.0, 12: 84.1, 13: 13.0, 16: 145770.0, 17: 10500.0, 18: 1.0, 19: 0.144, 20: 0.0036, 21: 1.0, 287: 1.0, 303: 1.0, 330: 1.0, 331: 1.0}), label=0, rawPrediction=DenseVector([5.0798, 5.9202]), probability=DenseVector([0.4618, 0.5382]), prediction=1.0),\n",
       " Row(features=SparseVector(335, {0: 16000.0, 1: 16000.0, 2: 16000.0, 3: 17.1, 4: 571.25, 5: 125000.0, 6: 11.02, 7: 5.0, 8: 1.0, 9: 7.0, 11: 2797.0, 12: 92.6, 13: 29.0, 16: 345557.0, 17: 3000.0, 18: 8.0, 19: 0.128, 20: 0.0046, 21: 1.0, 287: 1.0, 303: 1.0, 330: 1.0, 331: 1.0}), label=0, rawPrediction=DenseVector([5.6681, 5.3319]), probability=DenseVector([0.5153, 0.4847]), prediction=0.0),\n",
       " Row(features=SparseVector(335, {0: 20000.0, 1: 20000.0, 2: 20000.0, 3: 16.24, 4: 488.92, 5: 60000.0, 6: 26.55, 7: 1.0, 8: 2.0, 9: 15.0, 11: 17608.0, 12: 61.6, 13: 38.0, 16: 167079.0, 17: 28600.0, 18: 10.0, 19: 0.3333, 20: 0.0081, 21: 1.0, 287: 1.0, 303: 1.0, 330: 1.0, 331: 1.0}), label=0, rawPrediction=DenseVector([4.1206, 6.8794]), probability=DenseVector([0.3746, 0.6254]), prediction=1.0),\n",
       " Row(features=SparseVector(335, {0: 24000.0, 1: 24000.0, 2: 24000.0, 3: 17.1, 4: 597.76, 5: 84000.0, 6: 18.75, 7: 1.0, 8: 2.0, 9: 19.0, 11: 16788.0, 12: 85.2, 13: 45.0, 16: 149951.0, 17: 19700.0, 18: 1.0, 19: 0.2857, 20: 0.0071, 21: 1.0, 287: 1.0, 303: 1.0, 330: 1.0, 331: 1.0}), label=1, rawPrediction=DenseVector([4.4497, 6.5503]), probability=DenseVector([0.4045, 0.5955]), prediction=1.0),\n",
       " Row(features=SparseVector(335, {0: 35000.0, 1: 35000.0, 2: 35000.0, 3: 17.1, 4: 871.73, 5: 110000.0, 6: 5.76, 7: 1.0, 8: 1.0, 9: 10.0, 11: 10129.0, 12: 22.6, 13: 34.0, 16: 240758.0, 17: 44800.0, 18: 5.0, 19: 0.3182, 20: 0.0079, 21: 1.0, 287: 1.0, 303: 1.0, 330: 1.0, 331: 1.0}), label=0, rawPrediction=DenseVector([5.2532, 5.7468]), probability=DenseVector([0.4776, 0.5224]), prediction=1.0),\n",
       " Row(features=SparseVector(335, {0: 30000.0, 1: 30000.0, 2: 30000.0, 3: 17.1, 4: 1071.08, 5: 115000.0, 6: 16.1, 7: 1.0, 8: 1.0, 9: 9.0, 11: 22934.0, 12: 99.3, 13: 27.0, 16: 43365.0, 17: 23200.0, 18: 10.0, 19: 0.2609, 20: 0.0093, 21: 1.0, 287: 1.0, 303: 1.0, 330: 1.0, 332: 1.0}), label=1, rawPrediction=DenseVector([5.8576, 5.1424]), probability=DenseVector([0.5325, 0.4675]), prediction=0.0),\n",
       " Row(features=SparseVector(335, {0: 28000.0, 1: 28000.0, 2: 28000.0, 3: 8.9, 4: 889.09, 5: 220000.0, 6: 17.5, 7: 1.0, 8: 1.0, 9: 14.0, 11: 18341.0, 12: 57.0, 13: 36.0, 16: 638565.0, 17: 32200.0, 18: 1.0, 19: 0.1273, 20: 0.004, 21: 1.0, 288: 1.0, 302: 1.0, 330: 1.0, 331: 1.0}), label=0, rawPrediction=DenseVector([7.3484, 3.6516]), probability=DenseVector([0.668, 0.332]), prediction=0.0),\n",
       " Row(features=SparseVector(335, {0: 14000.0, 1: 14000.0, 2: 14000.0, 3: 8.9, 4: 444.55, 5: 150000.0, 6: 10.86, 7: 1.0, 8: 1.0, 9: 6.0, 11: 5122.0, 12: 26.1, 13: 27.0, 16: 31759.0, 17: 19600.0, 18: 2.0, 19: 0.0933, 20: 0.003, 21: 1.0, 288: 1.0, 302: 1.0, 330: 1.0, 332: 1.0}), label=0, rawPrediction=DenseVector([8.558, 2.442]), probability=DenseVector([0.778, 0.222]), prediction=0.0),\n",
       " Row(features=SparseVector(335, {0: 5500.0, 1: 5500.0, 2: 5500.0, 3: 7.9, 4: 172.1, 5: 119000.0, 6: 10.88, 7: 1.0, 8: 3.0, 9: 11.0, 11: 12496.0, 12: 61.3, 13: 47.0, 16: 382955.0, 17: 20400.0, 18: 10.0, 19: 0.0462, 20: 0.0014, 21: 1.0, 288: 1.0, 304: 1.0, 329: 1.0, 331: 1.0}), label=0, rawPrediction=DenseVector([8.7721, 2.2279]), probability=DenseVector([0.7975, 0.2025]), prediction=0.0),\n",
       " Row(features=SparseVector(335, {0: 10000.0, 1: 10000.0, 2: 10000.0, 3: 7.9, 4: 312.91, 5: 88000.0, 6: 3.76, 7: 1.0, 8: 2.0, 9: 12.0, 11: 12621.0, 12: 25.9, 13: 43.0, 16: 13153.0, 17: 48800.0, 18: 10.0, 19: 0.1136, 20: 0.0036, 21: 1.0, 288: 1.0, 304: 1.0, 329: 1.0, 332: 1.0}), label=0, rawPrediction=DenseVector([8.49, 2.51]), probability=DenseVector([0.7718, 0.2282]), prediction=0.0),\n",
       " Row(features=SparseVector(335, {0: 8000.0, 1: 8000.0, 2: 8000.0, 3: 7.9, 4: 250.33, 5: 36000.0, 6: 8.4, 7: 3.0, 8: 1.0, 9: 12.0, 11: 10445.0, 12: 44.4, 13: 39.0, 16: 149473.0, 17: 23500.0, 18: 10.0, 19: 0.2222, 20: 0.007, 21: 1.0, 288: 1.0, 304: 1.0, 330: 1.0, 331: 1.0}), label=0, rawPrediction=DenseVector([7.1324, 3.8676]), probability=DenseVector([0.6484, 0.3516]), prediction=0.0),\n",
       " Row(features=SparseVector(335, {0: 21000.0, 1: 21000.0, 2: 21000.0, 3: 7.62, 4: 654.39, 5: 87000.0, 6: 13.63, 7: 1.0, 8: 1.0, 9: 19.0, 11: 22230.0, 12: 29.0, 13: 36.0, 16: 142522.0, 17: 76700.0, 18: 10.0, 19: 0.2414, 20: 0.0075, 21: 1.0, 288: 1.0, 309: 1.0, 328: 1.0, 331: 1.0}), label=0, rawPrediction=DenseVector([8.2797, 2.7203]), probability=DenseVector([0.7527, 0.2473]), prediction=0.0),\n",
       " Row(features=SparseVector(335, {0: 15000.0, 1: 15000.0, 2: 15000.0, 3: 17.76, 4: 378.95, 5: 40000.0, 6: 23.7, 7: 1.0, 8: 1.0, 9: 16.0, 11: 17971.0, 12: 55.5, 13: 38.0, 16: 142390.0, 17: 32400.0, 18: 10.0, 19: 0.375, 20: 0.0095, 21: 1.0, 289: 1.0, 305: 1.0, 328: 1.0, 331: 1.0}), label=0, rawPrediction=DenseVector([3.5837, 7.4163]), probability=DenseVector([0.3258, 0.6742]), prediction=1.0),\n",
       " Row(features=SparseVector(335, {0: 8000.0, 1: 8000.0, 2: 8000.0, 3: 17.76, 4: 288.26, 5: 70000.0, 6: 28.03, 7: 1.0, 8: 1.0, 9: 13.0, 11: 24286.0, 12: 82.3, 13: 25.0, 16: 89443.0, 17: 29500.0, 18: 2.0, 19: 0.1143, 20: 0.0041, 21: 1.0, 289: 1.0, 305: 1.0, 328: 1.0, 332: 1.0}), label=0, rawPrediction=DenseVector([4.6779, 6.3221]), probability=DenseVector([0.4253, 0.5747]), prediction=1.0),\n",
       " Row(features=SparseVector(335, {0: 20000.0, 1: 20000.0, 2: 20000.0, 3: 17.76, 4: 720.65, 5: 115000.0, 6: 9.74, 7: 1.0, 8: 5.0, 9: 12.0, 11: 7571.0, 12: 24.0, 13: 25.0, 16: 39867.0, 17: 31600.0, 18: 3.0, 19: 0.1739, 20: 0.0063, 21: 1.0, 289: 1.0, 305: 1.0, 328: 1.0, 332: 1.0}), label=0, rawPrediction=DenseVector([4.7782, 6.2218]), probability=DenseVector([0.4344, 0.5656]), prediction=1.0),\n",
       " Row(features=SparseVector(335, {0: 6000.0, 1: 6000.0, 2: 6000.0, 3: 16.99, 4: 213.89, 5: 120000.0, 6: 18.13, 7: 8.0, 8: 1.0, 9: 13.0, 11: 2277.0, 12: 81.3, 13: 29.0, 16: 217879.0, 17: 2800.0, 18: 3.0, 19: 0.05, 20: 0.0018, 21: 1.0, 289: 1.0, 305: 1.0, 330: 1.0, 331: 1.0}), label=0, rawPrediction=DenseVector([5.7656, 5.2344]), probability=DenseVector([0.5241, 0.4759]), prediction=0.0),\n",
       " Row(features=SparseVector(335, {0: 10000.0, 1: 10000.0, 2: 10000.0, 3: 17.76, 4: 360.33, 5: 43800.0, 6: 27.1, 7: 1.0, 8: 2.0, 9: 15.0, 11: 7876.0, 12: 66.7, 13: 24.0, 16: 116924.0, 17: 11800.0, 18: 2.0, 19: 0.2283, 20: 0.0082, 21: 1.0, 289: 1.0, 305: 1.0, 330: 1.0, 331: 1.0}), label=1, rawPrediction=DenseVector([3.9443, 7.0557]), probability=DenseVector([0.3586, 0.6414]), prediction=1.0),\n",
       " Row(features=SparseVector(335, {0: 11400.0, 1: 11400.0, 2: 11400.0, 3: 16.99, 4: 283.26, 5: 70000.0, 6: 20.57, 7: 1.0, 8: 2.0, 9: 10.0, 11: 10514.0, 12: 30.6, 13: 29.0, 16: 83641.0, 17: 34400.0, 18: 10.0, 19: 0.1629, 20: 0.004, 21: 1.0, 289: 1.0, 305: 1.0, 330: 1.0, 331: 1.0}), label=0, rawPrediction=DenseVector([5.0631, 5.9369]), probability=DenseVector([0.4603, 0.5397]), prediction=1.0),\n",
       " Row(features=SparseVector(335, {0: 35000.0, 1: 35000.0, 2: 35000.0, 3: 17.76, 4: 884.21, 5: 115000.0, 6: 20.84, 7: 1.0, 8: 1.0, 9: 18.0, 11: 42400.0, 12: 64.7, 13: 33.0, 16: 424727.0, 17: 65500.0, 18: 10.0, 19: 0.3043, 20: 0.0077, 21: 1.0, 289: 1.0, 305: 1.0, 330: 1.0, 331: 1.0}), label=0, rawPrediction=DenseVector([4.1586, 6.8414]), probability=DenseVector([0.3781, 0.6219]), prediction=1.0),\n",
       " Row(features=SparseVector(335, {0: 2500.0, 1: 2500.0, 2: 2500.0, 3: 17.76, 4: 90.09, 5: 40000.0, 6: 10.77, 7: 1.0, 8: 1.0, 9: 5.0, 11: 361.0, 12: 15.7, 13: 16.0, 16: 9877.0, 17: 2300.0, 18: 2.0, 19: 0.0625, 20: 0.0023, 21: 1.0, 289: 1.0, 305: 1.0, 330: 1.0, 332: 1.0}), label=0, rawPrediction=DenseVector([4.5965, 6.4035]), probability=DenseVector([0.4179, 0.5821]), prediction=1.0),\n",
       " Row(features=SparseVector(335, {0: 5800.0, 1: 5800.0, 2: 5800.0, 3: 17.57, 4: 208.44, 5: 68000.0, 6: 31.54, 7: 1.0, 8: 1.0, 9: 22.0, 11: 32025.0, 12: 67.0, 13: 51.0, 16: 425107.0, 17: 47800.0, 18: 2.0, 19: 0.0853, 20: 0.0031, 21: 1.0, 289: 1.0, 306: 1.0, 328: 1.0, 331: 1.0}), label=0, rawPrediction=DenseVector([5.278, 5.722]), probability=DenseVector([0.4798, 0.5202]), prediction=1.0),\n",
       " Row(features=SparseVector(335, {0: 25000.0, 1: 25000.0, 2: 24975.0, 3: 18.55, 4: 910.73, 5: 77118.0, 6: 13.27, 7: 1.0, 8: 1.0, 9: 11.0, 11: 29258.0, 12: 93.2, 13: 23.0, 16: 150537.0, 17: 31400.0, 18: 10.0, 19: 0.3242, 20: 0.0118, 21: 1.0, 289: 1.0, 306: 1.0, 328: 1.0, 331: 1.0}), label=1, rawPrediction=DenseVector([4.2899, 6.7101]), probability=DenseVector([0.39, 0.61]), prediction=1.0),\n",
       " Row(features=SparseVector(335, {0: 11050.0, 1: 11050.0, 2: 11050.0, 3: 18.55, 4: 402.54, 5: 47600.0, 6: 16.03, 7: 1.0, 8: 2.0, 9: 20.0, 11: 11066.0, 12: 57.9, 13: 63.0, 16: 31151.0, 17: 19100.0, 18: 1.0, 19: 0.2321, 20: 0.0085, 21: 1.0, 289: 1.0, 306: 1.0, 328: 1.0, 332: 1.0}), label=1, rawPrediction=DenseVector([4.6736, 6.3264]), probability=DenseVector([0.4249, 0.5751]), prediction=1.0),\n",
       " Row(features=SparseVector(335, {0: 15000.0, 1: 15000.0, 2: 15000.0, 3: 18.55, 4: 546.44, 5: 48500.0, 6: 25.7, 7: 1.0, 8: 1.0, 9: 11.0, 11: 19036.0, 12: 99.7, 13: 26.0, 16: 23043.0, 17: 19100.0, 18: 10.0, 19: 0.3093, 20: 0.0113, 21: 1.0, 289: 1.0, 306: 1.0, 328: 1.0, 332: 1.0}), label=0, rawPrediction=DenseVector([3.4137, 7.5863]), probability=DenseVector([0.3103, 0.6897]), prediction=1.0),\n",
       " Row(features=SparseVector(335, {0: 20000.0, 1: 20000.0, 2: 19975.0, 3: 18.55, 4: 513.88, 5: 59000.0, 6: 10.76, 7: 1.0, 8: 1.0, 9: 11.0, 11: 15960.0, 12: 39.4, 13: 30.0, 16: 16567.0, 17: 40500.0, 18: 10.0, 19: 0.339, 20: 0.0087, 21: 1.0, 289: 1.0, 306: 1.0, 328: 1.0, 332: 1.0}), label=1, rawPrediction=DenseVector([4.1194, 6.8806]), probability=DenseVector([0.3745, 0.6255]), prediction=1.0),\n",
       " Row(features=SparseVector(335, {0: 5000.0, 1: 5000.0, 2: 5000.0, 3: 18.55, 4: 182.15, 5: 87000.0, 6: 15.54, 7: 3.0, 8: 3.0, 9: 7.0, 11: 1198.0, 12: 79.9, 13: 17.0, 16: 185019.0, 17: 1500.0, 18: 6.0, 19: 0.0575, 20: 0.0021, 21: 1.0, 289: 1.0, 306: 1.0, 329: 1.0, 331: 1.0}), label=0, rawPrediction=DenseVector([5.1448, 5.8552]), probability=DenseVector([0.4677, 0.5323]), prediction=1.0),\n",
       " Row(features=SparseVector(335, {0: 5000.0, 1: 5000.0, 2: 5000.0, 3: 18.55, 4: 182.15, 5: 33000.0, 6: 9.34, 7: 2.0, 8: 3.0, 9: 20.0, 11: 7082.0, 12: 28.0, 13: 38.0, 16: 47422.0, 17: 25300.0, 18: 2.0, 19: 0.1515, 20: 0.0055, 21: 1.0, 289: 1.0, 306: 1.0, 329: 1.0, 332: 1.0}), label=0, rawPrediction=DenseVector([4.765, 6.235]), probability=DenseVector([0.4332, 0.5668]), prediction=1.0),\n",
       " Row(features=SparseVector(335, {0: 12000.0, 1: 12000.0, 2: 12000.0, 3: 18.55, 4: 308.33, 5: 45000.0, 6: 19.31, 7: 2.0, 8: 2.0, 9: 20.0, 11: 5127.0, 12: 40.7, 13: 37.0, 16: 187804.0, 17: 12600.0, 18: 3.0, 19: 0.2667, 20: 0.0069, 21: 1.0, 289: 1.0, 306: 1.0, 330: 1.0, 331: 1.0}), label=0, rawPrediction=DenseVector([3.9477, 7.0523]), probability=DenseVector([0.3589, 0.6411]), prediction=1.0),\n",
       " Row(features=SparseVector(335, {0: 16000.0, 1: 16000.0, 2: 16000.0, 3: 18.55, 4: 582.87, 5: 97700.0, 6: 16.67, 7: 1.0, 8: 5.0, 9: 14.0, 11: 8766.0, 12: 62.2, 13: 30.0, 16: 197321.0, 17: 14100.0, 18: 10.0, 19: 0.1638, 20: 0.006, 21: 1.0, 289: 1.0, 306: 1.0, 330: 1.0, 331: 1.0}), label=0, rawPrediction=DenseVector([4.8919, 6.1081]), probability=DenseVector([0.4447, 0.5553]), prediction=1.0),\n",
       " Row(features=SparseVector(335, {0: 35000.0, 1: 35000.0, 2: 35000.0, 3: 18.55, 4: 899.28, 5: 110000.0, 6: 19.0, 7: 1.0, 8: 2.0, 9: 20.0, 11: 47659.0, 12: 64.2, 13: 30.0, 16: 356730.0, 17: 74263.0, 18: 10.0, 19: 0.3182, 20: 0.0082, 21: 1.0, 289: 1.0, 306: 1.0, 330: 1.0, 331: 1.0}), label=0, rawPrediction=DenseVector([4.9984, 6.0016]), probability=DenseVector([0.4544, 0.5456]), prediction=1.0),\n",
       " Row(features=SparseVector(335, {0: 9000.0, 1: 9000.0, 2: 9000.0, 3: 19.2, 4: 330.82, 5: 30700.0, 6: 14.25, 7: 1.0, 8: 2.0, 9: 16.0, 11: 6360.0, 12: 14.8, 13: 68.0, 16: 158942.0, 17: 40300.0, 18: 3.0, 19: 0.2932, 20: 0.0108, 21: 1.0, 289: 1.0, 307: 1.0, 328: 1.0, 331: 1.0}), label=0, rawPrediction=DenseVector([4.0694, 6.9306]), probability=DenseVector([0.3699, 0.6301]), prediction=1.0),\n",
       " Row(features=SparseVector(335, {0: 12000.0, 1: 12000.0, 2: 12000.0, 3: 19.2, 4: 312.61, 5: 65000.0, 6: 22.06, 7: 1.0, 8: 1.0, 9: 22.0, 11: 39304.0, 12: 42.1, 13: 57.0, 16: 231675.0, 17: 93300.0, 18: 3.0, 19: 0.1846, 20: 0.0048, 21: 1.0, 289: 1.0, 307: 1.0, 328: 1.0, 331: 1.0}), label=1, rawPrediction=DenseVector([5.8412, 5.1588]), probability=DenseVector([0.531, 0.469]), prediction=0.0),\n",
       " Row(features=SparseVector(335, {0: 15000.0, 1: 15000.0, 2: 15000.0, 3: 19.2, 4: 390.77, 5: 52000.0, 6: 21.02, 7: 1.0, 8: 1.0, 9: 9.0, 11: 20456.0, 12: 90.5, 13: 36.0, 16: 258128.0, 17: 22600.0, 18: 7.0, 19: 0.2885, 20: 0.0075, 21: 1.0, 289: 1.0, 307: 1.0, 328: 1.0, 331: 1.0}), label=0, rawPrediction=DenseVector([4.165, 6.835]), probability=DenseVector([0.3786, 0.6214]), prediction=1.0),\n",
       " Row(features=SparseVector(335, {0: 28000.0, 1: 28000.0, 2: 28000.0, 3: 19.2, 4: 1029.21, 5: 124000.0, 6: 13.74, 7: 2.0, 8: 1.0, 9: 10.0, 11: 3946.0, 12: 77.4, 13: 23.0, 16: 475975.0, 17: 5100.0, 18: 10.0, 19: 0.2258, 20: 0.0083, 21: 1.0, 289: 1.0, 307: 1.0, 328: 1.0, 331: 1.0}), label=0, rawPrediction=DenseVector([4.7422, 6.2578]), probability=DenseVector([0.4311, 0.5689]), prediction=1.0),\n",
       " Row(features=SparseVector(335, {0: 4000.0, 1: 4000.0, 2: 4000.0, 3: 18.25, 4: 145.12, 5: 29000.0, 6: 28.48, 7: 1.0, 8: 1.0, 9: 14.0, 11: 6696.0, 12: 95.7, 13: 34.0, 16: 115541.0, 17: 7000.0, 18: 10.0, 19: 0.1379, 20: 0.005, 21: 1.0, 289: 1.0, 307: 1.0, 328: 1.0, 332: 1.0}), label=0, rawPrediction=DenseVector([4.2175, 6.7825]), probability=DenseVector([0.3834, 0.6166]), prediction=1.0),\n",
       " Row(features=SparseVector(335, {0: 8000.0, 1: 8000.0, 2: 8000.0, 3: 19.2, 4: 294.06, 5: 38000.0, 6: 19.45, 7: 2.0, 8: 2.0, 9: 18.0, 11: 6766.0, 12: 38.7, 13: 22.0, 16: 18462.0, 17: 17500.0, 18: 1.0, 19: 0.2105, 20: 0.0077, 21: 1.0, 289: 1.0, 307: 1.0, 329: 1.0, 332: 1.0}), label=0, rawPrediction=DenseVector([4.068, 6.932]), probability=DenseVector([0.3698, 0.6302]), prediction=1.0),\n",
       " Row(features=SparseVector(335, {0: 16000.0, 1: 16000.0, 2: 16000.0, 3: 19.2, 4: 416.82, 5: 75000.0, 6: 25.95, 7: 1.0, 8: 3.0, 9: 22.0, 11: 15737.0, 12: 78.3, 13: 48.0, 16: 294857.0, 17: 20100.0, 18: 1.0, 19: 0.2133, 20: 0.0056, 21: 1.0, 289: 1.0, 307: 1.0, 330: 1.0, 331: 1.0}), label=1, rawPrediction=DenseVector([4.1336, 6.8664]), probability=DenseVector([0.3758, 0.6242]), prediction=1.0),\n",
       " Row(features=SparseVector(335, {0: 35000.0, 1: 35000.0, 2: 34950.0, 3: 19.2, 4: 911.78, 5: 213000.0, 6: 5.16, 7: 1.0, 8: 2.0, 9: 7.0, 11: 5704.0, 12: 62.0, 13: 29.0, 16: 16360.0, 17: 9200.0, 18: 10.0, 19: 0.1643, 20: 0.0043, 21: 1.0, 289: 1.0, 307: 1.0, 330: 1.0, 331: 1.0}), label=1, rawPrediction=DenseVector([4.0599, 6.9401]), probability=DenseVector([0.3691, 0.6309]), prediction=1.0),\n",
       " Row(features=SparseVector(335, {0: 16000.0, 1: 16000.0, 2: 16000.0, 3: 19.2, 4: 588.12, 5: 62000.0, 6: 23.75, 7: 2.0, 8: 1.0, 9: 9.0, 11: 2809.0, 12: 12.4, 13: 24.0, 16: 33452.0, 17: 22700.0, 18: 10.0, 19: 0.2581, 20: 0.0095, 21: 1.0, 289: 1.0, 307: 1.0, 330: 1.0, 332: 1.0}), label=0, rawPrediction=DenseVector([5.4916, 5.5084]), probability=DenseVector([0.4992, 0.5008]), prediction=1.0),\n",
       " Row(features=SparseVector(335, {0: 25000.0, 1: 25000.0, 2: 25000.0, 3: 19.2, 4: 651.27, 5: 85000.0, 6: 28.29, 7: 1.0, 8: 1.0, 9: 10.0, 11: 9495.0, 12: 52.7, 13: 21.0, 16: 84018.0, 17: 18000.0, 18: 6.0, 19: 0.2941, 20: 0.0077, 21: 1.0, 289: 1.0, 307: 1.0, 330: 1.0, 332: 1.0}), label=0, rawPrediction=DenseVector([3.7847, 7.2153]), probability=DenseVector([0.3441, 0.6559]), prediction=1.0),\n",
       " Row(features=SparseVector(335, {0: 4800.0, 1: 4800.0, 2: 4800.0, 3: 19.2, 4: 176.44, 5: 45000.0, 6: 22.15, 7: 3.0, 8: 2.0, 9: 11.0, 11: 2629.0, 12: 14.8, 13: 39.0, 16: 11089.0, 17: 17800.0, 18: 10.0, 19: 0.1067, 20: 0.0039, 21: 1.0, 289: 1.0, 307: 1.0, 330: 1.0, 333: 1.0}), label=0, rawPrediction=DenseVector([5.9326, 5.0674]), probability=DenseVector([0.5393, 0.4607]), prediction=0.0),\n",
       " Row(features=SparseVector(335, {0: 15850.0, 1: 15850.0, 2: 15850.0, 3: 19.52, 4: 585.18, 5: 36000.0, 6: 22.73, 7: 1.0, 8: 1.0, 9: 20.0, 11: 8819.0, 12: 49.5, 13: 41.0, 16: 58159.0, 17: 17800.0, 18: 2.0, 19: 0.4403, 20: 0.0163, 21: 1.0, 289: 1.0, 308: 1.0, 328: 1.0, 331: 1.0}), label=0, rawPrediction=DenseVector([3.3526, 7.6474]), probability=DenseVector([0.3048, 0.6952]), prediction=1.0),\n",
       " Row(features=SparseVector(335, {0: 17875.0, 1: 17875.0, 2: 17875.0, 3: 19.22, 4: 465.86, 5: 40000.0, 6: 13.57, 7: 1.0, 8: 2.0, 9: 12.0, 11: 15161.0, 12: 39.5, 13: 17.0, 16: 91291.0, 17: 38400.0, 18: 10.0, 19: 0.4469, 20: 0.0116, 21: 1.0, 289: 1.0, 308: 1.0, 328: 1.0, 331: 1.0}), label=0, rawPrediction=DenseVector([3.5939, 7.4061]), probability=DenseVector([0.3267, 0.6733]), prediction=1.0),\n",
       " Row(features=SparseVector(335, {0: 11250.0, 1: 11250.0, 2: 11250.0, 3: 19.22, 4: 293.2, 5: 135000.0, 6: 10.68, 7: 2.0, 8: 3.0, 9: 13.0, 11: 4944.0, 12: 58.2, 13: 26.0, 16: 807903.0, 17: 8500.0, 18: 1.0, 19: 0.0833, 20: 0.0022, 21: 1.0, 289: 1.0, 308: 1.0, 328: 1.0, 332: 1.0}), label=0, rawPrediction=DenseVector([4.1732, 6.8268]), probability=DenseVector([0.3794, 0.6206]), prediction=1.0),\n",
       " Row(features=SparseVector(335, {0: 15000.0, 1: 15000.0, 2: 15000.0, 3: 19.52, 4: 553.8, 5: 96143.6484, 6: 8.85, 7: 4.0, 8: 1.0, 9: 4.0, 11: 4067.0, 12: 94.6, 13: 23.0, 16: 12310.0, 17: 4300.0, 18: 10.0, 19: 0.156, 20: 0.0058, 21: 1.0, 289: 1.0, 308: 1.0, 329: 1.0, 331: 1.0}), label=0, rawPrediction=DenseVector([4.3994, 6.6006]), probability=DenseVector([0.3999, 0.6001]), prediction=1.0),\n",
       " Row(features=SparseVector(335, {0: 16800.0, 1: 16800.0, 2: 16800.0, 3: 19.22, 4: 437.84, 5: 80000.0, 6: 29.18, 7: 3.0, 8: 2.0, 9: 16.0, 11: 14522.0, 12: 73.3, 13: 47.0, 16: 189257.0, 17: 19800.0, 18: 10.0, 19: 0.21, 20: 0.0055, 21: 1.0, 289: 1.0, 308: 1.0, 330: 1.0, 331: 1.0}), label=0, rawPrediction=DenseVector([3.3989, 7.6011]), probability=DenseVector([0.309, 0.691]), prediction=1.0),\n",
       " Row(features=SparseVector(335, {0: 18000.0, 1: 18000.0, 2: 18000.0, 3: 19.52, 4: 664.56, 5: 52000.0, 6: 21.06, 7: 1.0, 8: 1.0, 9: 9.0, 11: 4872.0, 12: 77.3, 13: 25.0, 16: 131565.0, 17: 6300.0, 18: 2.0, 19: 0.3462, 20: 0.0128, 21: 1.0, 289: 1.0, 308: 1.0, 330: 1.0, 331: 1.0}), label=0, rawPrediction=DenseVector([3.5317, 7.4683]), probability=DenseVector([0.3211, 0.6789]), prediction=1.0),\n",
       " Row(features=SparseVector(335, {0: 25000.0, 1: 25000.0, 2: 25000.0, 3: 19.52, 4: 655.69, 5: 160000.0, 6: 6.53, 7: 1.0, 8: 1.0, 9: 9.0, 11: 23199.0, 12: 61.4, 13: 37.0, 16: 419594.0, 17: 37800.0, 18: 1.0, 19: 0.1563, 20: 0.0041, 21: 1.0, 289: 1.0, 308: 1.0, 330: 1.0, 331: 1.0}), label=0, rawPrediction=DenseVector([4.9654, 6.0346]), probability=DenseVector([0.4514, 0.5486]), prediction=1.0),\n",
       " Row(features=SparseVector(335, {0: 26500.0, 1: 26500.0, 2: 26500.0, 3: 19.52, 4: 695.03, 5: 135000.0, 6: 14.37, 7: 1.0, 8: 1.0, 9: 16.0, 11: 26052.0, 12: 65.8, 13: 45.0, 16: 197495.0, 17: 39600.0, 18: 10.0, 19: 0.1963, 20: 0.0051, 21: 1.0, 289: 1.0, 308: 1.0, 330: 1.0, 331: 1.0}), label=1, rawPrediction=DenseVector([4.6677, 6.3323]), probability=DenseVector([0.4243, 0.5757]), prediction=1.0),\n",
       " Row(features=SparseVector(335, {0: 30000.0, 1: 30000.0, 2: 30000.0, 3: 19.52, 4: 786.83, 5: 150000.0, 6: 13.6, 7: 3.0, 8: 2.0, 9: 15.0, 11: 23303.0, 12: 56.2, 13: 50.0, 16: 400437.0, 17: 41500.0, 18: 10.0, 19: 0.2, 20: 0.0052, 21: 1.0, 289: 1.0, 308: 1.0, 330: 1.0, 331: 1.0}), label=0, rawPrediction=DenseVector([4.5528, 6.4472]), probability=DenseVector([0.4139, 0.5861]), prediction=1.0),\n",
       " Row(features=SparseVector(335, {0: 20000.0, 1: 20000.0, 2: 20000.0, 3: 19.52, 4: 738.39, 5: 59238.3984, 6: 25.22, 7: 1.0, 8: 1.0, 9: 13.0, 11: 17763.0, 12: 64.1, 13: 21.0, 16: 41192.0, 17: 27700.0, 18: 1.0, 19: 0.3376, 20: 0.0125, 21: 1.0, 289: 1.0, 308: 1.0, 330: 1.0, 332: 1.0}), label=0, rawPrediction=DenseVector([3.2055, 7.7945]), probability=DenseVector([0.2914, 0.7086]), prediction=1.0),\n",
       " Row(features=SparseVector(335, {0: 10000.0, 1: 10000.0, 2: 10000.0, 3: 20.2, 4: 266.06, 5: 55000.0, 6: 15.34, 7: 1.0, 8: 2.0, 9: 10.0, 11: 9453.0, 12: 52.5, 13: 20.0, 16: 31918.0, 17: 18000.0, 18: 2.0, 19: 0.1818, 20: 0.0048, 21: 1.0, 289: 1.0, 310: 1.0, 328: 1.0, 331: 1.0}), label=0, rawPrediction=DenseVector([4.5258, 6.4742]), probability=DenseVector([0.4114, 0.5886]), prediction=1.0),\n",
       " Row(features=SparseVector(335, {0: 15000.0, 1: 15000.0, 2: 14975.0, 3: 20.2, 4: 399.08, 5: 56000.0, 6: 33.65, 7: 3.0, 8: 2.0, 9: 14.0, 11: 3970.0, 12: 61.1, 13: 25.0, 16: 31279.0, 17: 7300.0, 18: 1.0, 19: 0.2679, 20: 0.0071, 21: 1.0, 289: 1.0, 310: 1.0, 328: 1.0, 331: 1.0}), label=1, rawPrediction=DenseVector([2.9668, 8.0332]), probability=DenseVector([0.2697, 0.7303]), prediction=1.0),\n",
       " Row(features=SparseVector(335, {0: 19075.0, 1: 19075.0, 2: 19075.0, 3: 19.97, 4: 505.06, 5: 54000.0, 6: 7.98, 7: 1.0, 8: 3.0, 9: 9.0, 11: 9933.0, 12: 64.9, 13: 21.0, 16: 93116.0, 17: 15300.0, 18: 10.0, 19: 0.3532, 20: 0.0094, 21: 1.0, 289: 1.0, 310: 1.0, 328: 1.0, 331: 1.0}), label=0, rawPrediction=DenseVector([3.1523, 7.8477]), probability=DenseVector([0.2866, 0.7134]), prediction=1.0),\n",
       " Row(features=SparseVector(335, {0: 30000.0, 1: 30000.0, 2: 29975.0, 3: 20.2, 4: 798.16, 5: 175000.0, 6: 8.98, 7: 1.0, 8: 1.0, 9: 11.0, 11: 43077.0, 12: 93.0, 13: 27.0, 16: 442427.0, 17: 46300.0, 18: 10.0, 19: 0.1714, 20: 0.0046, 21: 1.0, 289: 1.0, 310: 1.0, 328: 1.0, 331: 1.0}), label=0, rawPrediction=DenseVector([5.5646, 5.4354]), probability=DenseVector([0.5059, 0.4941]), prediction=0.0),\n",
       " Row(features=SparseVector(335, {0: 35000.0, 1: 35000.0, 2: 34975.0, 3: 19.97, 4: 926.71, 5: 85000.0, 6: 20.98, 7: 1.0, 8: 1.0, 9: 20.0, 11: 15176.0, 12: 13.8, 13: 38.0, 16: 263200.0, 17: 109700.0, 18: 10.0, 19: 0.4118, 20: 0.0109, 21: 1.0, 289: 1.0, 310: 1.0, 328: 1.0, 331: 1.0}), label=0, rawPrediction=DenseVector([4.0288, 6.9712]), probability=DenseVector([0.3663, 0.6337]), prediction=1.0),\n",
       " Row(features=SparseVector(335, {0: 35000.0, 1: 35000.0, 2: 34975.0, 3: 20.2, 4: 931.19, 5: 100000.0, 6: 14.29, 7: 1.0, 8: 1.0, 9: 8.0, 11: 9548.0, 12: 87.6, 13: 37.0, 16: 218135.0, 17: 10900.0, 18: 10.0, 19: 0.35, 20: 0.0093, 21: 1.0, 289: 1.0, 310: 1.0, 328: 1.0, 331: 1.0}), label=1, rawPrediction=DenseVector([3.4017, 7.5983]), probability=DenseVector([0.3092, 0.6908]), prediction=1.0),\n",
       " Row(features=SparseVector(335, {0: 8000.0, 1: 8000.0, 2: 8000.0, 3: 20.2, 4: 298.13, 5: 65000.0, 6: 21.62, 7: 2.0, 8: 1.0, 9: 20.0, 11: 5645.0, 12: 97.3, 13: 37.0, 16: 103457.0, 17: 5800.0, 18: 4.0, 19: 0.1231, 20: 0.0046, 21: 1.0, 289: 1.0, 310: 1.0, 328: 1.0, 332: 1.0}), label=1, rawPrediction=DenseVector([4.7789, 6.2211]), probability=DenseVector([0.4344, 0.5656]), prediction=1.0),\n",
       " Row(features=SparseVector(335, {0: 10000.0, 1: 10000.0, 2: 10000.0, 3: 20.2, 4: 372.66, 5: 73000.0, 6: 20.98, 7: 1.0, 8: 3.0, 9: 9.0, 11: 4816.0, 12: 56.7, 13: 21.0, 16: 49359.0, 17: 8500.0, 18: 10.0, 19: 0.137, 20: 0.0051, 21: 1.0, 289: 1.0, 310: 1.0, 328: 1.0, 332: 1.0}), label=1, rawPrediction=DenseVector([5.5321, 5.4679]), probability=DenseVector([0.5029, 0.4971]), prediction=0.0),\n",
       " Row(features=SparseVector(335, {0: 19425.0, 1: 19425.0, 2: 19425.0, 3: 20.2, 4: 516.81, 5: 65000.0, 6: 31.09, 7: 5.0, 8: 2.0, 9: 24.0, 11: 23859.0, 12: 29.3, 13: 63.0, 16: 220554.0, 17: 81300.0, 18: 2.0, 19: 0.2988, 20: 0.008, 21: 1.0, 289: 1.0, 310: 1.0, 328: 1.0, 332: 1.0}), label=0, rawPrediction=DenseVector([3.9835, 7.0165]), probability=DenseVector([0.3621, 0.6379]), prediction=1.0),\n",
       " Row(features=SparseVector(335, {0: 17000.0, 1: 17000.0, 2: 17000.0, 3: 19.97, 4: 450.12, 5: 43000.0, 6: 15.82, 7: 1.0, 8: 1.0, 9: 7.0, 11: 17352.0, 12: 77.5, 13: 25.0, 16: 103573.0, 17: 22400.0, 18: 10.0, 19: 0.3953, 20: 0.0105, 21: 1.0, 289: 1.0, 310: 1.0, 330: 1.0, 331: 1.0}), label=0, rawPrediction=DenseVector([3.214, 7.786]), probability=DenseVector([0.2922, 0.7078]), prediction=1.0),\n",
       " Row(features=SparseVector(335, {0: 28000.0, 1: 28000.0, 2: 28000.0, 3: 20.2, 4: 1043.4399, 5: 220000.0, 6: 10.82, 7: 1.0, 8: 1.0, 9: 8.0, 11: 11675.0, 12: 57.8, 13: 37.0, 16: 154023.0, 17: 20200.0, 18: 10.0, 19: 0.1273, 20: 0.0047, 21: 1.0, 289: 1.0, 310: 1.0, 330: 1.0, 331: 1.0}), label=0, rawPrediction=DenseVector([4.9529, 6.0471]), probability=DenseVector([0.4503, 0.5497]), prediction=1.0),\n",
       " Row(features=SparseVector(335, {0: 12000.0, 1: 12000.0, 2: 12000.0, 3: 20.5, 4: 321.28, 5: 99782.0, 6: 17.87, 7: 1.0, 8: 1.0, 9: 18.0, 11: 10210.0, 12: 75.0, 13: 33.0, 16: 336981.0, 17: 13600.0, 18: 4.0, 19: 0.1203, 20: 0.0032, 21: 1.0, 290: 1.0, 313: 1.0, 328: 1.0, 331: 1.0}), label=0, rawPrediction=DenseVector([4.4982, 6.5018]), probability=DenseVector([0.4089, 0.5911]), prediction=1.0),\n",
       " Row(features=SparseVector(335, {0: 35000.0, 1: 35000.0, 2: 35000.0, 3: 21.0, 4: 946.87, 5: 85000.0, 6: 13.28, 7: 1.0, 8: 1.0, 9: 10.0, 11: 9508.0, 12: 45.1, 13: 24.0, 16: 276053.0, 17: 21100.0, 18: 10.0, 19: 0.4118, 20: 0.0111, 21: 1.0, 290: 1.0, 313: 1.0, 328: 1.0, 331: 1.0}), label=0, rawPrediction=DenseVector([3.7696, 7.2304]), probability=DenseVector([0.3427, 0.6573]), prediction=1.0),\n",
       " Row(features=SparseVector(335, {0: 15000.0, 1: 15000.0, 2: 15000.0, 3: 21.0, 4: 565.13, 5: 52000.0, 6: 9.78, 7: 1.0, 8: 1.0, 9: 14.0, 11: 13354.0, 12: 48.9, 13: 24.0, 16: 144982.0, 17: 27000.0, 18: 10.0, 19: 0.2885, 20: 0.0109, 21: 1.0, 290: 1.0, 313: 1.0, 330: 1.0, 331: 1.0}), label=1, rawPrediction=DenseVector([3.9411, 7.0589]), probability=DenseVector([0.3583, 0.6417]), prediction=1.0),\n",
       " Row(features=SparseVector(335, {0: 24000.0, 1: 24000.0, 2: 24000.0, 3: 20.5, 4: 642.55, 5: 120000.0, 6: 10.96, 7: 3.0, 8: 1.0, 9: 17.0, 11: 31988.0, 12: 88.9, 13: 42.0, 16: 197001.0, 17: 36000.0, 18: 10.0, 19: 0.2, 20: 0.0054, 21: 1.0, 290: 1.0, 313: 1.0, 330: 1.0, 333: 1.0}), label=1, rawPrediction=DenseVector([2.9865, 8.0135]), probability=DenseVector([0.2715, 0.7285]), prediction=1.0),\n",
       " Row(features=SparseVector(335, {0: 18000.0, 1: 18000.0, 2: 18000.0, 3: 21.48, 4: 491.84, 5: 94000.0, 6: 23.66, 7: 2.0, 8: 1.0, 9: 13.0, 11: 14712.0, 12: 59.1, 13: 34.0, 16: 256136.0, 17: 24900.0, 18: 2.0, 19: 0.1915, 20: 0.0052, 21: 1.0, 290: 1.0, 314: 1.0, 328: 1.0, 331: 1.0}), label=0, rawPrediction=DenseVector([4.6797, 6.3203]), probability=DenseVector([0.4254, 0.5746]), prediction=1.0),\n",
       " Row(features=SparseVector(335, {0: 12000.0, 1: 12000.0, 2: 12000.0, 3: 21.7, 4: 329.39, 5: 45000.0, 6: 24.4, 7: 1.0, 8: 1.0, 9: 8.0, 11: 4281.0, 12: 26.4, 13: 19.0, 16: 39618.0, 17: 16200.0, 18: 7.0, 19: 0.2667, 20: 0.0073, 21: 1.0, 290: 1.0, 314: 1.0, 328: 1.0, 332: 1.0}), label=1, rawPrediction=DenseVector([3.5152, 7.4848]), probability=DenseVector([0.3196, 0.6804]), prediction=1.0),\n",
       " Row(features=SparseVector(335, {0: 6000.0, 1: 6000.0, 2: 6000.0, 3: 21.7, 4: 228.22, 5: 67429.3281, 6: 23.95, 7: 1.0, 8: 3.0, 9: 17.0, 11: 11662.0, 12: 62.4, 13: 38.0, 16: 135334.0, 17: 18700.0, 18: 5.0, 19: 0.089, 20: 0.0034, 21: 1.0, 290: 1.0, 314: 1.0, 329: 1.0, 331: 1.0}), label=0, rawPrediction=DenseVector([3.8497, 7.1503]), probability=DenseVector([0.35, 0.65]), prediction=1.0),\n",
       " Row(features=SparseVector(335, {0: 10000.0, 1: 10000.0, 2: 10000.0, 3: 21.7, 4: 380.36, 5: 31000.0, 6: 12.43, 7: 2.0, 8: 2.0, 9: 8.0, 11: 7337.0, 12: 29.6, 13: 23.0, 16: 128803.0, 17: 24800.0, 18: 8.0, 19: 0.3226, 20: 0.0123, 21: 1.0, 290: 1.0, 314: 1.0, 330: 1.0, 331: 1.0}), label=1, rawPrediction=DenseVector([3.906, 7.094]), probability=DenseVector([0.3551, 0.6449]), prediction=1.0),\n",
       " Row(features=SparseVector(335, {0: 22750.0, 1: 22750.0, 2: 22750.0, 3: 21.7, 4: 624.46, 5: 70000.0, 6: 20.95, 7: 1.0, 8: 2.0, 9: 11.0, 11: 31310.0, 12: 92.6, 13: 29.0, 16: 332362.0, 17: 33800.0, 18: 9.0, 19: 0.325, 20: 0.0089, 21: 1.0, 290: 1.0, 314: 1.0, 330: 1.0, 331: 1.0}), label=1, rawPrediction=DenseVector([3.8957, 7.1043]), probability=DenseVector([0.3542, 0.6458]), prediction=1.0),\n",
       " Row(features=SparseVector(335, {0: 15000.0, 1: 15000.0, 2: 15000.0, 3: 21.7, 4: 411.73, 5: 87000.0, 6: 18.91, 7: 1.0, 8: 1.0, 9: 14.0, 11: 26781.0, 12: 71.4, 13: 29.0, 16: 46571.0, 17: 37500.0, 18: 10.0, 19: 0.1724, 20: 0.0047, 21: 1.0, 290: 1.0, 314: 1.0, 330: 1.0, 332: 1.0}), label=0, rawPrediction=DenseVector([3.2066, 7.7934]), probability=DenseVector([0.2915, 0.7085]), prediction=1.0),\n",
       " Row(features=SparseVector(335, {0: 20000.0, 1: 20000.0, 2: 20000.0, 3: 21.7, 4: 760.71, 5: 90000.0, 6: 13.98, 7: 3.0, 8: 3.0, 9: 8.0, 11: 7448.0, 12: 63.7, 13: 24.0, 16: 54396.0, 17: 9700.0, 18: 3.0, 19: 0.2222, 20: 0.0085, 21: 1.0, 290: 1.0, 314: 1.0, 330: 1.0, 332: 1.0}), label=0, rawPrediction=DenseVector([3.0449, 7.9551]), probability=DenseVector([0.2768, 0.7232]), prediction=1.0),\n",
       " Row(features=SparseVector(335, {0: 3200.0, 1: 3200.0, 2: 3200.0, 3: 21.7, 4: 121.72, 5: 30000.0, 6: 30.59, 7: 4.0, 8: 1.0, 9: 16.0, 11: 4902.0, 12: 72.1, 13: 46.0, 16: 94565.0, 17: 6800.0, 18: 1.0, 19: 0.1067, 20: 0.0041, 21: 1.0, 290: 1.0, 314: 1.0, 330: 1.0, 333: 1.0}), label=0, rawPrediction=DenseVector([5.1156, 5.8844]), probability=DenseVector([0.4651, 0.5349]), prediction=1.0),\n",
       " Row(features=SparseVector(335, {0: 35000.0, 1: 35000.0, 2: 35000.0, 3: 22.4, 4: 1343.92, 5: 120000.0, 6: 18.76, 7: 3.0, 8: 1.0, 9: 19.0, 11: 20944.0, 12: 64.2, 13: 28.0, 16: 326176.0, 17: 32600.0, 18: 10.0, 19: 0.2917, 20: 0.0112, 21: 1.0, 290: 1.0, 315: 1.0, 328: 1.0, 331: 1.0}), label=1, rawPrediction=DenseVector([3.2969, 7.7031]), probability=DenseVector([0.2997, 0.7003]), prediction=1.0),\n",
       " Row(features=SparseVector(335, {0: 35000.0, 1: 35000.0, 2: 35000.0, 3: 22.4, 4: 1343.92, 5: 140000.0, 6: 8.28, 7: 1.0, 8: 1.0, 9: 8.0, 11: 27302.0, 12: 84.3, 13: 21.0, 16: 30085.0, 17: 32400.0, 18: 1.0, 19: 0.25, 20: 0.0096, 21: 1.0, 290: 1.0, 315: 1.0, 328: 1.0, 333: 1.0}), label=0, rawPrediction=DenseVector([4.1425, 6.8575]), probability=DenseVector([0.3766, 0.6234]), prediction=1.0),\n",
       " Row(features=SparseVector(335, {0: 24000.0, 1: 24000.0, 2: 24000.0, 3: 22.4, 4: 668.33, 5: 62452.0, 6: 22.21, 7: 1.0, 8: 3.0, 9: 9.0, 11: 14954.0, 12: 80.0, 13: 39.0, 16: 257691.0, 17: 18700.0, 18: 10.0, 19: 0.3843, 20: 0.0107, 21: 1.0, 290: 1.0, 315: 1.0, 330: 1.0, 331: 1.0}), label=0, rawPrediction=DenseVector([3.2098, 7.7902]), probability=DenseVector([0.2918, 0.7082]), prediction=1.0),\n",
       " Row(features=SparseVector(335, {0: 25000.0, 1: 25000.0, 2: 25000.0, 3: 22.4, 4: 696.18, 5: 95000.0, 6: 24.98, 7: 2.0, 8: 2.0, 9: 14.0, 11: 32510.0, 12: 76.7, 13: 28.0, 16: 77442.0, 17: 42400.0, 18: 10.0, 19: 0.2632, 20: 0.0073, 21: 1.0, 290: 1.0, 315: 1.0, 330: 1.0, 331: 1.0}), label=0, rawPrediction=DenseVector([3.198, 7.802]), probability=DenseVector([0.2907, 0.7093]), prediction=1.0),\n",
       " Row(features=SparseVector(335, {0: 12000.0, 1: 12000.0, 2: 12000.0, 3: 22.4, 4: 334.17, 5: 80000.0, 6: 12.5, 7: 2.0, 8: 1.0, 9: 9.0, 11: 8836.0, 12: 63.6, 13: 24.0, 16: 28099.0, 17: 13900.0, 18: 2.0, 19: 0.15, 20: 0.0042, 21: 1.0, 290: 1.0, 315: 1.0, 330: 1.0, 332: 1.0}), label=0, rawPrediction=DenseVector([3.8928, 7.1072]), probability=DenseVector([0.3539, 0.6461]), prediction=1.0),\n",
       " Row(features=SparseVector(335, {0: 20500.0, 1: 20500.0, 2: 20500.0, 3: 23.1, 4: 579.09, 5: 46000.0, 6: 12.18, 7: 2.0, 8: 1.0, 9: 9.0, 11: 12388.0, 12: 46.4, 13: 20.0, 16: 12388.0, 17: 26700.0, 18: 10.0, 19: 0.4457, 20: 0.0126, 21: 1.0, 290: 1.0, 316: 1.0, 328: 1.0, 331: 1.0}), label=0, rawPrediction=DenseVector([3.5051, 7.4949]), probability=DenseVector([0.3186, 0.6814]), prediction=1.0),\n",
       " Row(features=SparseVector(335, {0: 35000.0, 1: 35000.0, 2: 35000.0, 3: 23.1, 4: 988.68, 5: 97000.0, 6: 18.9, 7: 1.0, 8: 1.0, 9: 16.0, 11: 35772.0, 12: 54.8, 13: 38.0, 16: 61404.0, 17: 65290.0, 18: 1.0, 19: 0.3608, 20: 0.0102, 21: 1.0, 290: 1.0, 316: 1.0, 328: 1.0, 332: 1.0}), label=1, rawPrediction=DenseVector([3.7769, 7.2231]), probability=DenseVector([0.3434, 0.6566]), prediction=1.0),\n",
       " Row(features=SparseVector(335, {0: 35000.0, 1: 35000.0, 2: 35000.0, 3: 23.1, 4: 988.68, 5: 150000.0, 6: 10.28, 7: 2.0, 8: 1.0, 9: 10.0, 11: 29934.0, 12: 76.4, 13: 49.0, 16: 271610.0, 17: 39200.0, 18: 4.0, 19: 0.2333, 20: 0.0066, 21: 1.0, 290: 1.0, 316: 1.0, 328: 1.0, 333: 1.0}), label=0, rawPrediction=DenseVector([3.5423, 7.4577]), probability=DenseVector([0.322, 0.678]), prediction=1.0),\n",
       " Row(features=SparseVector(335, {0: 25475.0, 1: 25475.0, 2: 25450.0, 3: 23.4, 4: 724.02, 5: 58200.0, 6: 24.12, 7: 1.0, 8: 1.0, 9: 13.0, 11: 22176.0, 12: 89.8, 13: 39.0, 16: 160064.0, 17: 24700.0, 18: 4.0, 19: 0.4377, 20: 0.0124, 21: 1.0, 290: 1.0, 317: 1.0, 328: 1.0, 331: 1.0}), label=1, rawPrediction=DenseVector([2.6513, 8.3487]), probability=DenseVector([0.241, 0.759]), prediction=1.0),\n",
       " Row(features=SparseVector(335, {0: 25000.0, 1: 25000.0, 2: 25000.0, 3: 23.4, 4: 710.52, 5: 90000.0, 6: 7.29, 7: 1.0, 8: 1.0, 9: 13.0, 11: 14815.0, 12: 85.6, 13: 30.0, 16: 151058.0, 17: 17300.0, 18: 10.0, 19: 0.2778, 20: 0.0079, 21: 1.0, 290: 1.0, 317: 1.0, 330: 1.0, 331: 1.0}), label=0, rawPrediction=DenseVector([3.454, 7.546]), probability=DenseVector([0.314, 0.686]), prediction=1.0),\n",
       " Row(features=SparseVector(335, {0: 15600.0, 1: 15600.0, 2: 15600.0, 3: 23.4, 4: 443.37, 5: 65000.0, 6: 18.46, 7: 1.0, 8: 2.0, 9: 6.0, 11: 7284.0, 12: 65.6, 13: 9.0, 16: 31050.0, 17: 11100.0, 18: 7.0, 19: 0.24, 20: 0.0068, 21: 1.0, 290: 1.0, 317: 1.0, 330: 1.0, 332: 1.0}), label=0, rawPrediction=DenseVector([3.4176, 7.5824]), probability=DenseVector([0.3107, 0.6893]), prediction=1.0),\n",
       " Row(features=SparseVector(335, {0: 20000.0, 1: 20000.0, 2: 20000.0, 3: 23.4, 4: 778.38, 5: 125000.0, 6: 12.7, 7: 1.0, 8: 1.0, 9: 11.0, 11: 19930.0, 12: 89.8, 13: 23.0, 16: 20455.0, 17: 22200.0, 18: 7.0, 19: 0.16, 20: 0.0062, 21: 1.0, 290: 1.0, 317: 1.0, 330: 1.0, 332: 1.0}), label=0, rawPrediction=DenseVector([3.0626, 7.9374]), probability=DenseVector([0.2784, 0.7216]), prediction=1.0),\n",
       " Row(features=SparseVector(335, {0: 15000.0, 1: 15000.0, 2: 15000.0, 3: 23.7, 4: 428.92, 5: 92800.0, 6: 18.28, 7: 1.0, 8: 3.0, 9: 19.0, 11: 441.0, 12: 9.4, 13: 60.0, 16: 334369.0, 17: 4700.0, 18: 10.0, 19: 0.1616, 20: 0.0046, 21: 1.0, 291: 1.0, 318: 1.0, 328: 1.0, 333: 1.0}), label=0, rawPrediction=DenseVector([4.7804, 6.2196]), probability=DenseVector([0.4346, 0.5654]), prediction=1.0),\n",
       " Row(features=SparseVector(335, {0: 25000.0, 1: 25000.0, 2: 25000.0, 3: 24.08, 4: 981.88, 5: 92000.0, 6: 12.5, 7: 1.0, 8: 2.0, 9: 17.0, 11: 17549.0, 12: 85.6, 13: 40.0, 16: 66734.0, 17: 20500.0, 18: 4.0, 19: 0.2717, 20: 0.0107, 21: 1.0, 291: 1.0, 319: 1.0, 328: 1.0, 331: 1.0}), label=1, rawPrediction=DenseVector([4.3968, 6.6032]), probability=DenseVector([0.3997, 0.6003]), prediction=1.0),\n",
       " Row(features=SparseVector(335, {0: 18000.0, 1: 18000.0, 2: 18000.0, 3: 24.08, 4: 518.66, 5: 55000.0, 6: 15.91, 7: 4.0, 8: 2.0, 9: 15.0, 11: 11974.0, 12: 92.8, 13: 63.0, 16: 217019.0, 17: 12900.0, 18: 7.0, 19: 0.3273, 20: 0.0094, 21: 1.0, 291: 1.0, 319: 1.0, 328: 1.0, 332: 1.0}), label=1, rawPrediction=DenseVector([2.8246, 8.1754]), probability=DenseVector([0.2568, 0.7432]), prediction=1.0),\n",
       " Row(features=SparseVector(335, {0: 24000.0, 1: 24000.0, 2: 24000.0, 3: 24.08, 4: 691.55, 5: 112711.0, 6: 15.25, 7: 1.0, 8: 3.0, 9: 7.0, 11: 10208.0, 12: 92.8, 13: 25.0, 16: 54471.0, 17: 11000.0, 18: 10.0, 19: 0.2129, 20: 0.0061, 21: 1.0, 291: 1.0, 319: 1.0, 330: 1.0, 333: 1.0}), label=0, rawPrediction=DenseVector([3.4073, 7.5927]), probability=DenseVector([0.3098, 0.6902]), prediction=1.0),\n",
       " Row(features=SparseVector(335, {0: 20000.0, 1: 20000.0, 2: 20000.0, 3: 24.99, 4: 586.91, 5: 73000.0, 6: 13.12, 7: 6.0, 8: 1.0, 9: 6.0, 11: 4275.0, 12: 32.9, 13: 34.0, 16: 11740.0, 17: 13000.0, 18: 1.0, 19: 0.274, 20: 0.008, 21: 1.0, 291: 1.0, 321: 1.0, 328: 1.0, 331: 1.0}), label=0, rawPrediction=DenseVector([3.2071, 7.7929]), probability=DenseVector([0.2916, 0.7084]), prediction=1.0),\n",
       " Row(features=SparseVector(335, {0: 35000.0, 1: 35000.0, 2: 35000.0, 3: 24.99, 4: 1027.1, 5: 400000.0, 6: 13.74, 7: 1.0, 8: 1.0, 9: 12.0, 11: 266949.0, 12: 101.1, 13: 26.0, 16: 685751.0, 17: 306500.0, 18: 10.0, 19: 0.0875, 20: 0.0026, 21: 1.0, 291: 1.0, 321: 1.0, 328: 1.0, 331: 1.0}), label=0, rawPrediction=DenseVector([5.1213, 5.8787]), probability=DenseVector([0.4656, 0.5344]), prediction=1.0),\n",
       " Row(features=SparseVector(335, {0: 30000.0, 1: 30000.0, 2: 30000.0, 3: 25.57, 4: 890.6, 5: 127000.0, 6: 9.9, 7: 1.0, 8: 3.0, 9: 16.0, 11: 27876.0, 12: 64.4, 13: 36.0, 16: 31501.0, 17: 43300.0, 18: 10.0, 19: 0.2362, 20: 0.007, 21: 1.0, 291: 1.0, 322: 1.0, 330: 1.0, 331: 1.0}), label=1, rawPrediction=DenseVector([3.9667, 7.0333]), probability=DenseVector([0.3606, 0.6394]), prediction=1.0),\n",
       " Row(features=SparseVector(335, {0: 19750.0, 1: 19750.0, 2: 19725.0, 3: 25.57, 4: 586.31, 5: 45000.0, 6: 14.21, 7: 1.0, 8: 4.0, 9: 18.0, 11: 14034.0, 12: 48.2, 13: 39.0, 16: 14034.0, 17: 29100.0, 18: 10.0, 19: 0.4389, 20: 0.013, 21: 1.0, 291: 1.0, 322: 1.0, 330: 1.0, 332: 1.0}), label=1, rawPrediction=DenseVector([2.3764, 8.6236]), probability=DenseVector([0.216, 0.784]), prediction=1.0),\n",
       " Row(features=SparseVector(335, {0: 32000.0, 1: 32000.0, 2: 31975.0, 3: 25.83, 4: 954.88, 5: 92000.0, 6: 4.56, 7: 1.0, 8: 1.0, 9: 9.0, 11: 18846.0, 12: 78.5, 13: 28.0, 16: 322477.0, 17: 24000.0, 18: 6.0, 19: 0.3478, 20: 0.0104, 21: 1.0, 292: 1.0, 324: 1.0, 328: 1.0, 331: 1.0}), label=0, rawPrediction=DenseVector([3.2799, 7.7201]), probability=DenseVector([0.2982, 0.7018]), prediction=1.0),\n",
       " Row(features=SparseVector(335, {0: 20000.0, 1: 20000.0, 2: 20000.0, 3: 25.89, 4: 597.51, 5: 79000.0, 6: 22.36, 7: 2.0, 8: 3.0, 9: 13.0, 11: 78914.0, 12: 90.0, 13: 27.0, 16: 351313.0, 17: 81100.0, 18: 9.0, 19: 0.2532, 20: 0.0076, 21: 1.0, 292: 1.0, 325: 1.0, 328: 1.0, 331: 1.0}), label=0, rawPrediction=DenseVector([3.4729, 7.5271]), probability=DenseVector([0.3157, 0.6843]), prediction=1.0),\n",
       " Row(features=SparseVector(335, {0: 10000.0, 1: 10000.0, 2: 10000.0, 3: 11.99, 4: 332.1, 5: 175000.0, 6: 17.6, 7: 1.0, 8: 1.0, 9: 7.0, 11: 22645.0, 12: 80.9, 13: 14.0, 16: 250929.0, 17: 28000.0, 18: 3.0, 19: 0.0571, 20: 0.0019, 22: 1.0, 286: 1.0, 293: 1.0, 329: 1.0, 331: 1.0}), label=0, rawPrediction=DenseVector([7.361, 3.639]), probability=DenseVector([0.6692, 0.3308]), prediction=0.0),\n",
       " Row(features=SparseVector(335, {0: 6600.0, 1: 6600.0, 2: 6600.0, 3: 11.99, 4: 219.19, 5: 44000.0, 6: 10.06, 7: 1.0, 8: 1.0, 9: 8.0, 11: 8152.0, 12: 68.5, 13: 10.0, 16: 23007.0, 17: 11900.0, 18: 1.0, 19: 0.15, 20: 0.005, 22: 1.0, 286: 1.0, 293: 1.0, 329: 1.0, 332: 1.0}), label=0, rawPrediction=DenseVector([6.778, 4.222]), probability=DenseVector([0.6162, 0.3838]), prediction=0.0),\n",
       " Row(features=SparseVector(335, {0: 18500.0, 1: 18500.0, 2: 18500.0, 3: 11.99, 4: 614.38, 5: 110000.0, 6: 14.5, 7: 2.0, 8: 1.0, 9: 12.0, 11: 27214.0, 12: 56.9, 13: 38.0, 16: 267455.0, 17: 47800.0, 18: 4.0, 19: 0.1682, 20: 0.0056, 22: 1.0, 286: 1.0, 293: 1.0, 330: 1.0, 331: 1.0}), label=0, rawPrediction=DenseVector([7.3012, 3.6988]), probability=DenseVector([0.6637, 0.3363]), prediction=0.0),\n",
       " Row(features=SparseVector(335, {0: 20000.0, 1: 20000.0, 2: 19975.0, 3: 11.99, 4: 664.2, 5: 75000.0, 6: 17.57, 7: 1.0, 8: 1.0, 9: 15.0, 11: 18272.0, 12: 47.7, 13: 21.0, 16: 157332.0, 17: 38300.0, 18: 10.0, 19: 0.2667, 20: 0.0089, 22: 1.0, 286: 1.0, 293: 1.0, 330: 1.0, 331: 1.0}), label=0, rawPrediction=DenseVector([6.1631, 4.8369]), probability=DenseVector([0.5603, 0.4397]), prediction=0.0),\n",
       " Row(features=SparseVector(335, {0: 12000.0, 1: 12000.0, 2: 12000.0, 3: 12.85, 4: 403.47, 5: 85000.0, 6: 28.98, 7: 1.0, 8: 1.0, 9: 8.0, 11: 6273.0, 12: 89.6, 13: 31.0, 16: 287280.0, 17: 7000.0, 18: 10.0, 19: 0.1412, 20: 0.0047, 22: 1.0, 286: 1.0, 294: 1.0, 328: 1.0, 331: 1.0}), label=0, rawPrediction=DenseVector([6.8695, 4.1305]), probability=DenseVector([0.6245, 0.3755]), prediction=0.0),\n",
       " Row(features=SparseVector(335, {0: 24000.0, 1: 24000.0, 2: 24000.0, 3: 12.85, 4: 806.93, 5: 70000.0, 6: 13.78, 7: 1.0, 8: 2.0, 9: 11.0, 11: 20002.0, 12: 87.0, 13: 29.0, 16: 45919.0, 17: 23000.0, 18: 4.0, 19: 0.3429, 20: 0.0115, 22: 1.0, 286: 1.0, 294: 1.0, 328: 1.0, 331: 1.0}), label=1, rawPrediction=DenseVector([6.09, 4.91]), probability=DenseVector([0.5536, 0.4464]), prediction=0.0),\n",
       " Row(features=SparseVector(335, {0: 25000.0, 1: 25000.0, 2: 24975.0, 3: 12.99, 4: 842.23, 5: 162000.0, 6: 5.96, 7: 4.0, 8: 1.0, 9: 6.0, 11: 6985.0, 12: 86.2, 13: 19.0, 16: 344331.0, 17: 8100.0, 18: 10.0, 19: 0.1543, 20: 0.0052, 22: 1.0, 286: 1.0, 294: 1.0, 328: 1.0, 331: 1.0}), label=0, rawPrediction=DenseVector([7.0863, 3.9137]), probability=DenseVector([0.6442, 0.3558]), prediction=0.0),\n",
       " Row(features=SparseVector(335, {0: 8000.0, 1: 8000.0, 2: 8000.0, 3: 12.99, 4: 269.52, 5: 75000.0, 6: 16.3, 7: 1.0, 8: 1.0, 9: 13.0, 11: 18073.0, 12: 44.7, 13: 43.0, 16: 236715.0, 17: 40437.0, 18: 10.0, 19: 0.1067, 20: 0.0036, 22: 1.0, 286: 1.0, 294: 1.0, 329: 1.0, 331: 1.0}), label=0, rawPrediction=DenseVector([7.2407, 3.7593]), probability=DenseVector([0.6582, 0.3418]), prediction=0.0),\n",
       " Row(features=SparseVector(335, {0: 14125.0, 1: 14125.0, 2: 14125.0, 3: 12.99, 4: 475.86, 5: 53800.0, 6: 25.99, 7: 4.0, 8: 2.0, 9: 10.0, 11: 11005.0, 12: 73.9, 13: 33.0, 16: 39856.0, 17: 14900.0, 18: 1.0, 19: 0.2625, 20: 0.0088, 22: 1.0, 286: 1.0, 294: 1.0, 329: 1.0, 331: 1.0}), label=0, rawPrediction=DenseVector([6.3666, 4.6334]), probability=DenseVector([0.5788, 0.4212]), prediction=0.0),\n",
       " Row(features=SparseVector(335, {0: 12000.0, 1: 12000.0, 2: 12000.0, 3: 12.85, 4: 403.47, 5: 60000.0, 6: 19.62, 7: 1.0, 8: 2.0, 9: 13.0, 11: 4744.0, 12: 40.2, 13: 38.0, 16: 161173.0, 17: 11800.0, 18: 10.0, 19: 0.2, 20: 0.0067, 22: 1.0, 286: 1.0, 294: 1.0, 330: 1.0, 331: 1.0}), label=0, rawPrediction=DenseVector([6.164, 4.836]), probability=DenseVector([0.5604, 0.4396]), prediction=0.0),\n",
       " Row(features=SparseVector(335, {0: 15000.0, 1: 15000.0, 2: 15000.0, 3: 12.85, 4: 504.33, 5: 135000.0, 6: 4.04, 7: 1.0, 8: 1.0, 9: 8.0, 11: 7427.0, 12: 65.7, 13: 19.0, 16: 361227.0, 17: 11300.0, 18: 10.0, 19: 0.1111, 20: 0.0037, 22: 1.0, 286: 1.0, 294: 1.0, 330: 1.0, 331: 1.0}), label=1, rawPrediction=DenseVector([7.3666, 3.6334]), probability=DenseVector([0.6697, 0.3303]), prediction=0.0),\n",
       " Row(features=SparseVector(335, {0: 25000.0, 1: 25000.0, 2: 25000.0, 3: 12.85, 4: 840.55, 5: 175000.0, 6: 12.4, 7: 1.0, 8: 1.0, 9: 10.0, 11: 22983.0, 12: 91.6, 13: 24.0, 16: 630249.0, 17: 25100.0, 18: 4.0, 19: 0.1429, 20: 0.0048, 22: 1.0, 286: 1.0, 294: 1.0, 330: 1.0, 331: 1.0}), label=0, rawPrediction=DenseVector([6.6754, 4.3246]), probability=DenseVector([0.6069, 0.3931]), prediction=0.0),\n",
       " Row(features=SparseVector(335, {0: 20000.0, 1: 20000.0, 2: 20000.0, 3: 10.99, 4: 654.68, 5: 63000.0, 6: 22.24, 7: 1.0, 8: 1.0, 9: 13.0, 11: 9154.0, 12: 68.8, 13: 18.0, 16: 232029.0, 17: 13300.0, 18: 9.0, 19: 0.3175, 20: 0.0104, 22: 1.0, 286: 1.0, 296: 1.0, 328: 1.0, 333: 1.0}), label=0, rawPrediction=DenseVector([6.1137, 4.8863]), probability=DenseVector([0.5558, 0.4442]), prediction=0.0),\n",
       " Row(features=SparseVector(335, {0: 12000.0, 1: 12000.0, 2: 12000.0, 3: 10.99, 4: 392.81, 5: 54000.0, 6: 10.98, 7: 1.0, 8: 1.0, 9: 10.0, 11: 12584.0, 12: 51.8, 13: 22.0, 16: 17605.0, 17: 24300.0, 18: 10.0, 19: 0.2222, 20: 0.0073, 22: 1.0, 286: 1.0, 296: 1.0, 329: 1.0, 333: 1.0}), label=0, rawPrediction=DenseVector([6.9729, 4.0271]), probability=DenseVector([0.6339, 0.3661]), prediction=0.0),\n",
       " Row(features=SparseVector(335, {0: 9000.0, 1: 9000.0, 2: 8975.0, 3: 10.99, 4: 294.61, 5: 74000.0, 6: 17.87, 7: 1.0, 8: 1.0, 9: 9.0, 11: 32720.0, 12: 76.7, 13: 16.0, 16: 231267.0, 17: 54900.0, 18: 2.0, 19: 0.1216, 20: 0.004, 22: 1.0, 286: 1.0, 296: 1.0, 330: 1.0, 331: 1.0}), label=0, rawPrediction=DenseVector([7.3823, 3.6177]), probability=DenseVector([0.6711, 0.3289]), prediction=0.0),\n",
       " Row(features=SparseVector(335, {0: 9500.0, 1: 9500.0, 2: 9500.0, 3: 10.99, 4: 310.98, 5: 71000.0, 6: 15.18, 7: 1.0, 8: 1.0, 9: 10.0, 11: 6863.0, 12: 83.7, 13: 30.0, 16: 203601.0, 17: 8200.0, 18: 6.0, 19: 0.1338, 20: 0.0044, 22: 1.0, 286: 1.0, 296: 1.0, 330: 1.0, 331: 1.0}), label=0, rawPrediction=DenseVector([7.6025, 3.3975]), probability=DenseVector([0.6911, 0.3089]), prediction=0.0),\n",
       " Row(features=SparseVector(335, {0: 25000.0, 1: 25000.0, 2: 24975.0, 3: 10.99, 4: 818.35, 5: 150000.0, 6: 15.89, 7: 1.0, 8: 1.0, 9: 14.0, 11: 9433.0, 12: 20.0, 13: 25.0, 16: 247464.0, 17: 47200.0, 18: 1.0, 19: 0.1667, 20: 0.0055, 22: 1.0, 286: 1.0, 296: 1.0, 330: 1.0, 331: 1.0}), label=0, rawPrediction=DenseVector([7.0281, 3.9719]), probability=DenseVector([0.6389, 0.3611]), prediction=0.0),\n",
       " Row(features=SparseVector(335, {0: 4000.0, 1: 4000.0, 2: 4000.0, 3: 10.99, 4: 130.94, 5: 55000.0, 6: 21.14, 7: 3.0, 8: 1.0, 9: 10.0, 11: 4916.0, 12: 63.0, 13: 43.0, 16: 32577.0, 17: 7800.0, 18: 7.0, 19: 0.0727, 20: 0.0024, 22: 1.0, 286: 1.0, 296: 1.0, 330: 1.0, 332: 1.0}), label=0, rawPrediction=DenseVector([6.3698, 4.6302]), probability=DenseVector([0.5791, 0.4209]), prediction=0.0),\n",
       " Row(features=SparseVector(335, {0: 20000.0, 1: 20000.0, 2: 19950.0, 3: 13.53, 4: 460.51, 5: 105000.0, 6: 13.62, 7: 1.0, 8: 4.0, 9: 18.0, 11: 19831.0, 12: 36.8, 13: 29.0, 16: 384544.0, 17: 53900.0, 18: 1.0, 19: 0.1905, 20: 0.0044, 22: 1.0, 286: 1.0, 298: 1.0, 328: 1.0, 331: 1.0}), label=0, rawPrediction=DenseVector([5.9019, 5.0981]), probability=DenseVector([0.5365, 0.4635]), prediction=0.0),\n",
       " Row(features=SparseVector(335, {0: 35000.0, 1: 35000.0, 2: 35000.0, 3: 13.67, 4: 808.42, 5: 102000.0, 6: 22.82, 7: 3.0, 8: 1.0, 9: 21.0, 11: 20273.0, 12: 22.3, 13: 38.0, 16: 146546.0, 17: 91100.0, 18: 6.0, 19: 0.3431, 20: 0.0079, 22: 1.0, 286: 1.0, 298: 1.0, 328: 1.0, 331: 1.0}), label=0, rawPrediction=DenseVector([6.4369, 4.5631]), probability=DenseVector([0.5852, 0.4148]), prediction=0.0),\n",
       " Row(features=SparseVector(335, {0: 9600.0, 1: 9600.0, 2: 9600.0, 3: 13.67, 4: 326.57, 5: 42000.0, 6: 30.51, 7: 1.0, 8: 5.0, 9: 13.0, 11: 8419.0, 12: 47.6, 13: 26.0, 16: 30648.0, 17: 17700.0, 18: 8.0, 19: 0.2286, 20: 0.0078, 22: 1.0, 286: 1.0, 298: 1.0, 328: 1.0, 332: 1.0}), label=0, rawPrediction=DenseVector([6.0404, 4.9596]), probability=DenseVector([0.5491, 0.4509]), prediction=0.0),\n",
       " Row(features=SparseVector(335, {0: 18825.0, 1: 18825.0, 2: 18800.0, 3: 13.67, 4: 640.39, 5: 42900.0, 6: 15.3, 7: 4.0, 8: 3.0, 9: 10.0, 11: 3971.0, 12: 38.9, 13: 35.0, 16: 161802.0, 17: 10200.0, 18: 10.0, 19: 0.4388, 20: 0.0149, 22: 1.0, 286: 1.0, 298: 1.0, 328: 1.0, 333: 1.0}), label=0, rawPrediction=DenseVector([3.8806, 7.1194]), probability=DenseVector([0.3528, 0.6472]), prediction=1.0),\n",
       " Row(features=SparseVector(335, {0: 12000.0, 1: 12000.0, 2: 12000.0, 3: 13.67, 4: 408.22, 5: 75000.0, 6: 13.78, 7: 3.0, 8: 2.0, 9: 9.0, 11: 9349.0, 12: 79.2, 13: 24.0, 16: 107930.0, 17: 11800.0, 18: 2.0, 19: 0.16, 20: 0.0054, 22: 1.0, 286: 1.0, 298: 1.0, 329: 1.0, 331: 1.0}), label=1, rawPrediction=DenseVector([6.8632, 4.1368]), probability=DenseVector([0.6239, 0.3761]), prediction=0.0),\n",
       " Row(features=SparseVector(335, {0: 17000.0, 1: 17000.0, 2: 17000.0, 3: 13.67, 4: 578.3, 5: 65000.0, 6: 14.33, 7: 2.0, 8: 1.0, 9: 8.0, 11: 18277.0, 12: 59.3, 13: 27.0, 16: 29112.0, 17: 30800.0, 18: 10.0, 19: 0.2615, 20: 0.0089, 22: 1.0, 286: 1.0, 298: 1.0, 329: 1.0, 332: 1.0}), label=1, rawPrediction=DenseVector([5.9814, 5.0186]), probability=DenseVector([0.5438, 0.4562]), prediction=0.0),\n",
       " Row(features=SparseVector(335, {0: 14550.0, 1: 14550.0, 2: 14500.0, 3: 13.67, 4: 494.96, 5: 55000.0, 6: 21.99, 7: 1.0, 8: 1.0, 9: 14.0, 11: 23668.0, 12: 55.3, 13: 25.0, 16: 139558.0, 17: 42800.0, 18: 10.0, 19: 0.2645, 20: 0.009, 22: 1.0, 286: 1.0, 298: 1.0, 330: 1.0, 331: 1.0}), label=0, rawPrediction=DenseVector([5.9688, 5.0312]), probability=DenseVector([0.5426, 0.4574]), prediction=0.0),\n",
       " Row(features=SparseVector(335, {0: 15000.0, 1: 15000.0, 2: 15000.0, 3: 13.05, 4: 505.78, 5: 150000.0, 6: 9.38, 7: 2.0, 8: 1.0, 9: 8.0, 11: 34636.0, 12: 72.6, 13: 17.0, 16: 213713.0, 17: 47700.0, 18: 9.0, 19: 0.1, 20: 0.0034, 22: 1.0, 286: 1.0, 298: 1.0, 330: 1.0, 332: 1.0}), label=0, rawPrediction=DenseVector([7.503, 3.497]), probability=DenseVector([0.6821, 0.3179]), prediction=0.0),\n",
       " Row(features=SparseVector(335, {0: 20425.0, 1: 20425.0, 2: 20425.0, 3: 9.67, 4: 655.9, 5: 70000.0, 6: 25.82, 7: 1.0, 8: 2.0, 9: 13.0, 11: 24041.0, 12: 61.6, 13: 29.0, 16: 57110.0, 17: 39000.0, 18: 2.0, 19: 0.2918, 20: 0.0094, 22: 1.0, 286: 1.0, 301: 1.0, 328: 1.0, 332: 1.0}), label=0, rawPrediction=DenseVector([7.4585, 3.5415]), probability=DenseVector([0.678, 0.322]), prediction=0.0),\n",
       " Row(features=SparseVector(335, {0: 8500.0, 1: 8500.0, 2: 8500.0, 3: 9.67, 4: 272.96, 5: 58000.0, 6: 11.15, 7: 1.0, 8: 1.0, 9: 9.0, 11: 8777.0, 12: 63.1, 13: 33.0, 16: 188170.0, 17: 13900.0, 18: 10.0, 19: 0.1466, 20: 0.0047, 22: 1.0, 286: 1.0, 301: 1.0, 329: 1.0, 331: 1.0}), label=0, rawPrediction=DenseVector([7.7316, 3.2684]), probability=DenseVector([0.7029, 0.2971]), prediction=0.0),\n",
       " Row(features=SparseVector(335, {0: 11000.0, 1: 11000.0, 2: 11000.0, 3: 9.99, 4: 354.89, 5: 57000.0, 6: 17.94, 7: 1.0, 8: 1.0, 9: 23.0, 11: 11675.0, 12: 30.3, 13: 50.0, 16: 135923.0, 17: 38500.0, 18: 8.0, 19: 0.193, 20: 0.0062, 22: 1.0, 286: 1.0, 301: 1.0, 329: 1.0, 331: 1.0}), label=0, rawPrediction=DenseVector([7.3572, 3.6428]), probability=DenseVector([0.6688, 0.3312]), prediction=0.0),\n",
       " Row(features=SparseVector(335, {0: 14550.0, 1: 14550.0, 2: 14500.0, 3: 9.67, 4: 467.24, 5: 57100.0, 6: 18.68, 7: 1.0, 8: 1.0, 9: 9.0, 11: 19737.0, 12: 81.2, 13: 21.0, 16: 36935.0, 17: 24300.0, 18: 2.0, 19: 0.2548, 20: 0.0082, 22: 1.0, 286: 1.0, 301: 1.0, 329: 1.0, 332: 1.0}), label=0, rawPrediction=DenseVector([6.928, 4.072]), probability=DenseVector([0.6298, 0.3702]), prediction=0.0),\n",
       " Row(features=SparseVector(335, {0: 15000.0, 1: 15000.0, 2: 15000.0, 3: 9.67, 4: 481.69, 5: 135000.0, 6: 8.45, 7: 2.0, 8: 2.0, 9: 17.0, 11: 23652.0, 12: 52.2, 13: 40.0, 16: 27449.0, 17: 45300.0, 18: 10.0, 19: 0.1111, 20: 0.0036, 22: 1.0, 286: 1.0, 301: 1.0, 329: 1.0, 332: 1.0}), label=0, rawPrediction=DenseVector([7.3238, 3.6762]), probability=DenseVector([0.6658, 0.3342]), prediction=0.0),\n",
       " Row(features=SparseVector(335, {0: 15000.0, 1: 15000.0, 2: 15000.0, 3: 9.67, 4: 481.69, 5: 88500.0, 6: 11.77, 7: 1.0, 8: 1.0, 9: 8.0, 11: 19906.0, 12: 46.2, 13: 20.0, 16: 200884.0, 17: 43100.0, 18: 1.0, 19: 0.1695, 20: 0.0054, 22: 1.0, 286: 1.0, 301: 1.0, 330: 1.0, 331: 1.0}), label=0, rawPrediction=DenseVector([7.099, 3.901]), probability=DenseVector([0.6454, 0.3546]), prediction=0.0),\n",
       " Row(features=SparseVector(335, {0: 10000.0, 1: 10000.0, 2: 9825.0, 3: 9.67, 4: 321.13, 5: 170000.0, 6: 3.85, 7: 1.0, 8: 2.0, 9: 10.0, 11: 5533.0, 12: 39.5, 13: 26.0, 16: 15741.0, 17: 14000.0, 18: 5.0, 19: 0.0588, 20: 0.0019, 22: 1.0, 286: 1.0, 301: 1.0, 330: 1.0, 332: 1.0}), label=0, rawPrediction=DenseVector([7.1527, 3.8473]), probability=DenseVector([0.6502, 0.3498]), prediction=0.0),\n",
       " Row(features=SparseVector(335, {0: 4000.0, 1: 4000.0, 2: 4000.0, 3: 13.98, 4: 136.68, 5: 53068.6016, 6: 12.82, 7: 3.0, 8: 1.0, 9: 17.0, 11: 3228.0, 12: 41.9, 13: 28.0, 16: 407142.0, 17: 7700.0, 18: 9.0, 19: 0.0754, 20: 0.0026, 22: 1.0, 287: 1.0, 295: 1.0, 328: 1.0, 331: 1.0}), label=0, rawPrediction=DenseVector([6.9397, 4.0603]), probability=DenseVector([0.6309, 0.3691]), prediction=0.0),\n",
       " Row(features=SparseVector(335, {0: 18000.0, 1: 18000.0, 2: 17900.0, 3: 13.98, 4: 418.65, 5: 118000.0, 6: 16.27, 7: 1.0, 8: 2.0, 9: 23.0, 11: 24594.0, 12: 61.9, 13: 37.0, 16: 514899.0, 17: 39700.0, 18: 10.0, 19: 0.1525, 20: 0.0035, 22: 1.0, 287: 1.0, 295: 1.0, 328: 1.0, 331: 1.0}), label=0, rawPrediction=DenseVector([6.6745, 4.3255]), probability=DenseVector([0.6068, 0.3932]), prediction=0.0),\n",
       " Row(features=SparseVector(335, {0: 6000.0, 1: 6000.0, 2: 6000.0, 3: 14.3, 4: 205.95, 5: 72000.0, 6: 11.22, 7: 2.0, 8: 2.0, 9: 8.0, 11: 5312.0, 12: 47.4, 13: 23.0, 16: 21916.0, 17: 11200.0, 18: 7.0, 19: 0.0833, 20: 0.0029, 22: 1.0, 287: 1.0, 295: 1.0, 328: 1.0, 332: 1.0}), label=0, rawPrediction=DenseVector([5.9153, 5.0847]), probability=DenseVector([0.5378, 0.4622]), prediction=0.0),\n",
       " Row(features=SparseVector(335, {0: 30000.0, 1: 30000.0, 2: 30000.0, 3: 13.98, 4: 1025.04, 5: 117000.0, 6: 23.99, 7: 1.0, 8: 3.0, 9: 18.0, 11: 28634.0, 12: 72.9, 13: 39.0, 16: 220142.0, 17: 39300.0, 18: 10.0, 19: 0.2564, 20: 0.0088, 22: 1.0, 287: 1.0, 295: 1.0, 330: 1.0, 331: 1.0}), label=0, rawPrediction=DenseVector([5.2563, 5.7437]), probability=DenseVector([0.4778, 0.5222]), prediction=1.0),\n",
       " Row(features=SparseVector(335, {0: 35000.0, 1: 35000.0, 2: 35000.0, 3: 15.1, 4: 1215.01, 5: 93000.0, 6: 17.02, 7: 1.0, 8: 2.0, 9: 14.0, 11: 31986.0, 12: 52.7, 13: 32.0, 16: 104446.0, 17: 60700.0, 18: 4.0, 19: 0.3763, 20: 0.0131, 22: 1.0, 287: 1.0, 297: 1.0, 328: 1.0, 333: 1.0}), label=0, rawPrediction=DenseVector([5.9692, 5.0308]), probability=DenseVector([0.5427, 0.4573]), prediction=0.0),\n",
       " Row(features=SparseVector(335, {0: 3000.0, 1: 3000.0, 2: 3000.0, 3: 15.1, 4: 104.15, 5: 44000.0, 6: 14.76, 7: 1.0, 8: 2.0, 9: 11.0, 11: 8877.0, 12: 44.4, 13: 19.0, 16: 120653.0, 17: 20000.0, 18: 3.0, 19: 0.0682, 20: 0.0024, 22: 1.0, 287: 1.0, 297: 1.0, 329: 1.0, 331: 1.0}), label=0, rawPrediction=DenseVector([5.693, 5.307]), probability=DenseVector([0.5175, 0.4825]), prediction=0.0),\n",
       " Row(features=SparseVector(335, {0: 10000.0, 1: 10000.0, 2: 10000.0, 3: 15.1, 4: 347.15, 5: 70000.0, 6: 15.12, 7: 2.0, 8: 1.0, 9: 8.0, 11: 4754.0, 12: 38.3, 13: 28.0, 16: 110707.0, 17: 12400.0, 18: 3.0, 19: 0.1429, 20: 0.005, 22: 1.0, 287: 1.0, 297: 1.0, 329: 1.0, 331: 1.0}), label=0, rawPrediction=DenseVector([5.77, 5.23]), probability=DenseVector([0.5245, 0.4755]), prediction=0.0),\n",
       " Row(features=SparseVector(335, {0: 15000.0, 1: 15000.0, 2: 15000.0, 3: 15.1, 4: 520.72, 5: 70000.0, 6: 22.07, 7: 1.0, 8: 1.0, 9: 19.0, 11: 25068.0, 12: 47.9, 13: 34.0, 16: 53412.0, 17: 52300.0, 18: 7.0, 19: 0.2143, 20: 0.0074, 22: 1.0, 287: 1.0, 297: 1.0, 329: 1.0, 331: 1.0}), label=0, rawPrediction=DenseVector([5.6025, 5.3975]), probability=DenseVector([0.5093, 0.4907]), prediction=0.0),\n",
       " Row(features=SparseVector(335, {0: 4650.0, 1: 4650.0, 2: 4650.0, 3: 14.47, 4: 159.99, 5: 28000.0, 6: 20.57, 7: 1.0, 8: 1.0, 9: 7.0, 11: 4272.0, 12: 64.7, 13: 36.0, 16: 16506.0, 17: 6600.0, 18: 4.0, 19: 0.1661, 20: 0.0057, 22: 1.0, 287: 1.0, 297: 1.0, 329: 1.0, 332: 1.0}), label=0, rawPrediction=DenseVector([5.5367, 5.4633]), probability=DenseVector([0.5033, 0.4967]), prediction=0.0),\n",
       " Row(features=SparseVector(335, {0: 10000.0, 1: 10000.0, 2: 10000.0, 3: 15.1, 4: 347.15, 5: 100000.0, 6: 9.4, 7: 1.0, 8: 1.0, 9: 19.0, 11: 15689.0, 12: 45.5, 13: 51.0, 16: 23743.0, 17: 34508.0, 18: 10.0, 19: 0.1, 20: 0.0035, 22: 1.0, 287: 1.0, 297: 1.0, 329: 1.0, 332: 1.0}), label=1, rawPrediction=DenseVector([7.2992, 3.7008]), probability=DenseVector([0.6636, 0.3364]), prediction=0.0),\n",
       " Row(features=SparseVector(335, {0: 12000.0, 1: 12000.0, 2: 12000.0, 3: 15.1, 4: 416.58, 5: 100000.0, 6: 17.98, 7: 2.0, 8: 1.0, 9: 14.0, 11: 12130.0, 12: 89.2, 13: 28.0, 16: 102832.0, 17: 13600.0, 18: 1.0, 19: 0.12, 20: 0.0042, 22: 1.0, 287: 1.0, 297: 1.0, 329: 1.0, 332: 1.0}), label=0, rawPrediction=DenseVector([5.8859, 5.1141]), probability=DenseVector([0.5351, 0.4649]), prediction=0.0),\n",
       " Row(features=SparseVector(335, {0: 15000.0, 1: 15000.0, 2: 15000.0, 3: 15.1, 4: 520.72, 5: 88000.0, 6: 10.68, 7: 2.0, 8: 1.0, 9: 16.0, 11: 12376.0, 12: 64.1, 13: 30.0, 16: 358159.0, 17: 19300.0, 18: 2.0, 19: 0.1705, 20: 0.0059, 22: 1.0, 287: 1.0, 297: 1.0, 330: 1.0, 333: 1.0}), label=0, rawPrediction=DenseVector([6.9308, 4.0692]), probability=DenseVector([0.6301, 0.3699]), prediction=0.0),\n",
       " Row(features=SparseVector(335, {0: 9950.0, 1: 9950.0, 2: 9950.0, 3: 15.61, 4: 347.9, 5: 60000.0, 6: 25.98, 7: 2.0, 8: 1.0, 9: 12.0, 11: 13762.0, 12: 93.0, 13: 18.0, 16: 59674.0, 17: 15000.0, 18: 1.0, 19: 0.1658, 20: 0.0058, 22: 1.0, 287: 1.0, 299: 1.0, 329: 1.0, 332: 1.0}), label=0, rawPrediction=DenseVector([5.6967, 5.3033]), probability=DenseVector([0.5179, 0.4821]), prediction=0.0),\n",
       " Row(features=SparseVector(335, {0: 16000.0, 1: 16000.0, 2: 16000.0, 3: 15.61, 4: 385.79, 5: 120000.0, 6: 13.5, 7: 2.0, 8: 1.0, 9: 13.0, 11: 11936.0, 12: 42.5, 13: 26.0, 16: 307190.0, 17: 18840.0, 18: 7.0, 19: 0.1333, 20: 0.0032, 22: 1.0, 287: 1.0, 299: 1.0, 330: 1.0, 331: 1.0}), label=1, rawPrediction=DenseVector([5.6947, 5.3053]), probability=DenseVector([0.5177, 0.4823]), prediction=0.0),\n",
       " Row(features=SparseVector(335, {0: 21000.0, 1: 21000.0, 2: 21000.0, 3: 16.2, 4: 512.92, 5: 200000.0, 6: 16.16, 7: 1.0, 8: 1.0, 9: 16.0, 11: 21060.0, 12: 48.3, 13: 40.0, 16: 687896.0, 17: 43600.0, 18: 1.0, 19: 0.105, 20: 0.0026, 22: 1.0, 287: 1.0, 300: 1.0, 328: 1.0, 331: 1.0}), label=0, rawPrediction=DenseVector([5.6791, 5.3209]), probability=DenseVector([0.5163, 0.4837]), prediction=0.0),\n",
       " Row(features=SparseVector(335, {0: 4250.0, 1: 4250.0, 2: 4250.0, 3: 16.24, 4: 149.93, 5: 33000.0, 6: 26.15, 7: 1.0, 8: 1.0, 9: 13.0, 11: 19563.0, 12: 81.9, 13: 26.0, 16: 118703.0, 17: 23900.0, 18: 8.0, 19: 0.1288, 20: 0.0045, 22: 1.0, 287: 1.0, 303: 1.0, 328: 1.0, 331: 1.0}), label=1, rawPrediction=DenseVector([5.0849, 5.9151]), probability=DenseVector([0.4623, 0.5377]), prediction=1.0),\n",
       " Row(features=SparseVector(335, {0: 28000.0, 1: 28000.0, 2: 27900.0, 3: 16.24, 4: 684.49, 5: 135000.0, 6: 18.16, 7: 2.0, 8: 1.0, 9: 12.0, 11: 16025.0, 12: 86.6, 13: 39.0, 16: 458276.0, 17: 18500.0, 18: 1.0, 19: 0.2074, 20: 0.0051, 22: 1.0, 287: 1.0, 303: 1.0, 330: 1.0, 331: 1.0}), label=0, rawPrediction=DenseVector([5.6452, 5.3548]), probability=DenseVector([0.5132, 0.4868]), prediction=0.0),\n",
       " Row(features=SparseVector(335, {0: 35000.0, 1: 35000.0, 2: 35000.0, 3: 16.24, 4: 1234.65, 5: 300000.0, 6: 7.82, 7: 1.0, 8: 2.0, 9: 12.0, 11: 35051.0, 12: 77.7, 13: 35.0, 16: 790330.0, 17: 45100.0, 18: 1.0, 19: 0.1167, 20: 0.0041, 22: 1.0, 287: 1.0, 303: 1.0, 330: 1.0, 331: 1.0}), label=0, rawPrediction=DenseVector([6.002, 4.998]), probability=DenseVector([0.5456, 0.4544]), prediction=0.0),\n",
       " Row(features=SparseVector(335, {0: 16000.0, 1: 16000.0, 2: 15975.0, 3: 8.9, 4: 508.06, 5: 125000.0, 6: 8.56, 7: 1.0, 8: 2.0, 9: 4.0, 11: 15656.0, 12: 89.5, 13: 51.0, 16: 355801.0, 17: 17500.0, 18: 10.0, 19: 0.128, 20: 0.0041, 22: 1.0, 288: 1.0, 302: 1.0, 329: 1.0, 331: 1.0}), label=0, rawPrediction=DenseVector([9.2896, 1.7104]), probability=DenseVector([0.8445, 0.1555]), prediction=0.0),\n",
       " Row(features=SparseVector(335, {0: 12000.0, 1: 12000.0, 2: 12000.0, 3: 7.9, 4: 375.49, 5: 78000.0, 6: 21.09, 7: 2.0, 8: 1.0, 9: 20.0, 11: 10528.0, 12: 68.4, 13: 42.0, 16: 368014.0, 17: 15400.0, 18: 10.0, 19: 0.1538, 20: 0.0048, 22: 1.0, 288: 1.0, 304: 1.0, 328: 1.0, 331: 1.0}), label=0, rawPrediction=DenseVector([8.2881, 2.7119]), probability=DenseVector([0.7535, 0.2465]), prediction=0.0),\n",
       " Row(features=SparseVector(335, {0: 12000.0, 1: 12000.0, 2: 12000.0, 3: 7.9, 4: 375.49, 5: 178600.0, 6: 5.81, 7: 1.0, 8: 1.0, 9: 10.0, 11: 8259.0, 12: 26.6, 13: 27.0, 16: 469973.0, 17: 31000.0, 18: 2.0, 19: 0.0672, 20: 0.0021, 22: 1.0, 288: 1.0, 304: 1.0, 328: 1.0, 331: 1.0}), label=0, rawPrediction=DenseVector([8.5656, 2.4344]), probability=DenseVector([0.7787, 0.2213]), prediction=0.0),\n",
       " Row(features=SparseVector(335, {0: 20000.0, 1: 20000.0, 2: 20000.0, 3: 7.9, 4: 625.81, 5: 170000.0, 6: 7.9, 7: 1.0, 8: 1.0, 9: 13.0, 11: 31372.0, 12: 58.9, 13: 25.0, 16: 403251.0, 17: 53300.0, 18: 1.0, 19: 0.1176, 20: 0.0037, 22: 1.0, 288: 1.0, 304: 1.0, 328: 1.0, 331: 1.0}), label=0, rawPrediction=DenseVector([7.6876, 3.3124]), probability=DenseVector([0.6989, 0.3011]), prediction=0.0),\n",
       " Row(features=SparseVector(335, {0: 28000.0, 1: 28000.0, 2: 28000.0, 3: 7.9, 4: 876.13, 5: 120000.0, 6: 13.17, 7: 1.0, 8: 1.0, 9: 13.0, 11: 30456.0, 12: 40.0, 13: 32.0, 16: 447857.0, 17: 76200.0, 18: 3.0, 19: 0.2333, 20: 0.0073, 22: 1.0, 288: 1.0, 304: 1.0, 328: 1.0, 331: 1.0}), label=0, rawPrediction=DenseVector([6.5244, 4.4756]), probability=DenseVector([0.5931, 0.4069]), prediction=0.0),\n",
       " Row(features=SparseVector(335, {0: 14000.0, 1: 14000.0, 2: 14000.0, 3: 7.9, 4: 438.07, 5: 70000.0, 6: 23.59, 7: 1.0, 8: 1.0, 9: 49.0, 11: 12561.0, 12: 11.4, 13: 67.0, 16: 80597.0, 17: 109800.0, 18: 10.0, 19: 0.2, 20: 0.0063, 22: 1.0, 288: 1.0, 304: 1.0, 329: 1.0, 331: 1.0}), label=0, rawPrediction=DenseVector([8.6144, 2.3856]), probability=DenseVector([0.7831, 0.2169]), prediction=0.0),\n",
       " Row(features=SparseVector(335, {0: 15000.0, 1: 15000.0, 2: 15000.0, 3: 7.62, 4: 467.43, 5: 204000.0, 6: 15.47, 7: 2.0, 8: 1.0, 9: 14.0, 11: 6595.0, 12: 45.5, 13: 47.0, 16: 417185.0, 17: 14500.0, 18: 10.0, 19: 0.0735, 20: 0.0023, 22: 1.0, 288: 1.0, 309: 1.0, 328: 1.0, 331: 1.0}), label=0, rawPrediction=DenseVector([8.4838, 2.5162]), probability=DenseVector([0.7713, 0.2287]), prediction=0.0),\n",
       " Row(features=SparseVector(335, {0: 7325.0, 1: 7325.0, 2: 7325.0, 3: 18.55, 4: 266.85, 5: 70000.0, 6: 12.86, 7: 1.0, 8: 2.0, 9: 12.0, 11: 6387.0, 12: 43.2, 13: 31.0, 16: 186371.0, 17: 14800.0, 18: 5.0, 19: 0.1046, 20: 0.0038, 22: 1.0, 289: 1.0, 306: 1.0, 329: 1.0, 331: 1.0}), label=0, rawPrediction=DenseVector([4.7265, 6.2735]), probability=DenseVector([0.4297, 0.5703]), prediction=1.0),\n",
       " Row(features=SparseVector(335, {0: 10000.0, 1: 10000.0, 2: 10000.0, 3: 18.55, 4: 364.29, 5: 44000.0, 6: 21.19, 7: 1.0, 8: 1.0, 9: 12.0, 11: 10830.0, 12: 76.3, 13: 34.0, 16: 43383.0, 17: 14200.0, 18: 10.0, 19: 0.2273, 20: 0.0083, 22: 1.0, 289: 1.0, 306: 1.0, 329: 1.0, 332: 1.0}), label=1, rawPrediction=DenseVector([4.4965, 6.5035]), probability=DenseVector([0.4088, 0.5912]), prediction=1.0),\n",
       " Row(features=SparseVector(335, {0: 10000.0, 1: 10000.0, 2: 10000.0, 3: 18.55, 4: 364.29, 5: 34000.0, 6: 23.12, 7: 1.0, 8: 1.0, 9: 15.0, 11: 6288.0, 12: 28.1, 13: 28.0, 16: 26777.0, 17: 22400.0, 18: 1.0, 19: 0.2941, 20: 0.0107, 22: 1.0, 289: 1.0, 306: 1.0, 330: 1.0, 331: 1.0}), label=0, rawPrediction=DenseVector([4.1644, 6.8356]), probability=DenseVector([0.3786, 0.6214]), prediction=1.0),\n",
       " Row(features=SparseVector(335, {0: 15000.0, 1: 15000.0, 2: 15000.0, 3: 18.55, 4: 546.44, 5: 70000.0, 6: 13.97, 7: 5.0, 8: 1.0, 9: 9.0, 11: 11368.0, 12: 54.7, 13: 26.0, 16: 57871.0, 17: 20800.0, 18: 10.0, 19: 0.2143, 20: 0.0078, 22: 1.0, 289: 1.0, 306: 1.0, 330: 1.0, 331: 1.0}), label=0, rawPrediction=DenseVector([4.5457, 6.4543]), probability=DenseVector([0.4132, 0.5868]), prediction=1.0),\n",
       " Row(features=SparseVector(335, {0: 20000.0, 1: 20000.0, 2: 20000.0, 3: 19.2, 4: 735.15, 5: 92000.0, 6: 32.12, 7: 2.0, 8: 1.0, 9: 13.0, 11: 20509.0, 12: 56.8, 13: 31.0, 16: 306437.0, 17: 36100.0, 18: 6.0, 19: 0.2174, 20: 0.008, 22: 1.0, 289: 1.0, 307: 1.0, 328: 1.0, 331: 1.0}), label=1, rawPrediction=DenseVector([5.0191, 5.9809]), probability=DenseVector([0.4563, 0.5437]), prediction=1.0),\n",
       " Row(features=SparseVector(335, {0: 32000.0, 1: 32000.0, 2: 32000.0, 3: 19.52, 4: 839.29, 5: 154000.0, 6: 8.67, 7: 2.0, 8: 2.0, 9: 13.0, 11: 10740.0, 12: 46.5, 13: 46.0, 16: 42967.0, 17: 23100.0, 18: 3.0, 19: 0.2078, 20: 0.0054, 22: 1.0, 289: 1.0, 308: 1.0, 328: 1.0, 332: 1.0}), label=0, rawPrediction=DenseVector([4.844, 6.156]), probability=DenseVector([0.4404, 0.5596]), prediction=1.0),\n",
       " Row(features=SparseVector(335, {0: 10000.0, 1: 10000.0, 2: 10000.0, 3: 19.22, 4: 260.62, 5: 46000.0, 6: 10.15, 7: 1.0, 8: 1.0, 9: 9.0, 11: 6779.0, 12: 60.5, 13: 26.0, 16: 447073.0, 17: 11200.0, 18: 6.0, 19: 0.2174, 20: 0.0057, 22: 1.0, 289: 1.0, 308: 1.0, 328: 1.0, 333: 1.0}), label=1, rawPrediction=DenseVector([4.4508, 6.5492]), probability=DenseVector([0.4046, 0.5954]), prediction=1.0),\n",
       " Row(features=SparseVector(335, {0: 10000.0, 1: 10000.0, 2: 10000.0, 3: 19.52, 4: 369.2, 5: 68000.0, 6: 16.27, 7: 2.0, 8: 2.0, 9: 11.0, 11: 24280.0, 12: 80.1, 13: 23.0, 16: 110080.0, 17: 30200.0, 18: 10.0, 19: 0.1471, 20: 0.0054, 22: 1.0, 289: 1.0, 308: 1.0, 329: 1.0, 331: 1.0}), label=1, rawPrediction=DenseVector([5.4924, 5.5076]), probability=DenseVector([0.4993, 0.5007]), prediction=1.0),\n",
       " Row(features=SparseVector(335, {0: 16800.0, 1: 16800.0, 2: 16800.0, 3: 19.52, 4: 620.25, 5: 69000.0, 6: 10.89, 7: 2.0, 8: 1.0, 9: 5.0, 11: 10511.0, 12: 92.2, 13: 20.0, 16: 11594.0, 17: 11400.0, 18: 3.0, 19: 0.2435, 20: 0.009, 22: 1.0, 289: 1.0, 308: 1.0, 330: 1.0, 332: 1.0}), label=0, rawPrediction=DenseVector([4.427, 6.573]), probability=DenseVector([0.4025, 0.5975]), prediction=1.0),\n",
       " Row(features=SparseVector(335, {0: 11200.0, 1: 11200.0, 2: 11200.0, 3: 20.2, 4: 297.98, 5: 74500.0, 6: 28.3, 7: 1.0, 8: 1.0, 9: 14.0, 11: 9769.0, 12: 86.5, 13: 23.0, 16: 240184.0, 17: 11800.0, 18: 9.0, 19: 0.1503, 20: 0.004, 22: 1.0, 289: 1.0, 310: 1.0, 328: 1.0, 331: 1.0}), label=0, rawPrediction=DenseVector([4.5493, 6.4507]), probability=DenseVector([0.4136, 0.5864]), prediction=1.0),\n",
       " Row(features=SparseVector(335, {0: 35000.0, 1: 35000.0, 2: 35000.0, 3: 20.2, 4: 931.19, 5: 100000.0, 6: 15.56, 7: 1.0, 8: 2.0, 9: 15.0, 11: 22967.0, 12: 25.9, 13: 39.0, 16: 213830.0, 17: 88700.0, 18: 9.0, 19: 0.35, 20: 0.0093, 22: 1.0, 289: 1.0, 310: 1.0, 328: 1.0, 331: 1.0}), label=1, rawPrediction=DenseVector([4.9938, 6.0062]), probability=DenseVector([0.454, 0.546]), prediction=1.0),\n",
       " Row(features=SparseVector(335, {0: 17000.0, 1: 17000.0, 2: 17000.0, 3: 22.9, 4: 657.18, 5: 68000.0, 6: 23.32, 7: 1.0, 8: 1.0, 9: 11.0, 11: 10036.0, 12: 91.2, 13: 27.0, 16: 71194.0, 17: 11000.0, 18: 6.0, 19: 0.25, 20: 0.0097, 22: 1.0, 290: 1.0, 316: 1.0, 329: 1.0, 332: 1.0}), label=0, rawPrediction=DenseVector([2.6858, 8.3142]), probability=DenseVector([0.2442, 0.7558]), prediction=1.0),\n",
       " Row(features=SparseVector(335, {0: 20000.0, 1: 20000.0, 2: 20000.0, 3: 24.5, 4: 581.18, 5: 100000.0, 6: 14.96, 7: 1.0, 8: 1.0, 9: 6.0, 11: 9441.0, 12: 85.8, 13: 13.0, 16: 71830.0, 17: 11000.0, 18: 4.0, 19: 0.2, 20: 0.0058, 22: 1.0, 291: 1.0, 320: 1.0, 330: 1.0, 331: 1.0}), label=1, rawPrediction=DenseVector([3.4862, 7.5138]), probability=DenseVector([0.3169, 0.6831]), prediction=1.0),\n",
       " Row(features=SparseVector(335, {0: 35000.0, 1: 35000.0, 2: 35000.0, 3: 24.5, 4: 1017.07, 5: 175000.0, 6: 7.77, 7: 1.0, 8: 2.0, 9: 11.0, 11: 5076.0, 12: 66.8, 13: 24.0, 16: 98037.0, 17: 7600.0, 18: 1.0, 19: 0.2, 20: 0.0058, 22: 1.0, 291: 1.0, 320: 1.0, 330: 1.0, 332: 1.0}), label=0, rawPrediction=DenseVector([3.7708, 7.2292]), probability=DenseVector([0.3428, 0.6572]), prediction=1.0),\n",
       " Row(features=SparseVector(335, {0: 24000.0, 1: 24000.0, 2: 24000.0, 3: 11.99, 4: 533.75, 5: 144000.0, 6: 15.43, 7: 1.0, 8: 1.0, 9: 16.0, 11: 3515.0, 12: 17.7, 13: 41.0, 16: 355746.0, 17: 19900.0, 18: 1.0, 19: 0.1667, 20: 0.0037, 23: 1.0, 286: 1.0, 293: 1.0, 330: 1.0, 331: 1.0}), label=0, rawPrediction=DenseVector([7.8088, 3.1912]), probability=DenseVector([0.7099, 0.2901]), prediction=0.0),\n",
       " Row(features=SparseVector(335, {0: 8000.0, 1: 8000.0, 2: 8000.0, 3: 10.99, 4: 261.88, 5: 197000.0, 6: 15.64, 7: 2.0, 8: 3.0, 9: 16.0, 11: 16962.0, 12: 46.6, 13: 34.0, 16: 893399.0, 17: 37000.0, 18: 2.0, 19: 0.0406, 20: 0.0013, 23: 1.0, 286: 1.0, 296: 1.0, 328: 1.0, 333: 1.0}), label=1, rawPrediction=DenseVector([8.1764, 2.8236]), probability=DenseVector([0.7433, 0.2567]), prediction=0.0),\n",
       " Row(features=SparseVector(335, {0: 4200.0, 1: 4200.0, 2: 4200.0, 3: 14.3, 4: 144.16, 5: 125000.0, 6: 8.8, 7: 1.0, 8: 1.0, 9: 10.0, 11: 5165.0, 12: 66.2, 13: 41.0, 16: 137799.0, 17: 7800.0, 18: 10.0, 19: 0.0336, 20: 0.0012, 23: 1.0, 287: 1.0, 295: 1.0, 329: 1.0, 331: 1.0}), label=0, rawPrediction=DenseVector([6.8196, 4.1804]), probability=DenseVector([0.62, 0.38]), prediction=0.0),\n",
       " Row(features=SparseVector(335, {0: 18000.0, 1: 18000.0, 2: 17925.0, 3: 15.1, 4: 429.17, 5: 80000.0, 6: 16.12, 7: 1.0, 8: 3.0, 9: 21.0, 11: 38167.0, 12: 38.6, 13: 39.0, 16: 323242.0, 17: 98800.0, 18: 6.0, 19: 0.225, 20: 0.0054, 23: 1.0, 287: 1.0, 297: 1.0, 328: 1.0, 331: 1.0}), label=0, rawPrediction=DenseVector([5.7457, 5.2543]), probability=DenseVector([0.5223, 0.4777]), prediction=0.0),\n",
       " Row(features=SparseVector(335, {0: 6600.0, 1: 6600.0, 2: 6600.0, 3: 15.61, 4: 230.77, 5: 84000.0, 6: 16.83, 7: 1.0, 8: 1.0, 9: 8.0, 11: 32544.0, 12: 84.7, 13: 28.0, 16: 119593.0, 17: 38400.0, 18: 10.0, 19: 0.0786, 20: 0.0027, 23: 1.0, 287: 1.0, 299: 1.0, 330: 1.0, 331: 1.0}), label=0, rawPrediction=DenseVector([6.1535, 4.8465]), probability=DenseVector([0.5594, 0.4406]), prediction=0.0),\n",
       " Row(features=SparseVector(335, {0: 8000.0, 1: 8000.0, 2: 8000.0, 3: 15.61, 4: 279.72, 5: 87000.0, 6: 22.91, 7: 1.0, 8: 1.0, 9: 12.0, 11: 4824.0, 12: 87.7, 13: 47.0, 16: 249214.0, 17: 5500.0, 18: 10.0, 19: 0.092, 20: 0.0032, 23: 1.0, 287: 1.0, 299: 1.0, 330: 1.0, 331: 1.0}), label=0, rawPrediction=DenseVector([6.252, 4.748]), probability=DenseVector([0.5684, 0.4316]), prediction=0.0),\n",
       " Row(features=SparseVector(335, {0: 15000.0, 1: 15000.0, 2: 15000.0, 3: 14.98, 4: 356.7, 5: 85000.0, 6: 11.44, 7: 2.0, 8: 1.0, 9: 12.0, 11: 17207.0, 12: 30.6, 13: 26.0, 16: 244576.0, 17: 56300.0, 18: 10.0, 19: 0.1765, 20: 0.0042, 23: 1.0, 287: 1.0, 299: 1.0, 330: 1.0, 331: 1.0}), label=0, rawPrediction=DenseVector([6.246, 4.754]), probability=DenseVector([0.5678, 0.4322]), prediction=0.0),\n",
       " Row(features=SparseVector(335, {0: 15000.0, 1: 15000.0, 2: 15000.0, 3: 17.1, 4: 535.54, 5: 120000.0, 6: 12.91, 7: 2.0, 8: 1.0, 9: 16.0, 11: 106075.0, 12: 60.8, 13: 29.0, 16: 494109.0, 17: 125300.0, 18: 10.0, 19: 0.125, 20: 0.0045, 23: 1.0, 287: 1.0, 303: 1.0, 330: 1.0, 331: 1.0}), label=1, rawPrediction=DenseVector([5.8083, 5.1917]), probability=DenseVector([0.528, 0.472]), prediction=0.0),\n",
       " Row(features=SparseVector(335, {0: 28000.0, 1: 28000.0, 2: 27800.0, 3: 7.62, 4: 872.52, 5: 110000.0, 6: 8.07, 7: 1.0, 8: 2.0, 9: 15.0, 11: 13234.0, 12: 13.0, 13: 33.0, 16: 187741.0, 17: 101767.0, 18: 1.0, 19: 0.2545, 20: 0.0079, 23: 1.0, 288: 1.0, 309: 1.0, 328: 1.0, 331: 1.0}), label=0, rawPrediction=DenseVector([9.1094, 1.8906]), probability=DenseVector([0.8281, 0.1719]), prediction=0.0),\n",
       " Row(features=SparseVector(335, {0: 14300.0, 1: 14300.0, 2: 14300.0, 3: 17.57, 4: 513.9, 5: 110000.0, 6: 10.1, 7: 1.0, 8: 1.0, 9: 10.0, 11: 6230.0, 12: 66.0, 13: 25.0, 16: 86656.0, 17: 9500.0, 18: 3.0, 19: 0.13, 20: 0.0047, 23: 1.0, 289: 1.0, 306: 1.0, 329: 1.0, 331: 1.0}), label=0, rawPrediction=DenseVector([5.0219, 5.9781]), probability=DenseVector([0.4565, 0.5435]), prediction=1.0),\n",
       " Row(features=SparseVector(335, {0: 12000.0, 1: 12000.0, 2: 12000.0, 3: 17.57, 4: 301.93, 5: 80000.0, 6: 8.49, 7: 3.0, 8: 1.0, 9: 8.0, 11: 10137.0, 12: 49.7, 13: 23.0, 16: 247596.0, 17: 20400.0, 18: 10.0, 19: 0.15, 20: 0.0038, 23: 1.0, 289: 1.0, 306: 1.0, 330: 1.0, 331: 1.0}), label=0, rawPrediction=DenseVector([5.0258, 5.9742]), probability=DenseVector([0.4569, 0.5431]), prediction=1.0),\n",
       " Row(features=SparseVector(335, {0: 7125.0, 1: 7125.0, 2: 7125.0, 3: 19.2, 4: 261.9, 5: 65000.0, 6: 16.86, 7: 1.0, 8: 1.0, 9: 8.0, 11: 2473.0, 12: 31.3, 13: 43.0, 16: 19864.0, 17: 7900.0, 18: 5.0, 19: 0.1096, 20: 0.004, 23: 1.0, 289: 1.0, 307: 1.0, 329: 1.0, 331: 1.0}), label=0, rawPrediction=DenseVector([5.3369, 5.6631]), probability=DenseVector([0.4852, 0.5148]), prediction=1.0),\n",
       " Row(features=SparseVector(335, {0: 21000.0, 1: 21000.0, 2: 21000.0, 3: 19.97, 4: 556.03, 5: 105000.0, 6: 21.21, 7: 1.0, 8: 3.0, 9: 10.0, 11: 2048.0, 12: 23.3, 13: 24.0, 16: 230387.0, 17: 8800.0, 18: 8.0, 19: 0.2, 20: 0.0053, 23: 1.0, 289: 1.0, 310: 1.0, 328: 1.0, 331: 1.0}), label=0, rawPrediction=DenseVector([4.3831, 6.6169]), probability=DenseVector([0.3985, 0.6015]), prediction=1.0),\n",
       " Row(features=SparseVector(335, {0: 35000.0, 1: 35000.0, 2: 35000.0, 3: 24.5, 4: 1017.07, 5: 120000.0, 6: 19.39, 7: 3.0, 8: 2.0, 9: 11.0, 11: 7618.0, 12: 80.2, 13: 29.0, 16: 380392.0, 17: 9500.0, 18: 10.0, 19: 0.2917, 20: 0.0085, 23: 1.0, 291: 1.0, 320: 1.0, 330: 1.0, 331: 1.0}), label=1, rawPrediction=DenseVector([4.3547, 6.6453]), probability=DenseVector([0.3959, 0.6041]), prediction=1.0),\n",
       " Row(features=SparseVector(335, {0: 35000.0, 1: 35000.0, 2: 34975.0, 3: 25.83, 4: 1044.4, 5: 145000.0, 6: 17.1, 7: 1.0, 8: 1.0, 9: 14.0, 11: 5864.0, 12: 77.2, 13: 24.0, 16: 206285.0, 17: 7600.0, 18: 10.0, 19: 0.2414, 20: 0.0072, 23: 1.0, 292: 1.0, 324: 1.0, 328: 1.0, 331: 1.0}), label=1, rawPrediction=DenseVector([4.0643, 6.9357]), probability=DenseVector([0.3695, 0.6305]), prediction=1.0),\n",
       " Row(features=SparseVector(335, {0: 16000.0, 1: 16000.0, 2: 16000.0, 3: 11.99, 4: 531.36, 5: 95000.0, 6: 16.4, 7: 1.0, 8: 1.0, 9: 5.0, 11: 1119.0, 12: 14.0, 13: 24.0, 16: 122906.0, 17: 8000.0, 18: 5.0, 19: 0.1684, 20: 0.0056, 24: 1.0, 286: 1.0, 293: 1.0, 329: 1.0, 331: 1.0}), label=0, rawPrediction=DenseVector([6.6524, 4.3476]), probability=DenseVector([0.6048, 0.3952]), prediction=0.0),\n",
       " Row(features=SparseVector(335, {0: 24000.0, 1: 24000.0, 2: 23975.0, 3: 13.98, 4: 820.04, 5: 80000.0, 6: 17.06, 7: 1.0, 8: 1.0, 9: 16.0, 11: 24035.0, 12: 41.9, 13: 44.0, 16: 109613.0, 17: 57300.0, 18: 5.0, 19: 0.3, 20: 0.0103, 24: 1.0, 287: 1.0, 295: 1.0, 328: 1.0, 331: 1.0}), label=0, rawPrediction=DenseVector([5.1225, 5.8775]), probability=DenseVector([0.4657, 0.5343]), prediction=1.0),\n",
       " Row(features=SparseVector(335, {0: 1925.0, 1: 1925.0, 2: 1925.0, 3: 14.3, 4: 66.08, 5: 38000.0, 6: 9.73, 7: 3.0, 8: 1.0, 9: 15.0, 11: 1327.0, 12: 7.5, 13: 52.0, 16: 31987.0, 17: 17598.0, 18: 10.0, 19: 0.0507, 20: 0.0017, 24: 1.0, 287: 1.0, 295: 1.0, 329: 1.0, 331: 1.0}), label=0, rawPrediction=DenseVector([6.2065, 4.7935]), probability=DenseVector([0.5642, 0.4358]), prediction=0.0),\n",
       " Row(features=SparseVector(335, {0: 9000.0, 1: 9000.0, 2: 9000.0, 3: 14.3, 4: 308.92, 5: 160000.0, 6: 2.8, 7: 3.0, 8: 3.0, 9: 11.0, 11: 10667.0, 12: 58.0, 13: 33.0, 16: 14014.0, 17: 18400.0, 18: 1.0, 19: 0.0562, 20: 0.0019, 24: 1.0, 287: 1.0, 295: 1.0, 329: 1.0, 332: 1.0}), label=1, rawPrediction=DenseVector([6.0326, 4.9674]), probability=DenseVector([0.5484, 0.4516]), prediction=0.0),\n",
       " Row(features=SparseVector(335, {0: 5000.0, 1: 5000.0, 2: 5000.0, 3: 14.98, 4: 173.28, 5: 53000.0, 6: 24.41, 7: 2.0, 8: 2.0, 9: 9.0, 11: 7357.0, 12: 85.5, 13: 27.0, 16: 283452.0, 17: 8600.0, 18: 10.0, 19: 0.0943, 20: 0.0033, 24: 1.0, 287: 1.0, 299: 1.0, 328: 1.0, 331: 1.0}), label=0, rawPrediction=DenseVector([5.4079, 5.5921]), probability=DenseVector([0.4916, 0.5084]), prediction=1.0),\n",
       " Row(features=SparseVector(335, {0: 15000.0, 1: 15000.0, 2: 15000.0, 3: 16.2, 4: 528.84, 5: 171000.0, 6: 6.18, 7: 6.0, 8: 1.0, 9: 9.0, 11: 12147.0, 12: 26.0, 13: 26.0, 16: 595296.0, 17: 46700.0, 18: 7.0, 19: 0.0877, 20: 0.0031, 24: 1.0, 287: 1.0, 300: 1.0, 329: 1.0, 331: 1.0}), label=0, rawPrediction=DenseVector([5.3525, 5.6475]), probability=DenseVector([0.4866, 0.5134]), prediction=1.0),\n",
       " Row(features=SparseVector(335, {0: 9500.0, 1: 9500.0, 2: 9475.0, 3: 16.24, 4: 335.12, 5: 33000.0, 6: 17.67, 7: 1.0, 8: 1.0, 9: 3.0, 11: 2675.0, 12: 68.6, 13: 12.0, 16: 20663.0, 17: 3900.0, 18: 10.0, 19: 0.2879, 20: 0.0102, 24: 1.0, 287: 1.0, 303: 1.0, 329: 1.0, 332: 1.0}), label=1, rawPrediction=DenseVector([4.007, 6.993]), probability=DenseVector([0.3643, 0.6357]), prediction=1.0),\n",
       " Row(features=SparseVector(335, {0: 17500.0, 1: 17500.0, 2: 17500.0, 3: 17.76, 4: 442.11, 5: 61000.0, 6: 24.1, 7: 1.0, 8: 1.0, 9: 8.0, 11: 2405.0, 12: 40.1, 13: 28.0, 16: 273288.0, 17: 6000.0, 18: 7.0, 19: 0.2869, 20: 0.0072, 24: 1.0, 289: 1.0, 305: 1.0, 328: 1.0, 331: 1.0}), label=0, rawPrediction=DenseVector([4.3413, 6.6587]), probability=DenseVector([0.3947, 0.6053]), prediction=1.0),\n",
       " Row(features=SparseVector(335, {0: 7750.0, 1: 7750.0, 2: 7750.0, 3: 18.55, 4: 282.33, 5: 45000.0, 6: 13.6, 7: 4.0, 8: 3.0, 9: 8.0, 11: 872.0, 12: 22.4, 13: 11.0, 16: 10792.0, 17: 3900.0, 18: 1.0, 19: 0.1722, 20: 0.0063, 24: 1.0, 289: 1.0, 306: 1.0, 329: 1.0, 332: 1.0}), label=0, rawPrediction=DenseVector([4.5229, 6.4771]), probability=DenseVector([0.4112, 0.5888]), prediction=1.0),\n",
       " Row(features=SparseVector(335, {0: 12000.0, 1: 12000.0, 2: 12000.0, 3: 18.55, 4: 437.15, 5: 75000.0, 6: 21.84, 7: 1.0, 8: 2.0, 9: 12.0, 11: 5246.0, 12: 36.4, 13: 22.0, 16: 269770.0, 17: 14400.0, 18: 2.0, 19: 0.16, 20: 0.0058, 24: 1.0, 289: 1.0, 306: 1.0, 330: 1.0, 331: 1.0}), label=1, rawPrediction=DenseVector([5.9237, 5.0763]), probability=DenseVector([0.5385, 0.4615]), prediction=0.0),\n",
       " Row(features=SparseVector(335, {0: 8000.0, 1: 8000.0, 2: 8000.0, 3: 19.52, 4: 209.83, 5: 86000.0, 6: 21.25, 7: 1.0, 8: 1.0, 9: 12.0, 11: 17114.0, 12: 86.4, 13: 31.0, 16: 318859.0, 17: 19800.0, 18: 10.0, 19: 0.093, 20: 0.0024, 24: 1.0, 289: 1.0, 308: 1.0, 328: 1.0, 331: 1.0}), label=0, rawPrediction=DenseVector([4.994, 6.006]), probability=DenseVector([0.454, 0.546]), prediction=1.0),\n",
       " Row(features=SparseVector(335, {0: 14050.0, 1: 14050.0, 2: 14050.0, 3: 19.52, 4: 518.72, 5: 91200.0, 6: 0.33, 7: 2.0, 8: 1.0, 9: 4.0, 11: 237.0, 12: 4.1, 13: 14.0, 16: 601826.0, 17: 5800.0, 18: 10.0, 19: 0.1541, 20: 0.0057, 24: 1.0, 289: 1.0, 308: 1.0, 329: 1.0, 331: 1.0}), label=0, rawPrediction=DenseVector([5.576, 5.424]), probability=DenseVector([0.5069, 0.4931]), prediction=0.0),\n",
       " Row(features=SparseVector(335, {0: 10000.0, 1: 10000.0, 2: 10000.0, 3: 20.2, 4: 372.66, 5: 52000.0, 6: 19.94, 7: 1.0, 8: 1.0, 9: 12.0, 11: 9804.0, 12: 82.4, 13: 17.0, 16: 21586.0, 17: 11900.0, 18: 9.0, 19: 0.1923, 20: 0.0072, 24: 1.0, 289: 1.0, 310: 1.0, 330: 1.0, 332: 1.0}), label=1, rawPrediction=DenseVector([3.5052, 7.4948]), probability=DenseVector([0.3187, 0.6813]), prediction=1.0),\n",
       " Row(features=SparseVector(335, {0: 13750.0, 1: 13750.0, 2: 13750.0, 3: 23.1, 4: 388.41, 5: 63000.0, 6: 26.29, 7: 1.0, 8: 1.0, 9: 14.0, 11: 1137.0, 12: 15.4, 13: 25.0, 16: 47364.0, 17: 7400.0, 18: 7.0, 19: 0.2183, 20: 0.0062, 24: 1.0, 290: 1.0, 316: 1.0, 328: 1.0, 332: 1.0}), label=0, rawPrediction=DenseVector([3.7303, 7.2697]), probability=DenseVector([0.3391, 0.6609]), prediction=1.0),\n",
       " Row(features=SparseVector(335, {0: 17325.0, 1: 17325.0, 2: 17325.0, 3: 23.7, 4: 495.4, 5: 45000.0, 6: 29.2, 7: 1.0, 8: 2.0, 9: 10.0, 11: 24221.0, 12: 76.2, 13: 41.0, 16: 33997.0, 17: 31800.0, 18: 10.0, 19: 0.385, 20: 0.011, 24: 1.0, 291: 1.0, 318: 1.0, 330: 1.0, 333: 1.0}), label=1, rawPrediction=DenseVector([2.5275, 8.4725]), probability=DenseVector([0.2298, 0.7702]), prediction=1.0),\n",
       " Row(features=SparseVector(335, {0: 12000.0, 1: 12000.0, 2: 12000.0, 3: 25.8, 4: 357.87, 5: 130000.0, 6: 13.83, 7: 1.0, 8: 2.0, 9: 12.0, 11: 42619.0, 12: 76.0, 13: 55.0, 16: 73823.0, 17: 56100.0, 18: 10.0, 19: 0.0923, 20: 0.0028, 24: 1.0, 292: 1.0, 323: 1.0, 328: 1.0, 331: 1.0}), label=0, rawPrediction=DenseVector([3.1311, 7.8689]), probability=DenseVector([0.2846, 0.7154]), prediction=1.0),\n",
       " Row(features=SparseVector(335, {0: 4800.0, 1: 4800.0, 2: 4800.0, 3: 11.99, 4: 159.41, 5: 68000.0, 6: 26.51, 7: 2.0, 8: 1.0, 9: 12.0, 11: 6673.0, 12: 24.4, 13: 24.0, 16: 45371.0, 17: 27300.0, 18: 5.0, 19: 0.0706, 20: 0.0023, 25: 1.0, 286: 1.0, 293: 1.0, 329: 1.0, 332: 1.0}), label=0, rawPrediction=DenseVector([6.3216, 4.6784]), probability=DenseVector([0.5747, 0.4253]), prediction=0.0),\n",
       " Row(features=SparseVector(335, {0: 5000.0, 1: 5000.0, 2: 5000.0, 3: 14.98, 4: 173.28, 5: 55000.0, 6: 17.3, 7: 3.0, 8: 1.0, 9: 14.0, 11: 11164.0, 12: 66.9, 13: 32.0, 16: 99038.0, 17: 16700.0, 18: 1.0, 19: 0.0909, 20: 0.0032, 25: 1.0, 287: 1.0, 299: 1.0, 329: 1.0, 331: 1.0}), label=0, rawPrediction=DenseVector([6.4345, 4.5655]), probability=DenseVector([0.585, 0.415]), prediction=0.0),\n",
       " Row(features=SparseVector(335, {0: 17000.0, 1: 17000.0, 2: 17000.0, 3: 17.76, 4: 429.48, 5: 128000.0, 6: 7.35, 7: 1.0, 8: 2.0, 9: 7.0, 11: 1594.0, 12: 38.0, 13: 23.0, 16: 289769.0, 17: 4200.0, 18: 10.0, 19: 0.1328, 20: 0.0034, 25: 1.0, 289: 1.0, 305: 1.0, 328: 1.0, 332: 1.0}), label=0, rawPrediction=DenseVector([4.9213, 6.0787]), probability=DenseVector([0.4474, 0.5526]), prediction=1.0),\n",
       " Row(features=SparseVector(335, {0: 25000.0, 1: 25000.0, 2: 25000.0, 3: 18.55, 4: 642.34, 5: 71000.0, 6: 7.53, 7: 1.0, 8: 1.0, 9: 11.0, 11: 116925.0, 12: 15.5, 13: 23.0, 16: 323598.0, 17: 157600.0, 18: 6.0, 19: 0.3521, 20: 0.009, 25: 1.0, 289: 1.0, 306: 1.0, 330: 1.0, 331: 1.0}), label=0, rawPrediction=DenseVector([5.0033, 5.9967]), probability=DenseVector([0.4548, 0.5452]), prediction=1.0),\n",
       " Row(features=SparseVector(335, {0: 4800.0, 1: 4800.0, 2: 4800.0, 3: 18.55, 4: 174.86, 5: 200000.0, 6: 7.48, 7: 1.0, 8: 1.0, 9: 14.0, 11: 14957.0, 12: 35.3, 13: 25.0, 16: 19498.0, 17: 42400.0, 18: 10.0, 19: 0.024, 20: 0.0009, 25: 1.0, 289: 1.0, 306: 1.0, 330: 1.0, 333: 1.0}), label=0, rawPrediction=DenseVector([5.4285, 5.5715]), probability=DenseVector([0.4935, 0.5065]), prediction=1.0),\n",
       " Row(features=SparseVector(335, {0: 16000.0, 1: 16000.0, 2: 15975.0, 3: 15.61, 4: 385.79, 5: 93000.0, 6: 15.69, 7: 3.0, 8: 3.0, 9: 14.0, 11: 20811.0, 12: 20.5, 13: 33.0, 16: 253870.0, 17: 101600.0, 18: 4.0, 19: 0.172, 20: 0.0041, 26: 1.0, 287: 1.0, 299: 1.0, 328: 1.0, 331: 1.0}), label=0, rawPrediction=DenseVector([5.375, 5.625]), probability=DenseVector([0.4886, 0.5114]), prediction=1.0),\n",
       " Row(features=SparseVector(335, {0: 17475.0, 1: 17475.0, 2: 17475.0, 3: 15.61, 4: 611.01, 5: 70000.0, 6: 9.67, 7: 1.0, 8: 1.0, 9: 5.0, 11: 3662.0, 12: 35.2, 13: 14.0, 16: 183652.0, 17: 10400.0, 18: 6.0, 19: 0.2496, 20: 0.0087, 26: 1.0, 287: 1.0, 299: 1.0, 328: 1.0, 331: 1.0}), label=0, rawPrediction=DenseVector([5.2067, 5.7933]), probability=DenseVector([0.4733, 0.5267]), prediction=1.0),\n",
       " Row(features=SparseVector(335, {0: 13150.0, 1: 13150.0, 2: 13150.0, 3: 24.08, 4: 378.91, 5: 41500.0, 6: 17.73, 7: 1.0, 8: 1.0, 9: 6.0, 11: 9703.0, 12: 71.9, 13: 11.0, 16: 20747.0, 17: 13500.0, 18: 10.0, 19: 0.3169, 20: 0.0091, 26: 1.0, 291: 1.0, 319: 1.0, 328: 1.0, 333: 1.0}), label=1, rawPrediction=DenseVector([3.9551, 7.0449]), probability=DenseVector([0.3596, 0.6404]), prediction=1.0),\n",
       " Row(features=SparseVector(335, {0: 6400.0, 1: 6400.0, 2: 6400.0, 3: 14.3, 4: 219.68, 5: 24000.0, 6: 17.45, 7: 1.0, 8: 1.0, 9: 12.0, 11: 5243.0, 12: 44.4, 13: 36.0, 16: 43264.0, 17: 11800.0, 18: 1.0, 19: 0.2667, 20: 0.0092, 27: 1.0, 287: 1.0, 295: 1.0, 329: 1.0, 331: 1.0}), label=1, rawPrediction=DenseVector([5.8485, 5.1515]), probability=DenseVector([0.5317, 0.4683]), prediction=0.0),\n",
       " Row(features=SparseVector(335, {0: 6075.0, 1: 6075.0, 2: 6075.0, 3: 14.98, 4: 210.54, 5: 58000.0, 6: 7.37, 7: 3.0, 8: 3.0, 9: 8.0, 11: 2667.0, 12: 43.0, 13: 30.0, 16: 109424.0, 17: 6200.0, 18: 1.0, 19: 0.1047, 20: 0.0036, 27: 1.0, 287: 1.0, 299: 1.0, 329: 1.0, 331: 1.0}), label=0, rawPrediction=DenseVector([5.2667, 5.7333]), probability=DenseVector([0.4788, 0.5212]), prediction=1.0),\n",
       " Row(features=SparseVector(335, {0: 4800.0, 1: 4800.0, 2: 4800.0, 3: 17.1, 4: 171.38, 5: 34000.0, 6: 4.76, 7: 2.0, 8: 1.0, 9: 6.0, 11: 1900.0, 12: 15.3, 13: 8.0, 16: 1900.0, 17: 12400.0, 18: 1.0, 19: 0.1412, 20: 0.005, 27: 1.0, 287: 1.0, 303: 1.0, 328: 1.0, 332: 1.0}), label=0, rawPrediction=DenseVector([6.068, 4.932]), probability=DenseVector([0.5516, 0.4484]), prediction=0.0),\n",
       " Row(features=SparseVector(335, {0: 5000.0, 1: 5000.0, 2: 5000.0, 3: 20.2, 4: 186.33, 5: 48000.0, 6: 32.3, 7: 1.0, 8: 1.0, 9: 6.0, 11: 1084.0, 12: 38.7, 13: 21.0, 16: 109890.0, 17: 2800.0, 18: 10.0, 19: 0.1042, 20: 0.0039, 27: 1.0, 289: 1.0, 310: 1.0, 328: 1.0, 331: 1.0}), label=0, rawPrediction=DenseVector([4.8807, 6.1193]), probability=DenseVector([0.4437, 0.5563]), prediction=1.0),\n",
       " Row(features=SparseVector(335, {0: 10500.0, 1: 10500.0, 2: 10500.0, 3: 23.7, 4: 300.24, 5: 42240.0, 6: 19.43, 7: 1.0, 8: 3.0, 9: 7.0, 11: 3560.0, 12: 39.1, 13: 13.0, 16: 15552.0, 17: 9100.0, 18: 1.0, 19: 0.2486, 20: 0.0071, 27: 1.0, 291: 1.0, 318: 1.0, 328: 1.0, 332: 1.0}), label=1, rawPrediction=DenseVector([2.6447, 8.3553]), probability=DenseVector([0.2404, 0.7596]), prediction=1.0),\n",
       " Row(features=SparseVector(335, {0: 4000.0, 1: 4000.0, 2: 4000.0, 3: 14.3, 4: 137.3, 5: 55000.0, 6: 27.65, 7: 1.0, 8: 2.0, 9: 11.0, 11: 2841.0, 12: 26.3, 13: 31.0, 16: 55610.0, 17: 8000.0, 18: 8.0, 19: 0.0727, 20: 0.0025, 28: 1.0, 287: 1.0, 295: 1.0, 329: 1.0, 332: 1.0}), label=0, rawPrediction=DenseVector([4.9163, 6.0837]), probability=DenseVector([0.4469, 0.5531]), prediction=1.0),\n",
       " Row(features=SparseVector(335, {0: 27050.0, 1: 27050.0, 2: 27050.0, 3: 23.7, 4: 773.48, 5: 120000.0, 6: 7.89, 7: 1.0, 8: 2.0, 9: 6.0, 11: 15682.0, 12: 20.0, 13: 21.0, 16: 27682.0, 17: 78500.0, 18: 3.0, 19: 0.2254, 20: 0.0064, 28: 1.0, 291: 1.0, 318: 1.0, 330: 1.0, 332: 1.0}), label=1, rawPrediction=DenseVector([4.0517, 6.9483]), probability=DenseVector([0.3683, 0.6317]), prediction=1.0),\n",
       " Row(features=SparseVector(335, {0: 15850.0, 1: 15850.0, 2: 15850.0, 3: 25.8, 4: 472.69, 5: 115000.0, 6: 8.78, 7: 1.0, 8: 1.0, 9: 8.0, 11: 6959.0, 12: 53.5, 13: 18.0, 16: 278794.0, 17: 13000.0, 18: 8.0, 19: 0.1378, 20: 0.0041, 28: 1.0, 292: 1.0, 323: 1.0, 328: 1.0, 331: 1.0}), label=1, rawPrediction=DenseVector([4.2926, 6.7074]), probability=DenseVector([0.3902, 0.6098]), prediction=1.0),\n",
       " Row(features=SparseVector(335, {0: 15600.0, 1: 15600.0, 2: 15600.0, 3: 20.5, 4: 583.74, 5: 158000.0, 6: 16.57, 7: 3.0, 8: 3.0, 9: 13.0, 11: 5770.0, 12: 67.9, 13: 39.0, 16: 214991.0, 17: 8500.0, 18: 4.0, 19: 0.0987, 20: 0.0037, 29: 1.0, 290: 1.0, 313: 1.0, 329: 1.0, 332: 1.0}), label=0, rawPrediction=DenseVector([4.4356, 6.5644]), probability=DenseVector([0.4032, 0.5968]), prediction=1.0),\n",
       " Row(features=SparseVector(335, {0: 7200.0, 1: 7200.0, 2: 7200.0, 3: 12.99, 4: 242.57, 5: 30000.0, 6: 28.32, 7: 4.0, 8: 1.0, 9: 13.0, 11: 7987.0, 12: 41.4, 13: 25.0, 16: 29979.0, 17: 19300.0, 18: 8.0, 19: 0.24, 20: 0.0081, 31: 1.0, 286: 1.0, 294: 1.0, 329: 1.0, 332: 1.0}), label=1, rawPrediction=DenseVector([5.6863, 5.3137]), probability=DenseVector([0.5169, 0.4831]), prediction=0.0),\n",
       " Row(features=SparseVector(335, {0: 11500.0, 1: 11500.0, 2: 11500.0, 3: 15.61, 4: 402.1, 5: 42000.0, 6: 19.49, 7: 1.0, 8: 2.0, 9: 16.0, 11: 1369.0, 12: 27.9, 13: 23.0, 16: 80001.0, 17: 4900.0, 18: 1.0, 19: 0.2738, 20: 0.0096, 31: 1.0, 287: 1.0, 299: 1.0, 328: 1.0, 332: 1.0}), label=0, rawPrediction=DenseVector([4.3696, 6.6304]), probability=DenseVector([0.3972, 0.6028]), prediction=1.0),\n",
       " Row(features=SparseVector(335, {0: 11500.0, 1: 11500.0, 2: 11500.0, 3: 22.4, 4: 320.24, 5: 70000.0, 6: 13.58, 7: 1.0, 8: 1.0, 9: 10.0, 11: 8051.0, 12: 51.9, 13: 21.0, 16: 277391.0, 17: 15500.0, 18: 3.0, 19: 0.1643, 20: 0.0046, 31: 1.0, 290: 1.0, 315: 1.0, 328: 1.0, 331: 1.0}), label=0, rawPrediction=DenseVector([4.0521, 6.9479]), probability=DenseVector([0.3684, 0.6316]), prediction=1.0),\n",
       " Row(features=SparseVector(335, {0: 12000.0, 1: 12000.0, 2: 12000.0, 3: 21.0, 4: 324.65, 5: 60000.0, 6: 10.23, 7: 3.0, 8: 3.0, 9: 11.0, 11: 15835.0, 12: 66.8, 13: 24.0, 16: 180796.0, 17: 23700.0, 18: 6.0, 19: 0.2, 20: 0.0054, 32: 1.0, 290: 1.0, 313: 1.0, 330: 1.0, 331: 1.0}), label=0, rawPrediction=DenseVector([4.4665, 6.5335]), probability=DenseVector([0.406, 0.594]), prediction=1.0),\n",
       " Row(features=SparseVector(335, {0: 12000.0, 1: 12000.0, 2: 11975.0, 3: 10.99, 4: 392.81, 5: 60000.0, 6: 11.56, 7: 2.0, 8: 1.0, 9: 9.0, 11: 4698.0, 12: 11.5, 13: 28.0, 18: 1.0, 19: 0.2, 20: 0.0065, 21: 1.0, 286: 1.0, 293: 1.0, 328: 1.0, 332: 1.0}), label=0, rawPrediction=DenseVector([6.5516, 4.4484]), probability=DenseVector([0.5956, 0.4044]), prediction=0.0),\n",
       " Row(features=SparseVector(335, {0: 20000.0, 1: 20000.0, 2: 19958.8711, 3: 10.99, 4: 654.68, 5: 60000.0, 6: 17.26, 7: 1.0, 8: 1.0, 9: 9.0, 11: 14656.0, 12: 23.8, 13: 15.0, 18: 10.0, 19: 0.3333, 20: 0.0109, 21: 1.0, 286: 1.0, 293: 1.0, 328: 1.0, 332: 1.0}), label=0, rawPrediction=DenseVector([5.9021, 5.0979]), probability=DenseVector([0.5366, 0.4634]), prediction=0.0),\n",
       " Row(features=SparseVector(335, {0: 7000.0, 1: 7000.0, 2: 7000.0, 3: 11.71, 4: 231.54, 5: 22000.0, 6: 17.45, 7: 3.0, 8: 1.0, 9: 12.0, 11: 7467.0, 12: 25.7, 13: 19.0, 18: 10.0, 19: 0.3182, 20: 0.0105, 21: 1.0, 286: 1.0, 293: 1.0, 329: 1.0, 331: 1.0}), label=0, rawPrediction=DenseVector([6.0024, 4.9976]), probability=DenseVector([0.5457, 0.4543]), prediction=0.0),\n",
       " Row(features=SparseVector(335, {0: 7500.0, 1: 7500.0, 2: 7500.0, 3: 11.83, 4: 248.51, 5: 75000.0, 6: 18.88, 7: 1.0, 8: 2.0, 9: 10.0, 11: 8652.0, 12: 29.6, 13: 22.0, 18: 4.0, 19: 0.1, 20: 0.0033, 21: 1.0, 286: 1.0, 293: 1.0, 329: 1.0, 332: 1.0}), label=0, rawPrediction=DenseVector([6.8043, 4.1957]), probability=DenseVector([0.6186, 0.3814]), prediction=0.0),\n",
       " Row(features=SparseVector(335, {0: 7000.0, 1: 7000.0, 2: 6975.0, 3: 9.62, 4: 224.63, 5: 39300.0, 6: 22.69, 7: 1.0, 8: 1.0, 9: 8.0, 11: 14075.0, 12: 62.8, 13: 26.0, 18: 9.0, 19: 0.1781, 20: 0.0057, 21: 1.0, 286: 1.0, 293: 1.0, 330: 1.0, 331: 1.0}), label=0, rawPrediction=DenseVector([6.2931, 4.7069]), probability=DenseVector([0.5721, 0.4279]), prediction=0.0),\n",
       " Row(features=SparseVector(335, {0: 14400.0, 1: 14400.0, 2: 14375.0, 3: 11.71, 4: 476.3, 5: 125000.0, 6: 8.57, 7: 1.0, 8: 2.0, 9: 9.0, 11: 23438.0, 12: 59.5, 13: 55.0, 18: 8.0, 19: 0.1152, 20: 0.0038, 21: 1.0, 286: 1.0, 293: 1.0, 330: 1.0, 332: 1.0}), label=1, rawPrediction=DenseVector([6.9763, 4.0237]), probability=DenseVector([0.6342, 0.3658]), prediction=0.0),\n",
       " Row(features=SparseVector(335, {0: 12000.0, 1: 12000.0, 2: 11979.752, 3: 10.74, 4: 391.39, 5: 68500.0, 6: 3.99, 7: 1.0, 8: 3.0, 9: 10.0, 11: 8242.0, 12: 53.9, 13: 18.0, 18: 3.0, 19: 0.1752, 20: 0.0057, 21: 1.0, 286: 1.0, 294: 1.0, 328: 1.0, 331: 1.0}), label=0, rawPrediction=DenseVector([7.1047, 3.8953]), probability=DenseVector([0.6459, 0.3541]), prediction=0.0),\n",
       " Row(features=SparseVector(335, {0: 20000.0, 1: 20000.0, 2: 19975.0, 3: 10.74, 4: 652.32, 5: 65000.0, 6: 12.9, 7: 1.0, 8: 1.0, 9: 12.0, 11: 8227.0, 12: 21.0, 13: 29.0, 18: 10.0, 19: 0.3077, 20: 0.01, 21: 1.0, 286: 1.0, 294: 1.0, 328: 1.0, 332: 1.0}), label=0, rawPrediction=DenseVector([6.1348, 4.8652]), probability=DenseVector([0.5577, 0.4423]), prediction=0.0),\n",
       " Row(features=SparseVector(335, {0: 3500.0, 1: 3500.0, 2: 3500.0, 3: 10.99, 4: 114.58, 5: 59000.0, 6: 0.63, 7: 1.0, 8: 1.0, 9: 15.0, 11: 11279.0, 12: 19.5, 13: 38.0, 18: 4.0, 19: 0.0593, 20: 0.0019, 21: 1.0, 286: 1.0, 294: 1.0, 329: 1.0, 331: 1.0}), label=0, rawPrediction=DenseVector([6.7903, 4.2097]), probability=DenseVector([0.6173, 0.3827]), prediction=0.0),\n",
       " Row(features=SparseVector(335, {0: 7500.0, 1: 7500.0, 2: 7500.0, 3: 11.49, 4: 247.29, 5: 85000.0, 6: 4.9, 7: 2.0, 8: 2.0, 9: 8.0, 11: 1984.0, 12: 25.8, 13: 23.0, 18: 10.0, 19: 0.0882, 20: 0.0029, 21: 1.0, 286: 1.0, 294: 1.0, 329: 1.0, 331: 1.0}), label=0, rawPrediction=DenseVector([6.7256, 4.2744]), probability=DenseVector([0.6114, 0.3886]), prediction=0.0),\n",
       " Row(features=SparseVector(335, {0: 9250.0, 1: 9250.0, 2: 9200.0, 3: 11.89, 4: 306.77, 5: 65000.0, 6: 16.28, 7: 1.0, 8: 6.0, 9: 14.0, 11: 10111.0, 12: 23.7, 13: 32.0, 18: 6.0, 19: 0.1423, 20: 0.0047, 21: 1.0, 286: 1.0, 294: 1.0, 329: 1.0, 331: 1.0}), label=0, rawPrediction=DenseVector([6.9931, 4.0069]), probability=DenseVector([0.6357, 0.3643]), prediction=0.0),\n",
       " Row(features=SparseVector(335, {0: 5100.0, 1: 5100.0, 2: 5100.0, 3: 11.49, 4: 168.16, 5: 61150.0, 6: 14.31, 7: 1.0, 8: 1.0, 9: 10.0, 11: 5186.0, 12: 42.2, 13: 20.0, 18: 1.0, 19: 0.0834, 20: 0.0027, 21: 1.0, 286: 1.0, 294: 1.0, 329: 1.0, 332: 1.0}), label=0, rawPrediction=DenseVector([6.955, 4.045]), probability=DenseVector([0.6323, 0.3677]), prediction=0.0),\n",
       " Row(features=SparseVector(335, {0: 5600.0, 1: 5600.0, 2: 5600.0, 3: 11.49, 4: 184.64, 5: 48996.0, 6: 7.45, 7: 1.0, 8: 5.0, 9: 9.0, 11: 3227.0, 12: 30.4, 13: 15.0, 18: 8.0, 19: 0.1143, 20: 0.0038, 21: 1.0, 286: 1.0, 294: 1.0, 330: 1.0, 332: 1.0}), label=1, rawPrediction=DenseVector([6.2832, 4.7168]), probability=DenseVector([0.5712, 0.4288]), prediction=0.0),\n",
       " Row(features=SparseVector(335, {0: 8000.0, 1: 8000.0, 2: 7840.2031, 3: 11.49, 4: 175.91, 5: 26400.0, 6: 19.5, 7: 1.0, 8: 3.0, 9: 10.0, 11: 2288.0, 12: 13.1, 13: 15.0, 18: 8.0, 19: 0.303, 20: 0.0067, 21: 1.0, 286: 1.0, 294: 1.0, 330: 1.0, 332: 1.0}), label=0, rawPrediction=DenseVector([6.9933, 4.0067]), probability=DenseVector([0.6358, 0.3642]), prediction=0.0),\n",
       " Row(features=SparseVector(335, {0: 7200.0, 1: 7200.0, 2: 7200.0, 3: 10.65, 4: 234.53, 5: 105000.0, 6: 5.28, 7: 1.0, 8: 3.0, 9: 10.0, 11: 15195.0, 12: 38.2, 13: 38.0, 18: 2.0, 19: 0.0686, 20: 0.0022, 21: 1.0, 286: 1.0, 296: 1.0, 329: 1.0, 331: 1.0}), label=0, rawPrediction=DenseVector([6.9908, 4.0092]), probability=DenseVector([0.6355, 0.3645]), prediction=0.0),\n",
       " Row(features=SparseVector(335, {0: 3000.0, 1: 3000.0, 2: 672.97, 3: 9.01, 4: 95.42, 5: 10000.0, 6: 6.72, 7: 1.0, 8: 3.0, 9: 2.0, 11: 2808.0, 12: 51.1, 13: 7.0, 18: 10.0, 19: 0.3, 20: 0.0095, 21: 1.0, 286: 1.0, 296: 1.0, 329: 1.0, 332: 1.0}), label=0, rawPrediction=DenseVector([5.3897, 5.6103]), probability=DenseVector([0.49, 0.51]), prediction=1.0),\n",
       " Row(features=SparseVector(335, {0: 17500.0, 1: 17500.0, 2: 17125.0, 3: 11.48, 4: 576.95, 5: 636000.0, 6: 1.55, 7: 1.0, 8: 3.0, 9: 12.0, 11: 9132.0, 12: 36.5, 13: 24.0, 18: 2.0, 19: 0.0275, 20: 0.0009, 21: 1.0, 286: 1.0, 296: 1.0, 329: 1.0, 332: 1.0}), label=0, rawPrediction=DenseVector([6.7886, 4.2114]), probability=DenseVector([0.6171, 0.3829]), prediction=0.0),\n",
       " Row(features=SparseVector(335, {0: 7800.0, 1: 7800.0, 2: 7800.0, 3: 10.65, 4: 254.08, 5: 48000.0, 6: 7.15, 7: 1.0, 8: 2.0, 9: 6.0, 11: 11063.0, 12: 74.7, 13: 24.0, 18: 9.0, 19: 0.1625, 20: 0.0053, 21: 1.0, 286: 1.0, 296: 1.0, 330: 1.0, 331: 1.0}), label=0, rawPrediction=DenseVector([6.914, 4.086]), probability=DenseVector([0.6285, 0.3715]), prediction=0.0),\n",
       " Row(features=SparseVector(335, {0: 20000.0, 1: 20000.0, 2: 19900.0, 3: 11.36, 4: 658.23, 5: 71000.0, 6: 8.25, 7: 4.0, 8: 1.0, 9: 20.0, 11: 30987.0, 12: 48.4, 13: 39.0, 18: 10.0, 19: 0.2817, 20: 0.0093, 21: 1.0, 286: 1.0, 298: 1.0, 328: 1.0, 331: 1.0}), label=0, rawPrediction=DenseVector([5.997, 5.003]), probability=DenseVector([0.5452, 0.4548]), prediction=0.0),\n",
       " Row(features=SparseVector(335, {0: 20000.0, 1: 20000.0, 2: 15754.6504, 3: 12.21, 4: 666.3, 5: 100000.0, 6: 8.89, 7: 1.0, 8: 2.0, 9: 12.0, 11: 20636.0, 12: 22.6, 13: 31.0, 18: 1.0, 19: 0.2, 20: 0.0067, 21: 1.0, 286: 1.0, 298: 1.0, 328: 1.0, 332: 1.0}), label=0, rawPrediction=DenseVector([5.979, 5.021]), probability=DenseVector([0.5435, 0.4565]), prediction=0.0),\n",
       " Row(features=SparseVector(335, {0: 4000.0, 1: 4000.0, 2: 4000.0, 3: 11.11, 4: 131.17, 5: 54000.0, 6: 17.16, 7: 1.0, 8: 3.0, 9: 8.0, 11: 4191.0, 12: 82.2, 13: 18.0, 18: 2.0, 19: 0.0741, 20: 0.0024, 21: 1.0, 286: 1.0, 298: 1.0, 329: 1.0, 331: 1.0}), label=0, rawPrediction=DenseVector([6.0905, 4.9095]), probability=DenseVector([0.5537, 0.4463]), prediction=0.0),\n",
       " Row(features=SparseVector(335, {0: 8000.0, 1: 8000.0, 2: 7925.0, 3: 10.36, 4: 259.5, 5: 45000.0, 6: 18.45, 7: 1.0, 8: 3.0, 9: 13.0, 11: 3509.0, 12: 31.9, 13: 27.0, 18: 5.0, 19: 0.1778, 20: 0.0058, 21: 1.0, 286: 1.0, 298: 1.0, 329: 1.0, 331: 1.0}), label=0, rawPrediction=DenseVector([6.6608, 4.3392]), probability=DenseVector([0.6055, 0.3945]), prediction=0.0),\n",
       " Row(features=SparseVector(335, {0: 3000.0, 1: 3000.0, 2: 3000.0, 3: 10.71, 4: 97.81, 5: 42264.0, 6: 16.83, 7: 1.0, 8: 2.0, 9: 11.0, 11: 8911.0, 12: 53.4, 13: 19.0, 18: 3.0, 19: 0.071, 20: 0.0023, 21: 1.0, 286: 1.0, 298: 1.0, 329: 1.0, 332: 1.0}), label=0, rawPrediction=DenseVector([6.5292, 4.4708]), probability=DenseVector([0.5936, 0.4064]), prediction=0.0),\n",
       " Row(features=SparseVector(335, {0: 9000.0, 1: 9000.0, 2: 9000.0, 3: 11.99, 4: 298.89, 5: 40000.0, 6: 24.45, 7: 3.0, 8: 1.0, 9: 9.0, 11: 10602.0, 12: 27.3, 13: 24.0, 18: 1.0, 19: 0.225, 20: 0.0075, 21: 1.0, 286: 1.0, 298: 1.0, 329: 1.0, 332: 1.0}), label=0, rawPrediction=DenseVector([6.4382, 4.5618]), probability=DenseVector([0.5853, 0.4147]), prediction=0.0),\n",
       " Row(features=SparseVector(335, {0: 11500.0, 1: 11500.0, 2: 11475.0, 3: 11.36, 4: 378.48, 5: 30000.0, 6: 22.68, 7: 1.0, 8: 1.0, 9: 8.0, 11: 946.0, 12: 9.0, 13: 12.0, 18: 3.0, 19: 0.3833, 20: 0.0126, 21: 1.0, 286: 1.0, 298: 1.0, 329: 1.0, 333: 1.0}), label=0, rawPrediction=DenseVector([6.6893, 4.3107]), probability=DenseVector([0.6081, 0.3919]), prediction=0.0),\n",
       " Row(features=SparseVector(335, {0: 4650.0, 1: 4650.0, 2: 4325.0, 3: 11.14, 4: 152.54, 5: 21600.0, 6: 22.11, 7: 1.0, 8: 4.0, 9: 11.0, 11: 20037.0, 12: 58.1, 13: 33.0, 18: 1.0, 19: 0.2153, 20: 0.0071, 21: 1.0, 286: 1.0, 301: 1.0, 329: 1.0, 331: 1.0}), label=0, rawPrediction=DenseVector([6.3964, 4.6036]), probability=DenseVector([0.5815, 0.4185]), prediction=0.0),\n",
       " Row(features=SparseVector(335, {0: 7200.0, 1: 7200.0, 2: 7200.0, 3: 9.99, 4: 232.29, 5: 120000.0, 6: 19.42, 7: 1.0, 8: 3.0, 9: 16.0, 11: 5550.0, 12: 10.9, 13: 32.0, 18: 10.0, 19: 0.06, 20: 0.0019, 21: 1.0, 286: 1.0, 301: 1.0, 329: 1.0, 331: 1.0}), label=0, rawPrediction=DenseVector([6.3275, 4.6725]), probability=DenseVector([0.5752, 0.4248]), prediction=0.0),\n",
       " Row(features=SparseVector(335, {0: 8000.0, 1: 8000.0, 2: 7871.3525, 3: 9.88, 4: 257.69, 5: 55000.0, 6: 9.99, 7: 1.0, 8: 1.0, 9: 11.0, 11: 3958.0, 12: 12.6, 13: 26.0, 18: 6.0, 19: 0.1455, 20: 0.0047, 21: 1.0, 286: 1.0, 301: 1.0, 329: 1.0, 331: 1.0}), label=0, rawPrediction=DenseVector([7.4731, 3.5269]), probability=DenseVector([0.6794, 0.3206]), prediction=0.0),\n",
       " Row(features=SparseVector(335, {0: 5000.0, 1: 5000.0, 2: 5000.0, 3: 11.14, 4: 164.02, 5: 50000.0, 6: 13.51, 7: 1.0, 8: 1.0, 9: 4.0, 11: 11919.0, 12: 76.9, 13: 15.0, 18: 5.0, 19: 0.1, 20: 0.0033, 21: 1.0, 286: 1.0, 301: 1.0, 329: 1.0, 332: 1.0}), label=0, rawPrediction=DenseVector([6.6279, 4.3721]), probability=DenseVector([0.6025, 0.3975]), prediction=0.0),\n",
       " Row(features=SparseVector(335, {0: 13000.0, 1: 13000.0, 2: 12950.0, 3: 8.88, 4: 412.68, 5: 55000.0, 6: 21.71, 7: 1.0, 8: 3.0, 9: 15.0, 11: 14908.0, 12: 53.8, 13: 39.0, 18: 10.0, 19: 0.2364, 20: 0.0075, 21: 1.0, 286: 1.0, 301: 1.0, 329: 1.0, 332: 1.0}), label=0, rawPrediction=DenseVector([6.877, 4.123]), probability=DenseVector([0.6252, 0.3748]), prediction=0.0),\n",
       " Row(features=SparseVector(335, {0: 10000.0, 1: 10000.0, 2: 9950.0, 3: 12.73, 4: 335.67, 5: 39996.0, 6: 9.57, 7: 1.0, 8: 1.0, 9: 7.0, 11: 2400.0, 12: 14.4, 13: 8.0, 18: 8.0, 19: 0.25, 20: 0.0084, 21: 1.0, 287: 1.0, 295: 1.0, 328: 1.0, 331: 1.0}), label=0, rawPrediction=DenseVector([5.6287, 5.3713]), probability=DenseVector([0.5117, 0.4883]), prediction=0.0),\n",
       " Row(features=SparseVector(335, {0: 18000.0, 1: 18000.0, 2: 18000.0, 3: 13.23, 4: 608.49, 5: 135000.0, 6: 19.95, 7: 1.0, 8: 2.0, 9: 18.0, 11: 133243.0, 12: 37.7, 13: 36.0, 18: 3.0, 19: 0.1333, 20: 0.0045, 21: 1.0, 287: 1.0, 295: 1.0, 328: 1.0, 331: 1.0}), label=0, rawPrediction=DenseVector([6.4218, 4.5782]), probability=DenseVector([0.5838, 0.4162]), prediction=0.0),\n",
       " Row(features=SparseVector(335, {0: 15000.0, 1: 12950.0, 2: 12299.7256, 3: 13.23, 4: 296.18, 5: 85000.0, 6: 14.91, 7: 4.0, 8: 1.0, 9: 8.0, 11: 3954.0, 12: 39.1, 13: 43.0, 18: 1.0, 19: 0.1765, 20: 0.0035, 21: 1.0, 287: 1.0, 295: 1.0, 328: 1.0, 332: 1.0}), label=0, rawPrediction=DenseVector([6.4981, 4.5019]), probability=DenseVector([0.5907, 0.4093]), prediction=0.0),\n",
       " Row(features=SparseVector(335, {0: 7500.0, 1: 7500.0, 2: 0.0019, 3: 11.03, 4: 245.65, 5: 60000.0, 6: 16.12, 7: 1.0, 8: 1.0, 9: 14.0, 11: 16382.0, 12: 52.3, 13: 54.0, 18: 3.0, 19: 0.125, 20: 0.0041, 21: 1.0, 287: 1.0, 295: 1.0, 329: 1.0, 331: 1.0}), label=1, rawPrediction=DenseVector([6.1045, 4.8955]), probability=DenseVector([0.555, 0.445]), prediction=0.0),\n",
       " Row(features=SparseVector(335, {0: 8500.0, 1: 8500.0, 2: 5574.1094, 3: 12.53, 4: 284.47, 5: 43000.0, 6: 9.27, 7: 1.0, 8: 3.0, 9: 8.0, 11: 3294.0, 12: 18.7, 13: 24.0, 18: 1.0, 19: 0.1977, 20: 0.0066, 21: 1.0, 287: 1.0, 295: 1.0, 329: 1.0, 331: 1.0}), label=1, rawPrediction=DenseVector([6.1388, 4.8612]), probability=DenseVector([0.5581, 0.4419]), prediction=0.0),\n",
       " Row(features=SparseVector(335, {0: 6500.0, 1: 6500.0, 2: 300.0, 3: 11.03, 4: 212.9, 5: 55000.0, 6: 11.76, 7: 1.0, 8: 1.0, 9: 7.0, 11: 6565.0, 12: 26.6, 13: 12.0, 18: 1.0, 19: 0.1182, 20: 0.0039, 21: 1.0, 287: 1.0, 295: 1.0, 329: 1.0, 332: 1.0}), label=0, rawPrediction=DenseVector([6.9542, 4.0458]), probability=DenseVector([0.6322, 0.3678]), prediction=0.0),\n",
       " Row(features=SparseVector(335, {0: 7500.0, 1: 7500.0, 2: 7425.0, 3: 12.73, 4: 251.75, 5: 26400.0, 6: 11.91, 7: 1.0, 8: 2.0, 9: 8.0, 11: 6202.0, 12: 33.7, 13: 20.0, 18: 8.0, 19: 0.2841, 20: 0.0095, 21: 1.0, 287: 1.0, 295: 1.0, 329: 1.0, 332: 1.0}), label=0, rawPrediction=DenseVector([5.1111, 5.8889]), probability=DenseVector([0.4646, 0.5354]), prediction=1.0),\n",
       " Row(features=SparseVector(335, {0: 3000.0, 1: 3000.0, 2: 3000.0, 3: 13.49, 4: 101.8, 5: 105000.0, 6: 7.25, 7: 1.0, 8: 2.0, 9: 8.0, 11: 15209.0, 12: 79.6, 13: 22.0, 18: 3.0, 19: 0.0286, 20: 0.001, 21: 1.0, 287: 1.0, 295: 1.0, 330: 1.0, 332: 1.0}), label=0, rawPrediction=DenseVector([5.9014, 5.0986]), probability=DenseVector([0.5365, 0.4635]), prediction=0.0),\n",
       " Row(features=SparseVector(335, {0: 9500.0, 1: 9500.0, 2: 9489.3936, 3: 12.87, 4: 319.52, 5: 47000.0, 6: 12.28, 7: 1.0, 8: 1.0, 9: 6.0, 11: 6696.0, 12: 47.8, 13: 10.0, 18: 5.0, 19: 0.2021, 20: 0.0068, 21: 1.0, 287: 1.0, 295: 1.0, 330: 1.0, 332: 1.0}), label=0, rawPrediction=DenseVector([5.7162, 5.2838]), probability=DenseVector([0.5197, 0.4803]), prediction=0.0),\n",
       " Row(features=SparseVector(335, {0: 12000.0, 1: 12000.0, 2: 12000.0, 3: 12.99, 4: 272.98, 5: 70000.0, 6: 3.07, 7: 1.0, 8: 2.0, 9: 10.0, 11: 6962.0, 12: 12.6, 13: 18.0, 18: 10.0, 19: 0.1714, 20: 0.0039, 21: 1.0, 287: 1.0, 295: 1.0, 330: 1.0, 332: 1.0}), label=0, rawPrediction=DenseVector([5.688, 5.312]), probability=DenseVector([0.5171, 0.4829]), prediction=0.0),\n",
       " Row(features=SparseVector(335, {0: 17000.0, 1: 17000.0, 2: 17000.0, 3: 14.27, 4: 583.26, 5: 74000.0, 6: 8.53, 7: 1.0, 8: 1.0, 9: 11.0, 11: 6920.0, 12: 69.2, 13: 39.0, 18: 10.0, 19: 0.2297, 20: 0.0079, 21: 1.0, 287: 1.0, 297: 1.0, 328: 1.0, 331: 1.0}), label=0, rawPrediction=DenseVector([6.1406, 4.8594]), probability=DenseVector([0.5582, 0.4418]), prediction=0.0),\n",
       " Row(features=SparseVector(335, {0: 24000.0, 1: 15000.0, 2: 14860.0498, 3: 13.61, 4: 346.0, 5: 93000.0, 6: 10.77, 7: 1.0, 8: 2.0, 9: 11.0, 11: 2594.0, 12: 13.4, 13: 40.0, 18: 5.0, 19: 0.2581, 20: 0.0037, 21: 1.0, 287: 1.0, 297: 1.0, 328: 1.0, 331: 1.0}), label=0, rawPrediction=DenseVector([6.6976, 4.3024]), probability=DenseVector([0.6089, 0.3911]), prediction=0.0),\n",
       " Row(features=SparseVector(335, {0: 7000.0, 1: 7000.0, 2: 6841.4287, 3: 13.61, 4: 237.92, 5: 60000.0, 6: 21.02, 7: 2.0, 8: 2.0, 9: 6.0, 11: 6473.0, 12: 32.4, 13: 22.0, 18: 7.0, 19: 0.1167, 20: 0.004, 21: 1.0, 287: 1.0, 297: 1.0, 329: 1.0, 331: 1.0}), label=0, rawPrediction=DenseVector([5.6011, 5.3989]), probability=DenseVector([0.5092, 0.4908]), prediction=0.0),\n",
       " Row(features=SparseVector(335, {0: 2400.0, 1: 2400.0, 2: 2400.0, 3: 13.49, 4: 81.44, 5: 60000.0, 6: 5.04, 7: 2.0, 8: 1.0, 9: 7.0, 11: 3966.0, 12: 64.0, 13: 12.0, 18: 3.0, 19: 0.04, 20: 0.0014, 21: 1.0, 287: 1.0, 297: 1.0, 329: 1.0, 332: 1.0}), label=1, rawPrediction=DenseVector([5.8405, 5.1595]), probability=DenseVector([0.531, 0.469]), prediction=0.0),\n",
       " Row(features=SparseVector(335, {0: 4500.0, 1: 4500.0, 2: 4500.0, 3: 14.27, 4: 154.4, 5: 55000.0, 6: 18.92, 7: 1.0, 8: 2.0, 9: 16.0, 11: 10637.0, 12: 66.8, 13: 26.0, 18: 10.0, 19: 0.0818, 20: 0.0028, 21: 1.0, 287: 1.0, 297: 1.0, 329: 1.0, 332: 1.0}), label=1, rawPrediction=DenseVector([5.206, 5.794]), probability=DenseVector([0.4733, 0.5267]), prediction=1.0),\n",
       " Row(features=SparseVector(335, {0: 9000.0, 1: 9000.0, 2: 8725.0, 3: 13.22, 4: 304.21, 5: 90900.0, 6: 9.81, 7: 1.0, 8: 1.0, 9: 8.0, 11: 19262.0, 12: 85.6, 13: 34.0, 18: 9.0, 19: 0.099, 20: 0.0033, 21: 1.0, 287: 1.0, 297: 1.0, 329: 1.0, 332: 1.0}), label=0, rawPrediction=DenseVector([6.4132, 4.5868]), probability=DenseVector([0.583, 0.417]), prediction=0.0),\n",
       " Row(features=SparseVector(335, {0: 10000.0, 1: 10000.0, 2: 10000.0, 3: 13.11, 4: 337.45, 5: 44000.0, 6: 23.62, 7: 2.0, 8: 5.0, 9: 8.0, 11: 6255.0, 12: 56.9, 13: 30.0, 18: 5.0, 19: 0.2273, 20: 0.0077, 21: 1.0, 287: 1.0, 297: 1.0, 329: 1.0, 332: 1.0}), label=0, rawPrediction=DenseVector([4.2608, 6.7392]), probability=DenseVector([0.3873, 0.6127]), prediction=1.0),\n",
       " Row(features=SparseVector(335, {0: 4800.0, 1: 4800.0, 2: 4800.0, 3: 13.49, 4: 162.87, 5: 21600.0, 6: 11.5, 7: 1.0, 8: 2.0, 9: 15.0, 11: 4791.0, 12: 73.7, 13: 20.0, 18: 1.0, 19: 0.2222, 20: 0.0075, 21: 1.0, 287: 1.0, 297: 1.0, 330: 1.0, 332: 1.0}), label=0, rawPrediction=DenseVector([4.9857, 6.0143]), probability=DenseVector([0.4532, 0.5468]), prediction=1.0),\n",
       " Row(features=SparseVector(335, {0: 5000.0, 1: 5000.0, 2: 5000.0, 3: 13.49, 4: 169.66, 5: 45000.0, 6: 14.48, 7: 1.0, 8: 2.0, 9: 5.0, 11: 3152.0, 12: 70.0, 13: 7.0, 18: 2.0, 19: 0.1111, 20: 0.0038, 21: 1.0, 287: 1.0, 297: 1.0, 330: 1.0, 332: 1.0}), label=0, rawPrediction=DenseVector([5.3055, 5.6945]), probability=DenseVector([0.4823, 0.5177]), prediction=1.0),\n",
       " Row(features=SparseVector(335, {0: 20000.0, 1: 20000.0, 2: 20000.0, 3: 14.65, 4: 472.14, 5: 260000.0, 6: 4.4, 7: 1.0, 8: 1.0, 9: 16.0, 11: 15965.0, 12: 20.1, 13: 44.0, 18: 8.0, 19: 0.0769, 20: 0.0018, 21: 1.0, 287: 1.0, 299: 1.0, 328: 1.0, 331: 1.0}), label=0, rawPrediction=DenseVector([5.7262, 5.2738]), probability=DenseVector([0.5206, 0.4794]), prediction=0.0),\n",
       " Row(features=SparseVector(335, {0: 4400.0, 1: 4400.0, 2: 4400.0, 3: 13.16, 4: 148.59, 5: 51480.0, 6: 6.69, 7: 1.0, 8: 1.0, 9: 6.0, 11: 11374.0, 12: 68.1, 13: 22.0, 18: 10.0, 19: 0.0855, 20: 0.0029, 21: 1.0, 287: 1.0, 299: 1.0, 329: 1.0, 331: 1.0}), label=1, rawPrediction=DenseVector([6.3326, 4.6674]), probability=DenseVector([0.5757, 0.4243]), prediction=0.0),\n",
       " Row(features=SparseVector(335, {0: 5600.0, 1: 5600.0, 2: 5600.0, 3: 14.65, 4: 193.17, 5: 85000.0, 6: 12.24, 7: 1.0, 8: 3.0, 9: 8.0, 11: 6812.0, 12: 90.8, 13: 31.0, 18: 1.0, 19: 0.0659, 20: 0.0023, 21: 1.0, 287: 1.0, 299: 1.0, 329: 1.0, 331: 1.0}), label=1, rawPrediction=DenseVector([5.4983, 5.5017]), probability=DenseVector([0.4998, 0.5002]), prediction=1.0),\n",
       " Row(features=SparseVector(335, {0: 7000.0, 1: 7000.0, 2: 7000.0, 3: 13.48, 4: 237.47, 5: 48000.0, 6: 19.38, 7: 1.0, 8: 1.0, 9: 16.0, 11: 10143.0, 12: 33.6, 13: 33.0, 18: 2.0, 19: 0.1458, 20: 0.0049, 21: 1.0, 287: 1.0, 299: 1.0, 329: 1.0, 331: 1.0}), label=0, rawPrediction=DenseVector([5.6329, 5.3671]), probability=DenseVector([0.5121, 0.4879]), prediction=0.0),\n",
       " Row(features=SparseVector(335, {0: 10000.0, 1: 10000.0, 2: 9904.5869, 3: 13.57, 4: 339.69, 5: 97000.0, 6: 16.96, 7: 3.0, 8: 1.0, 9: 11.0, 11: 9063.0, 12: 26.1, 13: 18.0, 18: 10.0, 19: 0.1031, 20: 0.0035, 21: 1.0, 287: 1.0, 299: 1.0, 329: 1.0, 331: 1.0}), label=0, rawPrediction=DenseVector([6.1815, 4.8185]), probability=DenseVector([0.562, 0.438]), prediction=0.0),\n",
       " Row(features=SparseVector(335, {0: 8400.0, 1: 8400.0, 2: 8280.9238, 3: 13.57, 4: 285.34, 5: 50000.0, 6: 5.78, 7: 1.0, 8: 2.0, 9: 5.0, 11: 3743.0, 12: 83.2, 13: 21.0, 18: 1.0, 19: 0.168, 20: 0.0057, 21: 1.0, 287: 1.0, 299: 1.0, 329: 1.0, 332: 1.0}), label=1, rawPrediction=DenseVector([5.1029, 5.8971]), probability=DenseVector([0.4639, 0.5361]), prediction=1.0),\n",
       " Row(features=SparseVector(335, {0: 10000.0, 1: 10000.0, 2: 9991.5322, 3: 13.48, 4: 339.25, 5: 38004.0, 6: 4.86, 7: 1.0, 8: 2.0, 9: 7.0, 11: 2704.0, 12: 20.3, 13: 18.0, 18: 3.0, 19: 0.2631, 20: 0.0089, 21: 1.0, 287: 1.0, 299: 1.0, 329: 1.0, 332: 1.0}), label=0, rawPrediction=DenseVector([5.4167, 5.5833]), probability=DenseVector([0.4924, 0.5076]), prediction=1.0),\n",
       " Row(features=SparseVector(335, {0: 15000.0, 1: 15000.0, 2: 15000.0, 3: 13.99, 4: 512.6, 5: 60000.0, 6: 5.24, 7: 1.0, 8: 1.0, 9: 11.0, 11: 13768.0, 12: 54.0, 13: 18.0, 18: 6.0, 19: 0.25, 20: 0.0085, 21: 1.0, 287: 1.0, 299: 1.0, 329: 1.0, 332: 1.0}), label=0, rawPrediction=DenseVector([5.5588, 5.4412]), probability=DenseVector([0.5053, 0.4947]), prediction=0.0),\n",
       " Row(features=SparseVector(335, {0: 4800.0, 1: 4800.0, 2: 4800.0, 3: 12.98, 4: 161.69, 5: 55000.0, 6: 10.76, 7: 3.0, 8: 2.0, 9: 3.0, 11: 10256.0, 12: 76.7, 13: 33.0, 18: 2.0, 19: 0.0873, 20: 0.0029, 21: 1.0, 287: 1.0, 299: 1.0, 330: 1.0, 331: 1.0}), label=0, rawPrediction=DenseVector([5.7793, 5.2207]), probability=DenseVector([0.5254, 0.4746]), prediction=0.0),\n",
       " Row(features=SparseVector(335, {0: 5600.0, 1: 5600.0, 2: 5600.0, 3: 13.43, 4: 189.85, 5: 80000.0, 6: 16.95, 7: 1.0, 8: 1.0, 9: 12.0, 11: 5028.0, 12: 47.8, 13: 21.0, 18: 10.0, 19: 0.07, 20: 0.0024, 21: 1.0, 287: 1.0, 299: 1.0, 330: 1.0, 331: 1.0}), label=0, rawPrediction=DenseVector([6.2328, 4.7672]), probability=DenseVector([0.5666, 0.4334]), prediction=0.0),\n",
       " Row(features=SparseVector(335, {0: 10000.0, 1: 10000.0, 2: 10000.0, 3: 13.99, 4: 341.73, 5: 30000.0, 6: 21.76, 7: 1.0, 8: 3.0, 9: 8.0, 11: 9091.0, 12: 52.9, 13: 14.0, 18: 9.0, 19: 0.3333, 20: 0.0114, 21: 1.0, 287: 1.0, 299: 1.0, 330: 1.0, 332: 1.0}), label=0, rawPrediction=DenseVector([4.9914, 6.0086]), probability=DenseVector([0.4538, 0.5462]), prediction=1.0),\n",
       " Row(features=SparseVector(335, {0: 10750.0, 1: 10750.0, 2: 10641.8096, 3: 13.98, 4: 250.03, 5: 36000.0, 6: 21.73, 7: 1.0, 8: 2.0, 9: 10.0, 11: 14967.0, 12: 66.2, 13: 29.0, 18: 2.0, 19: 0.2986, 20: 0.0069, 21: 1.0, 287: 1.0, 299: 1.0, 330: 1.0, 332: 1.0}), label=1, rawPrediction=DenseVector([5.0169, 5.9831]), probability=DenseVector([0.4561, 0.5439]), prediction=1.0),\n",
       " Row(features=SparseVector(335, {0: 12000.0, 1: 12000.0, 2: 2572.9199, 3: 13.16, 4: 405.25, 5: 34296.0, 6: 23.06, 7: 1.0, 8: 1.0, 9: 8.0, 11: 5244.0, 12: 27.5, 13: 39.0, 18: 1.0, 19: 0.3499, 20: 0.0118, 21: 1.0, 287: 1.0, 299: 1.0, 330: 1.0, 333: 1.0}), label=0, rawPrediction=DenseVector([4.9775, 6.0225]), probability=DenseVector([0.4525, 0.5475]), prediction=1.0),\n",
       " Row(features=SparseVector(335, {0: 15000.0, 1: 15000.0, 2: 15000.0, 3: 13.35, 4: 507.95, 5: 50400.0, 6: 24.12, 7: 1.0, 8: 5.0, 9: 14.0, 11: 4605.0, 12: 34.5, 13: 48.0, 18: 2.0, 19: 0.2976, 20: 0.0101, 21: 1.0, 287: 1.0, 300: 1.0, 328: 1.0, 332: 1.0}), label=0, rawPrediction=DenseVector([6.2553, 4.7447]), probability=DenseVector([0.5687, 0.4313]), prediction=0.0),\n",
       " Row(features=SparseVector(335, {0: 16000.0, 1: 16000.0, 2: 15925.0, 3: 13.92, 4: 546.2, 5: 110000.0, 6: 15.36, 7: 2.0, 8: 1.0, 9: 10.0, 11: 23839.0, 12: 59.3, 13: 26.0, 18: 9.0, 19: 0.1455, 20: 0.005, 21: 1.0, 287: 1.0, 300: 1.0, 328: 1.0, 332: 1.0}), label=0, rawPrediction=DenseVector([5.464, 5.536]), probability=DenseVector([0.4967, 0.5033]), prediction=1.0),\n",
       " Row(features=SparseVector(335, {0: 21600.0, 1: 21600.0, 2: 21575.0, 3: 13.8, 4: 500.36, 5: 77658.0, 6: 15.36, 7: 1.0, 8: 1.0, 9: 8.0, 11: 1123.0, 12: 8.4, 13: 19.0, 18: 10.0, 19: 0.2781, 20: 0.0064, 21: 1.0, 287: 1.0, 300: 1.0, 328: 1.0, 332: 1.0}), label=0, rawPrediction=DenseVector([5.4314, 5.5686]), probability=DenseVector([0.4938, 0.5062]), prediction=1.0),\n",
       " Row(features=SparseVector(335, {0: 8500.0, 1: 8500.0, 2: 8488.583, 3: 14.35, 4: 291.96, 5: 39000.0, 6: 22.74, 7: 1.0, 8: 1.0, 9: 15.0, 11: 4760.0, 12: 37.5, 13: 39.0, 18: 1.0, 19: 0.2179, 20: 0.0075, 21: 1.0, 287: 1.0, 300: 1.0, 328: 1.0, 333: 1.0}), label=0, rawPrediction=DenseVector([5.1952, 5.8048]), probability=DenseVector([0.4723, 0.5277]), prediction=1.0),\n",
       " Row(features=SparseVector(335, {0: 5000.0, 1: 5000.0, 2: 5000.0, 3: 13.85, 4: 170.52, 5: 36000.0, 6: 14.43, 7: 3.0, 8: 1.0, 9: 10.0, 11: 13425.0, 12: 36.2, 13: 29.0, 18: 4.0, 19: 0.1389, 20: 0.0047, 21: 1.0, 287: 1.0, 300: 1.0, 329: 1.0, 331: 1.0}), label=0, rawPrediction=DenseVector([6.2719, 4.7281]), probability=DenseVector([0.5702, 0.4298]), prediction=0.0),\n",
       " Row(features=SparseVector(335, {0: 5000.0, 1: 5000.0, 2: 5000.0, 3: 13.85, 4: 170.53, 5: 33685.0, 6: 21.48, 7: 2.0, 8: 1.0, 9: 4.0, 11: 2818.0, 12: 90.9, 13: 17.0, 18: 9.0, 19: 0.1484, 20: 0.0051, 21: 1.0, 287: 1.0, 300: 1.0, 329: 1.0, 331: 1.0}), label=0, rawPrediction=DenseVector([5.7481, 5.2519]), probability=DenseVector([0.5226, 0.4774]), prediction=0.0),\n",
       " Row(features=SparseVector(335, {0: 12000.0, 1: 12000.0, 2: 11975.0, 3: 13.92, 4: 409.65, 5: 36500.0, 6: 18.74, 7: 2.0, 8: 4.0, 9: 14.0, 11: 7780.0, 12: 41.6, 13: 35.0, 18: 4.0, 19: 0.3288, 20: 0.0112, 21: 1.0, 287: 1.0, 300: 1.0, 329: 1.0, 331: 1.0}), label=0, rawPrediction=DenseVector([4.7011, 6.2989]), probability=DenseVector([0.4274, 0.5726]), prediction=1.0),\n",
       " Row(features=SparseVector(335, {0: 14000.0, 1: 14000.0, 2: 13875.0, 3: 13.92, 4: 477.92, 5: 74000.0, 6: 21.91, 7: 2.0, 8: 1.0, 9: 16.0, 11: 14200.0, 12: 42.8, 13: 42.0, 18: 10.0, 19: 0.1892, 20: 0.0065, 21: 1.0, 287: 1.0, 300: 1.0, 329: 1.0, 331: 1.0}), label=0, rawPrediction=DenseVector([6.4876, 4.5124]), probability=DenseVector([0.5898, 0.4102]), prediction=0.0),\n",
       " Row(features=SparseVector(335, {0: 14650.0, 1: 14650.0, 2: 14650.0, 3: 15.27, 4: 350.61, 5: 150000.0, 6: 6.82, 7: 1.0, 8: 1.0, 9: 9.0, 11: 12575.0, 12: 60.2, 13: 29.0, 18: 5.0, 19: 0.0977, 20: 0.0023, 21: 1.0, 287: 1.0, 300: 1.0, 329: 1.0, 331: 1.0}), label=0, rawPrediction=DenseVector([5.3848, 5.6152]), probability=DenseVector([0.4895, 0.5105]), prediction=1.0),\n",
       " Row(features=SparseVector(335, {0: 3600.0, 1: 3600.0, 2: 3600.0, 3: 13.8, 4: 83.4, 5: 33504.0, 6: 10.67, 7: 1.0, 8: 2.0, 9: 6.0, 11: 1825.0, 12: 35.1, 13: 30.0, 18: 2.0, 19: 0.1074, 20: 0.0025, 21: 1.0, 287: 1.0, 300: 1.0, 330: 1.0, 332: 1.0}), label=0, rawPrediction=DenseVector([5.9979, 5.0021]), probability=DenseVector([0.5453, 0.4547]), prediction=0.0),\n",
       " Row(features=SparseVector(335, {0: 7500.0, 1: 7500.0, 2: 1197.4414, 3: 12.29, 4: 250.15, 5: 65000.0, 6: 1.68, 7: 3.0, 8: 2.0, 9: 8.0, 11: 2871.0, 12: 7.9, 13: 10.0, 18: 6.0, 19: 0.1154, 20: 0.0038, 21: 1.0, 287: 1.0, 303: 1.0, 328: 1.0, 332: 1.0}), label=0, rawPrediction=DenseVector([6.6713, 4.3287]), probability=DenseVector([0.6065, 0.3935]), prediction=0.0),\n",
       " Row(features=SparseVector(335, {0: 12000.0, 1: 12000.0, 2: 11926.2344, 3: 14.26, 4: 411.67, 5: 90000.0, 6: 16.4, 7: 1.0, 8: 5.0, 9: 24.0, 11: 8956.0, 12: 61.8, 13: 50.0, 18: 2.0, 19: 0.1333, 20: 0.0046, 21: 1.0, 287: 1.0, 303: 1.0, 328: 1.0, 332: 1.0}), label=0, rawPrediction=DenseVector([5.6663, 5.3337]), probability=DenseVector([0.5151, 0.4849]), prediction=0.0),\n",
       " Row(features=SparseVector(335, {0: 8000.0, 1: 8000.0, 2: 8000.0, 3: 13.72, 4: 184.99, 5: 33600.0, 6: 3.64, 7: 1.0, 8: 4.0, 9: 6.0, 11: 454.0, 12: 90.8, 13: 31.0, 18: 10.0, 19: 0.2381, 20: 0.0055, 21: 1.0, 287: 1.0, 303: 1.0, 329: 1.0, 331: 1.0}), label=0, rawPrediction=DenseVector([5.7395, 5.2605]), probability=DenseVector([0.5218, 0.4782]), prediction=0.0),\n",
       " Row(features=SparseVector(335, {0: 10000.0, 1: 10000.0, 2: 2775.0, 3: 13.04, 4: 337.14, 5: 60000.0, 6: 15.92, 7: 2.0, 8: 6.0, 9: 12.0, 11: 8968.0, 12: 31.6, 13: 29.0, 18: 4.0, 19: 0.1667, 20: 0.0056, 21: 1.0, 287: 1.0, 303: 1.0, 329: 1.0, 331: 1.0}), label=0, rawPrediction=DenseVector([6.2574, 4.7426]), probability=DenseVector([0.5689, 0.4311]), prediction=0.0),\n",
       " Row(features=SparseVector(335, {0: 10125.0, 1: 10125.0, 2: 10125.0, 3: 15.23, 4: 352.13, 5: 300000.0, 6: 15.51, 7: 3.0, 8: 1.0, 9: 9.0, 11: 49160.0, 12: 93.3, 13: 32.0, 18: 10.0, 19: 0.0338, 20: 0.0012, 21: 1.0, 287: 1.0, 303: 1.0, 329: 1.0, 331: 1.0}), label=0, rawPrediction=DenseVector([6.2494, 4.7506]), probability=DenseVector([0.5681, 0.4319]), prediction=0.0),\n",
       " Row(features=SparseVector(335, {0: 12000.0, 1: 12000.0, 2: 12000.0, 3: 15.96, 4: 291.57, 5: 60000.0, 6: 11.82, 7: 1.0, 8: 1.0, 9: 13.0, 11: 12932.0, 12: 60.1, 13: 21.0, 18: 1.0, 19: 0.2, 20: 0.0049, 21: 1.0, 287: 1.0, 303: 1.0, 329: 1.0, 331: 1.0}), label=0, rawPrediction=DenseVector([5.2761, 5.7239]), probability=DenseVector([0.4796, 0.5204]), prediction=1.0),\n",
       " Row(features=SparseVector(335, {0: 13750.0, 1: 13750.0, 2: 13600.0, 3: 14.22, 4: 471.41, 5: 30000.0, 6: 18.88, 7: 1.0, 8: 1.0, 9: 24.0, 11: 9301.0, 12: 14.9, 13: 37.0, 18: 10.0, 19: 0.4583, 20: 0.0157, 21: 1.0, 287: 1.0, 303: 1.0, 329: 1.0, 331: 1.0}), label=0, rawPrediction=DenseVector([5.8074, 5.1926]), probability=DenseVector([0.5279, 0.4721]), prediction=0.0),\n",
       " Row(features=SparseVector(335, {0: 15000.0, 1: 15000.0, 2: 6050.8701, 3: 12.29, 4: 500.3, 5: 77000.0, 6: 19.39, 7: 1.0, 8: 2.0, 9: 21.0, 11: 18198.0, 12: 44.3, 13: 33.0, 18: 2.0, 19: 0.1948, 20: 0.0065, 21: 1.0, 287: 1.0, 303: 1.0, 329: 1.0, 331: 1.0}), label=0, rawPrediction=DenseVector([6.3266, 4.6734]), probability=DenseVector([0.5751, 0.4249]), prediction=0.0),\n",
       " Row(features=SparseVector(335, {0: 3000.0, 1: 3000.0, 2: 3000.0, 3: 13.72, 4: 102.13, 5: 43200.0, 6: 16.33, 7: 1.0, 8: 2.0, 9: 4.0, 11: 2366.0, 12: 62.3, 13: 12.0, 18: 4.0, 19: 0.0694, 20: 0.0024, 21: 1.0, 287: 1.0, 303: 1.0, 329: 1.0, 332: 1.0}), label=0, rawPrediction=DenseVector([5.6108, 5.3892]), probability=DenseVector([0.5101, 0.4899]), prediction=0.0),\n",
       " Row(features=SparseVector(335, {0: 4750.0, 1: 4750.0, 2: 4750.0, 3: 13.72, 4: 161.7, 5: 28800.0, 6: 22.33, 7: 1.0, 8: 1.0, 9: 8.0, 11: 829.0, 12: 20.0, 13: 14.0, 18: 1.0, 19: 0.1649, 20: 0.0056, 21: 1.0, 287: 1.0, 303: 1.0, 329: 1.0, 332: 1.0}), label=0, rawPrediction=DenseVector([5.0208, 5.9792]), probability=DenseVector([0.4564, 0.5436]), prediction=1.0),\n",
       " Row(features=SparseVector(335, {0: 6000.0, 1: 6000.0, 2: 4398.0977, 3: 13.04, 4: 202.28, 5: 32496.0, 6: 24.89, 7: 1.0, 8: 1.0, 9: 16.0, 11: 3139.0, 12: 50.6, 13: 25.0, 18: 4.0, 19: 0.1846, 20: 0.0062, 21: 1.0, 287: 1.0, 303: 1.0, 329: 1.0, 332: 1.0}), label=0, rawPrediction=DenseVector([5.1589, 5.8411]), probability=DenseVector([0.469, 0.531]), prediction=1.0),\n",
       " Row(features=SparseVector(335, {0: 6500.0, 1: 6500.0, 2: 6500.0, 3: 15.96, 4: 228.4, 5: 50000.0, 6: 6.29, 7: 1.0, 8: 1.0, 9: 14.0, 11: 4255.0, 12: 10.9, 13: 19.0, 18: 1.0, 19: 0.13, 20: 0.0046, 21: 1.0, 287: 1.0, 303: 1.0, 329: 1.0, 332: 1.0}), label=0, rawPrediction=DenseVector([5.3833, 5.6167]), probability=DenseVector([0.4894, 0.5106]), prediction=1.0),\n",
       " Row(features=SparseVector(335, {0: 8000.0, 1: 8000.0, 2: 1369.99, 3: 11.54, 4: 263.97, 5: 50000.0, 6: 8.04, 7: 1.0, 8: 1.0, 9: 9.0, 11: 1019.0, 12: 4.5, 13: 13.0, 18: 1.0, 19: 0.16, 20: 0.0053, 21: 1.0, 287: 1.0, 303: 1.0, 329: 1.0, 332: 1.0}), label=0, rawPrediction=DenseVector([7.0584, 3.9416]), probability=DenseVector([0.6417, 0.3583]), prediction=0.0),\n",
       " Row(features=SparseVector(335, {0: 2500.0, 1: 2500.0, 2: 2500.0, 3: 15.96, 4: 87.85, 5: 98480.0, 6: 20.61, 7: 4.0, 8: 3.0, 9: 13.0, 11: 26122.0, 12: 72.6, 13: 36.0, 18: 10.0, 19: 0.0254, 20: 0.0009, 21: 1.0, 287: 1.0, 303: 1.0, 330: 1.0, 331: 1.0}), label=0, rawPrediction=DenseVector([6.1601, 4.8399]), probability=DenseVector([0.56, 0.44]), prediction=0.0),\n",
       " Row(features=SparseVector(335, {0: 6400.0, 1: 6400.0, 2: 6375.0, 3: 7.88, 4: 200.2, 5: 42000.0, 6: 7.34, 7: 1.0, 8: 3.0, 9: 7.0, 11: 1803.0, 12: 35.4, 13: 22.0, 18: 10.0, 19: 0.1524, 20: 0.0048, 21: 1.0, 288: 1.0, 302: 1.0, 328: 1.0, 331: 1.0}), label=0, rawPrediction=DenseVector([8.3145, 2.6855]), probability=DenseVector([0.7559, 0.2441]), prediction=0.0),\n",
       " Row(features=SparseVector(335, {0: 8000.0, 1: 8000.0, 2: 7013.1968, 3: 6.91, 4: 246.69, 5: 150000.0, 6: 10.03, 7: 1.0, 8: 1.0, 9: 20.0, 11: 2708.0, 12: 2.5, 13: 43.0, 18: 7.0, 19: 0.0533, 20: 0.0016, 21: 1.0, 288: 1.0, 302: 1.0, 328: 1.0, 331: 1.0}), label=0, rawPrediction=DenseVector([9.2939, 1.7061]), probability=DenseVector([0.8449, 0.1551]), prediction=0.0),\n",
       " Row(features=SparseVector(335, {0: 10000.0, 1: 10000.0, 2: 9975.0, 3: 6.91, 4: 308.36, 5: 72000.0, 6: 4.37, 7: 1.0, 8: 1.0, 9: 13.0, 11: 11511.0, 12: 28.4, 13: 15.0, 18: 3.0, 19: 0.1389, 20: 0.0043, 21: 1.0, 288: 1.0, 302: 1.0, 328: 1.0, 332: 1.0}), label=0, rawPrediction=DenseVector([8.1961, 2.8039]), probability=DenseVector([0.7451, 0.2549]), prediction=0.0),\n",
       " Row(features=SparseVector(335, {0: 12000.0, 1: 7275.0, 2: 7275.0, 3: 6.91, 4: 224.34, 5: 62496.0, 6: 13.38, 7: 1.0, 8: 2.0, 9: 11.0, 11: 5307.0, 12: 24.0, 13: 31.0, 18: 4.0, 19: 0.192, 20: 0.0036, 21: 1.0, 288: 1.0, 302: 1.0, 330: 1.0, 332: 1.0}), label=0, rawPrediction=DenseVector([8.5806, 2.4194]), probability=DenseVector([0.7801, 0.2199]), prediction=0.0),\n",
       " Row(features=SparseVector(335, {0: 4500.0, 1: 4500.0, 2: 4500.0, 3: 7.49, 4: 139.96, 5: 48000.0, 6: 11.6, 7: 1.0, 8: 2.0, 9: 13.0, 11: 13157.0, 12: 25.7, 13: 22.0, 18: 10.0, 19: 0.0938, 20: 0.0029, 21: 1.0, 288: 1.0, 304: 1.0, 328: 1.0, 331: 1.0}), label=1, rawPrediction=DenseVector([8.4645, 2.5355]), probability=DenseVector([0.7695, 0.2305]), prediction=0.0),\n",
       " Row(features=SparseVector(335, {0: 23000.0, 1: 23000.0, 2: 21901.3418, 3: 6.54, 4: 705.35, 5: 91440.0, 6: 14.59, 7: 1.0, 8: 3.0, 9: 7.0, 11: 9773.0, 12: 28.4, 13: 30.0, 18: 10.0, 19: 0.2515, 20: 0.0077, 21: 1.0, 288: 1.0, 304: 1.0, 328: 1.0, 332: 1.0}), label=0, rawPrediction=DenseVector([7.7973, 3.2027]), probability=DenseVector([0.7088, 0.2912]), prediction=0.0),\n",
       " Row(features=SparseVector(335, {0: 9000.0, 1: 9000.0, 2: 9000.0, 3: 7.49, 4: 279.92, 5: 35500.0, 6: 23.8, 7: 1.0, 8: 1.0, 9: 17.0, 11: 5739.0, 12: 26.7, 13: 28.0, 18: 8.0, 19: 0.2535, 20: 0.0079, 21: 1.0, 288: 1.0, 304: 1.0, 329: 1.0, 331: 1.0}), label=0, rawPrediction=DenseVector([7.6652, 3.3348]), probability=DenseVector([0.6968, 0.3032]), prediction=0.0),\n",
       " Row(features=SparseVector(335, {0: 11500.0, 1: 7100.0, 2: 7075.0, 3: 6.54, 4: 139.06, 5: 70221.0, 6: 10.46, 7: 2.0, 8: 3.0, 9: 16.0, 11: 8585.0, 12: 27.0, 13: 40.0, 18: 9.0, 19: 0.1638, 20: 0.002, 21: 1.0, 288: 1.0, 304: 1.0, 330: 1.0, 331: 1.0}), label=0, rawPrediction=DenseVector([8.8909, 2.1091]), probability=DenseVector([0.8083, 0.1917]), prediction=0.0),\n",
       " Row(features=SparseVector(335, {0: 12000.0, 1: 12000.0, 2: 11975.0, 3: 7.51, 4: 373.33, 5: 130000.0, 6: 10.31, 7: 1.0, 8: 3.0, 9: 17.0, 11: 12901.0, 12: 34.1, 13: 34.0, 18: 2.0, 19: 0.0923, 20: 0.0029, 21: 1.0, 288: 1.0, 304: 1.0, 330: 1.0, 331: 1.0}), label=0, rawPrediction=DenseVector([8.4591, 2.5409]), probability=DenseVector([0.769, 0.231]), prediction=0.0),\n",
       " Row(features=SparseVector(335, {0: 4800.0, 1: 4800.0, 2: 4750.0, 3: 6.17, 4: 146.4, 5: 82729.6797, 6: 14.98, 7: 1.0, 8: 2.0, 9: 11.0, 11: 10480.0, 12: 23.9, 13: 40.0, 18: 8.0, 19: 0.058, 20: 0.0018, 21: 1.0, 288: 1.0, 309: 1.0, 330: 1.0, 333: 1.0}), label=0, rawPrediction=DenseVector([7.9851, 3.0149]), probability=DenseVector([0.7259, 0.2741]), prediction=0.0),\n",
       " Row(features=SparseVector(335, {0: 4000.0, 1: 4000.0, 2: 4000.0, 3: 5.79, 4: 121.31, 5: 50000.0, 6: 12.48, 7: 1.0, 8: 1.0, 9: 15.0, 11: 5281.0, 12: 6.4, 13: 57.0, 18: 1.0, 19: 0.08, 20: 0.0024, 21: 1.0, 288: 1.0, 311: 1.0, 328: 1.0, 331: 1.0}), label=0, rawPrediction=DenseVector([8.2329, 2.7671]), probability=DenseVector([0.7484, 0.2516]), prediction=0.0),\n",
       " Row(features=SparseVector(335, {0: 13000.0, 1: 13000.0, 2: 8473.8193, 3: 14.11, 4: 444.98, 5: 66000.0, 6: 17.51, 7: 2.0, 8: 3.0, 9: 11.0, 11: 22388.0, 12: 91.3, 13: 41.0, 18: 3.0, 19: 0.197, 20: 0.0067, 21: 1.0, 289: 1.0, 305: 1.0, 328: 1.0, 331: 1.0}), label=0, rawPrediction=DenseVector([5.3671, 5.6329]), probability=DenseVector([0.4879, 0.5121]), prediction=1.0),\n",
       " Row(features=SparseVector(335, {0: 10400.0, 1: 10400.0, 2: 10400.0, 3: 14.84, 4: 359.71, 5: 38400.0, 6: 20.84, 7: 1.0, 8: 1.0, 9: 8.0, 11: 912.0, 12: 13.0, 13: 27.0, 18: 2.0, 19: 0.2708, 20: 0.0094, 21: 1.0, 289: 1.0, 305: 1.0, 328: 1.0, 332: 1.0}), label=0, rawPrediction=DenseVector([5.3661, 5.6339]), probability=DenseVector([0.4878, 0.5122]), prediction=1.0),\n",
       " Row(features=SparseVector(335, {0: 20000.0, 1: 20000.0, 2: 8875.0, 3: 12.61, 4: 670.13, 5: 87600.0, 6: 14.92, 7: 1.0, 8: 5.0, 9: 13.0, 11: 78284.0, 12: 37.6, 13: 18.0, 18: 1.0, 19: 0.2283, 20: 0.0076, 21: 1.0, 289: 1.0, 305: 1.0, 329: 1.0, 331: 1.0}), label=0, rawPrediction=DenseVector([5.0662, 5.9338]), probability=DenseVector([0.4606, 0.5394]), prediction=1.0),\n",
       " Row(features=SparseVector(335, {0: 12500.0, 1: 12500.0, 2: 11600.0, 3: 6.0, 4: 380.27, 5: 85000.0, 6: 9.98, 7: 1.0, 8: 3.0, 9: 8.0, 11: 10844.0, 12: 68.6, 13: 34.0, 18: 6.0, 19: 0.1471, 20: 0.0045, 21: 1.0, 289: 1.0, 305: 1.0, 329: 1.0, 332: 1.0}), label=0, rawPrediction=DenseVector([5.8581, 5.1419]), probability=DenseVector([0.5326, 0.4674]), prediction=0.0),\n",
       " Row(features=SparseVector(335, {0: 15000.0, 1: 15000.0, 2: 15000.0, 3: 14.61, 4: 517.13, 5: 55000.0, 6: 6.74, 7: 3.0, 8: 1.0, 9: 4.0, 11: 306.0, 12: 38.2, 13: 13.0, 18: 3.0, 19: 0.2727, 20: 0.0094, 21: 1.0, 289: 1.0, 305: 1.0, 329: 1.0, 332: 1.0}), label=0, rawPrediction=DenseVector([4.5702, 6.4298]), probability=DenseVector([0.4155, 0.5845]), prediction=1.0),\n",
       " Row(features=SparseVector(335, {0: 10000.0, 1: 10000.0, 2: 10000.0, 3: 14.54, 4: 344.41, 5: 78000.0, 6: 20.52, 7: 1.0, 8: 2.0, 9: 7.0, 11: 1780.0, 12: 89.0, 13: 24.0, 18: 10.0, 19: 0.1282, 20: 0.0044, 21: 1.0, 289: 1.0, 305: 1.0, 330: 1.0, 331: 1.0}), label=0, rawPrediction=DenseVector([5.1555, 5.8445]), probability=DenseVector([0.4687, 0.5313]), prediction=1.0),\n",
       " Row(features=SparseVector(335, {0: 17600.0, 1: 17600.0, 2: 17174.3184, 3: 14.84, 4: 608.74, 5: 156996.0, 6: 21.81, 7: 1.0, 8: 2.0, 9: 24.0, 11: 15994.0, 12: 34.6, 13: 50.0, 18: 10.0, 19: 0.1121, 20: 0.0039, 21: 1.0, 289: 1.0, 305: 1.0, 330: 1.0, 331: 1.0}), label=0, rawPrediction=DenseVector([5.2122, 5.7878]), probability=DenseVector([0.4738, 0.5262]), prediction=1.0),\n",
       " Row(features=SparseVector(335, {0: 3000.0, 1: 3000.0, 2: 3000.0, 3: 14.09, 4: 102.67, 5: 21600.0, 6: 19.11, 7: 2.0, 8: 1.0, 9: 4.0, 11: 4763.0, 12: 52.3, 13: 9.0, 18: 2.0, 19: 0.1389, 20: 0.0048, 21: 1.0, 289: 1.0, 305: 1.0, 330: 1.0, 332: 1.0}), label=0, rawPrediction=DenseVector([5.1901, 5.8099]), probability=DenseVector([0.4718, 0.5282]), prediction=1.0),\n",
       " Row(features=SparseVector(335, {0: 6800.0, 1: 6800.0, 2: 6775.0, 3: 14.84, 4: 235.2, 5: 60000.0, 6: 9.22, 7: 1.0, 8: 4.0, 9: 8.0, 11: 46.0, 12: 2.6, 13: 16.0, 18: 1.0, 19: 0.1133, 20: 0.0039, 21: 1.0, 289: 1.0, 305: 1.0, 330: 1.0, 332: 1.0}), label=0, rawPrediction=DenseVector([5.0589, 5.9411]), probability=DenseVector([0.4599, 0.5401]), prediction=1.0),\n",
       " Row(features=SparseVector(335, {0: 9600.0, 1: 9600.0, 2: 9600.0, 3: 15.62, 4: 335.71, 5: 60000.0, 6: 6.76, 7: 1.0, 8: 2.0, 9: 10.0, 11: 7567.0, 12: 34.4, 13: 17.0, 18: 5.0, 19: 0.16, 20: 0.0056, 21: 1.0, 289: 1.0, 305: 1.0, 330: 1.0, 332: 1.0}), label=1, rawPrediction=DenseVector([4.8438, 6.1562]), probability=DenseVector([0.4403, 0.5597]), prediction=1.0),\n",
       " Row(features=SparseVector(335, {0: 6000.0, 1: 6000.0, 2: 6000.0, 3: 15.21, 4: 208.61, 5: 28000.0, 6: 5.74, 7: 1.0, 8: 1.0, 9: 8.0, 11: 4438.0, 12: 75.2, 13: 9.0, 18: 7.0, 19: 0.2143, 20: 0.0075, 21: 1.0, 289: 1.0, 306: 1.0, 328: 1.0, 331: 1.0}), label=0, rawPrediction=DenseVector([4.4991, 6.5009]), probability=DenseVector([0.409, 0.591]), prediction=1.0),\n",
       " Row(features=SparseVector(335, {0: 6950.0, 1: 6950.0, 2: 5921.0425, 3: 13.67, 4: 236.43, 5: 126803.0, 6: 11.16, 7: 1.0, 8: 1.0, 9: 16.0, 11: 31081.0, 12: 28.3, 13: 47.0, 18: 10.0, 19: 0.0548, 20: 0.0019, 21: 1.0, 289: 1.0, 306: 1.0, 328: 1.0, 331: 1.0}), label=0, rawPrediction=DenseVector([7.3753, 3.6247]), probability=DenseVector([0.6705, 0.3295]), prediction=0.0),\n",
       " Row(features=SparseVector(335, {0: 8400.0, 1: 8400.0, 2: 8400.0, 3: 14.91, 4: 199.44, 5: 65000.0, 6: 9.51, 7: 1.0, 8: 1.0, 9: 16.0, 11: 11546.0, 12: 36.8, 13: 24.0, 18: 3.0, 19: 0.1292, 20: 0.0031, 21: 1.0, 289: 1.0, 306: 1.0, 328: 1.0, 332: 1.0}), label=0, rawPrediction=DenseVector([5.5766, 5.4234]), probability=DenseVector([0.507, 0.493]), prediction=0.0),\n",
       " Row(features=SparseVector(335, {0: 10000.0, 1: 10000.0, 2: 10000.0, 3: 15.99, 4: 351.53, 5: 110000.0, 6: 6.56, 7: 1.0, 8: 2.0, 9: 5.0, 11: 1053.0, 12: 22.9, 13: 23.0, 18: 4.0, 19: 0.0909, 20: 0.0032, 21: 1.0, 289: 1.0, 306: 1.0, 328: 1.0, 332: 1.0}), label=0, rawPrediction=DenseVector([5.0945, 5.9055]), probability=DenseVector([0.4631, 0.5369]), prediction=1.0),\n",
       " Row(features=SparseVector(335, {0: 16800.0, 1: 16800.0, 2: 16800.0, 3: 16.77, 4: 597.05, 5: 75000.0, 6: 7.34, 7: 1.0, 8: 1.0, 9: 6.0, 11: 18183.0, 12: 73.8, 13: 31.0, 18: 6.0, 19: 0.224, 20: 0.008, 21: 1.0, 289: 1.0, 306: 1.0, 328: 1.0, 332: 1.0}), label=1, rawPrediction=DenseVector([5.6229, 5.3771]), probability=DenseVector([0.5112, 0.4888]), prediction=0.0),\n",
       " Row(features=SparseVector(335, {0: 10000.0, 1: 10000.0, 2: 9907.4785, 3: 14.96, 4: 237.69, 5: 88000.0, 6: 14.86, 7: 1.0, 8: 3.0, 9: 8.0, 11: 8570.0, 12: 61.7, 13: 18.0, 18: 6.0, 19: 0.1136, 20: 0.0027, 21: 1.0, 289: 1.0, 306: 1.0, 329: 1.0, 331: 1.0}), label=0, rawPrediction=DenseVector([5.8074, 5.1926]), probability=DenseVector([0.5279, 0.4721]), prediction=0.0),\n",
       " Row(features=SparseVector(335, {0: 8000.0, 1: 8000.0, 2: 8000.0, 3: 15.99, 4: 194.51, 5: 60000.0, 6: 9.74, 7: 1.0, 8: 1.0, 9: 6.0, 11: 9381.0, 12: 52.7, 13: 11.0, 18: 1.0, 19: 0.1333, 20: 0.0032, 21: 1.0, 289: 1.0, 306: 1.0, 329: 1.0, 332: 1.0}), label=0, rawPrediction=DenseVector([4.565, 6.435]), probability=DenseVector([0.415, 0.585]), prediction=1.0),\n",
       " Row(features=SparseVector(335, {0: 8400.0, 1: 8400.0, 2: 8321.5918, 3: 14.96, 4: 291.02, 5: 32758.0, 6: 13.92, 7: 1.0, 8: 1.0, 9: 12.0, 11: 9713.0, 12: 63.5, 13: 18.0, 18: 1.0, 19: 0.2564, 20: 0.0089, 21: 1.0, 289: 1.0, 306: 1.0, 329: 1.0, 332: 1.0}), label=0, rawPrediction=DenseVector([4.6151, 6.3849]), probability=DenseVector([0.4196, 0.5804]), prediction=1.0),\n",
       " Row(features=SparseVector(335, {0: 9600.0, 1: 9600.0, 2: 9525.0, 3: 14.96, 4: 332.61, 5: 52100.0, 6: 24.67, 7: 1.0, 8: 5.0, 9: 7.0, 11: 3175.0, 12: 56.7, 13: 16.0, 18: 4.0, 19: 0.1843, 20: 0.0064, 21: 1.0, 289: 1.0, 306: 1.0, 329: 1.0, 332: 1.0}), label=1, rawPrediction=DenseVector([4.3513, 6.6487]), probability=DenseVector([0.3956, 0.6044]), prediction=1.0),\n",
       " Row(features=SparseVector(335, {0: 9600.0, 1: 9600.0, 2: 9600.0, 3: 14.46, 4: 225.68, 5: 66000.0, 6: 10.27, 7: 1.0, 8: 2.0, 9: 8.0, 11: 8359.0, 12: 82.8, 13: 38.0, 18: 3.0, 19: 0.1455, 20: 0.0034, 21: 1.0, 289: 1.0, 306: 1.0, 329: 1.0, 332: 1.0}), label=0, rawPrediction=DenseVector([5.166, 5.834]), probability=DenseVector([0.4696, 0.5304]), prediction=1.0),\n",
       " Row(features=SparseVector(335, {0: 12000.0, 1: 12000.0, 2: 11975.0, 3: 14.96, 4: 415.76, 5: 80000.0, 6: 9.72, 7: 2.0, 8: 1.0, 9: 5.0, 11: 12304.0, 12: 78.6, 13: 16.0, 18: 2.0, 19: 0.15, 20: 0.0052, 21: 1.0, 289: 1.0, 306: 1.0, 329: 1.0, 332: 1.0}), label=0, rawPrediction=DenseVector([5.1076, 5.8924]), probability=DenseVector([0.4643, 0.5357]), prediction=1.0),\n",
       " Row(features=SparseVector(335, {0: 12600.0, 1: 12600.0, 2: 12600.0, 3: 16.77, 4: 311.59, 5: 41000.0, 6: 20.22, 7: 1.0, 8: 1.0, 9: 9.0, 11: 11807.0, 12: 78.7, 13: 11.0, 18: 2.0, 19: 0.3073, 20: 0.0076, 21: 1.0, 289: 1.0, 306: 1.0, 329: 1.0, 332: 1.0}), label=0, rawPrediction=DenseVector([4.2587, 6.7413]), probability=DenseVector([0.3872, 0.6128]), prediction=1.0),\n",
       " Row(features=SparseVector(335, {0: 8400.0, 1: 8400.0, 2: 8400.0, 3: 16.77, 4: 298.53, 5: 43200.0, 6: 21.39, 7: 1.0, 8: 1.0, 9: 10.0, 11: 3694.0, 12: 55.1, 13: 19.0, 18: 1.0, 19: 0.1944, 20: 0.0069, 21: 1.0, 289: 1.0, 306: 1.0, 330: 1.0, 331: 1.0}), label=0, rawPrediction=DenseVector([4.2503, 6.7497]), probability=DenseVector([0.3864, 0.6136]), prediction=1.0),\n",
       " Row(features=SparseVector(335, {0: 3600.0, 1: 3600.0, 2: 3600.0, 3: 14.91, 4: 85.48, 5: 43000.0, 6: 3.04, 7: 1.0, 8: 1.0, 9: 6.0, 11: 2551.0, 12: 37.4, 13: 8.0, 18: 3.0, 19: 0.0837, 20: 0.002, 21: 1.0, 289: 1.0, 306: 1.0, 330: 1.0, 332: 1.0}), label=0, rawPrediction=DenseVector([4.4119, 6.5881]), probability=DenseVector([0.4011, 0.5989]), prediction=1.0),\n",
       " Row(features=SparseVector(335, {0: 11000.0, 1: 11000.0, 2: 11000.0, 3: 16.77, 4: 390.93, 5: 125000.0, 6: 7.85, 7: 1.0, 8: 2.0, 9: 15.0, 11: 12791.0, 12: 47.2, 13: 21.0, 18: 3.0, 19: 0.088, 20: 0.0031, 21: 1.0, 289: 1.0, 306: 1.0, 330: 1.0, 332: 1.0}), label=0, rawPrediction=DenseVector([4.6668, 6.3332]), probability=DenseVector([0.4243, 0.5757]), prediction=1.0),\n",
       " Row(features=SparseVector(335, {0: 12000.0, 1: 12000.0, 2: 12000.0, 3: 14.46, 4: 412.82, 5: 75000.0, 6: 11.25, 7: 2.0, 8: 3.0, 9: 5.0, 11: 18148.0, 12: 68.8, 13: 14.0, 18: 1.0, 19: 0.16, 20: 0.0055, 21: 1.0, 289: 1.0, 306: 1.0, 330: 1.0, 332: 1.0}), label=0, rawPrediction=DenseVector([4.9461, 6.0539]), probability=DenseVector([0.4496, 0.5504]), prediction=1.0),\n",
       " Row(features=SparseVector(335, {0: 2500.0, 1: 2500.0, 2: 2500.0, 3: 15.21, 4: 86.93, 5: 24000.0, 6: 5.8, 7: 2.0, 8: 1.0, 9: 9.0, 11: 2886.0, 12: 18.9, 13: 30.0, 18: 4.0, 19: 0.1042, 20: 0.0036, 21: 1.0, 289: 1.0, 306: 1.0, 330: 1.0, 333: 1.0}), label=0, rawPrediction=DenseVector([4.6757, 6.3243]), probability=DenseVector([0.4251, 0.5749]), prediction=1.0),\n",
       " Row(features=SparseVector(335, {0: 10500.0, 1: 10500.0, 2: 10450.0, 3: 14.83, 4: 248.86, 5: 42442.8008, 6: 1.53, 7: 7.0, 8: 4.0, 9: 12.0, 11: 1690.0, 12: 35.2, 13: 39.0, 18: 3.0, 19: 0.2474, 20: 0.0059, 21: 1.0, 289: 1.0, 307: 1.0, 328: 1.0, 331: 1.0}), label=0, rawPrediction=DenseVector([5.9605, 5.0395]), probability=DenseVector([0.5419, 0.4581]), prediction=0.0),\n",
       " Row(features=SparseVector(335, {0: 24250.0, 1: 24250.0, 2: 23620.498, 3: 15.33, 4: 844.59, 5: 98000.0, 6: 19.0, 7: 1.0, 8: 2.0, 9: 10.0, 11: 14206.0, 12: 55.9, 13: 15.0, 18: 10.0, 19: 0.2474, 20: 0.0086, 21: 1.0, 289: 1.0, 307: 1.0, 329: 1.0, 331: 1.0}), label=0, rawPrediction=DenseVector([5.217, 5.783]), probability=DenseVector([0.4743, 0.5257]), prediction=1.0),\n",
       " Row(features=SparseVector(335, {0: 11000.0, 1: 11000.0, 2: 10523.7627, 3: 15.33, 4: 383.12, 5: 47500.0, 6: 21.68, 7: 1.0, 8: 1.0, 9: 9.0, 11: 16231.0, 12: 69.0, 13: 23.0, 18: 3.0, 19: 0.2316, 20: 0.0081, 21: 1.0, 289: 1.0, 307: 1.0, 329: 1.0, 332: 1.0}), label=0, rawPrediction=DenseVector([4.3568, 6.6432]), probability=DenseVector([0.3961, 0.6039]), prediction=1.0),\n",
       " Row(features=SparseVector(335, {0: 12000.0, 1: 12000.0, 2: 12000.0, 3: 17.27, 4: 299.98, 5: 36048.0, 6: 20.51, 7: 1.0, 8: 1.0, 9: 10.0, 11: 7113.0, 12: 19.5, 13: 18.0, 18: 2.0, 19: 0.3329, 20: 0.0083, 21: 1.0, 289: 1.0, 307: 1.0, 329: 1.0, 332: 1.0}), label=0, rawPrediction=DenseVector([4.2872, 6.7128]), probability=DenseVector([0.3897, 0.6103]), prediction=1.0),\n",
       " Row(features=SparseVector(335, {0: 15600.0, 1: 15600.0, 2: 15600.0, 3: 17.27, 4: 558.29, 5: 87000.0, 6: 7.78, 7: 2.0, 8: 1.0, 9: 6.0, 11: 1070.0, 12: 48.6, 13: 19.0, 18: 10.0, 19: 0.1793, 20: 0.0064, 21: 1.0, 289: 1.0, 307: 1.0, 330: 1.0, 331: 1.0}), label=1, rawPrediction=DenseVector([4.941, 6.059]), probability=DenseVector([0.4492, 0.5508]), prediction=1.0),\n",
       " Row(features=SparseVector(335, {0: 12000.0, 1: 12000.0, 2: 11975.0, 3: 15.95, 4: 291.5, 5: 96672.0, 6: 8.35, 7: 3.0, 8: 2.0, 9: 13.0, 11: 87722.0, 12: 33.5, 13: 35.0, 18: 10.0, 19: 0.1241, 20: 0.003, 21: 1.0, 289: 1.0, 308: 1.0, 328: 1.0, 331: 1.0}), label=0, rawPrediction=DenseVector([5.1553, 5.8447]), probability=DenseVector([0.4687, 0.5313]), prediction=1.0),\n",
       " Row(features=SparseVector(335, {0: 12250.0, 1: 12250.0, 2: 2200.0, 3: 15.05, 4: 424.97, 5: 89000.0, 6: 23.8, 7: 1.0, 8: 1.0, 9: 13.0, 11: 19136.0, 12: 69.1, 13: 49.0, 18: 8.0, 19: 0.1376, 20: 0.0048, 21: 1.0, 289: 1.0, 308: 1.0, 328: 1.0, 331: 1.0}), label=0, rawPrediction=DenseVector([4.9169, 6.0831]), probability=DenseVector([0.447, 0.553]), prediction=1.0),\n",
       " Row(features=SparseVector(335, {0: 8000.0, 1: 8000.0, 2: 5904.3198, 3: 13.55, 4: 271.68, 5: 75000.0, 6: 4.22, 7: 3.0, 8: 7.0, 9: 8.0, 11: 1053.0, 12: 40.5, 13: 24.0, 18: 3.0, 19: 0.1067, 20: 0.0036, 21: 1.0, 289: 1.0, 308: 1.0, 329: 1.0, 331: 1.0}), label=0, rawPrediction=DenseVector([5.6505, 5.3495]), probability=DenseVector([0.5137, 0.4863]), prediction=0.0),\n",
       " Row(features=SparseVector(335, {0: 20000.0, 1: 20000.0, 2: 1125.0, 3: 13.3, 4: 676.78, 5: 50000.0, 6: 20.42, 7: 1.0, 8: 2.0, 9: 13.0, 11: 12573.0, 12: 71.8, 13: 29.0, 18: 2.0, 19: 0.4, 20: 0.0135, 21: 1.0, 289: 1.0, 308: 1.0, 329: 1.0, 331: 1.0}), label=0, rawPrediction=DenseVector([5.0316, 5.9684]), probability=DenseVector([0.4574, 0.5426]), prediction=1.0),\n",
       " Row(features=SparseVector(335, {0: 5000.0, 1: 5000.0, 2: 2065.6897, 3: 13.55, 4: 169.8, 5: 62000.0, 6: 4.88, 7: 1.0, 8: 3.0, 9: 9.0, 11: 3341.0, 12: 19.8, 13: 20.0, 18: 1.0, 19: 0.0806, 20: 0.0027, 21: 1.0, 289: 1.0, 308: 1.0, 329: 1.0, 332: 1.0}), label=0, rawPrediction=DenseVector([5.6936, 5.3064]), probability=DenseVector([0.5176, 0.4824]), prediction=0.0),\n",
       " Row(features=SparseVector(335, {0: 7500.0, 1: 7500.0, 2: 5775.0, 3: 15.05, 4: 260.19, 5: 51063.0, 6: 15.06, 7: 1.0, 8: 1.0, 9: 11.0, 11: 19469.0, 12: 84.8, 13: 31.0, 18: 7.0, 19: 0.1469, 20: 0.0051, 21: 1.0, 289: 1.0, 308: 1.0, 329: 1.0, 332: 1.0}), label=1, rawPrediction=DenseVector([4.8246, 6.1754]), probability=DenseVector([0.4386, 0.5614]), prediction=1.0),\n",
       " Row(features=SparseVector(335, {0: 11000.0, 1: 11000.0, 2: 11000.0, 3: 17.58, 4: 276.83, 5: 37000.0, 6: 20.46, 7: 1.0, 8: 1.0, 9: 7.0, 11: 12444.0, 12: 86.4, 13: 15.0, 18: 3.0, 19: 0.2973, 20: 0.0075, 21: 1.0, 289: 1.0, 308: 1.0, 329: 1.0, 332: 1.0}), label=1, rawPrediction=DenseVector([4.0083, 6.9917]), probability=DenseVector([0.3644, 0.6356]), prediction=1.0),\n",
       " Row(features=SparseVector(335, {0: 12000.0, 1: 12000.0, 2: 10187.4199, 3: 16.0, 4: 421.89, 5: 125000.0, 6: 23.85, 7: 1.0, 8: 2.0, 9: 15.0, 11: 61956.0, 12: 85.6, 13: 32.0, 18: 1.0, 19: 0.096, 20: 0.0034, 21: 1.0, 289: 1.0, 310: 1.0, 328: 1.0, 332: 1.0}), label=0, rawPrediction=DenseVector([5.1503, 5.8497]), probability=DenseVector([0.4682, 0.5318]), prediction=1.0),\n",
       " Row(features=SparseVector(335, {0: 20000.0, 1: 20000.0, 2: 19975.0, 3: 16.02, 4: 486.58, 5: 60000.0, 6: 20.44, 7: 1.0, 8: 1.0, 9: 8.0, 11: 14363.0, 12: 33.8, 13: 18.0, 18: 1.0, 19: 0.3333, 20: 0.0081, 21: 1.0, 289: 1.0, 310: 1.0, 328: 1.0, 333: 1.0}), label=0, rawPrediction=DenseVector([4.3715, 6.6285]), probability=DenseVector([0.3974, 0.6026]), prediction=1.0),\n",
       " Row(features=SparseVector(335, {0: 19400.0, 1: 19400.0, 2: 19368.3398, 3: 16.0, 4: 682.06, 5: 130000.0, 6: 12.6, 7: 1.0, 8: 3.0, 9: 12.0, 11: 8907.0, 12: 26.7, 13: 35.0, 18: 2.0, 19: 0.1492, 20: 0.0052, 21: 1.0, 289: 1.0, 310: 1.0, 329: 1.0, 331: 1.0}), label=0, rawPrediction=DenseVector([5.5084, 5.4916]), probability=DenseVector([0.5008, 0.4992]), prediction=0.0),\n",
       " Row(features=SparseVector(335, {0: 5000.0, 1: 5000.0, 2: 5000.0, 3: 17.49, 4: 179.49, 5: 42000.0, 6: 4.46, 7: 2.0, 8: 2.0, 9: 3.0, 11: 154.0, 12: 1.7, 13: 19.0, 18: 5.0, 19: 0.119, 20: 0.0043, 21: 1.0, 289: 1.0, 310: 1.0, 329: 1.0, 333: 1.0}), label=0, rawPrediction=DenseVector([5.2189, 5.7811]), probability=DenseVector([0.4744, 0.5256]), prediction=1.0),\n",
       " Row(features=SparseVector(335, {0: 5000.0, 1: 5000.0, 2: 5000.0, 3: 16.02, 4: 175.84, 5: 94000.0, 6: 6.81, 7: 1.0, 8: 2.0, 9: 4.0, 11: 3854.0, 12: 96.3, 13: 13.0, 18: 10.0, 19: 0.0532, 20: 0.0019, 21: 1.0, 289: 1.0, 310: 1.0, 330: 1.0, 332: 1.0}), label=0, rawPrediction=DenseVector([5.3306, 5.6694]), probability=DenseVector([0.4846, 0.5154]), prediction=1.0),\n",
       " Row(features=SparseVector(335, {0: 12600.0, 1: 12600.0, 2: 12391.6553, 3: 16.32, 4: 308.56, 5: 66996.0, 6: 7.81, 7: 4.0, 8: 1.0, 9: 13.0, 11: 4624.0, 12: 26.7, 13: 25.0, 18: 7.0, 19: 0.1881, 20: 0.0046, 21: 1.0, 289: 1.0, 310: 1.0, 330: 1.0, 332: 1.0}), label=0, rawPrediction=DenseVector([4.9749, 6.0251]), probability=DenseVector([0.4523, 0.5477]), prediction=1.0),\n",
       " Row(features=SparseVector(335, {0: 7200.0, 1: 7200.0, 2: 7200.0, 3: 16.45, 4: 176.82, 5: 31200.0, 6: 14.19, 7: 1.0, 8: 2.0, 9: 8.0, 11: 1985.0, 12: 29.6, 13: 15.0, 18: 1.0, 19: 0.2308, 20: 0.0057, 21: 1.0, 290: 1.0, 313: 1.0, 328: 1.0, 332: 1.0}), label=0, rawPrediction=DenseVector([3.333, 7.667]), probability=DenseVector([0.303, 0.697]), prediction=1.0),\n",
       " Row(features=SparseVector(335, {0: 2800.0, 1: 2800.0, 2: 2800.0, 3: 16.4, 4: 68.69, 5: 42000.0, 6: 4.43, 7: 6.0, 8: 3.0, 9: 12.0, 11: 4749.0, 12: 55.8, 13: 36.0, 18: 6.0, 19: 0.0667, 20: 0.0016, 21: 1.0, 290: 1.0, 313: 1.0, 329: 1.0, 331: 1.0}), label=0, rawPrediction=DenseVector([4.9015, 6.0985]), probability=DenseVector([0.4456, 0.5544]), prediction=1.0),\n",
       " Row(features=SparseVector(335, {0: 16000.0, 1: 16000.0, 2: 16000.0, 3: 17.99, 4: 578.36, 5: 64000.0, 6: 17.61, 7: 1.0, 8: 1.0, 9: 13.0, 11: 26676.0, 12: 91.5, 13: 46.0, 18: 10.0, 19: 0.25, 20: 0.009, 21: 1.0, 290: 1.0, 313: 1.0, 329: 1.0, 331: 1.0}), label=0, rawPrediction=DenseVector([4.6798, 6.3202]), probability=DenseVector([0.4254, 0.5746]), prediction=1.0),\n",
       " Row(features=SparseVector(335, {0: 4800.0, 1: 4800.0, 2: 4794.8604, 3: 16.35, 4: 169.58, 5: 50000.0, 6: 6.96, 7: 1.0, 8: 9.0, 9: 4.0, 11: 381.0, 12: 8.7, 13: 18.0, 18: 1.0, 19: 0.096, 20: 0.0034, 21: 1.0, 290: 1.0, 313: 1.0, 329: 1.0, 332: 1.0}), label=0, rawPrediction=DenseVector([5.2763, 5.7237]), probability=DenseVector([0.4797, 0.5203]), prediction=1.0),\n",
       " Row(features=SparseVector(335, {0: 9000.0, 1: 9000.0, 2: 8475.4102, 3: 16.45, 4: 221.03, 5: 36000.0, 6: 18.13, 7: 1.0, 8: 1.0, 9: 12.0, 11: 8372.0, 12: 34.9, 13: 26.0, 18: 2.0, 19: 0.25, 20: 0.0061, 21: 1.0, 290: 1.0, 313: 1.0, 329: 1.0, 332: 1.0}), label=0, rawPrediction=DenseVector([4.024, 6.976]), probability=DenseVector([0.3658, 0.6342]), prediction=1.0),\n",
       " Row(features=SparseVector(335, {0: 10000.0, 1: 10000.0, 2: 10000.0, 3: 16.4, 4: 245.32, 5: 53000.0, 6: 10.71, 7: 1.0, 8: 1.0, 9: 12.0, 11: 11470.0, 12: 47.6, 13: 19.0, 18: 6.0, 19: 0.1887, 20: 0.0046, 21: 1.0, 290: 1.0, 313: 1.0, 329: 1.0, 332: 1.0}), label=1, rawPrediction=DenseVector([4.2079, 6.7921]), probability=DenseVector([0.3825, 0.6175]), prediction=1.0),\n",
       " Row(features=SparseVector(335, {0: 16600.0, 1: 16600.0, 2: 14050.0, 3: 14.18, 4: 568.81, 5: 65160.0, 6: 14.62, 7: 1.0, 8: 1.0, 9: 9.0, 11: 11294.0, 12: 61.4, 13: 19.0, 18: 1.0, 19: 0.2548, 20: 0.0087, 21: 1.0, 290: 1.0, 313: 1.0, 329: 1.0, 332: 1.0}), label=0, rawPrediction=DenseVector([6.1998, 4.8002]), probability=DenseVector([0.5636, 0.4364]), prediction=0.0),\n",
       " Row(features=SparseVector(335, {0: 15000.0, 1: 15000.0, 2: 15000.0, 3: 16.4, 4: 530.33, 5: 97000.0, 6: 15.33, 7: 2.0, 8: 2.0, 9: 10.0, 11: 21363.0, 12: 59.8, 13: 32.0, 18: 1.0, 19: 0.1546, 20: 0.0055, 21: 1.0, 290: 1.0, 313: 1.0, 330: 1.0, 331: 1.0}), label=0, rawPrediction=DenseVector([3.9379, 7.0621]), probability=DenseVector([0.358, 0.642]), prediction=1.0),\n",
       " Row(features=SparseVector(335, {0: 17850.0, 1: 17850.0, 2: 17725.0, 3: 18.39, 4: 457.07, 5: 58800.0, 6: 23.37, 7: 4.0, 8: 1.0, 9: 15.0, 11: 25986.0, 12: 62.8, 13: 32.0, 18: 10.0, 19: 0.3036, 20: 0.0078, 21: 1.0, 290: 1.0, 314: 1.0, 328: 1.0, 331: 1.0}), label=1, rawPrediction=DenseVector([3.0069, 7.9931]), probability=DenseVector([0.2734, 0.7266]), prediction=1.0),\n",
       " Row(features=SparseVector(335, {0: 11500.0, 1: 11500.0, 2: 11500.0, 3: 16.32, 4: 281.62, 5: 38000.0, 6: 22.39, 7: 1.0, 8: 5.0, 9: 19.0, 11: 9537.0, 12: 43.3, 13: 24.0, 18: 1.0, 19: 0.3026, 20: 0.0074, 21: 1.0, 290: 1.0, 314: 1.0, 328: 1.0, 332: 1.0}), label=0, rawPrediction=DenseVector([3.7928, 7.2072]), probability=DenseVector([0.3448, 0.6552]), prediction=1.0),\n",
       " Row(features=SparseVector(335, {0: 3000.0, 1: 3000.0, 2: 0.0002, 3: 14.75, 4: 103.63, 5: 36000.0, 6: 15.87, 7: 1.0, 8: 1.0, 9: 7.0, 11: 2779.0, 12: 86.8, 13: 7.0, 18: 1.0, 19: 0.0833, 20: 0.0029, 21: 1.0, 290: 1.0, 314: 1.0, 329: 1.0, 334: 1.0}), label=1, rawPrediction=DenseVector([4.931, 6.069]), probability=DenseVector([0.4483, 0.5517]), prediction=1.0),\n",
       " Row(features=SparseVector(335, {0: 12000.0, 1: 12000.0, 2: 11975.0, 3: 18.79, 4: 309.91, 5: 84000.0, 6: 10.96, 7: 1.0, 8: 2.0, 9: 7.0, 11: 3549.0, 12: 44.9, 13: 23.0, 18: 10.0, 19: 0.1429, 20: 0.0037, 21: 1.0, 290: 1.0, 315: 1.0, 328: 1.0, 331: 1.0}), label=1, rawPrediction=DenseVector([4.3946, 6.6054]), probability=DenseVector([0.3995, 0.6005]), prediction=1.0),\n",
       " Row(features=SparseVector(335, {0: 16000.0, 1: 11500.0, 2: 10225.0, 3: 17.19, 4: 286.99, 5: 118527.0, 6: 4.38, 7: 1.0, 8: 2.0, 9: 6.0, 11: 1944.0, 12: 28.2, 13: 35.0, 18: 10.0, 19: 0.135, 20: 0.0024, 21: 1.0, 290: 1.0, 315: 1.0, 328: 1.0, 331: 1.0}), label=1, rawPrediction=DenseVector([5.0643, 5.9357]), probability=DenseVector([0.4604, 0.5396]), prediction=1.0),\n",
       " Row(features=SparseVector(335, {0: 22000.0, 1: 22000.0, 2: 15193.9268, 3: 17.19, 4: 786.45, 5: 65000.0, 6: 9.51, 7: 3.0, 8: 2.0, 9: 10.0, 11: 3041.0, 12: 72.4, 13: 42.0, 18: 6.0, 19: 0.3385, 20: 0.0121, 21: 1.0, 290: 1.0, 315: 1.0, 328: 1.0, 331: 1.0}), label=0, rawPrediction=DenseVector([4.4129, 6.5871]), probability=DenseVector([0.4012, 0.5988]), prediction=1.0),\n",
       " Row(features=SparseVector(335, {0: 10000.0, 1: 10000.0, 2: 10000.0, 3: 17.19, 4: 357.47, 5: 660000.0, 6: 0.49, 7: 2.0, 8: 1.0, 9: 10.0, 11: 8243.0, 12: 65.4, 13: 17.0, 18: 6.0, 19: 0.0152, 20: 0.0005, 21: 1.0, 290: 1.0, 315: 1.0, 329: 1.0, 331: 1.0}), label=1, rawPrediction=DenseVector([4.6516, 6.3484]), probability=DenseVector([0.4229, 0.5771]), prediction=1.0),\n",
       " Row(features=SparseVector(335, {0: 12000.0, 1: 12000.0, 2: 6349.9985, 3: 14.82, 4: 414.93, 5: 89000.0, 6: 3.49, 7: 8.0, 8: 11.0, 9: 8.0, 11: 8016.0, 12: 61.7, 13: 24.0, 18: 4.0, 19: 0.1348, 20: 0.0047, 21: 1.0, 290: 1.0, 315: 1.0, 329: 1.0, 331: 1.0}), label=0, rawPrediction=DenseVector([4.7218, 6.2782]), probability=DenseVector([0.4293, 0.5707]), prediction=1.0),\n",
       " Row(features=SparseVector(335, {0: 19500.0, 1: 19500.0, 2: 7274.4531, 3: 15.57, 4: 681.43, 5: 48500.0, 6: 14.57, 7: 1.0, 8: 1.0, 9: 9.0, 11: 15563.0, 12: 50.9, 13: 24.0, 18: 1.0, 19: 0.4021, 20: 0.0141, 21: 1.0, 290: 1.0, 315: 1.0, 329: 1.0, 334: 1.0}), label=0, rawPrediction=DenseVector([4.7374, 6.2626]), probability=DenseVector([0.4307, 0.5693]), prediction=1.0),\n",
       " Row(features=SparseVector(335, {0: 8875.0, 1: 8875.0, 2: 8850.0, 3: 17.51, 4: 223.01, 5: 30000.0, 6: 21.6, 7: 2.0, 8: 2.0, 9: 9.0, 11: 8167.0, 12: 66.9, 13: 25.0, 18: 3.0, 19: 0.2958, 20: 0.0074, 21: 1.0, 290: 1.0, 316: 1.0, 328: 1.0, 331: 1.0}), label=0, rawPrediction=DenseVector([2.8447, 8.1553]), probability=DenseVector([0.2586, 0.7414]), prediction=1.0),\n",
       " Row(features=SparseVector(335, {0: 15000.0, 1: 15000.0, 2: 15000.0, 3: 19.29, 4: 391.51, 5: 62000.0, 6: 22.1, 7: 1.0, 8: 1.0, 9: 17.0, 11: 15883.0, 12: 31.7, 13: 43.0, 18: 10.0, 19: 0.2419, 20: 0.0063, 21: 1.0, 290: 1.0, 316: 1.0, 328: 1.0, 331: 1.0}), label=0, rawPrediction=DenseVector([2.8167, 8.1833]), probability=DenseVector([0.2561, 0.7439]), prediction=1.0),\n",
       " Row(features=SparseVector(335, {0: 18000.0, 1: 18000.0, 2: 17406.4512, 3: 17.51, 4: 452.3, 5: 114500.0, 6: 23.16, 7: 1.0, 8: 1.0, 9: 15.0, 11: 25007.0, 12: 67.4, 13: 50.0, 18: 1.0, 19: 0.1572, 20: 0.004, 21: 1.0, 290: 1.0, 316: 1.0, 328: 1.0, 332: 1.0}), label=0, rawPrediction=DenseVector([4.3446, 6.6554]), probability=DenseVector([0.395, 0.605]), prediction=1.0),\n",
       " Row(features=SparseVector(335, {0: 20000.0, 1: 13825.0, 2: 13391.6201, 3: 17.56, 4: 347.77, 5: 84996.0, 6: 20.57, 7: 1.0, 8: 5.0, 9: 17.0, 11: 8031.0, 12: 44.2, 13: 48.0, 18: 10.0, 19: 0.2353, 20: 0.0041, 21: 1.0, 290: 1.0, 316: 1.0, 328: 1.0, 332: 1.0}), label=1, rawPrediction=DenseVector([3.7459, 7.2541]), probability=DenseVector([0.3405, 0.6595]), prediction=1.0),\n",
       " Row(features=SparseVector(335, {0: 24250.0, 1: 14750.0, 2: 11700.0, 3: 17.56, 4: 530.0, 5: 68400.0, 6: 22.51, 7: 1.0, 8: 1.0, 9: 21.0, 11: 51287.0, 12: 62.3, 13: 31.0, 18: 10.0, 19: 0.3545, 20: 0.0077, 21: 1.0, 290: 1.0, 316: 1.0, 328: 1.0, 332: 1.0}), label=0, rawPrediction=DenseVector([3.2574, 7.7426]), probability=DenseVector([0.2961, 0.7039]), prediction=1.0),\n",
       " Row(features=SparseVector(335, {0: 24250.0, 1: 24250.0, 2: 23987.4219, 3: 17.56, 4: 610.01, 5: 75000.0, 6: 14.29, 7: 1.0, 8: 2.0, 9: 10.0, 11: 6210.0, 12: 54.4, 13: 29.0, 18: 10.0, 19: 0.3233, 20: 0.0081, 21: 1.0, 290: 1.0, 316: 1.0, 328: 1.0, 333: 1.0}), label=0, rawPrediction=DenseVector([3.6458, 7.3542]), probability=DenseVector([0.3314, 0.6686]), prediction=1.0),\n",
       " Row(features=SparseVector(335, {0: 12000.0, 1: 12000.0, 2: 11818.4199, 3: 19.69, 4: 315.87, 5: 180000.0, 6: 11.83, 7: 3.0, 8: 2.0, 9: 7.0, 11: 55061.0, 12: 82.7, 13: 32.0, 18: 1.0, 19: 0.0667, 20: 0.0018, 21: 1.0, 290: 1.0, 317: 1.0, 328: 1.0, 333: 1.0}), label=0, rawPrediction=DenseVector([4.2341, 6.7659]), probability=DenseVector([0.3849, 0.6151]), prediction=1.0),\n",
       " Row(features=SparseVector(335, {0: 22000.0, 1: 14300.0, 2: 14300.0, 3: 20.25, 4: 380.86, 5: 60000.0, 6: 16.4, 7: 1.0, 8: 3.0, 9: 13.0, 11: 12280.0, 12: 60.8, 13: 28.0, 18: 10.0, 19: 0.3667, 20: 0.0063, 21: 1.0, 291: 1.0, 318: 1.0, 328: 1.0, 331: 1.0}), label=1, rawPrediction=DenseVector([3.2336, 7.7664]), probability=DenseVector([0.294, 0.706]), prediction=1.0),\n",
       " Row(features=SparseVector(335, {0: 20000.0, 1: 20000.0, 2: 19900.0, 3: 21.28, 4: 544.23, 5: 101657.0, 6: 11.24, 7: 1.0, 8: 2.0, 9: 18.0, 11: 9885.0, 12: 35.7, 13: 53.0, 18: 10.0, 19: 0.1967, 20: 0.0054, 21: 1.0, 291: 1.0, 319: 1.0, 328: 1.0, 331: 1.0}), label=1, rawPrediction=DenseVector([3.8019, 7.1981]), probability=DenseVector([0.3456, 0.6544]), prediction=1.0),\n",
       " Row(features=SparseVector(335, {0: 30000.0, 1: 30000.0, 2: 29975.0, 3: 18.62, 4: 771.96, 5: 93468.0, 6: 18.87, 7: 1.0, 8: 1.0, 9: 11.0, 11: 22739.0, 12: 66.3, 13: 36.0, 18: 10.0, 19: 0.321, 20: 0.0083, 21: 1.0, 291: 1.0, 319: 1.0, 328: 1.0, 331: 1.0}), label=1, rawPrediction=DenseVector([3.9315, 7.0685]), probability=DenseVector([0.3574, 0.6426]), prediction=1.0),\n",
       " Row(features=SparseVector(335, {0: 19000.0, 1: 19000.0, 2: 17300.0, 3: 18.43, 4: 691.03, 5: 68000.0, 6: 20.12, 7: 4.0, 8: 5.0, 9: 9.0, 11: 1890.0, 12: 19.1, 13: 22.0, 18: 9.0, 19: 0.2794, 20: 0.0102, 21: 1.0, 291: 1.0, 319: 1.0, 329: 1.0, 331: 1.0}), label=0, rawPrediction=DenseVector([2.7801, 8.2199]), probability=DenseVector([0.2527, 0.7473]), prediction=1.0),\n",
       " Row(features=SparseVector(335, {0: 18000.0, 1: 18000.0, 2: 18000.0, 3: 20.99, 4: 486.86, 5: 78000.0, 6: 9.72, 7: 1.0, 8: 1.0, 9: 7.0, 11: 16587.0, 12: 59.7, 13: 18.0, 18: 4.0, 19: 0.2308, 20: 0.0062, 21: 1.0, 291: 1.0, 320: 1.0, 329: 1.0, 332: 1.0}), label=0, rawPrediction=DenseVector([3.9693, 7.0307]), probability=DenseVector([0.3608, 0.6392]), prediction=1.0),\n",
       " Row(features=SparseVector(335, {0: 33600.0, 1: 33600.0, 2: 33550.0, 3: 21.36, 4: 915.82, 5: 104400.0, 6: 17.94, 7: 1.0, 8: 2.0, 9: 13.0, 11: 16585.0, 12: 88.1, 13: 34.0, 18: 10.0, 19: 0.3218, 20: 0.0088, 21: 1.0, 291: 1.0, 321: 1.0, 328: 1.0, 331: 1.0}), label=0, rawPrediction=DenseVector([3.1848, 7.8152]), probability=DenseVector([0.2895, 0.7105]), prediction=1.0),\n",
       " Row(features=SparseVector(335, {0: 28200.0, 1: 28200.0, 2: 13475.0, 3: 21.36, 4: 768.63, 5: 62000.0, 6: 22.97, 7: 1.0, 8: 2.0, 9: 11.0, 11: 26762.0, 12: 77.6, 13: 27.0, 18: 10.0, 19: 0.4548, 20: 0.0124, 21: 1.0, 291: 1.0, 321: 1.0, 328: 1.0, 332: 1.0}), label=0, rawPrediction=DenseVector([2.7556, 8.2444]), probability=DenseVector([0.2505, 0.7495]), prediction=1.0),\n",
       " Row(features=SparseVector(335, {0: 30000.0, 1: 30000.0, 2: 30000.0, 3: 22.06, 4: 829.6, 5: 90000.0, 6: 18.99, 7: 1.0, 8: 1.0, 9: 10.0, 11: 5768.0, 12: 76.9, 13: 33.0, 18: 10.0, 19: 0.3333, 20: 0.0092, 21: 1.0, 291: 1.0, 321: 1.0, 328: 1.0, 332: 1.0}), label=1, rawPrediction=DenseVector([2.6502, 8.3498]), probability=DenseVector([0.2409, 0.7591]), prediction=1.0),\n",
       " Row(features=SparseVector(335, {0: 25000.0, 1: 25000.0, 2: 25000.0, 3: 21.36, 4: 681.41, 5: 50004.0, 6: 17.13, 7: 1.0, 8: 1.0, 9: 8.0, 11: 8530.0, 12: 78.3, 13: 29.0, 18: 3.0, 19: 0.5, 20: 0.0136, 21: 1.0, 291: 1.0, 321: 1.0, 330: 1.0, 332: 1.0}), label=0, rawPrediction=DenseVector([2.8758, 8.1242]), probability=DenseVector([0.2614, 0.7386]), prediction=1.0),\n",
       " Row(features=SparseVector(335, {0: 25000.0, 1: 25000.0, 2: 11228.3906, 3: 17.78, 4: 901.06, 5: 80000.0, 6: 12.99, 7: 1.0, 8: 6.0, 9: 7.0, 11: 35251.0, 12: 83.5, 13: 33.0, 18: 10.0, 19: 0.3125, 20: 0.0113, 21: 1.0, 291: 1.0, 322: 1.0, 329: 1.0, 331: 1.0}), label=0, rawPrediction=DenseVector([2.9985, 8.0015]), probability=DenseVector([0.2726, 0.7274]), prediction=1.0),\n",
       " Row(features=SparseVector(335, {0: 5625.0, 1: 5625.0, 2: 5625.0, 3: 20.03, 4: 149.13, 5: 69200.0, 6: 22.91, 7: 1.0, 8: 2.0, 9: 14.0, 11: 10745.0, 12: 86.8, 13: 31.0, 18: 1.0, 19: 0.0813, 20: 0.0022, 21: 1.0, 292: 1.0, 324: 1.0, 328: 1.0, 332: 1.0}), label=0, rawPrediction=DenseVector([3.7291, 7.2709]), probability=DenseVector([0.339, 0.661]), prediction=1.0),\n",
       " Row(features=SparseVector(335, {0: 13600.0, 1: 13600.0, 2: 13575.0, 3: 22.48, 4: 379.34, 5: 40000.0, 6: 14.28, 7: 2.0, 8: 1.0, 9: 8.0, 11: 175.0, 12: 1.7, 13: 12.0, 18: 4.0, 19: 0.34, 20: 0.0095, 21: 1.0, 292: 1.0, 324: 1.0, 328: 1.0, 333: 1.0}), label=1, rawPrediction=DenseVector([3.0766, 7.9234]), probability=DenseVector([0.2797, 0.7203]), prediction=1.0),\n",
       " Row(features=SparseVector(335, {0: 6250.0, 1: 6250.0, 2: 5950.0, 3: 17.97, 4: 225.86, 5: 42000.0, 6: 28.29, 7: 1.0, 8: 3.0, 9: 16.0, 11: 28432.0, 12: 57.1, 13: 29.0, 18: 8.0, 19: 0.1488, 20: 0.0054, 21: 1.0, 292: 1.0, 325: 1.0, 328: 1.0, 331: 1.0}), label=1, rawPrediction=DenseVector([4.0626, 6.9374]), probability=DenseVector([0.3693, 0.6307]), prediction=1.0),\n",
       " Row(features=SparseVector(335, {0: 14725.0, 1: 14725.0, 2: 7600.0, 3: 18.04, 4: 532.64, 5: 82000.0, 6: 20.96, 7: 2.0, 8: 3.0, 9: 9.0, 11: 24391.0, 12: 98.4, 13: 43.0, 18: 10.0, 19: 0.1796, 20: 0.0065, 21: 1.0, 292: 1.0, 326: 1.0, 329: 1.0, 331: 1.0}), label=0, rawPrediction=DenseVector([5.0281, 5.9719]), probability=DenseVector([0.4571, 0.5429]), prediction=1.0),\n",
       " Row(features=SparseVector(335, {0: 24000.0, 1: 24000.0, 2: 23175.8086, 3: 9.62, 4: 770.14, 5: 90000.0, 6: 12.63, 7: 2.0, 8: 4.0, 9: 19.0, 11: 13613.0, 12: 41.7, 13: 42.0, 18: 10.0, 19: 0.2667, 20: 0.0086, 22: 1.0, 286: 1.0, 293: 1.0, 328: 1.0, 331: 1.0}), label=1, rawPrediction=DenseVector([6.5519, 4.4481]), probability=DenseVector([0.5956, 0.4044]), prediction=0.0),\n",
       " Row(features=SparseVector(335, {0: 24000.0, 1: 24000.0, 2: 23478.6152, 3: 10.62, 4: 781.44, 5: 320000.0, 6: 4.32, 7: 1.0, 8: 1.0, 9: 12.0, 11: 3469.0, 12: 8.9, 13: 27.0, 18: 10.0, 19: 0.075, 20: 0.0024, 22: 1.0, 286: 1.0, 293: 1.0, 328: 1.0, 331: 1.0}), label=1, rawPrediction=DenseVector([6.8771, 4.1229]), probability=DenseVector([0.6252, 0.3748]), prediction=0.0),\n",
       " Row(features=SparseVector(335, {0: 25000.0, 1: 25000.0, 2: 24900.0, 3: 10.75, 4: 815.52, 5: 175000.0, 6: 12.11, 7: 1.0, 8: 1.0, 9: 12.0, 11: 18988.0, 12: 18.5, 13: 35.0, 18: 4.0, 19: 0.1429, 20: 0.0047, 22: 1.0, 286: 1.0, 296: 1.0, 328: 1.0, 331: 1.0}), label=0, rawPrediction=DenseVector([7.085, 3.915]), probability=DenseVector([0.6441, 0.3559]), prediction=0.0),\n",
       " Row(features=SparseVector(335, {0: 1000.0, 1: 1000.0, 2: 1000.0, 3: 10.75, 4: 32.63, 5: 30000.0, 6: 21.32, 7: 1.0, 8: 5.0, 9: 12.0, 11: 1411.0, 12: 7.3, 13: 17.0, 18: 1.0, 19: 0.0333, 20: 0.0011, 22: 1.0, 286: 1.0, 296: 1.0, 330: 1.0, 333: 1.0}), label=0, rawPrediction=DenseVector([7.1059, 3.8941]), probability=DenseVector([0.646, 0.354]), prediction=0.0),\n",
       " Row(features=SparseVector(335, {0: 8000.0, 1: 8000.0, 2: 8000.0, 3: 11.11, 4: 262.33, 5: 120000.0, 6: 7.36, 7: 1.0, 8: 1.0, 9: 16.0, 11: 58452.0, 12: 61.4, 13: 37.0, 18: 5.0, 19: 0.0667, 20: 0.0022, 22: 1.0, 286: 1.0, 298: 1.0, 328: 1.0, 333: 1.0}), label=0, rawPrediction=DenseVector([7.5943, 3.4057]), probability=DenseVector([0.6904, 0.3096]), prediction=0.0),\n",
       " Row(features=SparseVector(335, {0: 20000.0, 1: 20000.0, 2: 18750.0, 3: 11.36, 4: 658.23, 5: 75000.0, 6: 19.65, 7: 1.0, 8: 2.0, 9: 19.0, 11: 51027.0, 12: 41.8, 13: 49.0, 18: 10.0, 19: 0.2667, 20: 0.0088, 22: 1.0, 286: 1.0, 298: 1.0, 329: 1.0, 331: 1.0}), label=0, rawPrediction=DenseVector([6.2233, 4.7767]), probability=DenseVector([0.5658, 0.4342]), prediction=0.0),\n",
       " Row(features=SparseVector(335, {0: 8000.0, 1: 8000.0, 2: 7671.4282, 3: 11.14, 4: 262.43, 5: 55000.0, 6: 18.89, 7: 1.0, 8: 1.0, 9: 14.0, 11: 36269.0, 12: 41.6, 13: 27.0, 18: 4.0, 19: 0.1455, 20: 0.0048, 22: 1.0, 286: 1.0, 301: 1.0, 329: 1.0, 331: 1.0}), label=0, rawPrediction=DenseVector([7.0752, 3.9248]), probability=DenseVector([0.6432, 0.3568]), prediction=0.0),\n",
       " Row(features=SparseVector(335, {0: 3000.0, 1: 3000.0, 2: 2525.0, 3: 9.88, 4: 96.64, 5: 50000.0, 6: 13.49, 7: 1.0, 8: 1.0, 9: 5.0, 11: 3619.0, 12: 51.0, 13: 11.0, 18: 8.0, 19: 0.06, 20: 0.0019, 22: 1.0, 286: 1.0, 301: 1.0, 329: 1.0, 332: 1.0}), label=0, rawPrediction=DenseVector([7.1064, 3.8936]), probability=DenseVector([0.646, 0.354]), prediction=0.0),\n",
       " Row(features=SparseVector(335, {0: 22000.0, 1: 22000.0, 2: 19643.1855, 3: 12.99, 4: 500.46, 5: 90000.0, 6: 9.85, 7: 1.0, 8: 1.0, 9: 7.0, 11: 4316.0, 12: 32.7, 13: 28.0, 18: 5.0, 19: 0.2444, 20: 0.0056, 22: 1.0, 287: 1.0, 295: 1.0, 328: 1.0, 331: 1.0}), label=0, rawPrediction=DenseVector([5.4102, 5.5898]), probability=DenseVector([0.4918, 0.5082]), prediction=1.0),\n",
       " Row(features=SparseVector(335, {0: 3000.0, 1: 3000.0, 2: 3000.0, 3: 12.53, 4: 100.4, 5: 59904.0, 6: 7.97, 7: 2.0, 8: 1.0, 9: 6.0, 11: 24876.0, 12: 86.4, 13: 20.0, 18: 10.0, 19: 0.0501, 20: 0.0017, 22: 1.0, 287: 1.0, 295: 1.0, 329: 1.0, 331: 1.0}), label=0, rawPrediction=DenseVector([5.787, 5.213]), probability=DenseVector([0.5261, 0.4739]), prediction=0.0),\n",
       " Row(features=SparseVector(335, {0: 4200.0, 1: 4200.0, 2: 4200.0, 3: 12.23, 4: 93.92, 5: 125000.0, 6: 7.68, 7: 1.0, 8: 4.0, 9: 10.0, 11: 10755.0, 12: 27.6, 13: 30.0, 18: 1.0, 19: 0.0336, 20: 0.0008, 22: 1.0, 287: 1.0, 295: 1.0, 329: 1.0, 331: 1.0}), label=0, rawPrediction=DenseVector([6.5969, 4.4031]), probability=DenseVector([0.5997, 0.4003]), prediction=0.0),\n",
       " Row(features=SparseVector(335, {0: 1875.0, 1: 1875.0, 2: 1875.0, 3: 13.49, 4: 63.62, 5: 14400.0, 6: 18.83, 7: 1.0, 8: 2.0, 9: 8.0, 11: 5342.0, 12: 48.6, 13: 23.0, 18: 1.0, 19: 0.1302, 20: 0.0044, 22: 1.0, 287: 1.0, 295: 1.0, 330: 1.0, 332: 1.0}), label=0, rawPrediction=DenseVector([5.8936, 5.1064]), probability=DenseVector([0.5358, 0.4642]), prediction=0.0),\n",
       " Row(features=SparseVector(335, {0: 2600.0, 1: 2600.0, 2: 2600.0, 3: 13.22, 4: 87.89, 5: 27000.0, 6: 9.51, 7: 1.0, 8: 3.0, 9: 8.0, 11: 47.0, 12: 0.5, 13: 13.0, 18: 3.0, 19: 0.0963, 20: 0.0033, 22: 1.0, 287: 1.0, 297: 1.0, 329: 1.0, 332: 1.0}), label=0, rawPrediction=DenseVector([5.9932, 5.0068]), probability=DenseVector([0.5448, 0.4552]), prediction=0.0),\n",
       " Row(features=SparseVector(335, {0: 7500.0, 1: 7500.0, 2: 1167.14, 3: 10.59, 4: 244.09, 5: 39975.0, 6: 12.1, 7: 2.0, 8: 3.0, 9: 9.0, 11: 7914.0, 12: 30.8, 13: 11.0, 18: 1.0, 19: 0.1876, 20: 0.0061, 22: 1.0, 287: 1.0, 297: 1.0, 329: 1.0, 332: 1.0}), label=0, rawPrediction=DenseVector([6.2352, 4.7648]), probability=DenseVector([0.5668, 0.4332]), prediction=0.0),\n",
       " Row(features=SparseVector(335, {0: 19000.0, 1: 19000.0, 2: 18925.0, 3: 13.22, 4: 642.22, 5: 96000.0, 6: 10.95, 7: 1.0, 8: 2.0, 9: 10.0, 11: 19304.0, 12: 41.8, 13: 26.0, 18: 6.0, 19: 0.1979, 20: 0.0067, 22: 1.0, 287: 1.0, 297: 1.0, 329: 1.0, 332: 1.0}), label=0, rawPrediction=DenseVector([5.6584, 5.3416]), probability=DenseVector([0.5144, 0.4856]), prediction=0.0),\n",
       " Row(features=SparseVector(335, {0: 7000.0, 1: 7000.0, 2: 7000.0, 3: 13.48, 4: 237.47, 5: 74400.0, 6: 19.94, 7: 1.0, 8: 1.0, 9: 15.0, 11: 17297.0, 12: 83.2, 13: 27.0, 18: 5.0, 19: 0.0941, 20: 0.0032, 22: 1.0, 287: 1.0, 299: 1.0, 329: 1.0, 331: 1.0}), label=1, rawPrediction=DenseVector([6.4774, 4.5226]), probability=DenseVector([0.5889, 0.4111]), prediction=0.0),\n",
       " Row(features=SparseVector(335, {0: 15000.0, 1: 15000.0, 2: 14875.0, 3: 13.57, 4: 509.53, 5: 81000.0, 6: 0.81, 7: 1.0, 8: 7.0, 9: 14.0, 11: 981.0, 12: 1.1, 13: 25.0, 18: 1.0, 19: 0.1852, 20: 0.0063, 22: 1.0, 287: 1.0, 299: 1.0, 329: 1.0, 332: 1.0}), label=1, rawPrediction=DenseVector([5.5221, 5.4779]), probability=DenseVector([0.502, 0.498]), prediction=0.0),\n",
       " Row(features=SparseVector(335, {0: 15500.0, 1: 15500.0, 2: 8029.8745, 3: 13.16, 4: 523.44, 5: 39360.0, 6: 9.6, 7: 1.0, 8: 2.0, 9: 10.0, 11: 64831.0, 12: 25.5, 13: 34.0, 18: 1.0, 19: 0.3938, 20: 0.0133, 22: 1.0, 287: 1.0, 299: 1.0, 330: 1.0, 331: 1.0}), label=0, rawPrediction=DenseVector([5.5768, 5.4232]), probability=DenseVector([0.507, 0.493]), prediction=0.0),\n",
       " Row(features=SparseVector(335, {0: 16800.0, 1: 16800.0, 2: 16800.0, 3: 13.47, 4: 569.9, 5: 75000.0, 6: 13.63, 7: 1.0, 8: 1.0, 9: 10.0, 11: 15646.0, 12: 81.9, 13: 33.0, 18: 4.0, 19: 0.224, 20: 0.0076, 22: 1.0, 287: 1.0, 300: 1.0, 328: 1.0, 331: 1.0}), label=0, rawPrediction=DenseVector([5.3859, 5.6141]), probability=DenseVector([0.4896, 0.5104]), prediction=1.0),\n",
       " Row(features=SparseVector(335, {0: 13600.0, 1: 13600.0, 2: 13600.0, 3: 15.23, 4: 472.99, 5: 56000.0, 6: 11.72, 7: 1.0, 8: 1.0, 9: 9.0, 11: 15003.0, 12: 65.5, 13: 27.0, 18: 4.0, 19: 0.2429, 20: 0.0084, 22: 1.0, 287: 1.0, 303: 1.0, 329: 1.0, 331: 1.0}), label=0, rawPrediction=DenseVector([5.6513, 5.3487]), probability=DenseVector([0.5138, 0.4862]), prediction=0.0),\n",
       " Row(features=SparseVector(335, {0: 3200.0, 1: 3200.0, 2: 3200.0, 3: 8.49, 4: 101.01, 5: 30000.0, 6: 10.52, 7: 1.0, 8: 1.0, 9: 14.0, 11: 2847.0, 12: 5.3, 13: 22.0, 18: 6.0, 19: 0.1067, 20: 0.0034, 22: 1.0, 288: 1.0, 302: 1.0, 330: 1.0, 332: 1.0}), label=0, rawPrediction=DenseVector([7.8114, 3.1886]), probability=DenseVector([0.7101, 0.2899]), prediction=0.0),\n",
       " Row(features=SparseVector(335, {0: 3150.0, 1: 3150.0, 2: 3150.0, 3: 15.62, 4: 110.16, 5: 72000.0, 6: 6.32, 7: 1.0, 8: 2.0, 9: 5.0, 11: 3628.0, 12: 84.4, 13: 9.0, 18: 1.0, 19: 0.0437, 20: 0.0015, 22: 1.0, 289: 1.0, 305: 1.0, 329: 1.0, 332: 1.0}), label=0, rawPrediction=DenseVector([5.7535, 5.2465]), probability=DenseVector([0.523, 0.477]), prediction=0.0),\n",
       " Row(features=SparseVector(335, {0: 6500.0, 1: 6500.0, 2: 6500.0, 3: 15.62, 4: 227.31, 5: 84000.0, 6: 8.7, 7: 1.0, 8: 2.0, 9: 7.0, 11: 6333.0, 12: 72.8, 13: 8.0, 18: 4.0, 19: 0.0774, 20: 0.0027, 22: 1.0, 289: 1.0, 305: 1.0, 330: 1.0, 332: 1.0}), label=0, rawPrediction=DenseVector([5.0506, 5.9494]), probability=DenseVector([0.4591, 0.5409]), prediction=1.0),\n",
       " Row(features=SparseVector(335, {0: 12000.0, 1: 12000.0, 2: 12000.0, 3: 16.29, 4: 423.61, 5: 125000.0, 6: 6.1, 7: 1.0, 8: 2.0, 9: 9.0, 11: 12136.0, 12: 44.2, 13: 21.0, 18: 5.0, 19: 0.096, 20: 0.0034, 22: 1.0, 289: 1.0, 305: 1.0, 330: 1.0, 332: 1.0}), label=1, rawPrediction=DenseVector([4.7823, 6.2177]), probability=DenseVector([0.4348, 0.5652]), prediction=1.0),\n",
       " Row(features=SparseVector(335, {0: 12800.0, 1: 12800.0, 2: 12800.0, 3: 15.21, 4: 445.04, 5: 48200.0, 6: 21.49, 7: 1.0, 8: 2.0, 9: 14.0, 11: 10819.0, 12: 49.5, 13: 25.0, 18: 10.0, 19: 0.2656, 20: 0.0092, 22: 1.0, 289: 1.0, 306: 1.0, 328: 1.0, 332: 1.0}), label=1, rawPrediction=DenseVector([4.3406, 6.6594]), probability=DenseVector([0.3946, 0.6054]), prediction=1.0),\n",
       " Row(features=SparseVector(335, {0: 7775.0, 1: 7775.0, 2: 7775.0, 3: 14.96, 4: 269.38, 5: 148000.0, 6: 15.77, 7: 1.0, 8: 3.0, 9: 18.0, 11: 5238.0, 12: 90.3, 13: 30.0, 18: 4.0, 19: 0.0525, 20: 0.0018, 22: 1.0, 289: 1.0, 306: 1.0, 329: 1.0, 331: 1.0}), label=0, rawPrediction=DenseVector([5.976, 5.024]), probability=DenseVector([0.5433, 0.4567]), prediction=0.0),\n",
       " Row(features=SparseVector(335, {0: 8000.0, 1: 8000.0, 2: 8000.0, 3: 14.46, 4: 275.22, 5: 70000.0, 6: 19.75, 7: 2.0, 8: 2.0, 9: 25.0, 11: 19998.0, 12: 26.3, 13: 43.0, 18: 4.0, 19: 0.1143, 20: 0.0039, 22: 1.0, 289: 1.0, 306: 1.0, 330: 1.0, 331: 1.0}), label=0, rawPrediction=DenseVector([5.8205, 5.1795]), probability=DenseVector([0.5291, 0.4709]), prediction=0.0),\n",
       " Row(features=SparseVector(335, {0: 15000.0, 1: 15000.0, 2: 15000.0, 3: 16.49, 4: 531.0, 5: 75531.0, 6: 14.92, 7: 1.0, 8: 1.0, 9: 11.0, 11: 20270.0, 12: 95.0, 13: 15.0, 18: 3.0, 19: 0.1986, 20: 0.007, 22: 1.0, 289: 1.0, 307: 1.0, 330: 1.0, 332: 1.0}), label=0, rawPrediction=DenseVector([5.0641, 5.9359]), probability=DenseVector([0.4604, 0.5396]), prediction=1.0),\n",
       " Row(features=SparseVector(335, {0: 20000.0, 1: 20000.0, 2: 20000.0, 3: 17.27, 4: 499.96, 5: 56508.0, 6: 23.08, 7: 1.0, 8: 1.0, 9: 11.0, 11: 8831.0, 12: 60.9, 13: 21.0, 18: 10.0, 19: 0.3539, 20: 0.0088, 22: 1.0, 289: 1.0, 307: 1.0, 330: 1.0, 332: 1.0}), label=1, rawPrediction=DenseVector([3.4909, 7.5091]), probability=DenseVector([0.3174, 0.6826]), prediction=1.0),\n",
       " Row(features=SparseVector(335, {0: 14000.0, 1: 14000.0, 2: 14000.0, 3: 17.58, 4: 503.19, 5: 100000.0, 6: 14.75, 7: 2.0, 8: 1.0, 9: 14.0, 11: 21584.0, 12: 64.8, 13: 36.0, 18: 4.0, 19: 0.14, 20: 0.005, 22: 1.0, 289: 1.0, 308: 1.0, 328: 1.0, 331: 1.0}), label=0, rawPrediction=DenseVector([4.9547, 6.0453]), probability=DenseVector([0.4504, 0.5496]), prediction=1.0),\n",
       " Row(features=SparseVector(335, {0: 35000.0, 1: 35000.0, 2: 35000.0, 3: 16.89, 4: 1245.9399, 5: 115000.0, 6: 8.97, 7: 1.0, 8: 1.0, 9: 5.0, 11: 39779.0, 12: 89.9, 13: 25.0, 18: 10.0, 19: 0.3043, 20: 0.0108, 22: 1.0, 289: 1.0, 308: 1.0, 328: 1.0, 333: 1.0}), label=0, rawPrediction=DenseVector([5.1272, 5.8728]), probability=DenseVector([0.4661, 0.5339]), prediction=1.0),\n",
       " Row(features=SparseVector(335, {0: 4800.0, 1: 4800.0, 2: 502.0876, 3: 13.55, 4: 163.01, 5: 36400.0, 6: 4.65, 7: 1.0, 8: 1.0, 9: 4.0, 11: 4684.0, 12: 80.8, 13: 9.0, 18: 1.0, 19: 0.1319, 20: 0.0045, 22: 1.0, 289: 1.0, 308: 1.0, 329: 1.0, 332: 1.0}), label=0, rawPrediction=DenseVector([6.0602, 4.9398]), probability=DenseVector([0.5509, 0.4491]), prediction=0.0),\n",
       " Row(features=SparseVector(335, {0: 5500.0, 1: 5500.0, 2: 5500.0, 3: 17.58, 4: 197.69, 5: 33900.0, 6: 7.61, 7: 2.0, 8: 3.0, 9: 2.0, 11: 5794.0, 12: 81.6, 13: 11.0, 18: 3.0, 19: 0.1622, 20: 0.0058, 22: 1.0, 289: 1.0, 308: 1.0, 329: 1.0, 332: 1.0}), label=0, rawPrediction=DenseVector([4.7958, 6.2042]), probability=DenseVector([0.436, 0.564]), prediction=1.0),\n",
       " Row(features=SparseVector(335, {0: 10000.0, 1: 10000.0, 2: 9947.9834, 3: 15.2, 4: 238.96, 5: 49000.0, 6: 11.63, 7: 1.0, 8: 1.0, 9: 10.0, 11: 2263.0, 12: 39.0, 13: 31.0, 18: 10.0, 19: 0.2041, 20: 0.0049, 22: 1.0, 289: 1.0, 308: 1.0, 330: 1.0, 332: 1.0}), label=1, rawPrediction=DenseVector([5.5364, 5.4636]), probability=DenseVector([0.5033, 0.4967]), prediction=0.0),\n",
       " Row(features=SparseVector(335, {0: 18000.0, 1: 18000.0, 2: 17950.0, 3: 18.25, 4: 459.54, 5: 78000.0, 6: 14.6, 7: 1.0, 8: 2.0, 9: 9.0, 11: 7747.0, 12: 83.3, 13: 29.0, 18: 10.0, 19: 0.2308, 20: 0.0059, 22: 1.0, 289: 1.0, 310: 1.0, 328: 1.0, 331: 1.0}), label=0, rawPrediction=DenseVector([4.1799, 6.8201]), probability=DenseVector([0.38, 0.62]), prediction=1.0),\n",
       " Row(features=SparseVector(335, {0: 24000.0, 1: 21600.0, 2: 21600.0, 3: 16.32, 4: 528.95, 5: 105000.0, 6: 4.81, 7: 1.0, 8: 3.0, 9: 6.0, 11: 19490.0, 12: 84.0, 13: 35.0, 18: 6.0, 19: 0.2286, 20: 0.005, 22: 1.0, 289: 1.0, 310: 1.0, 328: 1.0, 331: 1.0}), label=0, rawPrediction=DenseVector([4.8356, 6.1644]), probability=DenseVector([0.4396, 0.5604]), prediction=1.0),\n",
       " Row(features=SparseVector(335, {0: 18000.0, 1: 18000.0, 2: 17975.0, 3: 16.02, 4: 437.92, 5: 60000.0, 6: 23.76, 7: 1.0, 8: 1.0, 9: 19.0, 11: 17183.0, 12: 35.4, 13: 49.0, 18: 10.0, 19: 0.3, 20: 0.0073, 22: 1.0, 289: 1.0, 310: 1.0, 330: 1.0, 331: 1.0}), label=1, rawPrediction=DenseVector([4.2343, 6.7657]), probability=DenseVector([0.3849, 0.6151]), prediction=1.0),\n",
       " Row(features=SparseVector(335, {0: 18000.0, 1: 18000.0, 2: 17950.0, 3: 16.7, 4: 639.03, 5: 130000.0, 6: 19.1, 7: 1.0, 8: 7.0, 9: 13.0, 11: 201583.0, 12: 89.2, 13: 23.0, 18: 5.0, 19: 0.1385, 20: 0.0049, 22: 1.0, 290: 1.0, 314: 1.0, 329: 1.0, 331: 1.0}), label=0, rawPrediction=DenseVector([5.0381, 5.9619]), probability=DenseVector([0.458, 0.542]), prediction=1.0),\n",
       " Row(features=SparseVector(335, {0: 35000.0, 1: 35000.0, 2: 28329.9922, 3: 17.14, 4: 872.48, 5: 85000.0, 6: 15.19, 7: 1.0, 8: 3.0, 9: 12.0, 11: 40169.0, 12: 63.2, 13: 32.0, 18: 10.0, 19: 0.4118, 20: 0.0103, 22: 1.0, 290: 1.0, 315: 1.0, 328: 1.0, 331: 1.0}), label=0, rawPrediction=DenseVector([3.8707, 7.1293]), probability=DenseVector([0.3519, 0.6481]), prediction=1.0),\n",
       " Row(features=SparseVector(335, {0: 17000.0, 1: 17000.0, 2: 4275.0, 3: 14.82, 4: 587.82, 5: 104000.0, 6: 20.12, 7: 4.0, 8: 1.0, 9: 12.0, 11: 32406.0, 12: 91.8, 13: 25.0, 18: 10.0, 19: 0.1635, 20: 0.0057, 22: 1.0, 290: 1.0, 315: 1.0, 329: 1.0, 331: 1.0}), label=0, rawPrediction=DenseVector([4.428, 6.572]), probability=DenseVector([0.4025, 0.5975]), prediction=1.0),\n",
       " Row(features=SparseVector(335, {0: 25000.0, 1: 25000.0, 2: 24694.7715, 3: 17.56, 4: 628.87, 5: 111549.0, 6: 13.9, 7: 1.0, 8: 2.0, 9: 6.0, 11: 35662.0, 12: 68.6, 13: 17.0, 18: 10.0, 19: 0.2241, 20: 0.0056, 22: 1.0, 290: 1.0, 316: 1.0, 330: 1.0, 331: 1.0}), label=0, rawPrediction=DenseVector([4.1916, 6.8084]), probability=DenseVector([0.3811, 0.6189]), prediction=1.0),\n",
       " Row(features=SparseVector(335, {0: 20000.0, 1: 20000.0, 2: 700.0, 3: 15.01, 4: 693.45, 5: 80000.0, 6: 3.11, 7: 1.0, 8: 6.0, 9: 5.0, 11: 7883.0, 12: 59.3, 13: 6.0, 18: 2.0, 19: 0.25, 20: 0.0087, 22: 1.0, 291: 1.0, 318: 1.0, 329: 1.0, 333: 1.0}), label=1, rawPrediction=DenseVector([3.4254, 7.5746]), probability=DenseVector([0.3114, 0.6886]), prediction=1.0),\n",
       " Row(features=SparseVector(335, {0: 25000.0, 1: 25000.0, 2: 7118.2134, 3: 17.46, 4: 897.06, 5: 113000.0, 6: 3.94, 7: 1.0, 8: 3.0, 9: 10.0, 11: 31852.0, 12: 80.6, 13: 33.0, 18: 10.0, 19: 0.2212, 20: 0.0079, 22: 1.0, 291: 1.0, 321: 1.0, 328: 1.0, 331: 1.0}), label=1, rawPrediction=DenseVector([3.6424, 7.3576]), probability=DenseVector([0.3311, 0.6689]), prediction=1.0),\n",
       " Row(features=SparseVector(335, {0: 25000.0, 1: 25000.0, 2: 24781.4648, 3: 19.13, 4: 918.02, 5: 148000.0, 6: 18.54, 7: 1.0, 8: 1.0, 9: 9.0, 11: 46031.0, 12: 77.4, 13: 38.0, 18: 9.0, 19: 0.1689, 20: 0.0062, 22: 1.0, 291: 1.0, 321: 1.0, 328: 1.0, 331: 1.0}), label=1, rawPrediction=DenseVector([4.6587, 6.3413]), probability=DenseVector([0.4235, 0.5765]), prediction=1.0),\n",
       " Row(features=SparseVector(335, {0: 18000.0, 1: 18000.0, 2: 12450.0, 3: 17.34, 4: 644.8, 5: 63000.0, 6: 25.68, 7: 1.0, 8: 2.0, 9: 14.0, 11: 6461.0, 12: 64.6, 13: 27.0, 18: 3.0, 19: 0.2857, 20: 0.0102, 22: 1.0, 292: 1.0, 323: 1.0, 328: 1.0, 331: 1.0}), label=0, rawPrediction=DenseVector([4.7228, 6.2772]), probability=DenseVector([0.4293, 0.5707]), prediction=1.0),\n",
       " Row(features=SparseVector(335, {0: 22400.0, 1: 22400.0, 2: 22400.0, 3: 22.74, 4: 628.13, 5: 85000.0, 6: 7.02, 7: 2.0, 8: 1.0, 9: 14.0, 11: 13773.0, 12: 58.7, 13: 16.0, 18: 6.0, 19: 0.2635, 20: 0.0074, 22: 1.0, 292: 1.0, 323: 1.0, 329: 1.0, 332: 1.0}), label=1, rawPrediction=DenseVector([3.5294, 7.4706]), probability=DenseVector([0.3209, 0.6791]), prediction=1.0),\n",
       " Row(features=SparseVector(335, {0: 10500.0, 1: 4000.0, 2: 1150.0, 3: 16.91, 4: 142.43, 5: 68000.0, 6: 19.62, 7: 1.0, 8: 3.0, 9: 7.0, 11: 1943.0, 12: 25.6, 13: 11.0, 18: 4.0, 19: 0.1544, 20: 0.0021, 22: 1.0, 292: 1.0, 324: 1.0, 329: 1.0, 332: 1.0}), label=0, rawPrediction=DenseVector([3.6576, 7.3424]), probability=DenseVector([0.3325, 0.6675]), prediction=1.0),\n",
       " Row(features=SparseVector(335, {0: 3500.0, 1: 3500.0, 2: 3475.0, 3: 11.83, 4: 115.97, 5: 57000.0, 6: 24.11, 7: 1.0, 8: 1.0, 9: 8.0, 11: 2979.0, 12: 14.2, 13: 14.0, 18: 7.0, 19: 0.0614, 20: 0.002, 23: 1.0, 286: 1.0, 293: 1.0, 328: 1.0, 333: 1.0}), label=0, rawPrediction=DenseVector([7.0669, 3.9331]), probability=DenseVector([0.6424, 0.3576]), prediction=0.0),\n",
       " Row(features=SparseVector(335, {0: 12000.0, 1: 12000.0, 2: 7000.0, 3: 11.58, 4: 396.17, 5: 74000.0, 6: 4.3, 7: 1.0, 8: 1.0, 9: 18.0, 11: 12293.0, 12: 20.6, 13: 33.0, 18: 10.0, 19: 0.1622, 20: 0.0054, 23: 1.0, 286: 1.0, 293: 1.0, 329: 1.0, 331: 1.0}), label=0, rawPrediction=DenseVector([6.8374, 4.1626]), probability=DenseVector([0.6216, 0.3784]), prediction=0.0),\n",
       " Row(features=SparseVector(335, {0: 4750.0, 1: 4750.0, 2: 4725.0, 3: 10.62, 4: 154.66, 5: 24000.0, 6: 24.9, 7: 1.0, 8: 1.0, 9: 10.0, 11: 4946.0, 12: 19.6, 13: 22.0, 18: 10.0, 19: 0.1979, 20: 0.0064, 23: 1.0, 286: 1.0, 293: 1.0, 329: 1.0, 332: 1.0}), label=0, rawPrediction=DenseVector([6.1221, 4.8779]), probability=DenseVector([0.5566, 0.4434]), prediction=0.0),\n",
       " Row(features=SparseVector(335, {0: 10000.0, 1: 10000.0, 2: 9950.0, 3: 9.62, 4: 320.9, 5: 66996.0, 6: 6.93, 7: 1.0, 8: 1.0, 9: 5.0, 11: 58462.0, 12: 56.6, 13: 14.0, 18: 5.0, 19: 0.1493, 20: 0.0048, 23: 1.0, 286: 1.0, 293: 1.0, 330: 1.0, 331: 1.0}), label=0, rawPrediction=DenseVector([6.9941, 4.0059]), probability=DenseVector([0.6358, 0.3642]), prediction=0.0),\n",
       " Row(features=SparseVector(335, {0: 3500.0, 1: 3500.0, 2: 3500.0, 3: 11.49, 4: 115.4, 5: 35000.0, 6: 9.57, 7: 1.0, 8: 1.0, 9: 7.0, 11: 1107.0, 12: 5.4, 13: 18.0, 18: 7.0, 19: 0.1, 20: 0.0033, 23: 1.0, 286: 1.0, 294: 1.0, 329: 1.0, 331: 1.0}), label=0, rawPrediction=DenseVector([7.0339, 3.9661]), probability=DenseVector([0.6394, 0.3606]), prediction=0.0),\n",
       " Row(features=SparseVector(335, {0: 15000.0, 1: 15000.0, 2: 14421.1299, 3: 10.99, 4: 491.03, 5: 75000.0, 6: 1.36, 7: 1.0, 8: 1.0, 9: 6.0, 11: 4402.0, 12: 9.3, 13: 16.0, 18: 10.0, 19: 0.2, 20: 0.0065, 23: 1.0, 286: 1.0, 294: 1.0, 329: 1.0, 333: 1.0}), label=0, rawPrediction=DenseVector([6.8755, 4.1245]), probability=DenseVector([0.625, 0.375]), prediction=0.0),\n",
       " Row(features=SparseVector(335, {0: 20000.0, 1: 20000.0, 2: 8167.5483, 3: 11.14, 4: 656.11, 5: 120000.0, 6: 2.82, 7: 1.0, 8: 1.0, 9: 9.0, 11: 13417.0, 12: 31.3, 13: 18.0, 18: 10.0, 19: 0.1667, 20: 0.0055, 23: 1.0, 286: 1.0, 294: 1.0, 330: 1.0, 331: 1.0}), label=0, rawPrediction=DenseVector([6.1507, 4.8493]), probability=DenseVector([0.5592, 0.4408]), prediction=0.0),\n",
       " Row(features=SparseVector(335, {0: 10000.0, 1: 10000.0, 2: 9917.1855, 3: 11.86, 4: 331.48, 5: 50000.0, 6: 17.48, 7: 1.0, 8: 2.0, 9: 8.0, 11: 2517.0, 12: 8.7, 13: 18.0, 18: 4.0, 19: 0.2, 20: 0.0066, 23: 1.0, 286: 1.0, 298: 1.0, 328: 1.0, 331: 1.0}), label=0, rawPrediction=DenseVector([6.3298, 4.6702]), probability=DenseVector([0.5754, 0.4246]), prediction=0.0),\n",
       " Row(features=SparseVector(335, {0: 6000.0, 1: 6000.0, 2: 5975.0, 3: 12.69, 4: 201.27, 5: 47300.0, 6: 8.42, 7: 1.0, 8: 1.0, 9: 8.0, 11: 8109.0, 12: 84.5, 13: 39.0, 18: 3.0, 19: 0.1268, 20: 0.0043, 23: 1.0, 286: 1.0, 298: 1.0, 329: 1.0, 331: 1.0}), label=0, rawPrediction=DenseVector([6.4301, 4.5699]), probability=DenseVector([0.5846, 0.4154]), prediction=0.0),\n",
       " Row(features=SparseVector(335, {0: 6000.0, 1: 6000.0, 2: 6000.0, 3: 11.99, 4: 199.26, 5: 100000.0, 6: 17.88, 7: 2.0, 8: 1.0, 9: 11.0, 11: 13654.0, 12: 73.6, 13: 29.0, 18: 3.0, 19: 0.06, 20: 0.002, 23: 1.0, 286: 1.0, 298: 1.0, 329: 1.0, 331: 1.0}), label=1, rawPrediction=DenseVector([6.68, 4.32]), probability=DenseVector([0.6073, 0.3927]), prediction=0.0),\n",
       " Row(features=SparseVector(335, {0: 9000.0, 1: 6075.0, 2: 5849.0498, 3: 8.88, 4: 125.76, 5: 75000.0, 6: 18.77, 7: 1.0, 8: 4.0, 9: 19.0, 11: 8341.0, 12: 10.0, 13: 51.0, 18: 2.0, 19: 0.12, 20: 0.0017, 23: 1.0, 286: 1.0, 301: 1.0, 330: 1.0, 331: 1.0}), label=1, rawPrediction=DenseVector([7.4025, 3.5975]), probability=DenseVector([0.673, 0.327]), prediction=0.0),\n",
       " Row(features=SparseVector(335, {0: 3500.0, 1: 3500.0, 2: 3500.0, 3: 12.99, 4: 117.92, 5: 75000.0, 6: 23.34, 7: 1.0, 8: 1.0, 9: 21.0, 11: 22340.0, 12: 57.6, 13: 37.0, 18: 3.0, 19: 0.0467, 20: 0.0016, 23: 1.0, 287: 1.0, 295: 1.0, 329: 1.0, 331: 1.0}), label=0, rawPrediction=DenseVector([5.9471, 5.0529]), probability=DenseVector([0.5406, 0.4594]), prediction=0.0),\n",
       " Row(features=SparseVector(335, {0: 7500.0, 1: 7500.0, 2: 5426.2969, 3: 11.78, 4: 248.32, 5: 30000.0, 6: 17.72, 7: 1.0, 8: 1.0, 9: 7.0, 11: 6349.0, 12: 44.7, 13: 23.0, 18: 4.0, 19: 0.25, 20: 0.0083, 23: 1.0, 287: 1.0, 295: 1.0, 329: 1.0, 331: 1.0}), label=0, rawPrediction=DenseVector([4.7296, 6.2704]), probability=DenseVector([0.43, 0.57]), prediction=1.0),\n",
       " Row(features=SparseVector(335, {0: 5000.0, 1: 5000.0, 2: 5000.0, 3: 13.23, 4: 169.03, 5: 45888.0, 6: 11.27, 7: 1.0, 8: 4.0, 9: 6.0, 11: 999.0, 12: 33.3, 13: 20.0, 18: 10.0, 19: 0.109, 20: 0.0037, 23: 1.0, 287: 1.0, 295: 1.0, 330: 1.0, 331: 1.0}), label=0, rawPrediction=DenseVector([5.2656, 5.7344]), probability=DenseVector([0.4787, 0.5213]), prediction=1.0),\n",
       " Row(features=SparseVector(335, {0: 25000.0, 1: 20975.0, 2: 19697.3965, 3: 13.99, 4: 487.95, 5: 105000.0, 6: 10.05, 7: 1.0, 8: 4.0, 9: 7.0, 11: 656.0, 12: 5.0, 13: 13.0, 18: 10.0, 19: 0.2381, 20: 0.0046, 23: 1.0, 287: 1.0, 299: 1.0, 328: 1.0, 331: 1.0}), label=0, rawPrediction=DenseVector([6.3518, 4.6482]), probability=DenseVector([0.5774, 0.4226]), prediction=0.0),\n",
       " Row(features=SparseVector(335, {0: 15000.0, 1: 15000.0, 2: 824.9896, 3: 11.66, 4: 495.79, 5: 36000.0, 6: 5.17, 7: 1.0, 8: 2.0, 9: 2.0, 11: 1340.0, 12: 53.6, 13: 16.0, 18: 2.0, 19: 0.4167, 20: 0.0138, 23: 1.0, 287: 1.0, 299: 1.0, 329: 1.0, 332: 1.0}), label=1, rawPrediction=DenseVector([4.9039, 6.0961]), probability=DenseVector([0.4458, 0.5542]), prediction=1.0),\n",
       " Row(features=SparseVector(335, {0: 7000.0, 1: 7000.0, 2: 7000.0, 3: 14.65, 4: 241.46, 5: 130000.0, 6: 8.26, 7: 1.0, 8: 1.0, 9: 12.0, 11: 12306.0, 12: 62.8, 13: 39.0, 18: 7.0, 19: 0.0538, 20: 0.0019, 23: 1.0, 287: 1.0, 299: 1.0, 330: 1.0, 333: 1.0}), label=1, rawPrediction=DenseVector([5.8685, 5.1315]), probability=DenseVector([0.5335, 0.4665]), prediction=0.0),\n",
       " Row(features=SparseVector(335, {0: 4500.0, 1: 4500.0, 2: 1446.5, 3: 11.97, 4: 149.4, 5: 115200.0, 6: 15.49, 7: 1.0, 8: 1.0, 9: 10.0, 11: 22625.0, 12: 86.4, 13: 30.0, 18: 10.0, 19: 0.0391, 20: 0.0013, 23: 1.0, 287: 1.0, 300: 1.0, 329: 1.0, 331: 1.0}), label=0, rawPrediction=DenseVector([5.6996, 5.3004]), probability=DenseVector([0.5181, 0.4819]), prediction=0.0),\n",
       " Row(features=SparseVector(335, {0: 4500.0, 1: 4500.0, 2: 4500.0, 3: 13.8, 4: 153.37, 5: 48000.0, 6: 12.93, 7: 1.0, 8: 2.0, 9: 6.0, 11: 11092.0, 12: 41.4, 13: 20.0, 18: 3.0, 19: 0.0938, 20: 0.0032, 23: 1.0, 287: 1.0, 300: 1.0, 330: 1.0, 333: 1.0}), label=0, rawPrediction=DenseVector([5.808, 5.192]), probability=DenseVector([0.528, 0.472]), prediction=0.0),\n",
       " Row(features=SparseVector(335, {0: 8250.0, 1: 8250.0, 2: 8086.748, 3: 15.96, 4: 200.45, 5: 35004.0, 6: 15.6, 7: 2.0, 8: 1.0, 9: 13.0, 11: 4479.0, 12: 7.7, 13: 21.0, 18: 2.0, 19: 0.2357, 20: 0.0057, 23: 1.0, 287: 1.0, 303: 1.0, 328: 1.0, 331: 1.0}), label=0, rawPrediction=DenseVector([5.0269, 5.9731]), probability=DenseVector([0.457, 0.543]), prediction=1.0),\n",
       " Row(features=SparseVector(335, {0: 2100.0, 1: 2100.0, 2: 0.0005, 3: 12.29, 4: 70.05, 5: 57043.0, 6: 19.92, 7: 1.0, 8: 1.0, 9: 16.0, 11: 26036.0, 12: 89.5, 13: 35.0, 18: 10.0, 19: 0.0368, 20: 0.0012, 23: 1.0, 287: 1.0, 303: 1.0, 329: 1.0, 331: 1.0}), label=1, rawPrediction=DenseVector([5.8067, 5.1933]), probability=DenseVector([0.5279, 0.4721]), prediction=0.0),\n",
       " Row(features=SparseVector(335, {0: 7000.0, 1: 5475.0, 2: 32.33, 3: 8.63, 4: 173.17, 5: 67000.0, 6: 10.33, 7: 1.0, 8: 1.0, 9: 19.0, 11: 2410.0, 12: 4.4, 13: 38.0, 18: 1.0, 19: 0.1045, 20: 0.0026, 23: 1.0, 288: 1.0, 302: 1.0, 329: 1.0, 331: 1.0}), label=0, rawPrediction=DenseVector([8.1866, 2.8134]), probability=DenseVector([0.7442, 0.2558]), prediction=0.0),\n",
       " Row(features=SparseVector(335, {0: 4025.0, 1: 4025.0, 2: 4025.0, 3: 7.49, 4: 125.19, 5: 106000.0, 6: 15.44, 7: 1.0, 8: 5.0, 9: 7.0, 11: 656.0, 12: 5.0, 13: 13.0, 18: 10.0, 19: 0.038, 20: 0.0012, 23: 1.0, 288: 1.0, 304: 1.0, 329: 1.0, 331: 1.0}), label=0, rawPrediction=DenseVector([8.5806, 2.4194]), probability=DenseVector([0.7801, 0.2199]), prediction=0.0),\n",
       " Row(features=SparseVector(335, {0: 20000.0, 1: 20000.0, 2: 20000.0, 3: 14.09, 4: 684.43, 5: 65000.0, 6: 15.21, 7: 1.0, 8: 4.0, 9: 21.0, 11: 13392.0, 12: 32.6, 13: 46.0, 18: 2.0, 19: 0.3077, 20: 0.0105, 23: 1.0, 289: 1.0, 305: 1.0, 328: 1.0, 331: 1.0}), label=0, rawPrediction=DenseVector([5.0839, 5.9161]), probability=DenseVector([0.4622, 0.5378]), prediction=1.0),\n",
       " Row(features=SparseVector(335, {0: 3000.0, 1: 3000.0, 2: 2934.8921, 3: 14.11, 4: 102.69, 5: 75000.0, 6: 21.01, 7: 1.0, 8: 1.0, 9: 16.0, 11: 10025.0, 12: 57.8, 13: 48.0, 18: 8.0, 19: 0.04, 20: 0.0014, 23: 1.0, 289: 1.0, 305: 1.0, 330: 1.0, 331: 1.0}), label=0, rawPrediction=DenseVector([5.1267, 5.8733]), probability=DenseVector([0.4661, 0.5339]), prediction=1.0),\n",
       " Row(features=SparseVector(335, {0: 12000.0, 1: 12000.0, 2: 12000.0, 3: 14.46, 4: 412.82, 5: 202040.0, 6: 9.76, 7: 2.0, 8: 1.0, 9: 7.0, 11: 57.0, 12: 5.7, 13: 9.0, 18: 10.0, 19: 0.0594, 20: 0.002, 23: 1.0, 289: 1.0, 306: 1.0, 328: 1.0, 331: 1.0}), label=0, rawPrediction=DenseVector([5.4509, 5.5491]), probability=DenseVector([0.4955, 0.5045]), prediction=1.0),\n",
       " Row(features=SparseVector(335, {0: 12000.0, 1: 12000.0, 2: 12000.0, 3: 15.99, 4: 421.83, 5: 113000.0, 6: 11.27, 7: 2.0, 8: 3.0, 9: 10.0, 11: 595.0, 12: 7.6, 13: 23.0, 18: 3.0, 19: 0.1062, 20: 0.0037, 23: 1.0, 289: 1.0, 306: 1.0, 329: 1.0, 331: 1.0}), label=0, rawPrediction=DenseVector([5.3456, 5.6544]), probability=DenseVector([0.486, 0.514]), prediction=1.0),\n",
       " Row(features=SparseVector(335, {0: 10175.0, 1: 10175.0, 2: 10175.0, 3: 14.91, 4: 241.59, 5: 35500.0, 6: 17.98, 7: 1.0, 8: 2.0, 9: 6.0, 11: 7222.0, 12: 48.1, 13: 31.0, 18: 10.0, 19: 0.2866, 20: 0.0068, 23: 1.0, 289: 1.0, 306: 1.0, 330: 1.0, 331: 1.0}), label=0, rawPrediction=DenseVector([4.1891, 6.8109]), probability=DenseVector([0.3808, 0.6192]), prediction=1.0),\n",
       " Row(features=SparseVector(335, {0: 35000.0, 1: 35000.0, 2: 35000.0, 3: 16.49, 4: 1238.98, 5: 230000.0, 6: 8.58, 7: 1.0, 8: 2.0, 9: 8.0, 11: 36512.0, 12: 1.1, 13: 28.0, 18: 10.0, 19: 0.1522, 20: 0.0054, 23: 1.0, 289: 1.0, 307: 1.0, 328: 1.0, 331: 1.0}), label=0, rawPrediction=DenseVector([5.3093, 5.6907]), probability=DenseVector([0.4827, 0.5173]), prediction=1.0),\n",
       " Row(features=SparseVector(335, {0: 25000.0, 1: 25000.0, 2: 14926.667, 3: 15.05, 4: 867.29, 5: 93000.0, 6: 1.69, 7: 1.0, 8: 8.0, 9: 9.0, 11: 3073.0, 12: 10.3, 13: 25.0, 18: 6.0, 19: 0.2688, 20: 0.0093, 23: 1.0, 289: 1.0, 308: 1.0, 328: 1.0, 331: 1.0}), label=1, rawPrediction=DenseVector([4.4468, 6.5532]), probability=DenseVector([0.4043, 0.5957]), prediction=1.0),\n",
       " Row(features=SparseVector(335, {0: 1600.0, 1: 1600.0, 2: 1600.0, 3: 17.49, 4: 57.44, 5: 21600.0, 6: 21.0, 7: 1.0, 8: 1.0, 9: 4.0, 11: 963.0, 12: 96.3, 13: 8.0, 18: 10.0, 19: 0.0741, 20: 0.0027, 23: 1.0, 289: 1.0, 310: 1.0, 330: 1.0, 332: 1.0}), label=0, rawPrediction=DenseVector([4.9516, 6.0484]), probability=DenseVector([0.4501, 0.5499]), prediction=1.0),\n",
       " Row(features=SparseVector(335, {0: 5000.0, 1: 5000.0, 2: 25.0, 3: 14.82, 4: 172.89, 5: 52000.0, 6: 14.17, 7: 2.0, 8: 1.0, 9: 6.0, 11: 5355.0, 12: 43.5, 13: 18.0, 18: 10.0, 19: 0.0962, 20: 0.0033, 23: 1.0, 290: 1.0, 315: 1.0, 329: 1.0, 332: 1.0}), label=0, rawPrediction=DenseVector([5.3074, 5.6926]), probability=DenseVector([0.4825, 0.5175]), prediction=1.0),\n",
       " Row(features=SparseVector(335, {0: 20000.0, 1: 20000.0, 2: 20000.0, 3: 17.93, 4: 722.35, 5: 305000.0, 6: 3.91, 7: 2.0, 8: 1.0, 9: 6.0, 11: 185.0, 12: 18.5, 13: 23.0, 18: 10.0, 19: 0.0656, 20: 0.0024, 23: 1.0, 290: 1.0, 317: 1.0, 328: 1.0, 331: 1.0}), label=0, rawPrediction=DenseVector([4.5422, 6.4578]), probability=DenseVector([0.4129, 0.5871]), prediction=1.0),\n",
       " Row(features=SparseVector(335, {0: 25000.0, 1: 16800.0, 2: 16345.501, 3: 18.67, 4: 432.76, 5: 150000.0, 6: 0.89, 7: 1.0, 8: 3.0, 9: 12.0, 11: 966.0, 12: 4.7, 13: 27.0, 18: 10.0, 19: 0.1667, 20: 0.0029, 23: 1.0, 291: 1.0, 319: 1.0, 328: 1.0, 331: 1.0}), label=0, rawPrediction=DenseVector([4.9299, 6.0701]), probability=DenseVector([0.4482, 0.5518]), prediction=1.0),\n",
       " Row(features=SparseVector(335, {0: 24250.0, 1: 15025.0, 2: 13725.0, 3: 19.41, 4: 553.88, 5: 300000.0, 6: 9.61, 7: 1.0, 8: 2.0, 9: 5.0, 11: 51911.0, 12: 93.0, 13: 34.0, 18: 1.0, 19: 0.0808, 20: 0.0018, 23: 1.0, 291: 1.0, 321: 1.0, 328: 1.0, 333: 1.0}), label=0, rawPrediction=DenseVector([4.307, 6.693]), probability=DenseVector([0.3915, 0.6085]), prediction=1.0),\n",
       " Row(features=SparseVector(335, {0: 32000.0, 1: 32000.0, 2: 31975.0, 3: 10.99, 4: 1047.49, 5: 69996.0, 6: 19.94, 7: 1.0, 8: 2.0, 9: 7.0, 11: 16355.0, 12: 59.5, 13: 27.0, 18: 10.0, 19: 0.4572, 20: 0.015, 24: 1.0, 286: 1.0, 293: 1.0, 328: 1.0, 332: 1.0}), label=0, rawPrediction=DenseVector([5.3798, 5.6202]), probability=DenseVector([0.4891, 0.5109]), prediction=1.0),\n",
       " Row(features=SparseVector(335, {0: 3500.0, 1: 3500.0, 2: 3500.0, 3: 12.18, 4: 116.55, 5: 137000.0, 6: 13.53, 7: 1.0, 8: 1.0, 9: 9.0, 11: 10930.0, 12: 79.8, 13: 28.0, 18: 3.0, 19: 0.0255, 20: 0.0009, 24: 1.0, 286: 1.0, 294: 1.0, 328: 1.0, 331: 1.0}), label=0, rawPrediction=DenseVector([6.7627, 4.2373]), probability=DenseVector([0.6148, 0.3852]), prediction=0.0),\n",
       " Row(features=SparseVector(335, {0: 6000.0, 1: 6000.0, 2: 6000.0, 3: 11.49, 4: 197.83, 5: 60000.0, 6: 13.18, 7: 1.0, 8: 1.0, 9: 12.0, 11: 6297.0, 12: 35.8, 13: 24.0, 18: 5.0, 19: 0.1, 20: 0.0033, 24: 1.0, 286: 1.0, 294: 1.0, 330: 1.0, 332: 1.0}), label=0, rawPrediction=DenseVector([7.0619, 3.9381]), probability=DenseVector([0.642, 0.358]), prediction=0.0),\n",
       " Row(features=SparseVector(335, {0: 8875.0, 1: 8875.0, 2: 8875.0, 3: 10.74, 4: 289.47, 5: 23000.0, 6: 17.32, 7: 2.0, 8: 1.0, 9: 6.0, 11: 451.0, 12: 5.9, 13: 17.0, 18: 1.0, 19: 0.3859, 20: 0.0126, 24: 1.0, 286: 1.0, 294: 1.0, 330: 1.0, 332: 1.0}), label=1, rawPrediction=DenseVector([5.1398, 5.8602]), probability=DenseVector([0.4673, 0.5327]), prediction=1.0),\n",
       " Row(features=SparseVector(335, {0: 6000.0, 1: 6000.0, 2: 5950.0, 3: 11.86, 4: 198.89, 5: 36000.0, 6: 0.7, 7: 1.0, 8: 1.0, 9: 2.0, 11: 1097.0, 12: 6.6, 13: 8.0, 18: 2.0, 19: 0.1667, 20: 0.0055, 24: 1.0, 286: 1.0, 298: 1.0, 328: 1.0, 332: 1.0}), label=0, rawPrediction=DenseVector([6.8802, 4.1198]), probability=DenseVector([0.6255, 0.3745]), prediction=0.0),\n",
       " Row(features=SparseVector(335, {0: 5975.0, 1: 5975.0, 2: 5975.0, 3: 11.86, 4: 198.06, 5: 72000.0, 6: 13.37, 7: 1.0, 8: 2.0, 9: 9.0, 11: 17274.0, 12: 63.5, 13: 27.0, 18: 10.0, 19: 0.083, 20: 0.0028, 24: 1.0, 286: 1.0, 298: 1.0, 329: 1.0, 331: 1.0}), label=0, rawPrediction=DenseVector([6.3447, 4.6553]), probability=DenseVector([0.5768, 0.4232]), prediction=0.0),\n",
       " Row(features=SparseVector(335, {0: 2000.0, 1: 2000.0, 2: 1950.0, 3: 10.38, 4: 64.9, 5: 24000.0, 6: 6.05, 7: 1.0, 8: 1.0, 9: 7.0, 11: 7404.0, 12: 88.1, 13: 11.0, 18: 1.0, 19: 0.0833, 20: 0.0027, 24: 1.0, 286: 1.0, 301: 1.0, 330: 1.0, 332: 1.0}), label=0, rawPrediction=DenseVector([6.3837, 4.6163]), probability=DenseVector([0.5803, 0.4197]), prediction=0.0),\n",
       " Row(features=SparseVector(335, {0: 4650.0, 1: 4650.0, 2: 775.0, 3: 10.28, 4: 150.66, 5: 45600.0, 6: 3.26, 7: 1.0, 8: 1.0, 9: 3.0, 11: 105.0, 12: 35.0, 13: 25.0, 18: 10.0, 19: 0.102, 20: 0.0033, 24: 1.0, 287: 1.0, 295: 1.0, 329: 1.0, 331: 1.0}), label=1, rawPrediction=DenseVector([7.2982, 3.7018]), probability=DenseVector([0.6635, 0.3365]), prediction=0.0),\n",
       " Row(features=SparseVector(335, {0: 4900.0, 1: 4900.0, 2: 225.0032, 3: 10.28, 4: 158.76, 5: 44000.0, 6: 15.3, 7: 3.0, 8: 1.0, 9: 4.0, 11: 88.0, 12: 23.8, 13: 18.0, 18: 10.0, 19: 0.1114, 20: 0.0036, 24: 1.0, 287: 1.0, 295: 1.0, 329: 1.0, 332: 1.0}), label=1, rawPrediction=DenseVector([6.3265, 4.6735]), probability=DenseVector([0.5751, 0.4249]), prediction=0.0),\n",
       " Row(features=SparseVector(335, {0: 5000.0, 1: 5000.0, 2: 5000.0, 3: 13.61, 4: 115.34, 5: 100980.0, 6: 11.5, 7: 1.0, 8: 2.0, 9: 10.0, 11: 14824.0, 12: 85.2, 13: 36.0, 18: 3.0, 19: 0.0495, 20: 0.0011, 24: 1.0, 287: 1.0, 297: 1.0, 328: 1.0, 331: 1.0}), label=1, rawPrediction=DenseVector([6.4388, 4.5612]), probability=DenseVector([0.5853, 0.4147]), prediction=0.0),\n",
       " Row(features=SparseVector(335, {0: 11000.0, 1: 11000.0, 2: 10802.3096, 3: 13.11, 4: 371.2, 5: 42000.0, 6: 1.31, 7: 1.0, 8: 1.0, 9: 8.0, 11: 11514.0, 12: 84.0, 13: 28.0, 18: 1.0, 19: 0.2619, 20: 0.0088, 24: 1.0, 287: 1.0, 297: 1.0, 328: 1.0, 332: 1.0}), label=1, rawPrediction=DenseVector([5.1415, 5.8585]), probability=DenseVector([0.4674, 0.5326]), prediction=1.0),\n",
       " Row(features=SparseVector(335, {0: 6950.0, 1: 6950.0, 2: 6875.0, 3: 13.11, 4: 234.53, 5: 95000.0, 6: 12.51, 7: 1.0, 8: 4.0, 9: 5.0, 11: 1593.0, 12: 11.7, 13: 36.0, 18: 10.0, 19: 0.0732, 20: 0.0025, 24: 1.0, 287: 1.0, 297: 1.0, 329: 1.0, 331: 1.0}), label=0, rawPrediction=DenseVector([5.5534, 5.4466]), probability=DenseVector([0.5049, 0.4951]), prediction=0.0),\n",
       " Row(features=SparseVector(335, {0: 2400.0, 1: 2400.0, 2: 527.47, 3: 10.59, 4: 78.11, 5: 22752.0, 6: 5.7, 7: 1.0, 8: 1.0, 9: 1.0, 11: 3613.0, 12: 103.2, 13: 4.0, 18: 1.0, 19: 0.1055, 20: 0.0034, 24: 1.0, 287: 1.0, 297: 1.0, 329: 1.0, 332: 1.0}), label=0, rawPrediction=DenseVector([5.4217, 5.5783]), probability=DenseVector([0.4929, 0.5071]), prediction=1.0),\n",
       " Row(features=SparseVector(335, {0: 3000.0, 1: 3000.0, 2: 3000.0, 3: 13.49, 4: 101.8, 5: 55000.0, 6: 13.48, 7: 1.0, 8: 1.0, 9: 8.0, 11: 4467.0, 12: 55.1, 13: 13.0, 18: 2.0, 19: 0.0545, 20: 0.0019, 24: 1.0, 287: 1.0, 297: 1.0, 330: 1.0, 332: 1.0}), label=1, rawPrediction=DenseVector([5.8684, 5.1316]), probability=DenseVector([0.5335, 0.4665]), prediction=0.0),\n",
       " Row(features=SparseVector(335, {0: 10000.0, 1: 10000.0, 2: 7812.5088, 3: 12.84, 4: 336.18, 5: 48000.0, 6: 4.0, 7: 1.0, 8: 3.0, 9: 14.0, 11: 7350.0, 12: 13.8, 13: 30.0, 18: 1.0, 19: 0.2083, 20: 0.007, 24: 1.0, 287: 1.0, 297: 1.0, 330: 1.0, 332: 1.0}), label=0, rawPrediction=DenseVector([5.6807, 5.3193]), probability=DenseVector([0.5164, 0.4836]), prediction=0.0),\n",
       " Row(features=SparseVector(335, {0: 18500.0, 1: 18500.0, 2: 18093.002, 3: 13.57, 4: 628.42, 5: 79000.0, 6: 10.68, 7: 1.0, 8: 1.0, 9: 5.0, 11: 6495.0, 12: 42.7, 13: 29.0, 18: 4.0, 19: 0.2342, 20: 0.008, 24: 1.0, 287: 1.0, 299: 1.0, 328: 1.0, 331: 1.0}), label=0, rawPrediction=DenseVector([5.9736, 5.0264]), probability=DenseVector([0.5431, 0.4569]), prediction=0.0),\n",
       " Row(features=SparseVector(335, {0: 1250.0, 1: 1250.0, 2: 1250.0, 3: 13.16, 4: 42.22, 5: 14400.0, 6: 21.33, 7: 1.0, 8: 1.0, 9: 9.0, 11: 1638.0, 12: 71.2, 13: 13.0, 18: 1.0, 19: 0.0868, 20: 0.0029, 24: 1.0, 287: 1.0, 299: 1.0, 329: 1.0, 332: 1.0}), label=1, rawPrediction=DenseVector([5.4082, 5.5918]), probability=DenseVector([0.4917, 0.5083]), prediction=1.0),\n",
       " Row(features=SparseVector(335, {0: 2000.0, 1: 2000.0, 2: 2000.0, 3: 13.99, 4: 68.35, 5: 35000.0, 6: 13.75, 7: 1.0, 8: 2.0, 9: 7.0, 11: 1159.0, 12: 21.9, 13: 13.0, 18: 9.0, 19: 0.0571, 20: 0.002, 24: 1.0, 287: 1.0, 299: 1.0, 329: 1.0, 332: 1.0}), label=0, rawPrediction=DenseVector([5.7226, 5.2774]), probability=DenseVector([0.5202, 0.4798]), prediction=0.0),\n",
       " Row(features=SparseVector(335, {0: 2400.0, 1: 2400.0, 2: 2400.0, 3: 13.98, 4: 82.01, 5: 30720.0, 6: 14.73, 7: 2.0, 8: 1.0, 9: 5.0, 11: 482.0, 12: 60.2, 13: 7.0, 18: 2.0, 19: 0.0781, 20: 0.0027, 24: 1.0, 287: 1.0, 299: 1.0, 330: 1.0, 332: 1.0}), label=1, rawPrediction=DenseVector([5.4833, 5.5167]), probability=DenseVector([0.4985, 0.5015]), prediction=1.0),\n",
       " Row(features=SparseVector(335, {0: 4000.0, 1: 4000.0, 2: 3975.0, 3: 14.35, 4: 137.4, 5: 63500.0, 6: 19.5, 7: 1.0, 8: 2.0, 9: 16.0, 11: 595.0, 12: 11.4, 13: 24.0, 18: 1.0, 19: 0.063, 20: 0.0022, 24: 1.0, 287: 1.0, 300: 1.0, 328: 1.0, 332: 1.0}), label=0, rawPrediction=DenseVector([5.4664, 5.5336]), probability=DenseVector([0.4969, 0.5031]), prediction=1.0),\n",
       " Row(features=SparseVector(335, {0: 2000.0, 1: 2000.0, 2: 1975.0, 3: 13.85, 4: 68.21, 5: 26124.0, 6: 18.56, 7: 1.0, 8: 5.0, 9: 10.0, 11: 74.0, 12: 3.4, 13: 20.0, 18: 2.0, 19: 0.0766, 20: 0.0026, 24: 1.0, 287: 1.0, 300: 1.0, 329: 1.0, 332: 1.0}), label=0, rawPrediction=DenseVector([6.4755, 4.5245]), probability=DenseVector([0.5887, 0.4113]), prediction=0.0),\n",
       " Row(features=SparseVector(335, {0: 10000.0, 1: 10000.0, 2: 10000.0, 3: 15.27, 4: 347.98, 5: 50000.0, 6: 7.99, 7: 1.0, 8: 1.0, 9: 3.0, 11: 97.0, 12: 13.9, 13: 9.0, 18: 5.0, 19: 0.2, 20: 0.007, 24: 1.0, 287: 1.0, 300: 1.0, 329: 1.0, 332: 1.0}), label=1, rawPrediction=DenseVector([5.1427, 5.8573]), probability=DenseVector([0.4675, 0.5325]), prediction=1.0),\n",
       " Row(features=SparseVector(335, {0: 3600.0, 1: 3600.0, 2: 3600.0, 3: 14.17, 4: 123.34, 5: 30000.0, 6: 0.68, 7: 1.0, 8: 2.0, 9: 4.0, 11: 278.0, 12: 5.6, 13: 9.0, 18: 4.0, 19: 0.12, 20: 0.0041, 24: 1.0, 287: 1.0, 303: 1.0, 328: 1.0, 332: 1.0}), label=0, rawPrediction=DenseVector([5.6501, 5.3499]), probability=DenseVector([0.5136, 0.4864]), prediction=0.0),\n",
       " Row(features=SparseVector(335, {0: 20000.0, 1: 20000.0, 2: 8424.8506, 3: 12.29, 4: 667.06, 5: 78000.0, 6: 2.38, 7: 1.0, 8: 5.0, 9: 7.0, 11: 4361.0, 12: 42.3, 13: 12.0, 18: 4.0, 19: 0.2564, 20: 0.0086, 24: 1.0, 287: 1.0, 303: 1.0, 329: 1.0, 332: 1.0}), label=0, rawPrediction=DenseVector([5.5411, 5.4589]), probability=DenseVector([0.5037, 0.4963]), prediction=0.0),\n",
       " Row(features=SparseVector(335, {0: 4000.0, 1: 4000.0, 2: 4000.0, 3: 9.63, 4: 128.38, 5: 95000.0, 6: 7.87, 7: 1.0, 8: 2.0, 9: 9.0, 11: 5961.0, 12: 13.4, 13: 27.0, 18: 5.0, 19: 0.0421, 20: 0.0014, 24: 1.0, 288: 1.0, 302: 1.0, 329: 1.0, 331: 1.0}), label=0, rawPrediction=DenseVector([7.4554, 3.5446]), probability=DenseVector([0.6778, 0.3222]), prediction=0.0),\n",
       " Row(features=SparseVector(335, {0: 5500.0, 1: 5500.0, 2: 5500.0, 3: 6.62, 4: 168.88, 5: 40000.0, 6: 20.49, 7: 1.0, 8: 1.0, 9: 11.0, 11: 3179.0, 12: 33.1, 13: 27.0, 18: 10.0, 19: 0.1375, 20: 0.0042, 24: 1.0, 288: 1.0, 311: 1.0, 329: 1.0, 332: 1.0}), label=0, rawPrediction=DenseVector([7.6477, 3.3523]), probability=DenseVector([0.6952, 0.3048]), prediction=0.0),\n",
       " Row(features=SparseVector(335, {0: 3000.0, 1: 3000.0, 2: 3000.0, 3: 15.62, 4: 104.91, 5: 65000.0, 6: 2.7, 7: 1.0, 8: 1.0, 9: 8.0, 11: 2512.0, 12: 69.8, 13: 12.0, 18: 8.0, 19: 0.0462, 20: 0.0016, 24: 1.0, 289: 1.0, 305: 1.0, 330: 1.0, 331: 1.0}), label=0, rawPrediction=DenseVector([5.4361, 5.5639]), probability=DenseVector([0.4942, 0.5058]), prediction=1.0),\n",
       " Row(features=SparseVector(335, {0: 30000.0, 1: 30000.0, 2: 30000.0, 3: 16.49, 4: 1061.99, 5: 120000.0, 6: 12.17, 7: 1.0, 8: 1.0, 9: 10.0, 11: 568.0, 12: 2.4, 13: 39.0, 18: 6.0, 19: 0.25, 20: 0.0088, 24: 1.0, 289: 1.0, 307: 1.0, 328: 1.0, 331: 1.0}), label=1, rawPrediction=DenseVector([3.6285, 7.3715]), probability=DenseVector([0.3299, 0.6701]), prediction=1.0),\n",
       " Row(features=SparseVector(335, {0: 6400.0, 1: 6400.0, 2: 6350.0, 3: 16.89, 4: 227.83, 5: 51000.0, 6: 13.84, 7: 2.0, 8: 1.0, 9: 4.0, 11: 2936.0, 12: 97.9, 13: 18.0, 18: 10.0, 19: 0.1255, 20: 0.0045, 24: 1.0, 289: 1.0, 308: 1.0, 328: 1.0, 332: 1.0}), label=0, rawPrediction=DenseVector([5.206, 5.794]), probability=DenseVector([0.4733, 0.5267]), prediction=1.0),\n",
       " Row(features=SparseVector(335, {0: 5000.0, 1: 5000.0, 2: 1276.8633, 3: 12.8, 4: 167.99, 5: 48000.0, 6: 27.6, 7: 1.0, 8: 6.0, 9: 14.0, 11: 16513.0, 12: 30.9, 13: 36.0, 18: 10.0, 19: 0.1042, 20: 0.0035, 24: 1.0, 289: 1.0, 308: 1.0, 329: 1.0, 331: 1.0}), label=1, rawPrediction=DenseVector([5.2901, 5.7099]), probability=DenseVector([0.4809, 0.5191]), prediction=1.0),\n",
       " Row(features=SparseVector(335, {0: 8275.0, 1: 8275.0, 2: 1425.0, 3: 12.8, 4: 278.03, 5: 58000.0, 6: 7.99, 7: 2.0, 8: 4.0, 9: 4.0, 11: 2303.0, 12: 32.9, 13: 19.0, 18: 4.0, 19: 0.1427, 20: 0.0048, 24: 1.0, 289: 1.0, 308: 1.0, 329: 1.0, 331: 1.0}), label=0, rawPrediction=DenseVector([4.4245, 6.5755]), probability=DenseVector([0.4022, 0.5978]), prediction=1.0),\n",
       " Row(features=SparseVector(335, {0: 2000.0, 1: 2000.0, 2: 2000.0, 3: 16.89, 4: 71.2, 5: 40800.0, 6: 11.91, 7: 1.0, 8: 3.0, 9: 3.0, 11: 747.0, 12: 24.9, 13: 7.0, 18: 10.0, 19: 0.049, 20: 0.0017, 24: 1.0, 289: 1.0, 308: 1.0, 329: 1.0, 332: 1.0}), label=0, rawPrediction=DenseVector([4.9083, 6.0917]), probability=DenseVector([0.4462, 0.5538]), prediction=1.0),\n",
       " Row(features=SparseVector(335, {0: 5000.0, 1: 4100.0, 2: 677.8723, 3: 14.12, 4: 140.37, 5: 72000.0, 6: 1.57, 7: 2.0, 8: 3.0, 9: 10.0, 11: 3842.0, 12: 27.4, 13: 19.0, 18: 3.0, 19: 0.0694, 20: 0.0019, 24: 1.0, 289: 1.0, 310: 1.0, 328: 1.0, 331: 1.0}), label=0, rawPrediction=DenseVector([5.701, 5.299]), probability=DenseVector([0.5183, 0.4817]), prediction=0.0),\n",
       " Row(features=SparseVector(335, {0: 15000.0, 1: 15000.0, 2: 15000.0, 3: 16.02, 4: 527.51, 5: 72000.0, 6: 5.4, 7: 1.0, 8: 1.0, 9: 7.0, 11: 3199.0, 12: 58.2, 13: 29.0, 18: 2.0, 19: 0.2083, 20: 0.0073, 24: 1.0, 289: 1.0, 310: 1.0, 328: 1.0, 332: 1.0}), label=0, rawPrediction=DenseVector([5.3177, 5.6823]), probability=DenseVector([0.4834, 0.5166]), prediction=1.0),\n",
       " Row(features=SparseVector(335, {0: 7500.0, 1: 7500.0, 2: 750.3901, 3: 13.87, 4: 255.86, 5: 165000.0, 6: 20.95, 7: 1.0, 8: 5.0, 9: 15.0, 11: 14289.0, 12: 34.3, 13: 29.0, 18: 3.0, 19: 0.0455, 20: 0.0016, 24: 1.0, 289: 1.0, 310: 1.0, 329: 1.0, 331: 1.0}), label=0, rawPrediction=DenseVector([5.2081, 5.7919]), probability=DenseVector([0.4735, 0.5265]), prediction=1.0),\n",
       " Row(features=SparseVector(335, {0: 8000.0, 1: 8000.0, 2: 8000.0, 3: 16.02, 4: 281.34, 5: 112000.0, 6: 0.48, 7: 2.0, 8: 1.0, 9: 4.0, 11: 1658.0, 12: 47.4, 13: 16.0, 18: 4.0, 19: 0.0714, 20: 0.0025, 24: 1.0, 289: 1.0, 310: 1.0, 329: 1.0, 331: 1.0}), label=0, rawPrediction=DenseVector([4.713, 6.287]), probability=DenseVector([0.4285, 0.5715]), prediction=1.0),\n",
       " Row(features=SparseVector(335, {0: 10000.0, 1: 10000.0, 2: 9950.0, 3: 15.57, 4: 240.91, 5: 95000.0, 6: 17.31, 7: 1.0, 8: 1.0, 9: 11.0, 11: 31404.0, 12: 57.6, 13: 28.0, 18: 10.0, 19: 0.1053, 20: 0.0025, 24: 1.0, 289: 1.0, 310: 1.0, 330: 1.0, 331: 1.0}), label=0, rawPrediction=DenseVector([6.3887, 4.6113]), probability=DenseVector([0.5808, 0.4192]), prediction=0.0),\n",
       " Row(features=SparseVector(335, {0: 3250.0, 1: 3250.0, 2: 3225.0, 3: 16.45, 4: 79.82, 5: 20400.0, 6: 19.41, 7: 1.0, 8: 1.0, 9: 12.0, 11: 8981.0, 12: 65.6, 13: 19.0, 18: 2.0, 19: 0.1593, 20: 0.0039, 24: 1.0, 290: 1.0, 313: 1.0, 329: 1.0, 331: 1.0}), label=0, rawPrediction=DenseVector([4.0351, 6.9649]), probability=DenseVector([0.3668, 0.6332]), prediction=1.0),\n",
       " Row(features=SparseVector(335, {0: 30000.0, 1: 30000.0, 2: 29975.0, 3: 18.99, 4: 778.06, 5: 104004.0, 6: 5.67, 7: 1.0, 8: 1.0, 9: 3.0, 11: 20731.0, 12: 79.1, 13: 11.0, 18: 10.0, 19: 0.2885, 20: 0.0075, 24: 1.0, 291: 1.0, 320: 1.0, 328: 1.0, 332: 1.0}), label=1, rawPrediction=DenseVector([3.1867, 7.8133]), probability=DenseVector([0.2897, 0.7103]), prediction=1.0),\n",
       " Row(features=SparseVector(335, {0: 3000.0, 1: 3000.0, 2: 1850.0, 3: 16.46, 4: 106.16, 5: 60000.0, 6: 28.16, 7: 1.0, 8: 4.0, 9: 10.0, 11: 7846.0, 12: 25.8, 13: 31.0, 18: 10.0, 19: 0.05, 20: 0.0018, 24: 1.0, 291: 1.0, 321: 1.0, 329: 1.0, 332: 1.0}), label=0, rawPrediction=DenseVector([4.3447, 6.6553]), probability=DenseVector([0.395, 0.605]), prediction=1.0),\n",
       " Row(features=SparseVector(335, {0: 35000.0, 1: 35000.0, 2: 34928.4844, 3: 21.74, 4: 961.5, 5: 144000.0, 6: 22.4, 7: 1.0, 8: 1.0, 9: 19.0, 11: 20650.0, 12: 63.7, 13: 40.0, 18: 10.0, 19: 0.2431, 20: 0.0067, 24: 1.0, 291: 1.0, 322: 1.0, 328: 1.0, 331: 1.0}), label=1, rawPrediction=DenseVector([4.3595, 6.6405]), probability=DenseVector([0.3963, 0.6037]), prediction=1.0),\n",
       " Row(features=SparseVector(335, {0: 19200.0, 1: 19200.0, 2: 19115.2871, 3: 22.85, 4: 539.61, 5: 80000.0, 6: 9.95, 7: 1.0, 8: 2.0, 9: 8.0, 11: 6249.0, 12: 96.1, 13: 20.0, 18: 3.0, 19: 0.24, 20: 0.0067, 24: 1.0, 292: 1.0, 325: 1.0, 330: 1.0, 332: 1.0}), label=1, rawPrediction=DenseVector([3.8169, 7.1831]), probability=DenseVector([0.347, 0.653]), prediction=1.0),\n",
       " Row(features=SparseVector(335, {0: 6000.0, 1: 6000.0, 2: 6000.0, 3: 10.37, 4: 194.65, 5: 59000.0, 6: 13.91, 7: 1.0, 8: 3.0, 9: 12.0, 11: 13613.0, 12: 35.4, 13: 23.0, 18: 3.0, 19: 0.1017, 20: 0.0033, 25: 1.0, 286: 1.0, 293: 1.0, 329: 1.0, 332: 1.0}), label=0, rawPrediction=DenseVector([6.2958, 4.7042]), probability=DenseVector([0.5723, 0.4277]), prediction=0.0),\n",
       " Row(features=SparseVector(335, {0: 10000.0, 1: 10000.0, 2: 10000.0, 3: 11.86, 4: 331.48, 5: 159996.0, 6: 11.15, 7: 1.0, 8: 2.0, 9: 12.0, 11: 36672.0, 12: 33.5, 13: 30.0, 18: 1.0, 19: 0.0625, 20: 0.0021, 25: 1.0, 286: 1.0, 298: 1.0, 328: 1.0, 333: 1.0}), label=0, rawPrediction=DenseVector([7.675, 3.325]), probability=DenseVector([0.6977, 0.3023]), prediction=0.0),\n",
       " Row(features=SparseVector(335, {0: 5000.0, 1: 5000.0, 2: 5000.0, 3: 11.11, 4: 163.96, 5: 45000.0, 6: 6.45, 7: 1.0, 8: 1.0, 9: 5.0, 11: 2244.0, 12: 27.7, 13: 20.0, 18: 3.0, 19: 0.1111, 20: 0.0036, 25: 1.0, 286: 1.0, 298: 1.0, 329: 1.0, 332: 1.0}), label=0, rawPrediction=DenseVector([7.0033, 3.9967]), probability=DenseVector([0.6367, 0.3633]), prediction=0.0),\n",
       " Row(features=SparseVector(335, {0: 2000.0, 1: 2000.0, 2: 1535.74, 3: 9.2, 4: 63.79, 5: 24000.0, 6: 18.65, 7: 1.0, 8: 2.0, 9: 8.0, 11: 597.0, 12: 14.2, 13: 21.0, 18: 5.0, 19: 0.0833, 20: 0.0027, 25: 1.0, 286: 1.0, 301: 1.0, 329: 1.0, 331: 1.0}), label=0, rawPrediction=DenseVector([6.4223, 4.5777]), probability=DenseVector([0.5838, 0.4162]), prediction=0.0),\n",
       " Row(features=SparseVector(335, {0: 3000.0, 1: 3000.0, 2: 3000.0, 3: 10.95, 4: 98.15, 5: 58704.0, 6: 7.4, 7: 1.0, 8: 2.0, 9: 5.0, 11: 11855.0, 12: 76.0, 13: 26.0, 18: 8.0, 19: 0.0511, 20: 0.0017, 25: 1.0, 286: 1.0, 301: 1.0, 330: 1.0, 331: 1.0}), label=1, rawPrediction=DenseVector([7.3393, 3.6607]), probability=DenseVector([0.6672, 0.3328]), prediction=0.0),\n",
       " Row(features=SparseVector(335, {0: 1925.0, 1: 1925.0, 2: 1925.0, 3: 15.23, 4: 66.95, 5: 36000.0, 6: 24.57, 7: 1.0, 8: 2.0, 9: 12.0, 11: 8630.0, 12: 24.4, 13: 36.0, 18: 10.0, 19: 0.0535, 20: 0.0019, 25: 1.0, 287: 1.0, 303: 1.0, 329: 1.0, 331: 1.0}), label=0, rawPrediction=DenseVector([5.1023, 5.8977]), probability=DenseVector([0.4638, 0.5362]), prediction=1.0),\n",
       " Row(features=SparseVector(335, {0: 7500.0, 1: 7500.0, 2: 7500.0, 3: 7.88, 4: 234.61, 5: 142000.0, 6: 14.1, 7: 1.0, 8: 1.0, 9: 8.0, 11: 77875.0, 12: 72.6, 13: 24.0, 18: 1.0, 19: 0.0528, 20: 0.0017, 25: 1.0, 288: 1.0, 302: 1.0, 328: 1.0, 333: 1.0}), label=0, rawPrediction=DenseVector([8.0946, 2.9054]), probability=DenseVector([0.7359, 0.2641]), prediction=0.0),\n",
       " Row(features=SparseVector(335, {0: 8000.0, 1: 8000.0, 2: 7950.0, 3: 7.29, 4: 248.08, 5: 80000.0, 6: 10.81, 7: 1.0, 8: 2.0, 9: 5.0, 11: 7122.0, 12: 65.2, 13: 27.0, 18: 10.0, 19: 0.1, 20: 0.0031, 25: 1.0, 288: 1.0, 304: 1.0, 330: 1.0, 332: 1.0}), label=1, rawPrediction=DenseVector([8.6738, 2.3262]), probability=DenseVector([0.7885, 0.2115]), prediction=0.0),\n",
       " Row(features=SparseVector(335, {0: 16000.0, 1: 16000.0, 2: 3579.25, 3: 12.61, 4: 536.11, 5: 105600.0, 6: 19.23, 7: 1.0, 8: 4.0, 9: 22.0, 11: 111115.0, 12: 40.8, 13: 42.0, 18: 9.0, 19: 0.1515, 20: 0.0051, 25: 1.0, 289: 1.0, 305: 1.0, 329: 1.0, 331: 1.0}), label=0, rawPrediction=DenseVector([4.5535, 6.4465]), probability=DenseVector([0.414, 0.586]), prediction=1.0),\n",
       " Row(features=SparseVector(335, {0: 1600.0, 1: 1600.0, 2: 1600.0, 3: 14.61, 4: 55.17, 5: 6000.0, 6: 5.0, 7: 1.0, 8: 1.0, 9: 3.0, 11: 369.0, 12: 3.0, 13: 3.0, 18: 1.0, 19: 0.2667, 20: 0.0092, 25: 1.0, 289: 1.0, 305: 1.0, 329: 1.0, 333: 1.0}), label=0, rawPrediction=DenseVector([3.8918, 7.1082]), probability=DenseVector([0.3538, 0.6462]), prediction=1.0),\n",
       " Row(features=SparseVector(335, {0: 3000.0, 1: 3000.0, 2: 3000.0, 3: 14.46, 4: 103.21, 5: 52800.0, 6: 11.16, 7: 6.0, 8: 5.0, 9: 21.0, 11: 846.0, 12: 84.6, 13: 26.0, 18: 2.0, 19: 0.0568, 20: 0.002, 25: 1.0, 289: 1.0, 306: 1.0, 329: 1.0, 332: 1.0}), label=1, rawPrediction=DenseVector([6.2685, 4.7315]), probability=DenseVector([0.5699, 0.4301]), prediction=0.0),\n",
       " Row(features=SparseVector(335, {0: 4000.0, 1: 4000.0, 2: 3950.0, 3: 15.2, 4: 95.59, 5: 102000.0, 6: 12.26, 7: 4.0, 8: 2.0, 9: 7.0, 11: 8196.0, 12: 73.2, 13: 32.0, 18: 9.0, 19: 0.0392, 20: 0.0009, 25: 1.0, 289: 1.0, 308: 1.0, 328: 1.0, 332: 1.0}), label=0, rawPrediction=DenseVector([5.4104, 5.5896]), probability=DenseVector([0.4919, 0.5081]), prediction=1.0),\n",
       " Row(features=SparseVector(335, {0: 7200.0, 1: 7200.0, 2: 3175.73, 3: 14.5, 4: 247.84, 5: 20000.0, 6: 6.3, 7: 2.0, 8: 1.0, 9: 7.0, 11: 9978.0, 12: 83.8, 13: 12.0, 18: 1.0, 19: 0.36, 20: 0.0124, 25: 1.0, 290: 1.0, 314: 1.0, 329: 1.0, 331: 1.0}), label=0, rawPrediction=DenseVector([3.5447, 7.4553]), probability=DenseVector([0.3222, 0.6778]), prediction=1.0),\n",
       " Row(features=SparseVector(335, {0: 5000.0, 1: 5000.0, 2: 4925.0, 3: 17.04, 4: 178.38, 5: 20000.0, 6: 0.6, 7: 1.0, 8: 8.0, 9: 8.0, 11: 539.0, 12: 2.4, 13: 15.0, 18: 1.0, 19: 0.25, 20: 0.0089, 25: 1.0, 290: 1.0, 315: 1.0, 329: 1.0, 332: 1.0}), label=0, rawPrediction=DenseVector([5.466, 5.534]), probability=DenseVector([0.4969, 0.5031]), prediction=1.0),\n",
       " Row(features=SparseVector(335, {0: 10400.0, 1: 10400.0, 2: 10400.0, 3: 18.25, 4: 377.3, 5: 57600.0, 6: 10.17, 7: 1.0, 8: 1.0, 9: 25.0, 11: 3348.0, 12: 49.2, 13: 41.0, 18: 1.0, 19: 0.1806, 20: 0.0066, 25: 1.0, 291: 1.0, 318: 1.0, 329: 1.0, 332: 1.0}), label=0, rawPrediction=DenseVector([4.0167, 6.9833]), probability=DenseVector([0.3652, 0.6348]), prediction=1.0),\n",
       " Row(features=SparseVector(335, {0: 14725.0, 1: 14725.0, 2: 14725.0, 3: 19.41, 4: 542.86, 5: 220000.0, 6: 2.14, 7: 1.0, 8: 2.0, 9: 11.0, 11: 82265.0, 12: 27.8, 13: 30.0, 18: 1.0, 19: 0.0669, 20: 0.0025, 25: 1.0, 291: 1.0, 321: 1.0, 328: 1.0, 333: 1.0}), label=0, rawPrediction=DenseVector([4.8515, 6.1485]), probability=DenseVector([0.441, 0.559]), prediction=1.0),\n",
       " Row(features=SparseVector(335, {0: 20000.0, 1: 20000.0, 2: 20000.0, 3: 11.49, 4: 659.43, 5: 226000.0, 6: 6.73, 7: 1.0, 8: 3.0, 9: 8.0, 11: 32891.0, 12: 77.8, 13: 25.0, 18: 4.0, 19: 0.0885, 20: 0.0029, 26: 1.0, 286: 1.0, 294: 1.0, 330: 1.0, 331: 1.0}), label=0, rawPrediction=DenseVector([7.1892, 3.8108]), probability=DenseVector([0.6536, 0.3464]), prediction=0.0),\n",
       " Row(features=SparseVector(335, {0: 12000.0, 1: 12000.0, 2: 9365.9619, 3: 12.21, 4: 399.78, 5: 47000.0, 6: 19.38, 7: 1.0, 8: 1.0, 9: 11.0, 11: 9554.0, 12: 34.2, 13: 31.0, 18: 3.0, 19: 0.2553, 20: 0.0085, 26: 1.0, 286: 1.0, 298: 1.0, 328: 1.0, 331: 1.0}), label=0, rawPrediction=DenseVector([5.8566, 5.1434]), probability=DenseVector([0.5324, 0.4676]), prediction=0.0),\n",
       " Row(features=SparseVector(335, {0: 15000.0, 1: 15000.0, 2: 14285.0703, 3: 11.86, 4: 497.22, 5: 60000.0, 6: 10.88, 7: 2.0, 8: 1.0, 9: 9.0, 11: 26885.0, 12: 44.4, 13: 31.0, 18: 10.0, 19: 0.25, 20: 0.0083, 26: 1.0, 286: 1.0, 298: 1.0, 328: 1.0, 332: 1.0}), label=1, rawPrediction=DenseVector([5.9885, 5.0115]), probability=DenseVector([0.5444, 0.4556]), prediction=0.0),\n",
       " Row(features=SparseVector(335, {0: 10000.0, 1: 10000.0, 2: 10000.0, 3: 13.49, 4: 339.31, 5: 65000.0, 6: 6.92, 7: 1.0, 8: 2.0, 9: 12.0, 11: 14292.0, 12: 69.5, 13: 17.0, 18: 5.0, 19: 0.1538, 20: 0.0052, 26: 1.0, 287: 1.0, 295: 1.0, 329: 1.0, 332: 1.0}), label=1, rawPrediction=DenseVector([5.181, 5.819]), probability=DenseVector([0.471, 0.529]), prediction=1.0),\n",
       " Row(features=SparseVector(335, {0: 10000.0, 1: 10000.0, 2: 9950.0, 3: 13.85, 4: 341.04, 5: 34000.0, 6: 5.44, 7: 1.0, 8: 1.0, 9: 8.0, 11: 7220.0, 12: 40.1, 13: 14.0, 18: 3.0, 19: 0.2941, 20: 0.01, 26: 1.0, 287: 1.0, 300: 1.0, 329: 1.0, 331: 1.0}), label=1, rawPrediction=DenseVector([5.4711, 5.5289]), probability=DenseVector([0.4974, 0.5026]), prediction=1.0),\n",
       " Row(features=SparseVector(335, {0: 6000.0, 1: 6000.0, 2: 6000.0, 3: 14.79, 4: 142.08, 5: 40000.0, 6: 16.2, 7: 1.0, 8: 3.0, 9: 5.0, 11: 3852.0, 12: 68.8, 13: 14.0, 18: 2.0, 19: 0.15, 20: 0.0036, 26: 1.0, 287: 1.0, 300: 1.0, 330: 1.0, 332: 1.0}), label=1, rawPrediction=DenseVector([5.1977, 5.8023]), probability=DenseVector([0.4725, 0.5275]), prediction=1.0),\n",
       " Row(features=SparseVector(335, {0: 10000.0, 1: 10000.0, 2: 10000.0, 3: 15.23, 4: 347.79, 5: 60000.0, 6: 18.38, 7: 1.0, 8: 2.0, 9: 16.0, 11: 28464.0, 12: 54.1, 13: 27.0, 18: 1.0, 19: 0.1667, 20: 0.0058, 26: 1.0, 287: 1.0, 303: 1.0, 329: 1.0, 332: 1.0}), label=1, rawPrediction=DenseVector([4.5507, 6.4493]), probability=DenseVector([0.4137, 0.5863]), prediction=1.0),\n",
       " Row(features=SparseVector(335, {0: 12000.0, 1: 12000.0, 2: 12000.0, 3: 14.72, 4: 414.35, 5: 136000.0, 6: 11.61, 7: 4.0, 8: 1.0, 9: 22.0, 11: 15905.0, 12: 38.7, 13: 40.0, 18: 2.0, 19: 0.0882, 20: 0.003, 26: 1.0, 287: 1.0, 303: 1.0, 329: 1.0, 332: 1.0}), label=0, rawPrediction=DenseVector([5.9486, 5.0514]), probability=DenseVector([0.5408, 0.4592]), prediction=0.0),\n",
       " Row(features=SparseVector(335, {0: 12000.0, 1: 12000.0, 2: 4287.0693, 3: 14.11, 4: 410.75, 5: 92000.0, 6: 7.63, 7: 2.0, 8: 2.0, 9: 6.0, 11: 752.0, 12: 2.5, 13: 8.0, 18: 1.0, 19: 0.1304, 20: 0.0045, 26: 1.0, 289: 1.0, 305: 1.0, 328: 1.0, 333: 1.0}), label=1, rawPrediction=DenseVector([5.7067, 5.2933]), probability=DenseVector([0.5188, 0.4812]), prediction=0.0),\n",
       " Row(features=SparseVector(335, {0: 1600.0, 1: 1600.0, 2: 1600.0, 3: 14.46, 4: 37.62, 5: 31000.0, 6: 6.23, 7: 1.0, 8: 6.0, 9: 8.0, 11: 270.0, 12: 1.9, 13: 14.0, 18: 5.0, 19: 0.0516, 20: 0.0012, 26: 1.0, 289: 1.0, 306: 1.0, 330: 1.0, 331: 1.0}), label=0, rawPrediction=DenseVector([5.4401, 5.5599]), probability=DenseVector([0.4946, 0.5054]), prediction=1.0),\n",
       " Row(features=SparseVector(335, {0: 16000.0, 1: 16000.0, 2: 8758.6104, 3: 14.74, 4: 552.59, 5: 50000.0, 6: 18.53, 7: 1.0, 8: 1.0, 9: 6.0, 11: 3364.0, 12: 44.9, 13: 15.0, 18: 4.0, 19: 0.32, 20: 0.0111, 26: 1.0, 289: 1.0, 307: 1.0, 328: 1.0, 331: 1.0}), label=1, rawPrediction=DenseVector([3.2112, 7.7888]), probability=DenseVector([0.2919, 0.7081]), prediction=1.0),\n",
       " Row(features=SparseVector(335, {0: 8500.0, 1: 8500.0, 2: 1275.0, 3: 12.49, 4: 284.32, 5: 85000.0, 6: 6.38, 7: 4.0, 8: 3.0, 9: 7.0, 11: 1196.0, 12: 12.0, 13: 16.0, 18: 8.0, 19: 0.1, 20: 0.0033, 26: 1.0, 289: 1.0, 307: 1.0, 329: 1.0, 331: 1.0}), label=0, rawPrediction=DenseVector([5.3189, 5.6811]), probability=DenseVector([0.4835, 0.5165]), prediction=1.0),\n",
       " Row(features=SparseVector(335, {0: 16000.0, 1: 16000.0, 2: 15474.0381, 3: 15.7, 4: 560.18, 5: 36000.0, 6: 16.1, 7: 1.0, 8: 3.0, 9: 7.0, 11: 3062.0, 12: 28.1, 13: 10.0, 18: 7.0, 19: 0.4444, 20: 0.0156, 26: 1.0, 289: 1.0, 308: 1.0, 329: 1.0, 332: 1.0}), label=0, rawPrediction=DenseVector([4.3627, 6.6373]), probability=DenseVector([0.3966, 0.6034]), prediction=1.0),\n",
       " Row(features=SparseVector(335, {0: 20000.0, 1: 15000.0, 2: 1175.0062, 3: 12.8, 4: 503.97, 5: 60000.0, 6: 22.44, 7: 2.0, 8: 5.0, 9: 3.0, 11: 23.0, 12: 1.3, 13: 15.0, 18: 10.0, 19: 0.3333, 20: 0.0084, 26: 1.0, 289: 1.0, 308: 1.0, 329: 1.0, 333: 1.0}), label=1, rawPrediction=DenseVector([4.6557, 6.3443]), probability=DenseVector([0.4232, 0.5768]), prediction=1.0),\n",
       " Row(features=SparseVector(335, {0: 15000.0, 1: 15000.0, 2: 2799.9956, 3: 14.62, 4: 517.2, 5: 108000.0, 6: 11.56, 7: 1.0, 8: 1.0, 9: 14.0, 11: 13706.0, 12: 45.7, 13: 23.0, 18: 10.0, 19: 0.1389, 20: 0.0048, 26: 1.0, 289: 1.0, 310: 1.0, 329: 1.0, 331: 1.0}), label=1, rawPrediction=DenseVector([4.9355, 6.0645]), probability=DenseVector([0.4487, 0.5513]), prediction=1.0),\n",
       " Row(features=SparseVector(335, {0: 24000.0, 1: 24000.0, 2: 22875.0, 3: 16.0, 4: 843.78, 5: 150000.0, 6: 7.01, 7: 1.0, 8: 1.0, 9: 6.0, 11: 17161.0, 12: 26.0, 13: 33.0, 18: 10.0, 19: 0.16, 20: 0.0056, 26: 1.0, 289: 1.0, 310: 1.0, 329: 1.0, 332: 1.0}), label=0, rawPrediction=DenseVector([4.5528, 6.4472]), probability=DenseVector([0.4139, 0.5861]), prediction=1.0),\n",
       " Row(features=SparseVector(335, {0: 8000.0, 1: 8000.0, 2: 8000.0, 3: 16.45, 4: 283.04, 5: 96000.0, 6: 0.25, 7: 1.0, 8: 1.0, 9: 7.0, 11: 1374.0, 12: 12.9, 13: 8.0, 18: 1.0, 19: 0.0833, 20: 0.0029, 26: 1.0, 290: 1.0, 313: 1.0, 328: 1.0, 332: 1.0}), label=0, rawPrediction=DenseVector([4.552, 6.448]), probability=DenseVector([0.4138, 0.5862]), prediction=1.0),\n",
       " Row(features=SparseVector(335, {0: 10000.0, 1: 10000.0, 2: 10000.0, 3: 16.77, 4: 247.3, 5: 60000.0, 6: 5.6, 7: 1.0, 8: 1.0, 9: 11.0, 11: 1154.0, 12: 5.9, 13: 28.0, 18: 5.0, 19: 0.1667, 20: 0.0041, 26: 1.0, 290: 1.0, 314: 1.0, 330: 1.0, 331: 1.0}), label=1, rawPrediction=DenseVector([4.2955, 6.7045]), probability=DenseVector([0.3905, 0.6095]), prediction=1.0),\n",
       " Row(features=SparseVector(335, {0: 15000.0, 1: 15000.0, 2: 13550.0, 3: 17.19, 4: 374.33, 5: 83600.0, 6: 3.98, 7: 1.0, 8: 3.0, 9: 11.0, 11: 12787.0, 12: 28.4, 13: 28.0, 18: 5.0, 19: 0.1794, 20: 0.0045, 26: 1.0, 290: 1.0, 315: 1.0, 329: 1.0, 333: 1.0}), label=0, rawPrediction=DenseVector([4.0982, 6.9018]), probability=DenseVector([0.3726, 0.6274]), prediction=1.0),\n",
       " Row(features=SparseVector(335, {0: 35000.0, 1: 22400.0, 2: 19878.918, 3: 19.29, 4: 584.65, 5: 100000.0, 6: 12.42, 7: 1.0, 8: 1.0, 9: 7.0, 11: 19797.0, 12: 51.7, 13: 17.0, 18: 10.0, 19: 0.35, 20: 0.0058, 26: 1.0, 290: 1.0, 316: 1.0, 330: 1.0, 331: 1.0}), label=0, rawPrediction=DenseVector([3.7749, 7.2251]), probability=DenseVector([0.3432, 0.6568]), prediction=1.0),\n",
       " Row(features=SparseVector(335, {0: 8000.0, 1: 8000.0, 2: 8000.0, 3: 17.93, 4: 202.85, 5: 100000.0, 6: 7.25, 7: 1.0, 8: 3.0, 9: 9.0, 11: 5168.0, 12: 87.6, 13: 44.0, 18: 1.0, 19: 0.08, 20: 0.002, 26: 1.0, 290: 1.0, 317: 1.0, 328: 1.0, 331: 1.0}), label=0, rawPrediction=DenseVector([3.4721, 7.5279]), probability=DenseVector([0.3156, 0.6844]), prediction=1.0),\n",
       " Row(features=SparseVector(335, {0: 5000.0, 1: 5000.0, 2: 4972.9219, 3: 19.47, 4: 184.49, 5: 30288.2402, 6: 2.5, 7: 2.0, 8: 2.0, 9: 2.0, 11: 2077.0, 12: 64.9, 13: 8.0, 18: 1.0, 19: 0.1651, 20: 0.0061, 26: 1.0, 291: 1.0, 322: 1.0, 329: 1.0, 333: 1.0}), label=1, rawPrediction=DenseVector([3.0497, 7.9503]), probability=DenseVector([0.2772, 0.7228]), prediction=1.0),\n",
       " Row(features=SparseVector(335, {0: 2500.0, 1: 2500.0, 2: 2492.6135, 3: 21.21, 4: 94.47, 5: 87240.0, 6: 5.21, 7: 2.0, 8: 6.0, 9: 27.0, 11: 52702.0, 12: 41.1, 13: 62.0, 18: 1.0, 19: 0.0287, 20: 0.0011, 26: 1.0, 292: 1.0, 327: 1.0, 329: 1.0, 331: 1.0}), label=0, rawPrediction=DenseVector([4.6777, 6.3223]), probability=DenseVector([0.4252, 0.5748]), prediction=1.0),\n",
       " Row(features=SparseVector(335, {0: 9000.0, 1: 9000.0, 2: 8875.0, 3: 13.23, 4: 205.84, 5: 33600.0, 6: 4.71, 7: 2.0, 8: 1.0, 9: 9.0, 11: 4998.0, 12: 10.4, 13: 38.0, 18: 2.0, 19: 0.2679, 20: 0.0061, 27: 1.0, 287: 1.0, 295: 1.0, 329: 1.0, 331: 1.0}), label=0, rawPrediction=DenseVector([6.5405, 4.4595]), probability=DenseVector([0.5946, 0.4054]), prediction=0.0),\n",
       " Row(features=SparseVector(335, {0: 4500.0, 1: 4500.0, 2: 4500.0, 3: 13.49, 4: 103.53, 5: 37200.0, 6: 18.16, 7: 1.0, 8: 1.0, 9: 15.0, 11: 3102.0, 12: 23.3, 13: 27.0, 18: 1.0, 19: 0.121, 20: 0.0028, 27: 1.0, 287: 1.0, 295: 1.0, 330: 1.0, 332: 1.0}), label=0, rawPrediction=DenseVector([6.8428, 4.1572]), probability=DenseVector([0.6221, 0.3779]), prediction=0.0),\n",
       " Row(features=SparseVector(335, {0: 2200.0, 1: 2200.0, 2: 2200.0, 3: 13.43, 4: 74.59, 5: 85000.0, 6: 18.03, 7: 2.0, 8: 1.0, 9: 6.0, 11: 399.0, 12: 30.5, 13: 29.0, 18: 10.0, 19: 0.0259, 20: 0.0009, 27: 1.0, 287: 1.0, 299: 1.0, 330: 1.0, 331: 1.0}), label=0, rawPrediction=DenseVector([7.0847, 3.9153]), probability=DenseVector([0.6441, 0.3559]), prediction=0.0),\n",
       " Row(features=SparseVector(335, {0: 10000.0, 1: 10000.0, 2: 10000.0, 3: 13.47, 4: 339.23, 5: 54996.0, 6: 5.59, 7: 2.0, 8: 1.0, 9: 6.0, 11: 2432.0, 12: 24.1, 13: 35.0, 18: 4.0, 19: 0.1818, 20: 0.0062, 27: 1.0, 287: 1.0, 300: 1.0, 329: 1.0, 332: 1.0}), label=0, rawPrediction=DenseVector([6.7105, 4.2895]), probability=DenseVector([0.61, 0.39]), prediction=0.0),\n",
       " Row(features=SparseVector(335, {0: 7200.0, 1: 7200.0, 2: 7200.0, 3: 13.8, 4: 166.79, 5: 96000.0, 6: 9.34, 7: 1.0, 8: 1.0, 9: 10.0, 11: 18851.0, 12: 30.0, 13: 32.0, 18: 10.0, 19: 0.075, 20: 0.0017, 27: 1.0, 287: 1.0, 300: 1.0, 330: 1.0, 331: 1.0}), label=0, rawPrediction=DenseVector([7.1685, 3.8315]), probability=DenseVector([0.6517, 0.3483]), prediction=0.0),\n",
       " Row(features=SparseVector(335, {0: 2000.0, 1: 2000.0, 2: 2000.0, 3: 15.23, 4: 47.83, 5: 42000.0, 6: 11.17, 7: 1.0, 8: 1.0, 9: 11.0, 11: 6225.0, 12: 34.6, 13: 30.0, 18: 2.0, 19: 0.0476, 20: 0.0011, 27: 1.0, 287: 1.0, 303: 1.0, 330: 1.0, 331: 1.0}), label=0, rawPrediction=DenseVector([5.5775, 5.4225]), probability=DenseVector([0.507, 0.493]), prediction=0.0),\n",
       " Row(features=SparseVector(335, {0: 4200.0, 1: 4200.0, 2: 4200.0, 3: 15.23, 4: 146.07, 5: 30000.0, 6: 7.64, 7: 1.0, 8: 1.0, 9: 5.0, 11: 535.0, 12: 9.9, 13: 5.0, 18: 6.0, 19: 0.14, 20: 0.0049, 27: 1.0, 287: 1.0, 303: 1.0, 330: 1.0, 332: 1.0}), label=0, rawPrediction=DenseVector([5.0329, 5.9671]), probability=DenseVector([0.4575, 0.5425]), prediction=1.0),\n",
       " Row(features=SparseVector(335, {0: 3000.0, 1: 2500.0, 2: 751.3495, 3: 8.32, 4: 78.72, 5: 26796.0, 6: 6.58, 7: 2.0, 8: 1.0, 9: 9.0, 11: 5134.0, 12: 13.7, 13: 15.0, 18: 10.0, 19: 0.112, 20: 0.0029, 27: 1.0, 288: 1.0, 304: 1.0, 329: 1.0, 331: 1.0}), label=0, rawPrediction=DenseVector([9.009, 1.991]), probability=DenseVector([0.819, 0.181]), prediction=0.0),\n",
       " Row(features=SparseVector(335, {0: 5900.0, 1: 5900.0, 2: 5900.0, 3: 7.49, 4: 183.5, 5: 78644.0, 6: 27.5, 7: 2.0, 8: 1.0, 9: 9.0, 11: 5883.0, 12: 24.9, 13: 37.0, 18: 3.0, 19: 0.075, 20: 0.0023, 27: 1.0, 288: 1.0, 304: 1.0, 330: 1.0, 331: 1.0}), label=1, rawPrediction=DenseVector([7.5106, 3.4894]), probability=DenseVector([0.6828, 0.3172]), prediction=0.0),\n",
       " Row(features=SparseVector(335, {0: 8000.0, 1: 8000.0, 2: 8000.0, 3: 15.99, 4: 194.51, 5: 87000.0, 6: 10.69, 7: 1.0, 8: 1.0, 9: 5.0, 11: 14999.0, 12: 64.9, 13: 13.0, 18: 10.0, 19: 0.092, 20: 0.0022, 27: 1.0, 289: 1.0, 306: 1.0, 329: 1.0, 333: 1.0}), label=0, rawPrediction=DenseVector([5.5818, 5.4182]), probability=DenseVector([0.5074, 0.4926]), prediction=0.0),\n",
       " Row(features=SparseVector(335, {0: 2800.0, 1: 2800.0, 2: 2800.0, 3: 15.31, 4: 97.49, 5: 15000.0, 6: 6.8, 7: 2.0, 8: 1.0, 9: 6.0, 11: 456.0, 12: 22.8, 13: 12.0, 18: 1.0, 19: 0.1867, 20: 0.0065, 27: 1.0, 289: 1.0, 307: 1.0, 329: 1.0, 332: 1.0}), label=0, rawPrediction=DenseVector([5.0989, 5.9011]), probability=DenseVector([0.4635, 0.5365]), prediction=1.0),\n",
       " Row(features=SparseVector(335, {0: 5500.0, 1: 5500.0, 2: 3175.1001, 3: 15.05, 4: 190.81, 5: 43004.0, 6: 12.7, 7: 1.0, 8: 2.0, 9: 12.0, 11: 1953.0, 12: 57.4, 13: 24.0, 18: 2.0, 19: 0.1279, 20: 0.0044, 27: 1.0, 289: 1.0, 308: 1.0, 329: 1.0, 332: 1.0}), label=0, rawPrediction=DenseVector([5.1292, 5.8708]), probability=DenseVector([0.4663, 0.5337]), prediction=1.0),\n",
       " Row(features=SparseVector(335, {0: 8000.0, 1: 8000.0, 2: 7975.0, 3: 16.32, 4: 282.53, 5: 51600.0, 6: 2.51, 7: 3.0, 8: 4.0, 9: 6.0, 11: 5898.0, 12: 37.1, 13: 18.0, 18: 5.0, 19: 0.155, 20: 0.0055, 27: 1.0, 289: 1.0, 310: 1.0, 330: 1.0, 332: 1.0}), label=0, rawPrediction=DenseVector([4.6593, 6.3407]), probability=DenseVector([0.4236, 0.5764]), prediction=1.0),\n",
       " Row(features=SparseVector(335, {0: 5400.0, 1: 5400.0, 2: 0.0042, 3: 14.82, 4: 186.72, 5: 48000.0, 6: 19.4, 7: 1.0, 8: 3.0, 9: 8.0, 11: 21093.0, 12: 85.1, 13: 21.0, 18: 6.0, 19: 0.1125, 20: 0.0039, 27: 1.0, 290: 1.0, 315: 1.0, 329: 1.0, 332: 1.0}), label=1, rawPrediction=DenseVector([4.4783, 6.5217]), probability=DenseVector([0.4071, 0.5929]), prediction=1.0),\n",
       " Row(features=SparseVector(335, {0: 5000.0, 1: 5000.0, 2: 4975.0, 3: 10.37, 4: 162.21, 5: 38400.0, 6: 0.78, 7: 1.0, 8: 1.0, 9: 4.0, 11: 1087.0, 12: 23.6, 13: 13.0, 18: 10.0, 19: 0.1302, 20: 0.0042, 28: 1.0, 286: 1.0, 293: 1.0, 328: 1.0, 331: 1.0}), label=1, rawPrediction=DenseVector([6.2617, 4.7383]), probability=DenseVector([0.5692, 0.4308]), prediction=0.0),\n",
       " Row(features=SparseVector(335, {0: 4800.0, 1: 4800.0, 2: 4356.3193, 3: 12.21, 4: 159.92, 5: 68004.0, 6: 3.99, 7: 1.0, 8: 1.0, 9: 4.0, 11: 468.0, 12: 7.2, 13: 17.0, 18: 2.0, 19: 0.0706, 20: 0.0024, 28: 1.0, 286: 1.0, 298: 1.0, 329: 1.0, 332: 1.0}), label=0, rawPrediction=DenseVector([6.9319, 4.0681]), probability=DenseVector([0.6302, 0.3698]), prediction=0.0),\n",
       " Row(features=SparseVector(335, {0: 7000.0, 1: 7000.0, 2: 7000.0, 3: 13.99, 4: 239.21, 5: 85000.0, 6: 1.91, 7: 1.0, 8: 2.0, 9: 7.0, 11: 2640.0, 12: 45.5, 13: 32.0, 18: 2.0, 19: 0.0824, 20: 0.0028, 28: 1.0, 287: 1.0, 299: 1.0, 328: 1.0, 332: 1.0}), label=0, rawPrediction=DenseVector([6.6206, 4.3794]), probability=DenseVector([0.6019, 0.3981]), prediction=0.0),\n",
       " Row(features=SparseVector(335, {0: 6250.0, 1: 6250.0, 2: 6250.0, 3: 13.85, 4: 213.15, 5: 21000.0, 6: 19.94, 7: 1.0, 8: 1.0, 9: 5.0, 11: 1514.0, 12: 21.0, 13: 8.0, 18: 2.0, 19: 0.2976, 20: 0.0101, 28: 1.0, 287: 1.0, 300: 1.0, 329: 1.0, 332: 1.0}), label=0, rawPrediction=DenseVector([5.7401, 5.2599]), probability=DenseVector([0.5218, 0.4782]), prediction=0.0),\n",
       " Row(features=SparseVector(335, {0: 3000.0, 1: 3000.0, 2: 3000.0, 3: 14.35, 4: 103.05, 5: 67675.0, 6: 13.65, 7: 1.0, 8: 1.0, 9: 5.0, 11: 1257.0, 12: 59.9, 13: 14.0, 18: 10.0, 19: 0.0443, 20: 0.0015, 28: 1.0, 287: 1.0, 300: 1.0, 330: 1.0, 331: 1.0}), label=0, rawPrediction=DenseVector([5.6067, 5.3933]), probability=DenseVector([0.5097, 0.4903]), prediction=0.0),\n",
       " Row(features=SparseVector(335, {0: 3500.0, 1: 3500.0, 2: 3475.0, 3: 15.31, 4: 121.86, 5: 104004.0, 6: 19.19, 7: 1.0, 8: 5.0, 9: 14.0, 11: 15357.0, 12: 76.0, 13: 31.0, 18: 10.0, 19: 0.0337, 20: 0.0012, 28: 1.0, 289: 1.0, 307: 1.0, 329: 1.0, 331: 1.0}), label=0, rawPrediction=DenseVector([4.9756, 6.0244]), probability=DenseVector([0.4523, 0.5477]), prediction=1.0),\n",
       " Row(features=SparseVector(335, {0: 14000.0, 1: 14000.0, 2: 12500.0, 3: 19.03, 4: 363.4, 5: 38000.0, 6: 8.43, 7: 1.0, 8: 2.0, 9: 16.0, 11: 6843.0, 12: 19.3, 13: 63.0, 18: 6.0, 19: 0.3684, 20: 0.0096, 28: 1.0, 290: 1.0, 314: 1.0, 329: 1.0, 331: 1.0}), label=0, rawPrediction=DenseVector([3.9675, 7.0325]), probability=DenseVector([0.3607, 0.6393]), prediction=1.0),\n",
       " Row(features=SparseVector(335, {0: 25000.0, 1: 25000.0, 2: 24972.8418, 3: 17.93, 4: 902.94, 5: 285000.0, 6: 14.36, 7: 3.0, 8: 3.0, 9: 15.0, 11: 34723.0, 12: 49.6, 13: 33.0, 18: 10.0, 19: 0.0877, 20: 0.0032, 28: 1.0, 290: 1.0, 317: 1.0, 328: 1.0, 331: 1.0}), label=0, rawPrediction=DenseVector([4.3538, 6.6462]), probability=DenseVector([0.3958, 0.6042]), prediction=1.0),\n",
       " Row(features=SparseVector(335, {0: 4000.0, 1: 4000.0, 2: 3975.0, 3: 10.37, 4: 129.77, 5: 154000.0, 6: 13.62, 7: 1.0, 8: 3.0, 9: 15.0, 11: 16220.0, 12: 61.6, 13: 29.0, 18: 4.0, 19: 0.026, 20: 0.0008, 29: 1.0, 286: 1.0, 293: 1.0, 328: 1.0, 331: 1.0}), label=0, rawPrediction=DenseVector([5.7146, 5.2854]), probability=DenseVector([0.5195, 0.4805]), prediction=0.0),\n",
       " Row(features=SparseVector(335, {0: 4500.0, 1: 4500.0, 2: 4450.0, 3: 12.18, 4: 149.85, 5: 74000.0, 6: 1.49, 7: 1.0, 8: 2.0, 9: 5.0, 11: 2698.0, 12: 33.3, 13: 6.0, 18: 1.0, 19: 0.0608, 20: 0.002, 29: 1.0, 286: 1.0, 294: 1.0, 328: 1.0, 332: 1.0}), label=0, rawPrediction=DenseVector([6.1249, 4.8751]), probability=DenseVector([0.5568, 0.4432]), prediction=0.0),\n",
       " Row(features=SparseVector(335, {0: 5000.0, 1: 5000.0, 2: 5000.0, 3: 12.42, 4: 167.08, 5: 57000.0, 6: 13.89, 7: 1.0, 8: 3.0, 9: 13.0, 11: 3110.0, 12: 23.9, 13: 14.0, 18: 10.0, 19: 0.0877, 20: 0.0029, 29: 1.0, 286: 1.0, 294: 1.0, 330: 1.0, 332: 1.0}), label=1, rawPrediction=DenseVector([6.1885, 4.8115]), probability=DenseVector([0.5626, 0.4374]), prediction=0.0),\n",
       " Row(features=SparseVector(335, {0: 3100.0, 1: 3100.0, 2: 3100.0, 3: 13.49, 4: 105.19, 5: 65000.0, 6: 3.42, 7: 1.0, 8: 1.0, 9: 12.0, 11: 4332.0, 12: 41.3, 13: 16.0, 18: 1.0, 19: 0.0477, 20: 0.0016, 29: 1.0, 287: 1.0, 295: 1.0, 330: 1.0, 332: 1.0}), label=0, rawPrediction=DenseVector([5.6561, 5.3439]), probability=DenseVector([0.5142, 0.4858]), prediction=0.0),\n",
       " Row(features=SparseVector(335, {0: 8400.0, 1: 8400.0, 2: 8400.0, 3: 18.3, 4: 214.68, 5: 90000.0, 6: 24.13, 7: 2.0, 8: 2.0, 9: 5.0, 11: 5170.0, 12: 92.3, 13: 18.0, 18: 3.0, 19: 0.0933, 20: 0.0024, 29: 1.0, 291: 1.0, 318: 1.0, 328: 1.0, 332: 1.0}), label=0, rawPrediction=DenseVector([3.8055, 7.1945]), probability=DenseVector([0.346, 0.654]), prediction=1.0),\n",
       " Row(features=SparseVector(335, {0: 11400.0, 1: 11400.0, 2: 8070.4585, 3: 11.89, 4: 378.07, 5: 65000.0, 6: 16.52, 7: 1.0, 8: 3.0, 9: 11.0, 11: 2324.0, 12: 16.4, 13: 18.0, 18: 2.0, 19: 0.1754, 20: 0.0058, 30: 1.0, 286: 1.0, 294: 1.0, 330: 1.0, 332: 1.0}), label=0, rawPrediction=DenseVector([6.6949, 4.3051]), probability=DenseVector([0.6086, 0.3914]), prediction=0.0),\n",
       " Row(features=SparseVector(335, {0: 5000.0, 1: 5000.0, 2: 5000.0, 3: 12.69, 4: 167.73, 5: 60400.0, 6: 12.87, 7: 1.0, 8: 1.0, 9: 3.0, 11: 7525.0, 12: 66.6, 13: 15.0, 18: 2.0, 19: 0.0828, 20: 0.0028, 30: 1.0, 286: 1.0, 298: 1.0, 330: 1.0, 332: 1.0}), label=0, rawPrediction=DenseVector([6.5516, 4.4484]), probability=DenseVector([0.5956, 0.4044]), prediction=0.0),\n",
       " Row(features=SparseVector(335, {0: 2000.0, 1: 2000.0, 2: 2000.0, 3: 12.87, 4: 67.27, 5: 25200.0, 6: 13.24, 7: 3.0, 8: 4.0, 9: 13.0, 11: 4925.0, 12: 40.7, 13: 30.0, 18: 2.0, 19: 0.0794, 20: 0.0027, 30: 1.0, 287: 1.0, 295: 1.0, 329: 1.0, 331: 1.0}), label=0, rawPrediction=DenseVector([6.2857, 4.7143]), probability=DenseVector([0.5714, 0.4286]), prediction=0.0),\n",
       " Row(features=SparseVector(335, {0: 6000.0, 1: 6000.0, 2: 6000.0, 3: 13.49, 4: 203.59, 5: 96000.0, 6: 3.76, 7: 4.0, 8: 1.0, 9: 10.0, 11: 3040.0, 12: 7.5, 13: 30.0, 18: 10.0, 19: 0.0625, 20: 0.0021, 30: 1.0, 287: 1.0, 295: 1.0, 330: 1.0, 331: 1.0}), label=0, rawPrediction=DenseVector([7.0595, 3.9405]), probability=DenseVector([0.6418, 0.3582]), prediction=0.0),\n",
       " Row(features=SparseVector(335, {0: 8875.0, 1: 8875.0, 2: 8875.0, 3: 14.65, 4: 306.14, 5: 33000.0, 6: 21.16, 7: 3.0, 8: 1.0, 9: 18.0, 11: 3971.0, 12: 41.8, 13: 29.0, 18: 1.0, 19: 0.2689, 20: 0.0093, 30: 1.0, 287: 1.0, 299: 1.0, 328: 1.0, 332: 1.0}), label=0, rawPrediction=DenseVector([5.4721, 5.5279]), probability=DenseVector([0.4975, 0.5025]), prediction=1.0),\n",
       " Row(features=SparseVector(335, {0: 10000.0, 1: 10000.0, 2: 9950.0, 3: 13.57, 4: 339.69, 5: 108960.0, 6: 21.32, 7: 1.0, 8: 2.0, 9: 9.0, 11: 21476.0, 12: 37.9, 13: 28.0, 18: 1.0, 19: 0.0918, 20: 0.0031, 30: 1.0, 287: 1.0, 299: 1.0, 329: 1.0, 331: 1.0}), label=0, rawPrediction=DenseVector([5.632, 5.368]), probability=DenseVector([0.512, 0.488]), prediction=0.0),\n",
       " Row(features=SparseVector(335, {0: 4750.0, 1: 4750.0, 2: 4750.0, 3: 13.35, 4: 160.85, 5: 52250.0, 6: 15.23, 7: 3.0, 8: 2.0, 9: 19.0, 11: 7446.0, 12: 20.2, 13: 35.0, 18: 2.0, 19: 0.0909, 20: 0.0031, 30: 1.0, 287: 1.0, 300: 1.0, 329: 1.0, 331: 1.0}), label=0, rawPrediction=DenseVector([5.9729, 5.0271]), probability=DenseVector([0.543, 0.457]), prediction=0.0),\n",
       " Row(features=SparseVector(335, {0: 2000.0, 1: 2000.0, 2: 2000.0, 3: 14.17, 4: 68.53, 5: 25000.0, 6: 0.72, 7: 1.0, 8: 1.0, 9: 2.0, 11: 95.0, 12: 13.6, 13: 3.0, 18: 5.0, 19: 0.08, 20: 0.0027, 30: 1.0, 287: 1.0, 303: 1.0, 330: 1.0, 333: 1.0}), label=0, rawPrediction=DenseVector([6.2493, 4.7507]), probability=DenseVector([0.5681, 0.4319]), prediction=0.0),\n",
       " Row(features=SparseVector(335, {0: 10000.0, 1: 10000.0, 2: 9866.9609, 3: 8.94, 4: 317.72, 5: 62366.3984, 6: 14.78, 7: 1.0, 8: 2.0, 9: 7.0, 11: 1947.0, 12: 29.1, 13: 21.0, 18: 8.0, 19: 0.1603, 20: 0.0051, 30: 1.0, 288: 1.0, 302: 1.0, 328: 1.0, 332: 1.0}), label=0, rawPrediction=DenseVector([8.2951, 2.7049]), probability=DenseVector([0.7541, 0.2459]), prediction=0.0),\n",
       " Row(features=SparseVector(335, {0: 2000.0, 1: 2000.0, 2: 1900.0, 3: 7.51, 4: 62.22, 5: 65000.0, 6: 10.78, 7: 2.0, 8: 1.0, 9: 7.0, 11: 1000.0, 12: 43.5, 13: 28.0, 18: 3.0, 19: 0.0308, 20: 0.001, 30: 1.0, 288: 1.0, 304: 1.0, 329: 1.0, 332: 1.0}), label=0, rawPrediction=DenseVector([8.9015, 2.0985]), probability=DenseVector([0.8092, 0.1908]), prediction=0.0),\n",
       " Row(features=SparseVector(335, {0: 16000.0, 1: 16000.0, 2: 15909.0488, 3: 14.96, 4: 554.32, 5: 60000.0, 6: 21.54, 7: 1.0, 8: 1.0, 9: 11.0, 11: 36095.0, 12: 65.9, 13: 23.0, 18: 8.0, 19: 0.2667, 20: 0.0092, 30: 1.0, 289: 1.0, 306: 1.0, 328: 1.0, 331: 1.0}), label=0, rawPrediction=DenseVector([4.6292, 6.3708]), probability=DenseVector([0.4208, 0.5792]), prediction=1.0),\n",
       " Row(features=SparseVector(335, {0: 6000.0, 1: 6000.0, 2: 5975.0, 3: 15.33, 4: 208.97, 5: 65000.0, 6: 17.3, 7: 1.0, 8: 5.0, 9: 5.0, 11: 6971.0, 12: 96.8, 13: 23.0, 18: 2.0, 19: 0.0923, 20: 0.0032, 30: 1.0, 289: 1.0, 307: 1.0, 328: 1.0, 331: 1.0}), label=0, rawPrediction=DenseVector([5.3101, 5.6899]), probability=DenseVector([0.4827, 0.5173]), prediction=1.0),\n",
       " Row(features=SparseVector(335, {0: 10000.0, 1: 10000.0, 2: 10000.0, 3: 15.58, 4: 349.51, 5: 50784.0, 6: 4.4, 7: 2.0, 8: 1.0, 9: 6.0, 11: 2093.0, 12: 34.9, 13: 21.0, 18: 2.0, 19: 0.1969, 20: 0.0069, 30: 1.0, 289: 1.0, 307: 1.0, 328: 1.0, 332: 1.0}), label=0, rawPrediction=DenseVector([4.8109, 6.1891]), probability=DenseVector([0.4374, 0.5626]), prediction=1.0),\n",
       " Row(features=SparseVector(335, {0: 14000.0, 1: 14000.0, 2: 13925.0, 3: 13.48, 4: 474.94, 5: 122000.0, 6: 7.54, 7: 3.0, 8: 1.0, 9: 15.0, 11: 1018.0, 12: 10.3, 13: 47.0, 18: 10.0, 19: 0.1148, 20: 0.0039, 31: 1.0, 287: 1.0, 299: 1.0, 329: 1.0, 332: 1.0}), label=0, rawPrediction=DenseVector([7.0538, 3.9462]), probability=DenseVector([0.6413, 0.3587]), prediction=0.0),\n",
       " Row(features=SparseVector(335, {0: 10000.0, 1: 10000.0, 2: 10000.0, 3: 14.65, 4: 344.95, 5: 42000.0, 6: 21.54, 7: 3.0, 8: 2.0, 9: 9.0, 11: 11006.0, 12: 29.5, 13: 27.0, 18: 4.0, 19: 0.2381, 20: 0.0082, 31: 1.0, 287: 1.0, 299: 1.0, 329: 1.0, 333: 1.0}), label=0, rawPrediction=DenseVector([5.0288, 5.9712]), probability=DenseVector([0.4572, 0.5428]), prediction=1.0),\n",
       " Row(features=SparseVector(335, {0: 5000.0, 1: 5000.0, 2: 5000.0, 3: 15.99, 4: 175.77, 5: 120000.0, 6: 16.01, 7: 1.0, 8: 2.0, 9: 15.0, 11: 16321.0, 12: 48.0, 13: 35.0, 18: 10.0, 19: 0.0417, 20: 0.0015, 31: 1.0, 289: 1.0, 306: 1.0, 329: 1.0, 331: 1.0}), label=0, rawPrediction=DenseVector([5.7979, 5.2021]), probability=DenseVector([0.5271, 0.4729]), prediction=0.0),\n",
       " Row(features=SparseVector(335, {0: 35000.0, 1: 35000.0, 2: 35000.0, 3: 17.58, 4: 1257.98, 5: 305000.0, 6: 12.15, 7: 2.0, 8: 3.0, 9: 8.0, 11: 84075.0, 12: 23.2, 13: 30.0, 18: 1.0, 19: 0.1148, 20: 0.0041, 31: 1.0, 289: 1.0, 308: 1.0, 330: 1.0, 331: 1.0}), label=0, rawPrediction=DenseVector([4.873, 6.127]), probability=DenseVector([0.443, 0.557]), prediction=1.0),\n",
       " Row(features=SparseVector(335, {0: 28000.0, 1: 28000.0, 2: 28000.0, 3: 18.79, 4: 723.11, 5: 252000.0, 6: 11.31, 7: 2.0, 8: 1.0, 9: 13.0, 11: 19701.0, 12: 54.4, 13: 32.0, 18: 2.0, 19: 0.1111, 20: 0.0029, 31: 1.0, 290: 1.0, 315: 1.0, 328: 1.0, 331: 1.0}), label=0, rawPrediction=DenseVector([4.3165, 6.6835]), probability=DenseVector([0.3924, 0.6076]), prediction=1.0),\n",
       " Row(features=SparseVector(335, {0: 5600.0, 1: 5600.0, 2: 5600.0, 3: 17.51, 4: 140.72, 5: 70000.0, 6: 1.47, 7: 1.0, 8: 3.0, 9: 4.0, 11: 1977.0, 12: 82.4, 13: 6.0, 18: 5.0, 19: 0.08, 20: 0.002, 31: 1.0, 290: 1.0, 316: 1.0, 328: 1.0, 331: 1.0}), label=0, rawPrediction=DenseVector([4.0095, 6.9905]), probability=DenseVector([0.3645, 0.6355]), prediction=1.0),\n",
       " Row(features=SparseVector(335, {0: 6600.0, 1: 6600.0, 2: 6600.0, 3: 18.91, 4: 170.89, 5: 57000.0, 6: 22.11, 7: 1.0, 8: 4.0, 9: 33.0, 11: 2525.0, 12: 40.7, 13: 40.0, 18: 5.0, 19: 0.1158, 20: 0.003, 31: 1.0, 291: 1.0, 321: 1.0, 330: 1.0, 331: 1.0}), label=1, rawPrediction=DenseVector([4.3616, 6.6384]), probability=DenseVector([0.3965, 0.6035]), prediction=1.0),\n",
       " Row(features=SparseVector(335, {0: 2500.0, 1: 2500.0, 2: 1625.0, 3: 10.83, 4: 81.65, 5: 60000.0, 6: 12.36, 7: 3.0, 8: 1.0, 9: 12.0, 11: 257.0, 12: 5.8, 13: 31.0, 18: 2.0, 19: 0.0417, 20: 0.0014, 32: 1.0, 286: 1.0, 293: 1.0, 328: 1.0, 331: 1.0}), label=0, rawPrediction=DenseVector([5.9177, 5.0823]), probability=DenseVector([0.538, 0.462]), prediction=0.0),\n",
       " Row(features=SparseVector(335, {0: 2800.0, 1: 2800.0, 2: 2800.0, 3: 11.99, 4: 92.99, 5: 140000.0, 6: 15.44, 7: 1.0, 8: 1.0, 9: 22.0, 11: 34277.0, 12: 70.4, 13: 44.0, 18: 4.0, 19: 0.02, 20: 0.0007, 32: 1.0, 286: 1.0, 298: 1.0, 328: 1.0, 331: 1.0}), label=0, rawPrediction=DenseVector([7.4281, 3.5719]), probability=DenseVector([0.6753, 0.3247]), prediction=0.0),\n",
       " Row(features=SparseVector(335, {0: 3000.0, 1: 3000.0, 2: 2975.0, 3: 12.23, 4: 99.98, 5: 55000.0, 6: 18.26, 7: 2.0, 8: 3.0, 9: 8.0, 11: 1343.0, 12: 23.6, 13: 29.0, 18: 7.0, 19: 0.0545, 20: 0.0018, 32: 1.0, 287: 1.0, 295: 1.0, 330: 1.0, 332: 1.0}), label=1, rawPrediction=DenseVector([6.4552, 4.5448]), probability=DenseVector([0.5868, 0.4132]), prediction=0.0),\n",
       " Row(features=SparseVector(335, {0: 16000.0, 1: 16000.0, 2: 2595.8, 3: 11.72, 4: 529.3, 5: 75000.0, 6: 1.06, 7: 2.0, 8: 4.0, 9: 17.0, 11: 821.0, 12: 6.1, 13: 31.0, 18: 3.0, 19: 0.2133, 20: 0.0071, 32: 1.0, 287: 1.0, 300: 1.0, 329: 1.0, 332: 1.0}), label=0, rawPrediction=DenseVector([5.4453, 5.5547]), probability=DenseVector([0.495, 0.505]), prediction=1.0),\n",
       " Row(features=SparseVector(335, {0: 5000.0, 1: 5000.0, 2: 4975.0, 3: 7.29, 4: 155.05, 5: 65000.0, 6: 2.33, 7: 1.0, 8: 1.0, 9: 8.0, 11: 2937.0, 12: 10.8, 13: 17.0, 18: 10.0, 19: 0.0769, 20: 0.0024, 32: 1.0, 288: 1.0, 304: 1.0, 330: 1.0, 331: 1.0}), label=0, rawPrediction=DenseVector([8.6076, 2.3924]), probability=DenseVector([0.7825, 0.2175]), prediction=0.0),\n",
       " Row(features=SparseVector(335, {0: 5000.0, 1: 5000.0, 2: 5000.0, 3: 15.21, 4: 173.85, 5: 55000.0, 6: 8.33, 7: 2.0, 8: 3.0, 9: 8.0, 11: 941.0, 12: 20.5, 13: 18.0, 18: 10.0, 19: 0.0909, 20: 0.0032, 32: 1.0, 289: 1.0, 306: 1.0, 328: 1.0, 331: 1.0}), label=0, rawPrediction=DenseVector([5.4745, 5.5255]), probability=DenseVector([0.4977, 0.5023]), prediction=1.0),\n",
       " Row(features=SparseVector(335, {0: 2400.0, 1: 2400.0, 2: 2400.0, 3: 11.58, 4: 79.24, 5: 26000.0, 6: 15.05, 7: 1.0, 8: 3.0, 9: 6.0, 11: 731.0, 12: 5.8, 13: 9.0, 18: 1.0, 19: 0.0923, 20: 0.003, 33: 1.0, 286: 1.0, 293: 1.0, 329: 1.0, 332: 1.0}), label=1, rawPrediction=DenseVector([6.4351, 4.5649]), probability=DenseVector([0.585, 0.415]), prediction=0.0),\n",
       " Row(features=SparseVector(335, {0: 5000.0, 1: 5000.0, 2: 4325.0, 3: 13.47, 4: 169.62, 5: 24996.0, 6: 12.15, 7: 1.0, 8: 2.0, 9: 6.0, 11: 1643.0, 12: 8.6, 13: 8.0, 18: 1.0, 19: 0.2, 20: 0.0068, 33: 1.0, 287: 1.0, 300: 1.0, 329: 1.0, 332: 1.0}), label=0, rawPrediction=DenseVector([5.4565, 5.5435]), probability=DenseVector([0.496, 0.504]), prediction=1.0),\n",
       " Row(features=SparseVector(335, {0: 7800.0, 1: 7800.0, 2: 7775.0, 3: 14.26, 4: 267.59, 5: 19500.0, 6: 15.45, 7: 1.0, 8: 6.0, 9: 5.0, 11: 3910.0, 12: 38.2, 13: 5.0, 18: 5.0, 19: 0.4, 20: 0.0137, 33: 1.0, 287: 1.0, 303: 1.0, 329: 1.0, 332: 1.0}), label=1, rawPrediction=DenseVector([3.7678, 7.2322]), probability=DenseVector([0.3425, 0.6575]), prediction=1.0),\n",
       " Row(features=SparseVector(335, {0: 6500.0, 1: 6500.0, 2: 6500.0, 3: 16.07, 4: 228.76, 5: 60000.0, 6: 16.28, 7: 2.0, 8: 6.0, 9: 9.0, 11: 45398.0, 12: 72.0, 13: 28.0, 18: 10.0, 19: 0.1083, 20: 0.0038, 33: 1.0, 289: 1.0, 310: 1.0, 329: 1.0, 331: 1.0}), label=1, rawPrediction=DenseVector([4.8184, 6.1816]), probability=DenseVector([0.438, 0.562]), prediction=1.0),\n",
       " Row(features=SparseVector(335, {0: 5000.0, 1: 5000.0, 2: 1425.0, 3: 14.25, 4: 171.5, 5: 63000.0, 6: 17.22, 7: 1.0, 8: 1.0, 9: 10.0, 11: 2347.0, 12: 24.7, 13: 14.0, 18: 3.0, 19: 0.0794, 20: 0.0027, 33: 1.0, 290: 1.0, 314: 1.0, 329: 1.0, 332: 1.0}), label=1, rawPrediction=DenseVector([4.1597, 6.8403]), probability=DenseVector([0.3782, 0.6218]), prediction=1.0),\n",
       " Row(features=SparseVector(335, {0: 1500.0, 1: 1500.0, 2: 250.701, 3: 15.07, 4: 52.05, 5: 8400.0, 6: 10.0, 7: 1.0, 8: 2.0, 9: 6.0, 11: 1764.0, 12: 53.5, 13: 6.0, 18: 1.0, 19: 0.1786, 20: 0.0062, 33: 1.0, 290: 1.0, 315: 1.0, 329: 1.0, 333: 1.0}), label=0, rawPrediction=DenseVector([5.5476, 5.4524]), probability=DenseVector([0.5043, 0.4957]), prediction=0.0),\n",
       " Row(features=SparseVector(335, {0: 10000.0, 1: 10000.0, 2: 10000.0, 3: 14.98, 4: 237.8, 5: 83884.0, 6: 6.78, 7: 4.0, 8: 1.0, 9: 6.0, 11: 8460.0, 13: 27.0, 14: 3.0, 16: 279560.0, 17: 12000.0, 18: 10.0, 19: 0.1192, 20: 0.0028, 21: 1.0, 287: 1.0, 299: 1.0, 328: 1.0, 331: 1.0}), label=1, rawPrediction=DenseVector([6.7143, 4.2857]), probability=DenseVector([0.6104, 0.3896]), prediction=0.0),\n",
       " Row(features=SparseVector(335, {0: 35000.0, 1: 35000.0, 2: 35000.0, 3: 13.67, 4: 1190.62, 5: 940000.0, 6: 4.59, 7: 1.0, 8: 1.0, 9: 22.0, 11: 383143.0, 13: 58.0, 16: 1548790.0, 17: 455300.0, 18: 10.0, 19: 0.0372, 20: 0.0013, 21: 1.0, 286: 1.0, 298: 1.0, 328: 1.0, 333: 1.0}), label=0, rawPrediction=DenseVector([6.9302, 4.0698]), probability=DenseVector([0.63, 0.37]), prediction=0.0),\n",
       " Row(features=SparseVector(335, {0: 7500.0, 1: 7500.0, 2: 7500.0, 3: 9.67, 4: 240.85, 5: 55000.0, 6: 6.87, 7: 2.0, 8: 3.0, 9: 8.0, 13: 17.0, 16: 193834.0, 17: 14500.0, 18: 4.0, 19: 0.1364, 20: 0.0044, 23: 1.0, 286: 1.0, 301: 1.0, 329: 1.0, 333: 1.0}), label=0, rawPrediction=DenseVector([7.8002, 3.1998]), probability=DenseVector([0.7091, 0.2909]), prediction=0.0),\n",
       " Row(features=SparseVector(335, {0: 21000.0, 1: 21000.0, 2: 20975.0, 3: 14.91, 4: 498.6, 5: 41721.6016, 6: 9.64, 7: 1.0, 8: 1.0, 9: 10.0, 13: 13.0, 18: 4.0, 19: 0.5033, 20: 0.012, 21: 1.0, 289: 1.0, 306: 1.0, 328: 1.0, 332: 1.0}), label=1, rawPrediction=DenseVector([3.8813, 7.1187]), probability=DenseVector([0.3528, 0.6472]), prediction=1.0),\n",
       " Row(features=SparseVector(335, {0: 6000.0, 1: 6000.0, 2: 6000.0, 3: 15.21, 4: 208.61, 5: 38000.0, 6: 13.23, 7: 1.0, 8: 1.0, 9: 4.0, 13: 19.0, 18: 3.0, 19: 0.1579, 20: 0.0055, 21: 1.0, 289: 1.0, 306: 1.0, 329: 1.0, 331: 1.0}), label=0, rawPrediction=DenseVector([5.5089, 5.4911]), probability=DenseVector([0.5008, 0.4992]), prediction=0.0),\n",
       " Row(features=SparseVector(335, {0: 5600.0, 1: 5600.0, 2: 5500.0, 3: 14.46, 4: 192.65, 5: 30000.0, 6: 16.36, 7: 1.0, 8: 1.0, 9: 2.0, 13: 11.0, 18: 1.0, 19: 0.1867, 20: 0.0064, 21: 1.0, 289: 1.0, 306: 1.0, 329: 1.0, 332: 1.0}), label=1, rawPrediction=DenseVector([5.1313, 5.8687]), probability=DenseVector([0.4665, 0.5335]), prediction=1.0),\n",
       " Row(features=SparseVector(335, {0: 2500.0, 1: 2500.0, 2: 2500.0, 3: 17.14, 4: 62.32, 5: 54996.0, 6: 7.62, 7: 1.0, 8: 2.0, 9: 7.0, 13: 23.0, 18: 2.0, 19: 0.0455, 20: 0.0011, 21: 1.0, 290: 1.0, 315: 1.0, 330: 1.0, 332: 1.0}), label=1, rawPrediction=DenseVector([3.4471, 7.5529]), probability=DenseVector([0.3134, 0.6866]), prediction=1.0),\n",
       " Row(features=SparseVector(335, {0: 10000.0, 1: 10000.0, 2: 10000.0, 3: 14.22, 4: 342.85, 5: 186480.0, 6: 8.65, 7: 2.0, 8: 3.0, 9: 7.0, 13: 8.0, 18: 10.0, 19: 0.0536, 20: 0.0018, 23: 1.0, 287: 1.0, 303: 1.0, 328: 1.0, 331: 1.0}), label=0, rawPrediction=DenseVector([5.8962, 5.1038]), probability=DenseVector([0.536, 0.464]), prediction=0.0),\n",
       " Row(features=SparseVector(335, {0: 25000.0, 1: 25000.0, 2: 24975.0, 3: 15.31, 4: 870.39, 5: 225000.0, 6: 1.35, 7: 2.0, 8: 1.0, 9: 7.0, 13: 14.0, 18: 10.0, 19: 0.1111, 20: 0.0039, 23: 1.0, 289: 1.0, 307: 1.0, 329: 1.0, 331: 1.0}), label=0, rawPrediction=DenseVector([5.8168, 5.1832]), probability=DenseVector([0.5288, 0.4712]), prediction=0.0),\n",
       " Row(features=SparseVector(335, {0: 25000.0, 1: 25000.0, 2: 9267.6748, 3: 10.39, 4: 811.27, 5: 100000.0, 6: 7.25, 7: 1.0, 8: 2.0, 9: 6.0, 13: 16.0, 18: 1.0, 19: 0.25, 20: 0.0081, 24: 1.0, 286: 1.0, 294: 1.0, 329: 1.0, 331: 1.0}), label=0, rawPrediction=DenseVector([6.1851, 4.8149]), probability=DenseVector([0.5623, 0.4377]), prediction=0.0),\n",
       " Row(features=SparseVector(335, {0: 3000.0, 1: 3000.0, 2: 3000.0, 3: 14.72, 4: 103.59, 5: 45996.0, 6: 4.7, 7: 3.0, 8: 1.0, 9: 7.0, 13: 11.0, 18: 2.0, 19: 0.0652, 20: 0.0023, 24: 1.0, 287: 1.0, 303: 1.0, 330: 1.0, 332: 1.0}), label=1, rawPrediction=DenseVector([5.6652, 5.3348]), probability=DenseVector([0.515, 0.485]), prediction=0.0),\n",
       " Row(features=SparseVector(335, {0: 23325.0, 1: 23325.0, 2: 21944.5273, 3: 16.77, 4: 576.81, 5: 43800.0, 6: 7.81, 7: 2.0, 8: 1.0, 9: 10.0, 13: 30.0, 18: 5.0, 19: 0.5325, 20: 0.0132, 25: 1.0, 290: 1.0, 314: 1.0, 328: 1.0, 331: 1.0}), label=0, rawPrediction=DenseVector([2.7261, 8.2739]), probability=DenseVector([0.2478, 0.7522]), prediction=1.0),\n",
       " Row(features=SparseVector(335, {0: 35000.0, 1: 25400.0, 2: 23900.0, 3: 15.99, 4: 617.55, 5: 70000.0, 6: 14.66, 7: 1.0, 8: 1.0, 9: 10.0, 13: 12.0, 18: 7.0, 19: 0.5, 20: 0.0088, 26: 1.0, 289: 1.0, 306: 1.0, 330: 1.0, 332: 1.0}), label=1, rawPrediction=DenseVector([4.1774, 6.8226]), probability=DenseVector([0.3798, 0.6202]), prediction=1.0),\n",
       " Row(features=SparseVector(335, {0: 35000.0, 1: 21425.0, 2: 21375.0, 3: 17.99, 4: 543.94, 5: 180000.0, 6: 15.43, 7: 1.0, 8: 1.0, 9: 9.0, 13: 42.0, 18: 10.0, 19: 0.1944, 20: 0.003, 26: 1.0, 290: 1.0, 313: 1.0, 328: 1.0, 331: 1.0}), label=0, rawPrediction=DenseVector([5.2295, 5.7705]), probability=DenseVector([0.4754, 0.5246]), prediction=1.0),\n",
       " Row(features=SparseVector(335, {0: 5000.0, 1: 5000.0, 2: 5000.0, 3: 16.45, 4: 176.9, 5: 70000.0, 6: 14.95, 7: 1.0, 8: 8.0, 9: 8.0, 13: 19.0, 18: 4.0, 19: 0.0714, 20: 0.0025, 26: 1.0, 290: 1.0, 313: 1.0, 329: 1.0, 331: 1.0}), label=1, rawPrediction=DenseVector([5.3386, 5.6614]), probability=DenseVector([0.4853, 0.5147]), prediction=1.0),\n",
       " Row(features=SparseVector(335, {0: 4800.0, 1: 4800.0, 2: 4800.0, 3: 16.49, 4: 169.92, 5: 32000.0, 6: 22.58, 7: 1.0, 8: 2.0, 9: 3.0, 13: 5.0, 18: 3.0, 19: 0.15, 20: 0.0053, 32: 1.0, 289: 1.0, 307: 1.0, 329: 1.0, 332: 1.0}), label=0, rawPrediction=DenseVector([5.1251, 5.8749]), probability=DenseVector([0.4659, 0.5341]), prediction=1.0),\n",
       " Row(features=SparseVector(335, {0: 9000.0, 1: 9000.0, 2: 9000.0, 3: 18.55, 4: 327.87, 5: 60000.0, 6: 17.76, 7: 2.0, 9: 10.0, 10: 1.0, 11: 6709.0, 12: 49.7, 13: 22.0, 14: 1.0, 16: 135903.0, 17: 13500.0, 18: 1.0, 19: 0.15, 20: 0.0055, 21: 1.0, 289: 1.0, 306: 1.0, 328: 1.0, 331: 1.0}), label=0, rawPrediction=DenseVector([5.2368, 5.7632]), probability=DenseVector([0.4761, 0.5239]), prediction=1.0),\n",
       " Row(features=SparseVector(335, {0: 9450.0, 1: 9450.0, 2: 9425.0, 3: 22.4, 4: 362.86, 5: 51000.0, 6: 11.79, 7: 2.0, 9: 11.0, 10: 1.0, 11: 10831.0, 12: 76.9, 13: 34.0, 14: 1.0, 16: 170641.0, 17: 12700.0, 18: 1.0, 19: 0.1853, 20: 0.0071, 21: 1.0, 290: 1.0, 315: 1.0, 328: 1.0, 331: 1.0}), label=1, rawPrediction=DenseVector([4.2965, 6.7035]), probability=DenseVector([0.3906, 0.6094]), prediction=1.0),\n",
       " Row(features=SparseVector(335, {0: 15000.0, 1: 15000.0, 2: 15000.0, 3: 14.3, 4: 514.86, 5: 44000.0, 6: 26.02, 7: 3.0, 9: 10.0, 10: 1.0, 11: 13918.0, 12: 61.3, 13: 23.0, 14: 1.0, 16: 35719.0, 17: 22700.0, 18: 5.0, 19: 0.3409, 20: 0.0117, 22: 1.0, 287: 1.0, 295: 1.0, 328: 1.0, 332: 1.0}), label=0, rawPrediction=DenseVector([4.6165, 6.3835]), probability=DenseVector([0.4197, 0.5803]), prediction=1.0),\n",
       " Row(features=SparseVector(335, {0: 3600.0, 1: 3600.0, 2: 3600.0, 3: 15.61, 4: 125.88, 5: 190000.0, 6: 22.52, 7: 2.0, 9: 16.0, 10: 1.0, 11: 18352.0, 12: 81.6, 13: 42.0, 14: 1.0, 16: 193511.0, 17: 22500.0, 18: 10.0, 19: 0.0189, 20: 0.0007, 23: 1.0, 287: 1.0, 299: 1.0, 330: 1.0, 333: 1.0}), label=0, rawPrediction=DenseVector([6.1605, 4.8395]), probability=DenseVector([0.56, 0.44]), prediction=0.0),\n",
       " Row(features=SparseVector(335, {0: 3500.0, 1: 3500.0, 2: 3500.0, 3: 15.1, 4: 121.51, 5: 82000.0, 6: 23.46, 7: 2.0, 9: 10.0, 10: 1.0, 11: 3542.0, 12: 56.0, 13: 33.0, 15: 568.0, 16: 40240.0, 17: 5600.0, 18: 10.0, 19: 0.0427, 20: 0.0015, 21: 1.0, 287: 1.0, 297: 1.0, 330: 1.0, 333: 1.0}), label=0, rawPrediction=DenseVector([5.3914, 5.6086]), probability=DenseVector([0.4901, 0.5099]), prediction=1.0),\n",
       " Row(features=SparseVector(335, {0: 7000.0, 1: 7000.0, 2: 7000.0, 3: 17.76, 4: 252.23, 5: 70000.0, 6: 14.43, 7: 1.0, 9: 4.0, 10: 1.0, 11: 3057.0, 12: 74.6, 13: 11.0, 15: 159.0, 16: 33446.0, 17: 4100.0, 18: 2.0, 19: 0.1, 20: 0.0036, 21: 1.0, 289: 1.0, 305: 1.0, 329: 1.0, 332: 1.0}), label=1, rawPrediction=DenseVector([5.4758, 5.5242]), probability=DenseVector([0.4978, 0.5022]), prediction=1.0),\n",
       " Row(features=SparseVector(335, {0: 2800.0, 1: 2800.0, 2: 2800.0, 3: 19.2, 4: 102.93, 5: 32000.0, 6: 28.76, 7: 1.0, 9: 10.0, 10: 1.0, 11: 2784.0, 12: 13.4, 13: 62.0, 15: 99.0, 16: 13843.0, 17: 20700.0, 18: 7.0, 19: 0.0875, 20: 0.0032, 21: 1.0, 289: 1.0, 307: 1.0, 329: 1.0, 333: 1.0}), label=0, rawPrediction=DenseVector([4.6609, 6.3391]), probability=DenseVector([0.4237, 0.5763]), prediction=1.0),\n",
       " Row(features=SparseVector(335, {0: 9600.0, 1: 9600.0, 2: 9600.0, 3: 19.52, 4: 354.43, 5: 64000.0, 6: 23.44, 7: 4.0, 9: 9.0, 10: 1.0, 11: 6754.0, 12: 60.8, 13: 18.0, 15: 784.0, 16: 61940.0, 17: 11100.0, 18: 7.0, 19: 0.15, 20: 0.0055, 21: 1.0, 289: 1.0, 308: 1.0, 329: 1.0, 332: 1.0}), label=0, rawPrediction=DenseVector([4.7811, 6.2189]), probability=DenseVector([0.4346, 0.5654]), prediction=1.0),\n",
       " Row(features=SparseVector(335, {0: 8875.0, 1: 8875.0, 2: 8875.0, 3: 19.52, 4: 327.67, 5: 28100.0, 6: 26.6, 7: 2.0, 9: 9.0, 10: 1.0, 11: 4705.0, 12: 58.8, 13: 19.0, 15: 1001.0, 16: 16325.0, 17: 8000.0, 18: 9.0, 19: 0.3158, 20: 0.0117, 26: 1.0, 289: 1.0, 308: 1.0, 328: 1.0, 331: 1.0}), label=1, rawPrediction=DenseVector([3.9479, 7.0521]), probability=DenseVector([0.3589, 0.6411]), prediction=1.0),\n",
       " Row(features=SparseVector(335, {0: 9600.0, 1: 9600.0, 2: 9600.0, 3: 11.55, 4: 316.8, 5: 62000.0, 6: 10.63, 7: 1.0, 9: 9.0, 10: 3.0, 11: 6193.0, 12: 44.2, 13: 31.0, 16: 10461.0, 17: 14000.0, 18: 10.0, 19: 0.1548, 20: 0.0051, 21: 1.0, 286: 1.0, 293: 1.0, 328: 1.0, 332: 1.0}), label=0, rawPrediction=DenseVector([7.0679, 3.9321]), probability=DenseVector([0.6425, 0.3575]), prediction=0.0),\n",
       " Row(features=SparseVector(335, {0: 7125.0, 1: 7125.0, 2: 7125.0, 3: 11.99, 4: 236.62, 5: 30000.0, 6: 23.44, 7: 3.0, 9: 17.0, 10: 1.0, 11: 8099.0, 12: 77.9, 13: 40.0, 16: 150372.0, 17: 10400.0, 18: 1.0, 19: 0.2375, 20: 0.0079, 21: 1.0, 286: 1.0, 293: 1.0, 330: 1.0, 331: 1.0}), label=1, rawPrediction=DenseVector([5.9278, 5.0722]), probability=DenseVector([0.5389, 0.4611]), prediction=0.0),\n",
       " Row(features=SparseVector(335, {0: 7875.0, 1: 7875.0, 2: 7875.0, 3: 12.85, 4: 264.78, 5: 33000.0, 6: 21.71, 7: 2.0, 9: 11.0, 10: 1.0, 11: 7550.0, 12: 54.7, 13: 24.0, 16: 13350.0, 17: 13800.0, 18: 10.0, 19: 0.2386, 20: 0.008, 21: 1.0, 286: 1.0, 294: 1.0, 329: 1.0, 332: 1.0}), label=0, rawPrediction=DenseVector([6.461, 4.539]), probability=DenseVector([0.5874, 0.4126]), prediction=0.0),\n",
       " Row(features=SparseVector(335, {0: 8000.0, 1: 8000.0, 2: 8000.0, 3: 10.99, 4: 261.88, 5: 79200.0, 6: 28.57, 7: 1.0, 9: 22.0, 10: 1.0, 11: 10684.0, 12: 37.1, 13: 40.0, 16: 438854.0, 17: 28800.0, 18: 10.0, 19: 0.101, 20: 0.0033, 21: 1.0, 286: 1.0, 296: 1.0, 328: 1.0, 331: 1.0}), label=0, rawPrediction=DenseVector([6.7993, 4.2007]), probability=DenseVector([0.6181, 0.3819]), prediction=0.0),\n",
       " Row(features=SparseVector(335, {0: 23850.0, 1: 23850.0, 2: 23850.0, 3: 15.1, 4: 568.65, 5: 53000.0, 6: 22.91, 7: 1.0, 9: 12.0, 10: 1.0, 11: 6535.0, 12: 44.8, 13: 22.0, 16: 227893.0, 17: 14600.0, 18: 10.0, 19: 0.45, 20: 0.0107, 21: 1.0, 287: 1.0, 297: 1.0, 328: 1.0, 331: 1.0}), label=1, rawPrediction=DenseVector([4.4873, 6.5127]), probability=DenseVector([0.4079, 0.5921]), prediction=1.0),\n",
       " Row(features=SparseVector(335, {0: 11700.0, 1: 11700.0, 2: 11700.0, 3: 15.61, 4: 282.11, 5: 85000.0, 6: 6.62, 7: 1.0, 9: 11.0, 10: 1.0, 11: 5200.0, 12: 54.2, 13: 40.0, 16: 109529.0, 17: 9600.0, 18: 3.0, 19: 0.1376, 20: 0.0033, 21: 1.0, 287: 1.0, 299: 1.0, 328: 1.0, 331: 1.0}), label=0, rawPrediction=DenseVector([6.2202, 4.7798]), probability=DenseVector([0.5655, 0.4345]), prediction=0.0),\n",
       " Row(features=SparseVector(335, {0: 10000.0, 1: 10000.0, 2: 10000.0, 3: 15.61, 4: 349.65, 5: 46000.0, 6: 9.6, 7: 1.0, 9: 10.0, 10: 1.0, 11: 4439.0, 12: 36.1, 13: 21.0, 16: 9528.0, 17: 12300.0, 18: 10.0, 19: 0.2174, 20: 0.0076, 21: 1.0, 287: 1.0, 299: 1.0, 330: 1.0, 332: 1.0}), label=1, rawPrediction=DenseVector([4.7543, 6.2457]), probability=DenseVector([0.4322, 0.5678]), prediction=1.0),\n",
       " Row(features=SparseVector(335, {0: 24000.0, 1: 24000.0, 2: 24000.0, 3: 16.2, 4: 586.19, 5: 75732.0, 6: 8.08, 7: 1.0, 9: 8.0, 10: 1.0, 11: 3693.0, 12: 46.2, 13: 15.0, 16: 7237.0, 17: 8000.0, 18: 10.0, 19: 0.3169, 20: 0.0077, 21: 1.0, 287: 1.0, 300: 1.0, 328: 1.0, 333: 1.0}), label=0, rawPrediction=DenseVector([4.8545, 6.1455]), probability=DenseVector([0.4413, 0.5587]), prediction=1.0),\n",
       " Row(features=SparseVector(335, {0: 15000.0, 1: 15000.0, 2: 15000.0, 3: 16.2, 4: 366.37, 5: 90000.0, 6: 7.23, 7: 1.0, 9: 9.0, 10: 1.0, 11: 5988.0, 12: 41.0, 13: 43.0, 16: 337526.0, 17: 14600.0, 18: 2.0, 19: 0.1667, 20: 0.0041, 21: 1.0, 287: 1.0, 300: 1.0, 330: 1.0, 331: 1.0}), label=0, rawPrediction=DenseVector([6.3721, 4.6279]), probability=DenseVector([0.5793, 0.4207]), prediction=0.0),\n",
       " Row(features=SparseVector(335, {0: 9000.0, 1: 9000.0, 2: 9000.0, 3: 11.99, 4: 298.89, 5: 37000.0, 6: 14.04, 7: 3.0, 9: 18.0, 10: 1.0, 11: 7319.0, 12: 26.3, 13: 27.0, 16: 46322.0, 17: 27800.0, 18: 10.0, 19: 0.2432, 20: 0.0081, 22: 1.0, 286: 1.0, 293: 1.0, 329: 1.0, 333: 1.0}), label=1, rawPrediction=DenseVector([6.4754, 4.5246]), probability=DenseVector([0.5887, 0.4113]), prediction=0.0),\n",
       " Row(features=SparseVector(335, {0: 8000.0, 1: 8000.0, 2: 8000.0, 3: 12.99, 4: 269.52, 5: 102000.0, 6: 5.34, 7: 2.0, 9: 9.0, 10: 1.0, 11: 10841.0, 12: 56.5, 13: 17.0, 16: 10841.0, 17: 19200.0, 18: 10.0, 19: 0.0784, 20: 0.0026, 22: 1.0, 286: 1.0, 294: 1.0, 330: 1.0, 331: 1.0}), label=0, rawPrediction=DenseVector([7.1817, 3.8183]), probability=DenseVector([0.6529, 0.3471]), prediction=0.0),\n",
       " Row(features=SparseVector(335, {0: 16000.0, 1: 16000.0, 2: 16000.0, 3: 10.99, 4: 523.75, 5: 65000.0, 6: 15.55, 7: 1.0, 9: 7.0, 10: 1.0, 11: 17221.0, 12: 73.0, 13: 19.0, 16: 21219.0, 17: 23600.0, 18: 7.0, 19: 0.2462, 20: 0.0081, 22: 1.0, 286: 1.0, 296: 1.0, 330: 1.0, 331: 1.0}), label=0, rawPrediction=DenseVector([7.275, 3.725]), probability=DenseVector([0.6614, 0.3386]), prediction=0.0),\n",
       " Row(features=SparseVector(335, {0: 12000.0, 1: 12000.0, 2: 12000.0, 3: 13.67, 4: 408.22, 5: 154000.0, 6: 14.63, 7: 1.0, 9: 10.0, 10: 2.0, 11: 124927.0, 12: 61.0, 13: 43.0, 16: 347461.0, 17: 144900.0, 18: 10.0, 19: 0.0779, 20: 0.0027, 22: 1.0, 286: 1.0, 298: 1.0, 328: 1.0, 331: 1.0}), label=0, rawPrediction=DenseVector([7.9692, 3.0308]), probability=DenseVector([0.7245, 0.2755]), prediction=0.0),\n",
       " Row(features=SparseVector(335, {0: 18000.0, 1: 18000.0, 2: 18000.0, 3: 13.67, 4: 612.32, 5: 55000.0, 6: 11.96, 7: 1.0, 9: 11.0, 10: 1.0, 11: 19367.0, 12: 75.7, 13: 20.0, 16: 19367.0, 17: 25600.0, 18: 2.0, 19: 0.3273, 20: 0.0111, 22: 1.0, 286: 1.0, 298: 1.0, 329: 1.0, 333: 1.0}), label=0, rawPrediction=DenseVector([5.438, 5.562]), probability=DenseVector([0.4944, 0.5056]), prediction=1.0),\n",
       " Row(features=SparseVector(335, {0: 18000.0, 1: 18000.0, 2: 18000.0, 3: 9.67, 4: 578.03, 5: 114000.0, 6: 10.26, 7: 1.0, 9: 15.0, 10: 1.0, 11: 15685.0, 12: 39.3, 13: 33.0, 16: 170375.0, 17: 39900.0, 18: 10.0, 19: 0.1579, 20: 0.0051, 22: 1.0, 286: 1.0, 301: 1.0, 328: 1.0, 331: 1.0}), label=0, rawPrediction=DenseVector([7.8544, 3.1456]), probability=DenseVector([0.714, 0.286]), prediction=0.0),\n",
       " Row(features=SparseVector(335, {0: 8000.0, 1: 8000.0, 2: 8000.0, 3: 12.99, 4: 269.52, 5: 73500.0, 6: 6.81, 7: 3.0, 9: 11.0, 10: 2.0, 11: 5880.0, 12: 44.5, 13: 30.0, 16: 232307.0, 17: 13200.0, 18: 8.0, 19: 0.1088, 20: 0.0037, 23: 1.0, 286: 1.0, 294: 1.0, 328: 1.0, 333: 1.0}), label=0, rawPrediction=DenseVector([7.2711, 3.7289]), probability=DenseVector([0.661, 0.339]), prediction=0.0),\n",
       " Row(features=SparseVector(335, {0: 12000.0, 1: 12000.0, 2: 12000.0, 3: 12.99, 4: 404.27, 5: 39500.0, 6: 15.83, 7: 2.0, 9: 9.0, 10: 1.0, 11: 11483.0, 12: 85.7, 13: 16.0, 16: 11483.0, 17: 13400.0, 18: 10.0, 19: 0.3038, 20: 0.0102, 23: 1.0, 286: 1.0, 294: 1.0, 330: 1.0, 331: 1.0}), label=0, rawPrediction=DenseVector([5.3479, 5.6521]), probability=DenseVector([0.4862, 0.5138]), prediction=1.0),\n",
       " Row(features=SparseVector(335, {0: 6000.0, 1: 6000.0, 2: 6000.0, 3: 13.98, 4: 205.01, 5: 55000.0, 6: 4.04, 7: 1.0, 9: 5.0, 10: 1.0, 11: 5023.0, 12: 41.9, 13: 12.0, 16: 5023.0, 17: 12000.0, 18: 3.0, 19: 0.1091, 20: 0.0037, 24: 1.0, 287: 1.0, 295: 1.0, 328: 1.0, 331: 1.0}), label=0, rawPrediction=DenseVector([5.9684, 5.0316]), probability=DenseVector([0.5426, 0.4574]), prediction=0.0),\n",
       " Row(features=SparseVector(335, {0: 5400.0, 1: 5400.0, 2: 5400.0, 3: 17.1, 4: 192.8, 5: 54027.0, 6: 2.33, 7: 1.0, 9: 7.0, 10: 1.0, 11: 4738.0, 12: 39.5, 13: 17.0, 16: 4738.0, 17: 12000.0, 18: 10.0, 19: 0.1, 20: 0.0036, 24: 1.0, 287: 1.0, 303: 1.0, 328: 1.0, 332: 1.0}), label=0, rawPrediction=DenseVector([5.7219, 5.2781]), probability=DenseVector([0.5202, 0.4798]), prediction=0.0),\n",
       " Row(features=SparseVector(335, {0: 2500.0, 1: 2500.0, 2: 2500.0, 3: 9.99, 4: 80.66, 5: 40000.0, 6: 12.69, 7: 1.0, 9: 6.0, 10: 1.0, 11: 6487.0, 12: 73.7, 13: 12.0, 18: 2.0, 19: 0.0625, 20: 0.002, 21: 1.0, 286: 1.0, 301: 1.0, 329: 1.0, 331: 1.0}), label=0, rawPrediction=DenseVector([6.9916, 4.0084]), probability=DenseVector([0.6356, 0.3644]), prediction=0.0),\n",
       " Row(features=SparseVector(335, {0: 4000.0, 1: 4000.0, 2: 3950.0, 3: 12.73, 4: 90.47, 5: 18000.0, 6: 23.4, 7: 1.0, 9: 6.0, 10: 1.0, 11: 2723.0, 12: 35.7, 13: 12.0, 18: 3.0, 19: 0.2222, 20: 0.005, 21: 1.0, 287: 1.0, 295: 1.0, 329: 1.0, 332: 1.0}), label=0, rawPrediction=DenseVector([5.6895, 5.3105]), probability=DenseVector([0.5172, 0.4828]), prediction=0.0),\n",
       " Row(features=SparseVector(335, {0: 4800.0, 1: 4800.0, 2: 4800.0, 3: 13.06, 4: 161.87, 5: 36000.0, 6: 17.27, 7: 1.0, 9: 4.0, 10: 1.0, 11: 1029.0, 12: 85.7, 13: 22.0, 18: 10.0, 19: 0.1333, 20: 0.0045, 21: 1.0, 287: 1.0, 297: 1.0, 330: 1.0, 331: 1.0}), label=0, rawPrediction=DenseVector([5.554, 5.446]), probability=DenseVector([0.5049, 0.4951]), prediction=0.0),\n",
       " Row(features=SparseVector(335, {0: 8000.0, 1: 8000.0, 2: 8000.0, 3: 13.06, 4: 269.79, 5: 42500.0, 6: 10.67, 7: 3.0, 9: 14.0, 10: 1.0, 11: 11251.0, 12: 50.0, 13: 25.0, 18: 4.0, 19: 0.1882, 20: 0.0063, 21: 1.0, 287: 1.0, 297: 1.0, 330: 1.0, 331: 1.0}), label=0, rawPrediction=DenseVector([5.7174, 5.2826]), probability=DenseVector([0.5198, 0.4802]), prediction=0.0),\n",
       " Row(features=SparseVector(335, {0: 12000.0, 1: 12000.0, 2: 3738.4888, 3: 13.24, 4: 405.72, 5: 53000.0, 6: 17.82, 7: 5.0, 9: 29.0, 10: 1.0, 11: 18593.0, 12: 35.0, 13: 46.0, 18: 1.0, 19: 0.2264, 20: 0.0077, 21: 1.0, 289: 1.0, 307: 1.0, 329: 1.0, 331: 1.0}), label=0, rawPrediction=DenseVector([3.5027, 7.4973]), probability=DenseVector([0.3184, 0.6816]), prediction=1.0),\n",
       " Row(features=SparseVector(335, {0: 15000.0, 1: 15000.0, 2: 14950.0, 3: 15.65, 4: 361.99, 5: 52000.0, 6: 22.38, 7: 1.0, 9: 11.0, 10: 1.0, 11: 10130.0, 12: 50.1, 13: 21.0, 18: 7.0, 19: 0.2885, 20: 0.007, 21: 1.0, 289: 1.0, 308: 1.0, 328: 1.0, 331: 1.0}), label=0, rawPrediction=DenseVector([3.844, 7.156]), probability=DenseVector([0.3495, 0.6505]), prediction=1.0),\n",
       " Row(features=SparseVector(335, {0: 9000.0, 1: 9000.0, 2: 9000.0, 3: 17.58, 4: 323.48, 5: 30000.0, 6: 7.56, 7: 3.0, 9: 4.0, 10: 1.0, 11: 1288.0, 12: 80.5, 13: 14.0, 18: 10.0, 19: 0.3, 20: 0.0108, 21: 1.0, 289: 1.0, 308: 1.0, 328: 1.0, 332: 1.0}), label=0, rawPrediction=DenseVector([4.1914, 6.8086]), probability=DenseVector([0.381, 0.619]), prediction=1.0),\n",
       " Row(features=SparseVector(335, {0: 18000.0, 1: 18000.0, 2: 17620.7324, 3: 19.36, 4: 470.51, 5: 90000.0, 6: 17.45, 7: 1.0, 9: 9.0, 10: 1.0, 11: 17154.0, 12: 68.9, 13: 36.0, 18: 10.0, 19: 0.2, 20: 0.0052, 21: 1.0, 291: 1.0, 321: 1.0, 328: 1.0, 331: 1.0}), label=0, rawPrediction=DenseVector([3.1847, 7.8153]), probability=DenseVector([0.2895, 0.7105]), prediction=1.0),\n",
       " Row(features=SparseVector(335, {0: 35000.0, 1: 35000.0, 2: 34921.8008, 3: 20.11, 4: 1302.6899, 5: 80000.0, 6: 17.07, 7: 1.0, 9: 3.0, 10: 1.0, 11: 42435.0, 12: 94.7, 13: 19.0, 18: 10.0, 19: 0.4375, 20: 0.0163, 21: 1.0, 292: 1.0, 323: 1.0, 328: 1.0, 333: 1.0}), label=1, rawPrediction=DenseVector([4.1034, 6.8966]), probability=DenseVector([0.373, 0.627]), prediction=1.0),\n",
       " Row(features=SparseVector(335, {0: 4500.0, 1: 4500.0, 2: 4475.0, 3: 14.72, 4: 155.38, 5: 30000.0, 6: 8.56, 7: 1.0, 9: 8.0, 10: 1.0, 11: 4865.0, 12: 76.0, 13: 14.0, 18: 3.0, 19: 0.15, 20: 0.0052, 22: 1.0, 287: 1.0, 303: 1.0, 329: 1.0, 331: 1.0}), label=0, rawPrediction=DenseVector([5.6684, 5.3316]), probability=DenseVector([0.5153, 0.4847]), prediction=0.0),\n",
       " Row(features=SparseVector(335, {0: 2875.0, 1: 2875.0, 2: 2875.0, 3: 14.59, 4: 99.09, 5: 79000.0, 6: 11.92, 7: 2.0, 9: 9.0, 10: 1.0, 11: 7775.0, 12: 73.3, 13: 18.0, 18: 10.0, 19: 0.0364, 20: 0.0013, 22: 1.0, 289: 1.0, 305: 1.0, 329: 1.0, 331: 1.0}), label=0, rawPrediction=DenseVector([5.8771, 5.1229]), probability=DenseVector([0.5343, 0.4657]), prediction=0.0),\n",
       " Row(features=SparseVector(335, {0: 3200.0, 1: 3200.0, 2: 3200.0, 3: 10.25, 4: 103.64, 5: 77000.0, 6: 4.91, 7: 1.0, 9: 8.0, 10: 1.0, 11: 262.0, 12: 7.1, 13: 10.0, 18: 10.0, 19: 0.0416, 20: 0.0013, 23: 1.0, 286: 1.0, 296: 1.0, 329: 1.0, 331: 1.0}), label=1, rawPrediction=DenseVector([7.3129, 3.6871]), probability=DenseVector([0.6648, 0.3352]), prediction=0.0),\n",
       " Row(features=SparseVector(335, {0: 11000.0, 1: 11000.0, 2: 11000.0, 3: 16.77, 4: 390.93, 5: 58000.0, 6: 14.86, 7: 1.0, 9: 11.0, 10: 1.0, 11: 2632.0, 12: 51.6, 13: 19.0, 18: 3.0, 19: 0.1897, 20: 0.0067, 23: 1.0, 289: 1.0, 306: 1.0, 330: 1.0, 331: 1.0}), label=0, rawPrediction=DenseVector([4.6391, 6.3609]), probability=DenseVector([0.4217, 0.5783]), prediction=1.0),\n",
       " Row(features=SparseVector(335, {0: 12000.0, 1: 12000.0, 2: 11925.0, 3: 16.0, 4: 421.89, 5: 36000.0, 6: 0.33, 7: 1.0, 9: 7.0, 10: 1.0, 11: 12683.0, 12: 34.8, 13: 19.0, 18: 5.0, 19: 0.3333, 20: 0.0117, 23: 1.0, 290: 1.0, 314: 1.0, 328: 1.0, 331: 1.0}), label=0, rawPrediction=DenseVector([4.0845, 6.9155]), probability=DenseVector([0.3713, 0.6287]), prediction=1.0),\n",
       " Row(features=SparseVector(335, {0: 8000.0, 1: 8000.0, 2: 7975.0, 3: 18.39, 4: 204.85, 5: 50000.0, 6: 7.61, 7: 1.0, 9: 9.0, 10: 1.0, 11: 12501.0, 12: 49.6, 13: 27.0, 18: 1.0, 19: 0.16, 20: 0.0041, 24: 1.0, 290: 1.0, 314: 1.0, 330: 1.0, 331: 1.0}), label=1, rawPrediction=DenseVector([3.7211, 7.2789]), probability=DenseVector([0.3383, 0.6617]), prediction=1.0),\n",
       " Row(features=SparseVector(335, {0: 6300.0, 1: 6300.0, 2: 6300.0, 3: 10.0, 4: 203.29, 5: 54000.0, 6: 16.33, 7: 1.0, 9: 16.0, 10: 1.0, 11: 32239.0, 12: 65.0, 13: 38.0, 18: 1.0, 19: 0.1167, 20: 0.0038, 27: 1.0, 286: 1.0, 296: 1.0, 330: 1.0, 332: 1.0}), label=0, rawPrediction=DenseVector([6.8484, 4.1516]), probability=DenseVector([0.6226, 0.3774]), prediction=0.0),\n",
       " Row(features=SparseVector(335, {0: 5000.0, 1: 5000.0, 2: 5000.0, 3: 14.96, 4: 173.24, 5: 60000.0, 6: 17.8, 7: 2.0, 9: 8.0, 10: 1.0, 11: 4584.0, 12: 71.6, 13: 19.0, 18: 10.0, 19: 0.0833, 20: 0.0029, 28: 1.0, 289: 1.0, 306: 1.0, 329: 1.0, 331: 1.0}), label=0, rawPrediction=DenseVector([5.1167, 5.8833]), probability=DenseVector([0.4652, 0.5348]), prediction=1.0),\n",
       " Row(features=SparseVector(335, {0: 15000.0, 1: 15000.0, 2: 15000.0, 3: 17.27, 4: 536.81, 5: 44400.0, 6: 3.59, 7: 1.0, 9: 6.0, 10: 1.0, 11: 4582.0, 12: 91.6, 13: 16.0, 18: 2.0, 19: 0.3378, 20: 0.0121, 31: 1.0, 289: 1.0, 307: 1.0, 330: 1.0, 331: 1.0}), label=0, rawPrediction=DenseVector([4.6818, 6.3182]), probability=DenseVector([0.4256, 0.5744]), prediction=1.0),\n",
       " Row(features=SparseVector(335, {0: 7000.0, 1: 7000.0, 2: 7000.0, 3: 11.99, 4: 232.47, 5: 98000.0, 6: 26.57, 7: 1.0, 9: 13.0, 11: 12498.0, 12: 35.7, 13: 31.0, 14: 1.0, 16: 53773.0, 17: 35000.0, 18: 10.0, 19: 0.0714, 20: 0.0024, 21: 1.0, 286: 1.0, 293: 1.0, 328: 1.0, 333: 1.0}), label=0, rawPrediction=DenseVector([7.1051, 3.8949]), probability=DenseVector([0.6459, 0.3541]), prediction=0.0),\n",
       " Row(features=SparseVector(335, {0: 21000.0, 1: 21000.0, 2: 21000.0, 3: 12.99, 4: 707.48, 5: 74000.0, 6: 6.7, 7: 1.0, 9: 15.0, 11: 20040.0, 12: 29.0, 13: 35.0, 14: 1.0, 16: 112197.0, 17: 69100.0, 18: 10.0, 19: 0.2838, 20: 0.0096, 21: 1.0, 286: 1.0, 294: 1.0, 328: 1.0, 331: 1.0}), label=0, rawPrediction=DenseVector([6.1424, 4.8576]), probability=DenseVector([0.5584, 0.4416]), prediction=0.0),\n",
       " Row(features=SparseVector(335, {0: 35000.0, 1: 35000.0, 2: 35000.0, 3: 19.2, 4: 911.78, 5: 175695.0, 6: 17.03, 7: 2.0, 9: 14.0, 11: 170519.0, 12: 28.2, 13: 50.0, 14: 1.0, 16: 1012899.0, 17: 230200.0, 18: 7.0, 19: 0.1992, 20: 0.0052, 21: 1.0, 289: 1.0, 307: 1.0, 328: 1.0, 333: 1.0}), label=1, rawPrediction=DenseVector([5.2205, 5.7795]), probability=DenseVector([0.4746, 0.5254]), prediction=1.0),\n",
       " Row(features=SparseVector(335, {0: 8875.0, 1: 8875.0, 2: 8875.0, 3: 19.52, 4: 327.67, 5: 68000.0, 6: 13.04, 7: 3.0, 9: 6.0, 11: 2163.0, 12: 57.2, 13: 21.0, 14: 1.0, 16: 354223.0, 17: 3300.0, 18: 10.0, 19: 0.1305, 20: 0.0048, 21: 1.0, 289: 1.0, 308: 1.0, 330: 1.0, 331: 1.0}), label=0, rawPrediction=DenseVector([3.8776, 7.1224]), probability=DenseVector([0.3525, 0.6475]), prediction=1.0),\n",
       " Row(features=SparseVector(335, {0: 15000.0, 1: 15000.0, 2: 15000.0, 3: 20.2, 4: 558.99, 5: 60000.0, 6: 20.48, 7: 2.0, 9: 14.0, 11: 9227.0, 12: 87.9, 13: 31.0, 14: 2.0, 16: 23991.0, 17: 10500.0, 18: 1.0, 19: 0.25, 20: 0.0093, 21: 1.0, 289: 1.0, 310: 1.0, 328: 1.0, 332: 1.0}), label=1, rawPrediction=DenseVector([3.8504, 7.1496]), probability=DenseVector([0.35, 0.65]), prediction=1.0),\n",
       " Row(features=SparseVector(335, {0: 35000.0, 1: 35000.0, 2: 34875.0, 3: 25.8, 4: 1043.78, 5: 100000.0, 6: 23.49, 7: 2.0, 9: 14.0, 11: 32781.0, 12: 81.3, 13: 37.0, 14: 2.0, 16: 72232.0, 17: 40300.0, 18: 9.0, 19: 0.35, 20: 0.0104, 21: 1.0, 292: 1.0, 323: 1.0, 328: 1.0, 332: 1.0}), label=0, rawPrediction=DenseVector([3.2479, 7.7521]), probability=DenseVector([0.2953, 0.7047]), prediction=1.0),\n",
       " Row(features=SparseVector(335, {0: 2000.0, 1: 2000.0, 2: 2000.0, 3: 17.1, 4: 71.41, 5: 47320.0, 6: 22.57, 7: 1.0, 9: 22.0, 11: 8005.0, 12: 21.7, 13: 50.0, 14: 1.0, 16: 62518.0, 17: 36900.0, 18: 1.0, 19: 0.0423, 20: 0.0015, 24: 1.0, 287: 1.0, 303: 1.0, 330: 1.0, 332: 1.0}), label=0, rawPrediction=DenseVector([5.6645, 5.3355]), probability=DenseVector([0.515, 0.485]), prediction=0.0),\n",
       " Row(features=SparseVector(335, {0: 10000.0, 1: 10000.0, 2: 10000.0, 3: 11.99, 4: 332.1, 5: 120000.0, 6: 12.79, 7: 1.0, 9: 6.0, 11: 10612.0, 12: 78.0, 13: 9.0, 15: 54.0, 16: 36607.0, 17: 13600.0, 18: 6.0, 19: 0.0833, 20: 0.0028, 21: 1.0, 286: 1.0, 293: 1.0, 328: 1.0, 332: 1.0}), label=0, rawPrediction=DenseVector([7.0487, 3.9513]), probability=DenseVector([0.6408, 0.3592]), prediction=0.0),\n",
       " Row(features=SparseVector(335, {0: 9000.0, 1: 9000.0, 2: 9000.0, 3: 11.99, 4: 298.89, 5: 64000.0, 6: 10.83, 7: 3.0, 9: 9.0, 11: 3819.0, 12: 48.3, 13: 21.0, 15: 328.0, 16: 26055.0, 17: 7900.0, 18: 4.0, 19: 0.1406, 20: 0.0047, 21: 1.0, 286: 1.0, 293: 1.0, 329: 1.0, 333: 1.0}), label=0, rawPrediction=DenseVector([7.1417, 3.8583]), probability=DenseVector([0.6492, 0.3508]), prediction=0.0),\n",
       " Row(features=SparseVector(335, {0: 18000.0, 1: 18000.0, 2: 18000.0, 3: 12.99, 4: 606.41, 5: 140000.0, 6: 20.45, 7: 1.0, 9: 14.0, 11: 19961.0, 12: 77.7, 13: 23.0, 15: 853.0, 16: 251924.0, 17: 25700.0, 18: 10.0, 19: 0.1286, 20: 0.0043, 21: 1.0, 286: 1.0, 294: 1.0, 328: 1.0, 331: 1.0}), label=0, rawPrediction=DenseVector([6.7507, 4.2493]), probability=DenseVector([0.6137, 0.3863]), prediction=0.0),\n",
       " Row(features=SparseVector(335, {0: 7000.0, 1: 7000.0, 2: 7000.0, 3: 12.99, 4: 235.83, 5: 90000.0, 6: 17.6, 7: 3.0, 9: 11.0, 11: 3920.0, 12: 34.4, 13: 37.0, 15: 188.0, 16: 29653.0, 17: 11400.0, 18: 8.0, 19: 0.0778, 20: 0.0026, 21: 1.0, 286: 1.0, 294: 1.0, 330: 1.0, 332: 1.0}), label=0, rawPrediction=DenseVector([7.1992, 3.8008]), probability=DenseVector([0.6545, 0.3455]), prediction=0.0),\n",
       " Row(features=SparseVector(335, {0: 18000.0, 1: 18000.0, 2: 17950.0, 3: 10.99, 4: 589.22, 5: 115000.0, 6: 12.5, 7: 1.0, 9: 14.0, 11: 30932.0, 12: 55.2, 13: 44.0, 15: 166.0, 16: 498250.0, 17: 56000.0, 18: 10.0, 19: 0.1565, 20: 0.0051, 21: 1.0, 286: 1.0, 296: 1.0, 329: 1.0, 331: 1.0}), label=1, rawPrediction=DenseVector([7.3524, 3.6476]), probability=DenseVector([0.6684, 0.3316]), prediction=0.0),\n",
       " Row(features=SparseVector(335, {0: 18725.0, 1: 18725.0, 2: 18525.0, 3: 13.53, 4: 635.71, 5: 48000.0, 6: 26.9, 7: 1.0, 9: 17.0, 11: 25506.0, 12: 57.2, 13: 43.0, 15: 146.0, 16: 86437.0, 17: 44600.0, 18: 9.0, 19: 0.3901, 20: 0.0132, 21: 1.0, 286: 1.0, 298: 1.0, 328: 1.0, 332: 1.0}), label=1, rawPrediction=DenseVector([5.0063, 5.9937]), probability=DenseVector([0.4551, 0.5449]), prediction=1.0),\n",
       " Row(features=SparseVector(335, {0: 10000.0, 1: 10000.0, 2: 9875.0, 3: 9.67, 4: 321.13, 5: 85000.0, 6: 10.77, 7: 2.0, 9: 12.0, 11: 7695.0, 12: 14.0, 13: 39.0, 15: 568.0, 16: 347717.0, 17: 55100.0, 18: 10.0, 19: 0.1176, 20: 0.0038, 21: 1.0, 286: 1.0, 301: 1.0, 328: 1.0, 331: 1.0}), label=0, rawPrediction=DenseVector([7.9296, 3.0704]), probability=DenseVector([0.7209, 0.2791]), prediction=0.0),\n",
       " Row(features=SparseVector(335, {0: 15000.0, 1: 15000.0, 2: 14950.0, 3: 9.99, 4: 483.94, 5: 71400.0, 6: 14.97, 7: 1.0, 9: 19.0, 11: 20105.0, 12: 45.6, 13: 44.0, 15: 52.0, 16: 294257.0, 17: 44100.0, 18: 10.0, 19: 0.2101, 20: 0.0068, 21: 1.0, 286: 1.0, 301: 1.0, 330: 1.0, 331: 1.0}), label=0, rawPrediction=DenseVector([7.354, 3.646]), probability=DenseVector([0.6685, 0.3315]), prediction=0.0),\n",
       " Row(features=SparseVector(335, {0: 10000.0, 1: 10000.0, 2: 9950.0, 3: 9.67, 4: 321.13, 5: 65000.0, 6: 4.46, 7: 2.0, 9: 23.0, 11: 6029.0, 12: 56.3, 13: 61.0, 15: 208.0, 16: 123684.0, 17: 10700.0, 18: 3.0, 19: 0.1538, 20: 0.0049, 21: 1.0, 286: 1.0, 301: 1.0, 330: 1.0, 332: 1.0}), label=0, rawPrediction=DenseVector([7.7062, 3.2938]), probability=DenseVector([0.7006, 0.2994]), prediction=0.0),\n",
       " Row(features=SparseVector(335, {0: 9350.0, 1: 9350.0, 2: 9350.0, 3: 15.1, 4: 324.58, 5: 56000.0, 6: 20.87, 7: 3.0, 9: 11.0, 11: 10036.0, 12: 71.7, 13: 20.0, 15: 296.0, 16: 100380.0, 17: 14000.0, 18: 10.0, 19: 0.167, 20: 0.0058, 21: 1.0, 287: 1.0, 297: 1.0, 329: 1.0, 331: 1.0}), label=0, rawPrediction=DenseVector([5.0566, 5.9434]), probability=DenseVector([0.4597, 0.5403]), prediction=1.0),\n",
       " Row(features=SparseVector(335, {0: 10000.0, 1: 10000.0, 2: 10000.0, 3: 15.1, 4: 347.15, 5: 73000.0, 6: 9.96, 7: 1.0, 9: 10.0, 11: 5254.0, 12: 54.7, 13: 19.0, 15: 60.0, 16: 237800.0, 17: 9600.0, 18: 1.0, 19: 0.137, 20: 0.0048, 21: 1.0, 287: 1.0, 297: 1.0, 329: 1.0, 331: 1.0}), label=0, rawPrediction=DenseVector([6.1429, 4.8571]), probability=DenseVector([0.5584, 0.4416]), prediction=0.0),\n",
       " Row(features=SparseVector(335, {0: 12000.0, 1: 12000.0, 2: 11950.0, 3: 14.47, 4: 412.88, 5: 70000.0, 6: 19.48, 7: 1.0, 9: 8.0, 11: 4671.0, 12: 25.8, 13: 14.0, 15: 388.0, 16: 162617.0, 17: 18100.0, 18: 8.0, 19: 0.1714, 20: 0.0059, 21: 1.0, 287: 1.0, 297: 1.0, 329: 1.0, 331: 1.0}), label=0, rawPrediction=DenseVector([5.7566, 5.2434]), probability=DenseVector([0.5233, 0.4767]), prediction=0.0),\n",
       " Row(features=SparseVector(335, {0: 7200.0, 1: 7200.0, 2: 7200.0, 3: 15.1, 4: 249.95, 5: 47000.0, 6: 13.12, 7: 1.0, 9: 13.0, 11: 5667.0, 12: 56.1, 13: 18.0, 15: 52.0, 16: 17312.0, 17: 10100.0, 18: 10.0, 19: 0.1532, 20: 0.0053, 21: 1.0, 287: 1.0, 297: 1.0, 329: 1.0, 332: 1.0}), label=0, rawPrediction=DenseVector([4.9238, 6.0762]), probability=DenseVector([0.4476, 0.5524]), prediction=1.0),\n",
       " Row(features=SparseVector(335, {0: 20000.0, 1: 20000.0, 2: 20000.0, 3: 15.61, 4: 482.23, 5: 150000.0, 6: 7.93, 7: 1.0, 9: 23.0, 11: 13848.0, 12: 56.1, 13: 35.0, 15: 350.0, 16: 471587.0, 17: 24700.0, 18: 2.0, 19: 0.1333, 20: 0.0032, 21: 1.0, 287: 1.0, 299: 1.0, 328: 1.0, 332: 1.0}), label=0, rawPrediction=DenseVector([5.3197, 5.6803]), probability=DenseVector([0.4836, 0.5164]), prediction=1.0),\n",
       " Row(features=SparseVector(335, {0: 20000.0, 1: 20000.0, 2: 20000.0, 3: 6.62, 4: 614.08, 5: 110000.0, 6: 15.45, 7: 2.0, 9: 8.0, 11: 5275.0, 12: 38.2, 13: 24.0, 15: 313.0, 16: 90140.0, 17: 13800.0, 18: 9.0, 19: 0.1818, 20: 0.0056, 21: 1.0, 288: 1.0, 311: 1.0, 330: 1.0, 331: 1.0}), label=0, rawPrediction=DenseVector([8.2688, 2.7312]), probability=DenseVector([0.7517, 0.2483]), prediction=0.0),\n",
       " Row(features=SparseVector(335, {0: 35000.0, 1: 35000.0, 2: 35000.0, 3: 17.76, 4: 1261.13, 5: 140000.0, 6: 20.67, 7: 1.0, 9: 15.0, 11: 69033.0, 12: 89.5, 13: 24.0, 15: 459.0, 16: 298192.0, 17: 77100.0, 18: 9.0, 19: 0.25, 20: 0.009, 21: 1.0, 289: 1.0, 305: 1.0, 328: 1.0, 331: 1.0}), label=0, rawPrediction=DenseVector([4.8613, 6.1387]), probability=DenseVector([0.4419, 0.5581]), prediction=1.0),\n",
       " Row(features=SparseVector(335, {0: 10000.0, 1: 10000.0, 2: 10000.0, 3: 20.2, 4: 372.66, 5: 170000.0, 6: 11.09, 7: 1.0, 9: 13.0, 11: 21362.0, 12: 71.0, 13: 33.0, 15: 100.0, 16: 197800.0, 17: 30100.0, 18: 10.0, 19: 0.0588, 20: 0.0022, 21: 1.0, 289: 1.0, 310: 1.0, 330: 1.0, 331: 1.0}), label=0, rawPrediction=DenseVector([4.6905, 6.3095]), probability=DenseVector([0.4264, 0.5736]), prediction=1.0),\n",
       " Row(features=SparseVector(335, {0: 21000.0, 1: 21000.0, 2: 21000.0, 3: 10.99, 4: 687.42, 5: 124000.0, 6: 15.9, 7: 1.0, 9: 20.0, 11: 19352.0, 12: 39.8, 13: 59.0, 15: 2683.0, 16: 453479.0, 17: 48600.0, 18: 10.0, 19: 0.1694, 20: 0.0055, 22: 1.0, 286: 1.0, 296: 1.0, 330: 1.0, 331: 1.0}), label=0, rawPrediction=DenseVector([7.1415, 3.8585]), probability=DenseVector([0.6492, 0.3508]), prediction=0.0),\n",
       " Row(features=SparseVector(335, {0: 15000.0, 1: 15000.0, 2: 15000.0, 3: 13.67, 4: 510.27, 5: 67000.0, 6: 11.66, 7: 2.0, 9: 12.0, 11: 6617.0, 12: 61.8, 13: 15.0, 15: 52.0, 16: 43051.0, 17: 10700.0, 18: 1.0, 19: 0.2239, 20: 0.0076, 22: 1.0, 286: 1.0, 298: 1.0, 329: 1.0, 332: 1.0}), label=0, rawPrediction=DenseVector([6.2172, 4.7828]), probability=DenseVector([0.5652, 0.4348]), prediction=0.0),\n",
       " Row(features=SparseVector(335, {0: 6000.0, 1: 6000.0, 2: 6000.0, 3: 9.67, 4: 192.68, 5: 80000.0, 6: 6.85, 7: 1.0, 9: 8.0, 11: 6532.0, 12: 40.1, 13: 21.0, 15: 27.0, 16: 195610.0, 17: 16300.0, 18: 6.0, 19: 0.075, 20: 0.0024, 22: 1.0, 286: 1.0, 301: 1.0, 329: 1.0, 331: 1.0}), label=0, rawPrediction=DenseVector([7.8796, 3.1204]), probability=DenseVector([0.7163, 0.2837]), prediction=0.0),\n",
       " Row(features=SparseVector(335, {0: 8000.0, 1: 8000.0, 2: 8000.0, 3: 14.3, 4: 274.59, 5: 64520.0, 6: 13.54, 7: 1.0, 9: 11.0, 11: 4610.0, 12: 65.9, 13: 47.0, 15: 192.0, 16: 52180.0, 17: 7000.0, 18: 10.0, 19: 0.124, 20: 0.0043, 22: 1.0, 287: 1.0, 295: 1.0, 330: 1.0, 333: 1.0}), label=0, rawPrediction=DenseVector([6.4477, 4.5523]), probability=DenseVector([0.5862, 0.4138]), prediction=0.0),\n",
       " Row(features=SparseVector(335, {0: 10000.0, 1: 10000.0, 2: 10000.0, 3: 15.1, 4: 238.43, 5: 50000.0, 6: 16.83, 7: 1.0, 9: 9.0, 11: 5496.0, 12: 56.1, 13: 17.0, 15: 54.0, 16: 170595.0, 17: 9800.0, 18: 10.0, 19: 0.2, 20: 0.0048, 22: 1.0, 287: 1.0, 297: 1.0, 330: 1.0, 331: 1.0}), label=0, rawPrediction=DenseVector([5.0674, 5.9326]), probability=DenseVector([0.4607, 0.5393]), prediction=1.0),\n",
       " Row(features=SparseVector(335, {0: 21000.0, 1: 21000.0, 2: 21000.0, 3: 17.76, 4: 756.68, 5: 117000.0, 6: 9.08, 7: 2.0, 9: 15.0, 11: 13542.0, 12: 82.1, 13: 26.0, 15: 56.0, 16: 33427.0, 17: 16500.0, 18: 7.0, 19: 0.1795, 20: 0.0065, 22: 1.0, 289: 1.0, 305: 1.0, 328: 1.0, 332: 1.0}), label=0, rawPrediction=DenseVector([4.7375, 6.2625]), probability=DenseVector([0.4307, 0.5693]), prediction=1.0),\n",
       " Row(features=SparseVector(335, {0: 29700.0, 1: 29700.0, 2: 29650.0, 3: 19.52, 4: 778.96, 5: 93000.0, 6: 11.36, 7: 1.0, 9: 15.0, 11: 13905.0, 12: 72.0, 13: 51.0, 15: 27.0, 16: 359172.0, 17: 19300.0, 18: 4.0, 19: 0.3194, 20: 0.0084, 22: 1.0, 289: 1.0, 308: 1.0, 330: 1.0, 333: 1.0}), label=0, rawPrediction=DenseVector([4.3885, 6.6115]), probability=DenseVector([0.399, 0.601]), prediction=1.0),\n",
       " Row(features=SparseVector(335, {0: 33000.0, 1: 33000.0, 2: 33000.0, 3: 20.2, 4: 877.98, 5: 76000.0, 6: 27.66, 7: 1.0, 9: 18.0, 11: 23982.0, 12: 72.2, 13: 36.0, 15: 126.0, 16: 299939.0, 17: 33200.0, 18: 10.0, 19: 0.4342, 20: 0.0116, 22: 1.0, 289: 1.0, 310: 1.0, 328: 1.0, 331: 1.0}), label=1, rawPrediction=DenseVector([3.7249, 7.2751]), probability=DenseVector([0.3386, 0.6614]), prediction=1.0),\n",
       " Row(features=SparseVector(335, {0: 15000.0, 1: 15000.0, 2: 14950.0, 3: 10.99, 4: 326.07, 5: 60000.0, 6: 16.08, 7: 2.0, 9: 11.0, 11: 5118.0, 12: 14.5, 13: 28.0, 15: 299.0, 16: 276576.0, 17: 35300.0, 18: 6.0, 19: 0.25, 20: 0.0054, 23: 1.0, 286: 1.0, 296: 1.0, 330: 1.0, 331: 1.0}), label=1, rawPrediction=DenseVector([8.1069, 2.8931]), probability=DenseVector([0.737, 0.263]), prediction=0.0),\n",
       " Row(features=SparseVector(335, {0: 6250.0, 1: 6250.0, 2: 6250.0, 3: 16.2, 4: 220.35, 5: 98000.0, 6: 6.71, 7: 1.0, 9: 12.0, 11: 8402.0, 12: 58.3, 13: 42.0, 15: 96.0, 16: 592582.0, 17: 14400.0, 18: 10.0, 19: 0.0638, 20: 0.0022, 24: 1.0, 287: 1.0, 300: 1.0, 330: 1.0, 332: 1.0}), label=0, rawPrediction=DenseVector([6.3197, 4.6803]), probability=DenseVector([0.5745, 0.4255]), prediction=0.0),\n",
       " Row(features=SparseVector(335, {0: 24000.0, 1: 24000.0, 2: 24000.0, 3: 8.9, 4: 762.08, 5: 70000.0, 6: 13.9, 7: 1.0, 9: 9.0, 11: 23184.0, 12: 47.9, 13: 30.0, 15: 178.0, 16: 39749.0, 17: 48400.0, 18: 4.0, 19: 0.3429, 20: 0.0109, 24: 1.0, 288: 1.0, 302: 1.0, 330: 1.0, 333: 1.0}), label=0, rawPrediction=DenseVector([7.7553, 3.2447]), probability=DenseVector([0.705, 0.295]), prediction=0.0),\n",
       " Row(features=SparseVector(335, {0: 15000.0, 1: 15000.0, 2: 15000.0, 3: 17.76, 4: 540.49, 5: 75000.0, 6: 10.62, 7: 1.0, 9: 12.0, 11: 10698.0, 12: 69.5, 13: 38.0, 15: 158.0, 16: 59067.0, 17: 15400.0, 18: 10.0, 19: 0.2, 20: 0.0072, 24: 1.0, 289: 1.0, 305: 1.0, 329: 1.0, 331: 1.0}), label=1, rawPrediction=DenseVector([4.4749, 6.5251]), probability=DenseVector([0.4068, 0.5932]), prediction=1.0),\n",
       " Row(features=SparseVector(335, {0: 2875.0, 1: 2875.0, 2: 2875.0, 3: 24.08, 4: 82.85, 5: 65000.0, 6: 15.03, 7: 2.0, 9: 10.0, 11: 6428.0, 12: 42.0, 13: 19.0, 15: 2856.0, 16: 34283.0, 17: 15300.0, 18: 10.0, 19: 0.0442, 20: 0.0013, 24: 1.0, 291: 1.0, 319: 1.0, 328: 1.0, 331: 1.0}), label=0, rawPrediction=DenseVector([5.1738, 5.8262]), probability=DenseVector([0.4703, 0.5297]), prediction=1.0),\n",
       " Row(features=SparseVector(335, {0: 4000.0, 1: 4000.0, 2: 4000.0, 3: 18.55, 4: 145.72, 5: 15173.0, 6: 12.9, 7: 2.0, 9: 8.0, 11: 3885.0, 12: 39.2, 13: 24.0, 15: 365.0, 16: 3885.0, 17: 9900.0, 18: 7.0, 19: 0.2636, 20: 0.0096, 27: 1.0, 289: 1.0, 306: 1.0, 328: 1.0, 332: 1.0}), label=0, rawPrediction=DenseVector([5.8649, 5.1351]), probability=DenseVector([0.5332, 0.4668]), prediction=0.0),\n",
       " Row(features=SparseVector(335, {0: 15000.0, 1: 15000.0, 2: 15000.0, 3: 22.4, 4: 575.97, 5: 216000.0, 6: 3.41, 7: 3.0, 9: 6.0, 11: 7586.0, 12: 71.6, 13: 11.0, 15: 436.0, 16: 350936.0, 17: 10600.0, 18: 1.0, 19: 0.0694, 20: 0.0027, 29: 1.0, 290: 1.0, 315: 1.0, 328: 1.0, 331: 1.0}), label=0, rawPrediction=DenseVector([5.0592, 5.9408]), probability=DenseVector([0.4599, 0.5401]), prediction=1.0),\n",
       " Row(features=SparseVector(335, {0: 15600.0, 1: 15600.0, 2: 15550.0, 3: 11.99, 4: 518.07, 5: 54000.0, 6: 26.87, 7: 1.0, 9: 13.0, 11: 9599.0, 12: 31.3, 13: 22.0, 16: 177141.0, 17: 30700.0, 18: 10.0, 19: 0.2889, 20: 0.0096, 21: 1.0, 286: 1.0, 293: 1.0, 328: 1.0, 331: 1.0}), label=0, rawPrediction=DenseVector([6.6109, 4.3891]), probability=DenseVector([0.601, 0.399]), prediction=0.0),\n",
       " Row(features=SparseVector(335, {0: 17500.0, 1: 17500.0, 2: 17450.0, 3: 11.99, 4: 581.17, 5: 85000.0, 6: 19.1, 7: 1.0, 9: 16.0, 11: 19684.0, 12: 57.7, 13: 29.0, 16: 290611.0, 17: 34600.0, 18: 10.0, 19: 0.2059, 20: 0.0068, 21: 1.0, 286: 1.0, 293: 1.0, 328: 1.0, 331: 1.0}), label=0, rawPrediction=DenseVector([6.9014, 4.0986]), probability=DenseVector([0.6274, 0.3726]), prediction=0.0),\n",
       " Row(features=SparseVector(335, {0: 20000.0, 1: 20000.0, 2: 19950.0, 3: 11.99, 4: 664.2, 5: 90000.0, 6: 12.89, 7: 1.0, 9: 12.0, 11: 44372.0, 12: 67.7, 13: 28.0, 16: 59967.0, 17: 65500.0, 18: 6.0, 19: 0.2222, 20: 0.0074, 21: 1.0, 286: 1.0, 293: 1.0, 328: 1.0, 331: 1.0}), label=0, rawPrediction=DenseVector([6.8483, 4.1517]), probability=DenseVector([0.6226, 0.3774]), prediction=0.0),\n",
       " Row(features=SparseVector(335, {0: 25000.0, 1: 25000.0, 2: 24950.0, 3: 11.99, 4: 830.24, 5: 100000.0, 6: 23.77, 7: 1.0, 9: 13.0, 11: 25523.0, 12: 42.8, 13: 29.0, 16: 334787.0, 17: 66200.0, 18: 10.0, 19: 0.25, 20: 0.0083, 21: 1.0, 286: 1.0, 293: 1.0, 328: 1.0, 331: 1.0}), label=0, rawPrediction=DenseVector([6.6092, 4.3908]), probability=DenseVector([0.6008, 0.3992]), prediction=0.0),\n",
       " Row(features=SparseVector(335, {0: 6500.0, 1: 6500.0, 2: 6450.0, 3: 11.99, 4: 215.87, 5: 50000.0, 6: 23.47, 7: 1.0, 9: 16.0, 11: 5293.0, 12: 18.6, 13: 21.0, 16: 31582.0, 17: 28500.0, 18: 10.0, 19: 0.13, 20: 0.0043, 21: 1.0, 286: 1.0, 293: 1.0, 328: 1.0, 332: 1.0}), label=0, rawPrediction=DenseVector([6.8475, 4.1525]), probability=DenseVector([0.6225, 0.3775]), prediction=0.0),\n",
       " Row(features=SparseVector(335, {0: 15275.0, 1: 15275.0, 2: 15275.0, 3: 11.99, 4: 507.28, 5: 46000.0, 6: 21.57, 7: 4.0, 9: 10.0, 11: 6280.0, 12: 72.2, 13: 34.0, 16: 21509.0, 17: 8700.0, 18: 5.0, 19: 0.3321, 20: 0.011, 21: 1.0, 286: 1.0, 293: 1.0, 328: 1.0, 332: 1.0}), label=0, rawPrediction=DenseVector([4.0995, 6.9005]), probability=DenseVector([0.3727, 0.6273]), prediction=1.0),\n",
       " Row(features=SparseVector(335, {0: 7800.0, 1: 7800.0, 2: 7700.0, 3: 11.99, 4: 259.04, 5: 115000.0, 6: 4.63, 7: 2.0, 9: 8.0, 11: 8372.0, 12: 63.4, 13: 48.0, 16: 395177.0, 17: 13200.0, 18: 10.0, 19: 0.0678, 20: 0.0023, 21: 1.0, 286: 1.0, 293: 1.0, 330: 1.0, 331: 1.0}), label=0, rawPrediction=DenseVector([8.0325, 2.9675]), probability=DenseVector([0.7302, 0.2698]), prediction=0.0),\n",
       " Row(features=SparseVector(335, {0: 9000.0, 1: 9000.0, 2: 8950.0, 3: 11.99, 4: 298.89, 5: 78000.0, 6: 15.38, 7: 3.0, 9: 14.0, 11: 37210.0, 12: 70.2, 13: 41.0, 16: 357781.0, 17: 53000.0, 18: 10.0, 19: 0.1154, 20: 0.0038, 21: 1.0, 286: 1.0, 293: 1.0, 330: 1.0, 331: 1.0}), label=1, rawPrediction=DenseVector([7.899, 3.101]), probability=DenseVector([0.7181, 0.2819]), prediction=0.0),\n",
       " Row(features=SparseVector(335, {0: 10000.0, 1: 10000.0, 2: 9800.0, 3: 11.99, 4: 332.1, 5: 125000.0, 6: 24.55, 7: 1.0, 9: 9.0, 11: 36881.0, 12: 95.8, 13: 19.0, 16: 215551.0, 17: 38500.0, 18: 10.0, 19: 0.08, 20: 0.0027, 21: 1.0, 286: 1.0, 293: 1.0, 330: 1.0, 331: 1.0}), label=0, rawPrediction=DenseVector([6.9145, 4.0855]), probability=DenseVector([0.6286, 0.3714]), prediction=0.0),\n",
       " Row(features=SparseVector(335, {0: 13000.0, 1: 13000.0, 2: 13000.0, 3: 11.99, 4: 431.73, 5: 70000.0, 6: 22.08, 7: 2.0, 9: 10.0, 11: 5191.0, 12: 71.1, 13: 26.0, 16: 212772.0, 17: 7300.0, 18: 8.0, 19: 0.1857, 20: 0.0062, 21: 1.0, 286: 1.0, 293: 1.0, 330: 1.0, 331: 1.0}), label=0, rawPrediction=DenseVector([6.7943, 4.2057]), probability=DenseVector([0.6177, 0.3823]), prediction=0.0),\n",
       " Row(features=SparseVector(335, {0: 18000.0, 1: 18000.0, 2: 18000.0, 3: 11.99, 4: 597.78, 5: 133000.0, 6: 8.12, 7: 1.0, 9: 11.0, 11: 9193.0, 12: 37.8, 13: 33.0, 16: 290023.0, 17: 24300.0, 18: 10.0, 19: 0.1353, 20: 0.0045, 21: 1.0, 286: 1.0, 293: 1.0, 330: 1.0, 331: 1.0}), label=0, rawPrediction=DenseVector([7.2441, 3.7559]), probability=DenseVector([0.6586, 0.3414]), prediction=0.0),\n",
       " Row(features=SparseVector(335, {0: 20000.0, 1: 20000.0, 2: 19975.0, 3: 11.99, 4: 664.2, 5: 75000.0, 6: 10.03, 7: 1.0, 9: 17.0, 11: 22789.0, 12: 53.9, 13: 64.0, 16: 258688.0, 17: 42300.0, 18: 2.0, 19: 0.2667, 20: 0.0089, 21: 1.0, 286: 1.0, 293: 1.0, 330: 1.0, 331: 1.0}), label=0, rawPrediction=DenseVector([7.0077, 3.9923]), probability=DenseVector([0.6371, 0.3629]), prediction=0.0),\n",
       " Row(features=SparseVector(335, {0: 6500.0, 1: 6500.0, 2: 6500.0, 3: 12.99, 4: 218.98, 5: 40000.0, 6: 21.99, 7: 2.0, 9: 11.0, 11: 14461.0, 12: 56.5, 13: 19.0, 16: 133537.0, 17: 25600.0, 18: 1.0, 19: 0.1625, 20: 0.0055, 21: 1.0, 286: 1.0, 294: 1.0, 328: 1.0, 331: 1.0}), label=0, rawPrediction=DenseVector([5.9198, 5.0802]), probability=DenseVector([0.5382, 0.4618]), prediction=0.0),\n",
       " Row(features=SparseVector(335, {0: 15000.0, 1: 15000.0, 2: 15000.0, 3: 12.99, 4: 341.22, 5: 69006.0, 6: 7.27, 7: 1.0, 9: 8.0, 11: 14526.0, 12: 27.2, 13: 25.0, 16: 195561.0, 17: 53500.0, 18: 10.0, 19: 0.2174, 20: 0.0049, 21: 1.0, 286: 1.0, 294: 1.0, 328: 1.0, 331: 1.0}), label=0, rawPrediction=DenseVector([6.52, 4.48]), probability=DenseVector([0.5927, 0.4073]), prediction=0.0),\n",
       " Row(features=SparseVector(335, {0: 30000.0, 1: 30000.0, 2: 29950.0, 3: 12.85, 4: 1008.66, 5: 92000.0, 6: 14.69, 7: 1.0, 9: 10.0, 11: 15170.0, 12: 36.6, 13: 26.0, 16: 34878.0, 17: 41400.0, 18: 3.0, 19: 0.3261, 20: 0.011, 21: 1.0, 286: 1.0, 294: 1.0, 328: 1.0, 331: 1.0}), label=0, rawPrediction=DenseVector([5.8604, 5.1396]), probability=DenseVector([0.5328, 0.4672]), prediction=0.0),\n",
       " Row(features=SparseVector(335, {0: 24000.0, 1: 24000.0, 2: 24000.0, 3: 12.85, 4: 806.93, 5: 100000.0, 6: 17.65, 7: 1.0, 9: 12.0, 11: 31782.0, 12: 69.4, 13: 29.0, 16: 76078.0, 17: 45800.0, 18: 10.0, 19: 0.24, 20: 0.0081, 21: 1.0, 286: 1.0, 294: 1.0, 328: 1.0, 332: 1.0}), label=0, rawPrediction=DenseVector([6.4717, 4.5283]), probability=DenseVector([0.5883, 0.4117]), prediction=0.0),\n",
       " Row(features=SparseVector(335, {0: 10000.0, 1: 10000.0, 2: 10000.0, 3: 12.99, 4: 336.9, 5: 55560.0, 6: 23.39, 7: 1.0, 9: 12.0, 11: 9713.0, 12: 26.5, 13: 23.0, 16: 17074.0, 17: 36600.0, 18: 8.0, 19: 0.18, 20: 0.0061, 21: 1.0, 286: 1.0, 294: 1.0, 329: 1.0, 332: 1.0}), label=0, rawPrediction=DenseVector([6.2063, 4.7937]), probability=DenseVector([0.5642, 0.4358]), prediction=0.0),\n",
       " Row(features=SparseVector(335, {0: 12300.0, 1: 12300.0, 2: 12300.0, 3: 12.85, 4: 413.55, 5: 40000.0, 6: 22.56, 7: 1.0, 9: 11.0, 11: 8946.0, 12: 67.8, 13: 27.0, 16: 10838.0, 17: 13200.0, 18: 5.0, 19: 0.3075, 20: 0.0103, 21: 1.0, 286: 1.0, 294: 1.0, 329: 1.0, 332: 1.0}), label=0, rawPrediction=DenseVector([5.8174, 5.1826]), probability=DenseVector([0.5289, 0.4711]), prediction=0.0),\n",
       " Row(features=SparseVector(335, {0: 19200.0, 1: 19200.0, 2: 19150.0, 3: 12.99, 4: 646.84, 5: 45000.0, 6: 22.53, 7: 1.0, 9: 5.0, 11: 12157.0, 12: 86.2, 13: 23.0, 16: 12157.0, 17: 14100.0, 18: 5.0, 19: 0.4267, 20: 0.0144, 21: 1.0, 286: 1.0, 294: 1.0, 329: 1.0, 332: 1.0}), label=0, rawPrediction=DenseVector([5.3498, 5.6502]), probability=DenseVector([0.4863, 0.5137]), prediction=1.0),\n",
       " Row(features=SparseVector(335, {0: 10400.0, 1: 10400.0, 2: 10400.0, 3: 12.99, 4: 350.37, 5: 60000.0, 6: 11.7, 7: 1.0, 9: 9.0, 11: 10293.0, 12: 62.8, 13: 18.0, 16: 140120.0, 17: 16400.0, 18: 6.0, 19: 0.1733, 20: 0.0058, 21: 1.0, 286: 1.0, 294: 1.0, 330: 1.0, 331: 1.0}), label=0, rawPrediction=DenseVector([6.3959, 4.6041]), probability=DenseVector([0.5814, 0.4186]), prediction=0.0),\n",
       " Row(features=SparseVector(335, {0: 30000.0, 1: 30000.0, 2: 29950.0, 3: 12.99, 4: 1010.68, 5: 97000.0, 6: 24.8, 7: 2.0, 9: 19.0, 11: 24353.0, 12: 69.2, 13: 50.0, 16: 294626.0, 17: 35200.0, 18: 10.0, 19: 0.3093, 20: 0.0104, 21: 1.0, 286: 1.0, 294: 1.0, 330: 1.0, 331: 1.0}), label=0, rawPrediction=DenseVector([5.6727, 5.3273]), probability=DenseVector([0.5157, 0.4843]), prediction=0.0),\n",
       " Row(features=SparseVector(335, {0: 20000.0, 1: 20000.0, 2: 20000.0, 3: 12.35, 4: 667.64, 5: 120000.0, 6: 12.99, 7: 1.0, 9: 6.0, 11: 13603.0, 12: 69.8, 13: 15.0, 16: 21817.0, 17: 19500.0, 18: 1.0, 19: 0.1667, 20: 0.0056, 21: 1.0, 286: 1.0, 294: 1.0, 330: 1.0, 332: 1.0}), label=0, rawPrediction=DenseVector([6.7455, 4.2545]), probability=DenseVector([0.6132, 0.3868]), prediction=0.0),\n",
       " Row(features=SparseVector(335, {0: 23350.0, 1: 23350.0, 2: 23300.0, 3: 12.99, 4: 786.65, 5: 65000.0, 6: 18.02, 7: 1.0, 9: 10.0, 11: 12645.0, 12: 94.4, 13: 29.0, 16: 120310.0, 17: 13400.0, 18: 4.0, 19: 0.3592, 20: 0.0121, 21: 1.0, 286: 1.0, 294: 1.0, 330: 1.0, 332: 1.0}), label=1, rawPrediction=DenseVector([5.5179, 5.4821]), probability=DenseVector([0.5016, 0.4984]), prediction=0.0),\n",
       " Row(features=SparseVector(335, {0: 10000.0, 1: 10000.0, 2: 10000.0, 3: 10.99, 4: 327.34, 5: 50000.0, 6: 17.52, 7: 1.0, 9: 17.0, 11: 10906.0, 12: 51.2, 13: 28.0, 16: 150072.0, 17: 21300.0, 18: 1.0, 19: 0.2, 20: 0.0065, 21: 1.0, 286: 1.0, 296: 1.0, 328: 1.0, 331: 1.0}), label=0, rawPrediction=DenseVector([6.9092, 4.0908]), probability=DenseVector([0.6281, 0.3719]), prediction=0.0),\n",
       " Row(features=SparseVector(335, {0: 20000.0, 1: 20000.0, 2: 20000.0, 3: 10.99, 4: 654.68, 5: 65000.0, 6: 11.04, 7: 3.0, 9: 17.0, 11: 12539.0, 12: 65.3, 13: 31.0, 16: 151376.0, 17: 19200.0, 18: 9.0, 19: 0.3077, 20: 0.0101, 21: 1.0, 286: 1.0, 296: 1.0, 328: 1.0, 331: 1.0}), label=1, rawPrediction=DenseVector([6.8608, 4.1392]), probability=DenseVector([0.6237, 0.3763]), prediction=0.0),\n",
       " Row(features=SparseVector(335, {0: 24250.0, 1: 24250.0, 2: 24250.0, 3: 10.99, 4: 793.8, 5: 123000.0, 6: 7.66, 7: 1.0, 9: 16.0, 11: 5100.0, 12: 33.3, 13: 27.0, 16: 111403.0, 17: 15300.0, 18: 10.0, 19: 0.1972, 20: 0.0065, 21: 1.0, 286: 1.0, 296: 1.0, 328: 1.0, 331: 1.0}), label=0, rawPrediction=DenseVector([6.6899, 4.3101]), probability=DenseVector([0.6082, 0.3918]), prediction=0.0),\n",
       " Row(features=SparseVector(335, {0: 32400.0, 1: 32400.0, 2: 32300.0, 3: 10.99, 4: 1060.59, 5: 120000.0, 6: 15.85, 7: 1.0, 9: 10.0, 11: 11839.0, 12: 80.5, 13: 46.0, 16: 372068.0, 17: 14700.0, 18: 10.0, 19: 0.27, 20: 0.0088, 21: 1.0, 286: 1.0, 296: 1.0, 328: 1.0, 331: 1.0}), label=0, rawPrediction=DenseVector([7.2215, 3.7785]), probability=DenseVector([0.6565, 0.3435]), prediction=0.0),\n",
       " Row(features=SparseVector(335, {0: 34475.0, 1: 34475.0, 2: 34475.0, 3: 10.99, 4: 1128.51, 5: 140000.0, 6: 20.52, 7: 1.0, 9: 11.0, 11: 12362.0, 12: 29.0, 13: 19.0, 16: 442072.0, 17: 42600.0, 18: 1.0, 19: 0.2463, 20: 0.0081, 21: 1.0, 286: 1.0, 296: 1.0, 328: 1.0, 331: 1.0}), label=0, rawPrediction=DenseVector([7.7055, 3.2945]), probability=DenseVector([0.7005, 0.2995]), prediction=0.0),\n",
       " Row(features=SparseVector(335, {0: 18000.0, 1: 18000.0, 2: 18000.0, 3: 10.99, 4: 391.28, 5: 62000.0, 6: 16.09, 7: 1.0, 9: 13.0, 11: 19750.0, 12: 41.7, 13: 22.0, 16: 48656.0, 17: 47400.0, 18: 7.0, 19: 0.2903, 20: 0.0063, 21: 1.0, 286: 1.0, 296: 1.0, 328: 1.0, 332: 1.0}), label=0, rawPrediction=DenseVector([6.4587, 4.5413]), probability=DenseVector([0.5872, 0.4128]), prediction=0.0),\n",
       " Row(features=SparseVector(335, {0: 4200.0, 1: 4200.0, 2: 4200.0, 3: 10.99, 4: 137.49, 5: 43000.0, 6: 26.9, 7: 1.0, 9: 8.0, 11: 18960.0, 12: 53.6, 13: 12.0, 16: 46705.0, 17: 35400.0, 18: 6.0, 19: 0.0977, 20: 0.0032, 21: 1.0, 286: 1.0, 296: 1.0, 329: 1.0, 331: 1.0}), label=0, rawPrediction=DenseVector([6.5726, 4.4274]), probability=DenseVector([0.5975, 0.4025]), prediction=0.0),\n",
       " Row(features=SparseVector(335, {0: 8000.0, 1: 8000.0, 2: 7950.0, 3: 10.99, 4: 261.88, 5: 86000.0, 6: 3.28, 7: 1.0, 9: 8.0, 11: 8234.0, 12: 22.8, 13: 21.0, 16: 504541.0, 17: 36100.0, 18: 10.0, 19: 0.093, 20: 0.003, 21: 1.0, 286: 1.0, 296: 1.0, 329: 1.0, 331: 1.0}), label=0, rawPrediction=DenseVector([7.3611, 3.6389]), probability=DenseVector([0.6692, 0.3308]), prediction=0.0),\n",
       " ...]"
      ]
     },
     "execution_count": 44,
     "metadata": {},
     "output_type": "execute_result"
    }
   ],
   "source": [
    "prediction_list"
   ]
  },
  {
   "cell_type": "code",
   "execution_count": 45,
   "metadata": {
    "collapsed": false
   },
   "outputs": [
    {
     "data": {
      "text/plain": [
       "SparseVector(335, {0: 0.0166, 1: 0.0219, 2: 0.0215, 3: 0.219, 4: 0.0203, 5: 0.0383, 6: 0.037, 7: 0.0074, 8: 0.0163, 9: 0.0168, 10: 0.005, 11: 0.0192, 12: 0.0348, 13: 0.0209, 14: 0.0005, 15: 0.0045, 16: 0.0228, 17: 0.0178, 18: 0.0117, 19: 0.0457, 20: 0.0587, 21: 0.0033, 22: 0.0046, 23: 0.0024, 24: 0.0027, 25: 0.0017, 26: 0.0033, 27: 0.0013, 28: 0.0015, 29: 0.0007, 30: 0.0009, 31: 0.0008, 32: 0.0008, 33: 0.0003, 34: 0.0003, 286: 0.0295, 287: 0.0155, 288: 0.0732, 289: 0.0183, 290: 0.0354, 291: 0.0214, 292: 0.0063, 293: 0.0032, 294: 0.0023, 295: 0.0018, 296: 0.0019, 297: 0.0028, 298: 0.0019, 299: 0.0015, 300: 0.0016, 301: 0.0022, 302: 0.0075, 303: 0.0024, 304: 0.0066, 305: 0.002, 306: 0.0015, 307: 0.0025, 308: 0.0036, 309: 0.0103, 310: 0.0012, 311: 0.0058, 312: 0.0144, 313: 0.0009, 314: 0.0015, 315: 0.0013, 316: 0.0013, 317: 0.0023, 318: 0.0005, 319: 0.0009, 320: 0.0016, 321: 0.0007, 322: 0.0012, 323: 0.0004, 324: 0.0004, 325: 0.0002, 326: 0.0001, 327: 0.0006, 328: 0.006, 329: 0.0053, 330: 0.0034, 331: 0.006, 332: 0.0046, 333: 0.0027, 334: 0.0002})"
      ]
     },
     "execution_count": 45,
     "metadata": {},
     "output_type": "execute_result"
    }
   ],
   "source": [
    "rfmodel.featureImportances"
   ]
  },
  {
   "cell_type": "code",
   "execution_count": 46,
   "metadata": {
    "collapsed": false
   },
   "outputs": [
    {
     "data": {
      "text/plain": [
       "[(3, 0.21900603321130874),\n",
       " (288, 0.073177085708144782),\n",
       " (20, 0.058678702461364425),\n",
       " (19, 0.045695087257406224),\n",
       " (5, 0.038271722043343753),\n",
       " (6, 0.036996874412630831),\n",
       " (290, 0.035405248444631297),\n",
       " (12, 0.034809739748216793),\n",
       " (286, 0.02946471470879657),\n",
       " (16, 0.022817876715103123),\n",
       " (1, 0.021869881864084843),\n",
       " (2, 0.021520267494626648),\n",
       " (291, 0.021418239943219248),\n",
       " (13, 0.02085374587209405),\n",
       " (4, 0.020332153325839996)]"
      ]
     },
     "execution_count": 46,
     "metadata": {},
     "output_type": "execute_result"
    }
   ],
   "source": [
    "importance_list = list(enumerate(rfmodel.featureImportances))\n",
    "importance_list.sort(key=lambda tup: -tup[1])\n",
    "top_importances = importance_list[:15]\n",
    "# good_features_idx = [tup[0] for tup in top_importances]\n",
    "# good_features = [data_train.columns[i] for i in good_features_idx]\n",
    "top_importances\n"
   ]
  },
  {
   "cell_type": "markdown",
   "metadata": {},
   "source": [
    "### 4.3 Logistic Regression"
   ]
  },
  {
   "cell_type": "code",
   "execution_count": 47,
   "metadata": {
    "collapsed": false
   },
   "outputs": [],
   "source": [
    "from pyspark.ml.classification import LogisticRegression\n",
    "\n",
    "data_test=data_sets[1].cache()\n",
    "data_train=data_sets[0].cache()\n",
    "\n",
    "# We can also use the multinomial family for binary classification\n",
    "mlr = LogisticRegression(maxIter=10, regParam=0.3, elasticNetParam=0.8, family=\"multinomial\")\n",
    "\n",
    "# Fit the model\n",
    "mlrModel = mlr.fit(data_train)\n",
    "\n",
    "# Print the coefficients and intercepts for logistic regression with multinomial family\n",
    "# print(\"Multinomial coefficients: \" + str(mlrModel.coefficientMatrix))\n",
    "# print(\"Multinomial intercepts: \" + str(mlrModel.interceptVector))\n",
    "\n",
    "predictions = mlrModel.transform(data_test)"
   ]
  },
  {
   "cell_type": "code",
   "execution_count": 48,
   "metadata": {
    "collapsed": true
   },
   "outputs": [],
   "source": [
    "prediction_list = predictions.collect()"
   ]
  },
  {
   "cell_type": "code",
   "execution_count": 49,
   "metadata": {
    "collapsed": true
   },
   "outputs": [],
   "source": [
    "predictionAndLabels = []\n",
    "for item in prediction_list:\n",
    "    predictionAndLabels.append((float(item[4]), float(item[1])))"
   ]
  },
  {
   "cell_type": "code",
   "execution_count": 50,
   "metadata": {
    "collapsed": false
   },
   "outputs": [
    {
     "name": "stdout",
     "output_type": "stream",
     "text": [
      "[[ 40581.      0.]\n",
      " [  8763.      0.]]\n",
      "0.0\n",
      "0.0\n",
      "0.822410019455\n"
     ]
    }
   ],
   "source": [
    "metrics = MulticlassMetrics(sc.parallelize(predictionAndLabels))\n",
    "print metrics.confusionMatrix().toArray()\n",
    "print metrics.precision(1)\n",
    "print metrics.recall(1)\n",
    "print metrics.accuracy"
   ]
  },
  {
   "cell_type": "code",
   "execution_count": 51,
   "metadata": {
    "collapsed": false
   },
   "outputs": [
    {
     "name": "stdout",
     "output_type": "stream",
     "text": [
      "+--------------------+-----+--------------------+--------------------+----------+\n",
      "|            features|label|       rawPrediction|         probability|prediction|\n",
      "+--------------------+-----+--------------------+--------------------+----------+\n",
      "|(335,[0,1,2,3,4,5...|    0|[0.75333096200490...|[0.81856597718063...|       0.0|\n",
      "|(335,[0,1,2,3,4,5...|    0|[0.75333096200490...|[0.81856597718063...|       0.0|\n",
      "|(335,[0,1,2,3,4,5...|    1|[0.75333096200490...|[0.81856597718063...|       0.0|\n",
      "|(335,[0,1,2,3,4,5...|    0|[0.75333096200490...|[0.81856597718063...|       0.0|\n",
      "|(335,[0,1,2,3,4,5...|    0|[0.75333096200490...|[0.81856597718063...|       0.0|\n",
      "|(335,[0,1,2,3,4,5...|    0|[0.75333096200490...|[0.81856597718063...|       0.0|\n",
      "|(335,[0,1,2,3,4,5...|    1|[0.75333096200490...|[0.81856597718063...|       0.0|\n",
      "|(335,[0,1,2,3,4,5...|    1|[0.75333096200490...|[0.81856597718063...|       0.0|\n",
      "|(335,[0,1,2,3,4,5...|    0|[0.75333096200490...|[0.81856597718063...|       0.0|\n",
      "|(335,[0,1,2,3,4,5...|    0|[0.75333096200490...|[0.81856597718063...|       0.0|\n",
      "|(335,[0,1,2,3,4,5...|    0|[0.75333096200490...|[0.81856597718063...|       0.0|\n",
      "|(335,[0,1,2,3,4,5...|    0|[0.75333096200490...|[0.81856597718063...|       0.0|\n",
      "|(335,[0,1,2,3,4,5...|    0|[0.75333096200490...|[0.81856597718063...|       0.0|\n",
      "|(335,[0,1,2,3,4,5...|    1|[0.75333096200490...|[0.81856597718063...|       0.0|\n",
      "|(335,[0,1,2,3,4,5...|    0|[0.75333096200490...|[0.81856597718063...|       0.0|\n",
      "|(335,[0,1,2,3,4,5...|    0|[0.75333096200490...|[0.81856597718063...|       0.0|\n",
      "|(335,[0,1,2,3,4,5...|    0|[0.75333096200490...|[0.81856597718063...|       0.0|\n",
      "|(335,[0,1,2,3,4,5...|    0|[0.75333096200490...|[0.81856597718063...|       0.0|\n",
      "|(335,[0,1,2,3,4,5...|    0|[0.75333096200490...|[0.81856597718063...|       0.0|\n",
      "|(335,[0,1,2,3,4,5...|    0|[0.75333096200490...|[0.81856597718063...|       0.0|\n",
      "+--------------------+-----+--------------------+--------------------+----------+\n",
      "only showing top 20 rows\n",
      "\n"
     ]
    }
   ],
   "source": [
    "predictions.show()"
   ]
  }
 ],
 "metadata": {
  "anaconda-cloud": {},
  "kernelspec": {
   "display_name": "Python 2",
   "language": "python",
   "name": "python2"
  },
  "language_info": {
   "codemirror_mode": {
    "name": "ipython",
    "version": 2
   },
   "file_extension": ".py",
   "mimetype": "text/x-python",
   "name": "python",
   "nbconvert_exporter": "python",
   "pygments_lexer": "ipython2",
   "version": "2.7.12"
  }
 },
 "nbformat": 4,
 "nbformat_minor": 1
}
