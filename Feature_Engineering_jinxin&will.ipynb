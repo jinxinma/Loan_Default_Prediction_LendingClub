{
 "cells": [
  {
   "cell_type": "markdown",
   "metadata": {},
   "source": [
    "## 1. Import Libraries"
   ]
  },
  {
   "cell_type": "code",
   "execution_count": 1,
   "metadata": {
    "collapsed": false
   },
   "outputs": [],
   "source": [
    "from pyspark.sql.types import *\n",
    "import pyspark.sql.functions as F\n",
    "from pyspark.ml.feature import StringIndexer\n",
    "from pyspark.sql.functions import *"
   ]
  },
  {
   "cell_type": "markdown",
   "metadata": {},
   "source": [
    "## 2. Load Data and Convert to Spark Data Frame"
   ]
  },
  {
   "cell_type": "code",
   "execution_count": 3,
   "metadata": {
    "collapsed": false
   },
   "outputs": [
    {
     "data": {
      "text/plain": [
       "[u'id,member_id,loan_amnt,funded_amnt,funded_amnt_inv,term,int_rate,installment,grade,sub_grade,emp_title,emp_length,home_ownership,annual_inc,verification_status,issue_d,loan_status,pymnt_plan,url,desc,purpose,title,zip_code,addr_state,dti,delinq_2yrs,earliest_cr_line,inq_last_6mths,mths_since_last_delinq,mths_since_last_record,open_acc,pub_rec,revol_bal,revol_util,total_acc,initial_list_status,out_prncp,out_prncp_inv,total_pymnt,total_pymnt_inv,total_rec_prncp,total_rec_int,total_rec_late_fee,recoveries,collection_recovery_fee,last_pymnt_d,last_pymnt_amnt,next_pymnt_d,last_credit_pull_d,collections_12_mths_ex_med,mths_since_last_major_derog,policy_code,application_type,annual_inc_joint,dti_joint,verification_status_joint,acc_now_delinq,tot_coll_amt,tot_cur_bal,open_acc_6m,open_il_6m,open_il_12m,open_il_24m,mths_since_rcnt_il,total_bal_il,il_util,open_rv_12m,open_rv_24m,max_bal_bc,all_util,total_rev_hi_lim,inq_fi,total_cu_tl,inq_last_12m']"
      ]
     },
     "execution_count": 3,
     "metadata": {},
     "output_type": "execute_result"
    }
   ],
   "source": [
    "# All column names\n",
    "sc.textFile(\"loan.csv\").take(1)"
   ]
  },
  {
   "cell_type": "code",
   "execution_count": 4,
   "metadata": {
    "collapsed": false
   },
   "outputs": [
    {
     "data": {
      "text/plain": [
       "pyspark.sql.dataframe.DataFrame"
      ]
     },
     "execution_count": 4,
     "metadata": {},
     "output_type": "execute_result"
    }
   ],
   "source": [
    "# load data as dataframe\n",
    "loan_df = spark.read.csv(\"loan.csv\",header=True)\n",
    "loan_df.rdd.getNumPartitions()\n",
    "type(loan_df)"
   ]
  },
  {
   "cell_type": "markdown",
   "metadata": {},
   "source": [
    "Select useful columns to create smaller dataframe for future use"
   ]
  },
  {
   "cell_type": "markdown",
   "metadata": {},
   "source": [
    "## 3. Create response variable and features"
   ]
  },
  {
   "cell_type": "markdown",
   "metadata": {},
   "source": [
    "### 3.1 Remove some columns based on EDA results"
   ]
  },
  {
   "cell_type": "code",
   "execution_count": 5,
   "metadata": {
    "collapsed": false
   },
   "outputs": [],
   "source": [
    "loan_df1 = loan_df.drop('desc','mths_since_last_delinq','mths_since_last_record','next_pymnt_d',\n",
    "                        'mths_since_last_major_derog','annual_inc_joint','dti_joint','verification_status_joint',\n",
    "                        'open_acc_6m','open_il_6m','open_il_12m','open_il_24m','mths_since_rcnt_il','total_bal_il',\n",
    "                        'il_util','open_rv_12m','open_rv_24m','max_bal_bc','all_util','inq_fi','total_cu_tl',\n",
    "                        'inq_last_12m', # with a lot NA\n",
    "                        'id','member_id','collection_recovery_fee','last_pymnt_amnt','last_pymnt_d','out_prncp','out_prncp_inv',\n",
    "                        'pymnt_plan','recoveries','term','title','total_pymnt','total_pymnt_inv','total_rec_int',\n",
    "                        'total_rec_late_fee','total_rec_prncp','url','verification_status', 'initial_list_status', \n",
    "                        'last_credit_pull_d','policy_code'# domain knowledge\n",
    "                       )"
   ]
  },
  {
   "cell_type": "code",
   "execution_count": 6,
   "metadata": {
    "collapsed": false
   },
   "outputs": [
    {
     "data": {
      "text/plain": [
       "Row(loan_amnt=u'5000.0', funded_amnt=u'5000.0', funded_amnt_inv=u'4975.0', int_rate=u'10.65', installment=u'162.87', grade=u'B', sub_grade=u'B2', emp_title=None, emp_length=u'10+ years', home_ownership=u'RENT', annual_inc=u'24000.0', issue_d=u'Dec-2011', loan_status=u'Fully Paid', purpose=u'credit_card', zip_code=u'860xx', addr_state=u'AZ', dti=u'27.65', delinq_2yrs=u'0.0', earliest_cr_line=u'Jan-1985', inq_last_6mths=u'1.0', open_acc=u'3.0', pub_rec=u'0.0', revol_bal=u'13648.0', revol_util=u'83.7', total_acc=u'9.0', collections_12_mths_ex_med=u'0.0', application_type=u'INDIVIDUAL', acc_now_delinq=u'0.0', tot_coll_amt=None, tot_cur_bal=None, total_rev_hi_lim=None)"
      ]
     },
     "execution_count": 6,
     "metadata": {},
     "output_type": "execute_result"
    }
   ],
   "source": [
    "loan_df1.head()"
   ]
  },
  {
   "cell_type": "code",
   "execution_count": 7,
   "metadata": {
    "collapsed": false
   },
   "outputs": [
    {
     "data": {
      "text/plain": [
       "31"
      ]
     },
     "execution_count": 7,
     "metadata": {},
     "output_type": "execute_result"
    }
   ],
   "source": [
    "len(loan_df1.columns)"
   ]
  },
  {
   "cell_type": "code",
   "execution_count": 8,
   "metadata": {
    "collapsed": true
   },
   "outputs": [],
   "source": [
    "# Convert left columns into right format\n",
    "loan_df2 = loan_df.select(\n",
    "    loan_df.loan_amnt.cast(\"integer\"),\n",
    "    loan_df.funded_amnt.cast(\"integer\"),\n",
    "    loan_df.funded_amnt_inv.cast(\"integer\"),\n",
    "    loan_df.int_rate.cast(\"integer\"),\n",
    "    loan_df.installment.cast(\"integer\"),\n",
    "    'grade',\n",
    "    'sub_grade',\n",
    "    'emp_title',\n",
    "    'emp_length',\n",
    "    'home_ownership',\n",
    "    loan_df.annual_inc.cast(\"integer\"),\n",
    "    'issue_d',\n",
    "    'loan_status', # response variable\n",
    "    'purpose',\n",
    "    'zip_code',\n",
    "    'addr_state',\n",
    "    loan_df.dti.cast(\"integer\"),\n",
    "    loan_df.delinq_2yrs.cast(\"integer\"),\n",
    "    'earliest_cr_line',\n",
    "    loan_df.inq_last_6mths.cast(\"integer\"),\n",
    "    loan_df.open_acc.cast(\"integer\"),\n",
    "    loan_df.pub_rec.cast(\"integer\"),\n",
    "    loan_df.revol_bal.cast(\"integer\"),\n",
    "    loan_df.revol_util.cast(\"integer\"),\n",
    "    loan_df.total_acc.cast(\"integer\"),\n",
    "    loan_df.last_credit_pull_d.cast(\"integer\"),\n",
    "    'application_type',\n",
    "    loan_df.acc_now_delinq.cast(\"integer\"),\n",
    "    loan_df.tot_coll_amt.cast(\"integer\"),\n",
    "    loan_df.tot_cur_bal.cast(\"integer\"),\n",
    "    loan_df.total_rev_hi_lim.cast(\"integer\")\n",
    ")\n"
   ]
  },
  {
   "cell_type": "markdown",
   "metadata": {},
   "source": [
    "### 3.2 Create response variable and remove rows with no valid response variable"
   ]
  },
  {
   "cell_type": "code",
   "execution_count": 9,
   "metadata": {
    "collapsed": true
   },
   "outputs": [],
   "source": [
    "def whetherpaid(x):\n",
    "    if x in ['Default', 'Charged Off', 'Does not meet the credit policy. Status:Charged Off']:\n",
    "        return 0\n",
    "    elif x in ['Does not meet the credit policy. Status:Fully Paid', 'Fully Paid']:\n",
    "        return 1\n",
    "    else:\n",
    "        return -1"
   ]
  },
  {
   "cell_type": "code",
   "execution_count": 10,
   "metadata": {
    "collapsed": true
   },
   "outputs": [],
   "source": [
    "paidflag = udf(lambda x: whetherpaid(x))"
   ]
  },
  {
   "cell_type": "code",
   "execution_count": 15,
   "metadata": {
    "collapsed": false
   },
   "outputs": [],
   "source": [
    "loan_df3 = loan_df2.withColumn('paid_flag',paidflag('loan_status')).where(\"paid_flag != -1\").drop('loan_status')"
   ]
  },
  {
   "cell_type": "markdown",
   "metadata": {},
   "source": [
    "### 3.3 Create features"
   ]
  },
  {
   "cell_type": "markdown",
   "metadata": {},
   "source": [
    "#### 3.3.1 Creating a category feature for \"Loan Purpose\""
   ]
  },
  {
   "cell_type": "markdown",
   "metadata": {},
   "source": [
    "There are 14 types of loan purpose. StringIndexer encodes a string column of labels to a column of label indices, and most frequent label gets index 0."
   ]
  },
  {
   "cell_type": "code",
   "execution_count": 62,
   "metadata": {
    "collapsed": false,
    "scrolled": false
   },
   "outputs": [],
   "source": [
    "indexer = StringIndexer(inputCol=\"purpose\", outputCol=\"purposeIndex\")\n",
    "loan_df4 = indexer.fit(loan_df3).transform(loan_df3).drop('purpose')"
   ]
  },
  {
   "cell_type": "markdown",
   "metadata": {
    "collapsed": true
   },
   "source": [
    "####  3.3.2 Create a numeric feature for \"emp_length\""
   ]
  },
  {
   "cell_type": "code",
   "execution_count": 68,
   "metadata": {
    "collapsed": false
   },
   "outputs": [],
   "source": [
    "import re\n",
    "def convert_to_int(s):\n",
    "    s = re.sub('\\\\D', '', s)\n",
    "    \n",
    "    try:\n",
    "        return s\n",
    "    except ValueError:\n",
    "        return 'NaN'\n",
    "\n",
    "emp_to_num = udf(convert_to_int)\n",
    "loan_df5 = loan_df4.select('loan_amnt','int_rate','annual_inc','purposeIndex', emp_to_num('emp_length').alias('emp_length'))\n",
    "\n",
    "loan_df6 = loan_df5.select(\n",
    "                            'loan_amnt',\n",
    "                            'int_rate',\n",
    "                            'annual_inc',\n",
    "                            'purposeIndex',\n",
    "                            loan_df5.emp_length.cast('integer')\n",
    "                           )"
   ]
  },
  {
   "cell_type": "code",
   "execution_count": 69,
   "metadata": {
    "collapsed": false
   },
   "outputs": [
    {
     "name": "stdout",
     "output_type": "stream",
     "text": [
      "+---------+--------+----------+------------+----------+\n",
      "|loan_amnt|int_rate|annual_inc|purposeIndex|emp_length|\n",
      "+---------+--------+----------+------------+----------+\n",
      "|     5000|      11|     24000|         1.0|        10|\n",
      "|     2500|      15|     30000|         6.0|         1|\n",
      "|     2400|      16|     12252|         5.0|        10|\n",
      "|    10000|      13|     49200|         3.0|        10|\n",
      "|     5000|       8|     36000|         9.0|         3|\n",
      "|     3000|      19|     48000|         6.0|         9|\n",
      "|     5600|      21|     40000|         5.0|         4|\n",
      "|     5375|      13|     15000|         3.0|         1|\n",
      "|     6500|      15|     72000|         0.0|         5|\n",
      "|    12000|      13|     75000|         0.0|        10|\n",
      "|     9000|      13|     30000|         0.0|         1|\n",
      "|     3000|      10|     15000|         1.0|         3|\n",
      "|    10000|      11|    100000|         3.0|         3|\n",
      "|     1000|      16|     28000|         0.0|         1|\n",
      "|    10000|      15|     42000|         2.0|         4|\n",
      "|     3600|       6|    110000|         4.0|        10|\n",
      "|     6000|      12|     84000|         7.0|         1|\n",
      "|     9200|       6|     77385|         0.0|         6|\n",
      "|    20250|      15|     43370|         0.0|         3|\n",
      "|    21000|      12|    105000|         0.0|        10|\n",
      "+---------+--------+----------+------------+----------+\n",
      "only showing top 20 rows\n",
      "\n"
     ]
    }
   ],
   "source": [
    "loan_df5.show()"
   ]
  },
  {
   "cell_type": "code",
   "execution_count": null,
   "metadata": {
    "collapsed": true
   },
   "outputs": [],
   "source": []
  },
  {
   "cell_type": "code",
   "execution_count": null,
   "metadata": {
    "collapsed": true
   },
   "outputs": [],
   "source": []
  },
  {
   "cell_type": "code",
   "execution_count": null,
   "metadata": {
    "collapsed": true
   },
   "outputs": [],
   "source": []
  },
  {
   "cell_type": "code",
   "execution_count": null,
   "metadata": {
    "collapsed": true
   },
   "outputs": [],
   "source": []
  },
  {
   "cell_type": "code",
   "execution_count": null,
   "metadata": {
    "collapsed": true
   },
   "outputs": [],
   "source": []
  },
  {
   "cell_type": "code",
   "execution_count": null,
   "metadata": {
    "collapsed": true
   },
   "outputs": [],
   "source": []
  },
  {
   "cell_type": "code",
   "execution_count": null,
   "metadata": {
    "collapsed": true
   },
   "outputs": [],
   "source": []
  },
  {
   "cell_type": "code",
   "execution_count": null,
   "metadata": {
    "collapsed": true
   },
   "outputs": [],
   "source": []
  },
  {
   "cell_type": "code",
   "execution_count": null,
   "metadata": {
    "collapsed": true
   },
   "outputs": [],
   "source": []
  }
 ],
 "metadata": {
  "anaconda-cloud": {},
  "kernelspec": {
   "display_name": "Python [conda root]",
   "language": "python",
   "name": "conda-root-py"
  },
  "language_info": {
   "codemirror_mode": {
    "name": "ipython",
    "version": 2
   },
   "file_extension": ".py",
   "mimetype": "text/x-python",
   "name": "python",
   "nbconvert_exporter": "python",
   "pygments_lexer": "ipython2",
   "version": "2.7.12"
  }
 },
 "nbformat": 4,
 "nbformat_minor": 1
}
