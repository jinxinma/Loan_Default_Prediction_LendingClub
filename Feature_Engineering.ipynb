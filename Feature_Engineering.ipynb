{
 "cells": [
  {
   "cell_type": "markdown",
   "metadata": {},
   "source": [
    "### Import Libraries"
   ]
  },
  {
   "cell_type": "code",
   "execution_count": 41,
   "metadata": {
    "collapsed": false
   },
   "outputs": [],
   "source": [
    "from pyspark.sql.types import *\n",
    "import pyspark.sql.functions as F\n",
    "from pyspark.ml.feature import StringIndexer\n",
    "from pyspark.sql.functions import *"
   ]
  },
  {
   "cell_type": "markdown",
   "metadata": {},
   "source": [
    "### Load Data and Convert to Data Frame"
   ]
  },
  {
   "cell_type": "code",
   "execution_count": 32,
   "metadata": {
    "collapsed": false
   },
   "outputs": [
    {
     "data": {
      "text/plain": [
       "[u',id,member_id,loan_amnt,funded_amnt,funded_amnt_inv,term,int_rate,installment,grade,sub_grade,emp_title,emp_length,home_ownership,annual_inc,verification_status,issue_d,pymnt_plan,url,desc,purpose,title,zip_code,addr_state,dti,delinq_2yrs,earliest_cr_line,inq_last_6mths,mths_since_last_delinq,mths_since_last_record,open_acc,pub_rec,revol_bal,revol_util,total_acc,initial_list_status,out_prncp,out_prncp_inv,total_pymnt,total_pymnt_inv,total_rec_prncp,total_rec_int,total_rec_late_fee,recoveries,collection_recovery_fee,last_pymnt_d,last_pymnt_amnt,next_pymnt_d,last_credit_pull_d,collections_12_mths_ex_med,mths_since_last_major_derog,policy_code,application_type,annual_inc_joint,dti_joint,verification_status_joint,acc_now_delinq,tot_coll_amt,tot_cur_bal,open_acc_6m,open_il_6m,open_il_12m,open_il_24m,mths_since_rcnt_il,total_bal_il,il_util,open_rv_12m,open_rv_24m,max_bal_bc,all_util,total_rev_hi_lim,inq_fi,total_cu_tl,inq_last_12m,status']"
      ]
     },
     "execution_count": 32,
     "metadata": {},
     "output_type": "execute_result"
    }
   ],
   "source": [
    "# All column names\n",
    "sc.textFile(\"loan_train.csv\").take(1)"
   ]
  },
  {
   "cell_type": "code",
   "execution_count": 33,
   "metadata": {
    "collapsed": false
   },
   "outputs": [],
   "source": [
    "# load data as dataframe\n",
    "loan_df = spark.read.csv(\"loan_train.csv\",header=True)"
   ]
  },
  {
   "cell_type": "markdown",
   "metadata": {},
   "source": [
    "Select useful columns to create smaller dataframe for future use"
   ]
  },
  {
   "cell_type": "code",
   "execution_count": 34,
   "metadata": {
    "collapsed": false
   },
   "outputs": [],
   "source": [
    "# column selected: loan_amount, int_rate, purpose columns, annual_inc\n",
    "loan_df1 = loan_df.select(loan_df.loan_amnt.cast(\"integer\").alias('loan_amount'),\n",
    "                          loan_df.int_rate.cast(\"integer\").alias('int_rate'),\n",
    "                          loan_df.annual_inc.cast(\"integer\").alias('annual_inc'),\n",
    "                          'emp_length',\n",
    "                          'purpose')"
   ]
  },
  {
   "cell_type": "code",
   "execution_count": 35,
   "metadata": {
    "collapsed": false
   },
   "outputs": [
    {
     "name": "stdout",
     "output_type": "stream",
     "text": [
      "root\n",
      " |-- loan_amount: integer (nullable = true)\n",
      " |-- int_rate: integer (nullable = true)\n",
      " |-- annual_inc: integer (nullable = true)\n",
      " |-- emp_length: string (nullable = true)\n",
      " |-- purpose: string (nullable = true)\n",
      "\n"
     ]
    }
   ],
   "source": [
    "loan_df1.printSchema()"
   ]
  },
  {
   "cell_type": "markdown",
   "metadata": {},
   "source": [
    "### Creating a category feature for \"Loan Purpose\""
   ]
  },
  {
   "cell_type": "markdown",
   "metadata": {},
   "source": [
    "There are 14 types of loan purpose. StringIndexer encodes a string column of labels to a column of label indices, and most frequent label gets index 0."
   ]
  },
  {
   "cell_type": "code",
   "execution_count": 36,
   "metadata": {
    "collapsed": false
   },
   "outputs": [
    {
     "name": "stdout",
     "output_type": "stream",
     "text": [
      "+-----------+--------+----------+----------+------------+\n",
      "|loan_amount|int_rate|annual_inc|emp_length|purposeIndex|\n",
      "+-----------+--------+----------+----------+------------+\n",
      "|      28000|       9|     75000| 10+ years|         0.0|\n",
      "|      17500|      24|     40000|   9 years|         0.0|\n",
      "|      14000|      12|     75644| 10+ years|         0.0|\n",
      "|      12800|      16|     58000|   6 years|         0.0|\n",
      "|       6000|       9|     42640|   4 years|         0.0|\n",
      "|       4675|      21|     29000|   7 years|         1.0|\n",
      "|       5000|      15|     27000|   3 years|         0.0|\n",
      "|      12000|      10|     53000|    1 year|         0.0|\n",
      "|       5000|      11|     42000|       n/a|         1.0|\n",
      "|      15000|       8|     50000| 10+ years|         0.0|\n",
      "|       3000|      18|     67000|   7 years|        11.0|\n",
      "|      25000|      22|    155000|   3 years|         0.0|\n",
      "|       7200|      10|     92000|   4 years|         0.0|\n",
      "|       8500|       7|     57600|   5 years|         0.0|\n",
      "|      10000|      13|     35000|   3 years|         0.0|\n",
      "|      15000|      12|     60000|   7 years|         0.0|\n",
      "|       8575|      14|     26000|   4 years|         0.0|\n",
      "|      15000|      14|     72000|   2 years|         0.0|\n",
      "|       6000|      14|     52000|    1 year|         1.0|\n",
      "|      13000|      16|     25000| 10+ years|         2.0|\n",
      "+-----------+--------+----------+----------+------------+\n",
      "only showing top 20 rows\n",
      "\n"
     ]
    }
   ],
   "source": [
    "indexer = StringIndexer(inputCol=\"purpose\", outputCol=\"purposeIndex\")\n",
    "loan_df2 = indexer.fit(loan_df1).transform(loan_df1).drop('purpose')\n",
    "loan_df2.show()"
   ]
  },
  {
   "cell_type": "markdown",
   "metadata": {
    "collapsed": true
   },
   "source": [
    "### Create a numeric feature for \"emp_length\""
   ]
  },
  {
   "cell_type": "code",
   "execution_count": 38,
   "metadata": {
    "collapsed": false
   },
   "outputs": [
    {
     "ename": "TypeError",
     "evalue": "'Column' object is not callable",
     "output_type": "error",
     "traceback": [
      "\u001b[0;31m---------------------------------------------------------------------------\u001b[0m",
      "\u001b[0;31mTypeError\u001b[0m                                 Traceback (most recent call last)",
      "\u001b[0;32m<ipython-input-38-c3e9abbca119>\u001b[0m in \u001b[0;36m<module>\u001b[0;34m()\u001b[0m\n\u001b[0;32m----> 1\u001b[0;31m \u001b[0mloan_df2\u001b[0m\u001b[0;34m[\u001b[0m\u001b[0;34m'emp_length'\u001b[0m\u001b[0;34m]\u001b[0m\u001b[0;34m.\u001b[0m\u001b[0mreplace\u001b[0m\u001b[0;34m(\u001b[0m\u001b[0mto_replace\u001b[0m\u001b[0;34m=\u001b[0m\u001b[0;34m'[^0-9]+'\u001b[0m\u001b[0;34m,\u001b[0m \u001b[0mvalue\u001b[0m\u001b[0;34m=\u001b[0m\u001b[0;34m''\u001b[0m\u001b[0;34m,\u001b[0m \u001b[0minplace\u001b[0m\u001b[0;34m=\u001b[0m\u001b[0mTrue\u001b[0m\u001b[0;34m,\u001b[0m \u001b[0mregex\u001b[0m\u001b[0;34m=\u001b[0m\u001b[0mTrue\u001b[0m\u001b[0;34m)\u001b[0m\u001b[0;34m\u001b[0m\u001b[0m\n\u001b[0m\u001b[1;32m      2\u001b[0m \u001b[0mloan_df2\u001b[0m\u001b[0;34m[\u001b[0m\u001b[0;34m'emp_length'\u001b[0m\u001b[0;34m]\u001b[0m \u001b[0;34m=\u001b[0m \u001b[0mloan_df2\u001b[0m\u001b[0;34m[\u001b[0m\u001b[0;34m'emp_length'\u001b[0m\u001b[0;34m]\u001b[0m\u001b[0;34m.\u001b[0m\u001b[0mastype\u001b[0m\u001b[0;34m(\u001b[0m\u001b[0mint\u001b[0m\u001b[0;34m)\u001b[0m\u001b[0;34m\u001b[0m\u001b[0m\n",
      "\u001b[0;31mTypeError\u001b[0m: 'Column' object is not callable"
     ]
    }
   ],
   "source": [
    "loan_df2['emp_length'].replace(to_replace='[^0-9]+', value='', inplace=True, regex=True)\n",
    "loan_df2['emp_length'] = loan_df2['emp_length'].astype(int)"
   ]
  },
  {
   "cell_type": "code",
   "execution_count": 49,
   "metadata": {
    "collapsed": false
   },
   "outputs": [],
   "source": [
    "emp_tonum = udf(lambda x: x + '222')"
   ]
  },
  {
   "cell_type": "code",
   "execution_count": 50,
   "metadata": {
    "collapsed": false
   },
   "outputs": [
    {
     "name": "stdout",
     "output_type": "stream",
     "text": [
      "+-----------+--------+----------+------------+--------------------+\n",
      "|loan_amount|int_rate|annual_inc|purposeIndex|<lambda>(emp_length)|\n",
      "+-----------+--------+----------+------------+--------------------+\n",
      "|      28000|       9|     75000|         0.0|        10+ years222|\n",
      "|      17500|      24|     40000|         0.0|          9 years222|\n",
      "|      14000|      12|     75644|         0.0|        10+ years222|\n",
      "|      12800|      16|     58000|         0.0|          6 years222|\n",
      "|       6000|       9|     42640|         0.0|          4 years222|\n",
      "|       4675|      21|     29000|         1.0|          7 years222|\n",
      "|       5000|      15|     27000|         0.0|          3 years222|\n",
      "|      12000|      10|     53000|         0.0|           1 year222|\n",
      "|       5000|      11|     42000|         1.0|              n/a222|\n",
      "|      15000|       8|     50000|         0.0|        10+ years222|\n",
      "|       3000|      18|     67000|        11.0|          7 years222|\n",
      "|      25000|      22|    155000|         0.0|          3 years222|\n",
      "|       7200|      10|     92000|         0.0|          4 years222|\n",
      "|       8500|       7|     57600|         0.0|          5 years222|\n",
      "|      10000|      13|     35000|         0.0|          3 years222|\n",
      "|      15000|      12|     60000|         0.0|          7 years222|\n",
      "|       8575|      14|     26000|         0.0|          4 years222|\n",
      "|      15000|      14|     72000|         0.0|          2 years222|\n",
      "|       6000|      14|     52000|         1.0|           1 year222|\n",
      "|      13000|      16|     25000|         2.0|        10+ years222|\n",
      "+-----------+--------+----------+------------+--------------------+\n",
      "only showing top 20 rows\n",
      "\n"
     ]
    }
   ],
   "source": [
    "loan_df3 = loan_df2.select('loan_amount','int_rate','annual_inc','purposeIndex', emp_tonum('emp_length'))\n",
    "loan_df3.show()"
   ]
  }
