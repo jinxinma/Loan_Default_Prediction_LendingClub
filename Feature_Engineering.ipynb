{
 "cells": [
  {
   "cell_type": "markdown",
   "metadata": {},
   "source": [
    "## 1. Import Libraries"
   ]
  },
  {
   "cell_type": "code",
   "execution_count": 352,
   "metadata": {
    "collapsed": false
   },
   "outputs": [],
   "source": [
    "from pyspark.sql.types import *\n",
    "import pyspark.sql.functions as F\n",
    "from pyspark.ml.feature import StringIndexer\n",
    "from pyspark.sql.functions import *\n",
    "from pyspark.sql.functions import col, count, sum\n"
   ]
  },
  {
   "cell_type": "markdown",
   "metadata": {},
   "source": [
    "## 2. Load Data and Convert to Spark Data Frame"
   ]
  },
  {
   "cell_type": "code",
   "execution_count": 353,
   "metadata": {
    "collapsed": false
   },
   "outputs": [
    {
     "data": {
      "text/plain": [
       "[u'id,member_id,loan_amnt,funded_amnt,funded_amnt_inv,term,int_rate,installment,grade,sub_grade,emp_title,emp_length,home_ownership,annual_inc,verification_status,issue_d,loan_status,pymnt_plan,url,desc,purpose,title,zip_code,addr_state,dti,delinq_2yrs,earliest_cr_line,inq_last_6mths,mths_since_last_delinq,mths_since_last_record,open_acc,pub_rec,revol_bal,revol_util,total_acc,initial_list_status,out_prncp,out_prncp_inv,total_pymnt,total_pymnt_inv,total_rec_prncp,total_rec_int,total_rec_late_fee,recoveries,collection_recovery_fee,last_pymnt_d,last_pymnt_amnt,next_pymnt_d,last_credit_pull_d,collections_12_mths_ex_med,mths_since_last_major_derog,policy_code,application_type,annual_inc_joint,dti_joint,verification_status_joint,acc_now_delinq,tot_coll_amt,tot_cur_bal,open_acc_6m,open_il_6m,open_il_12m,open_il_24m,mths_since_rcnt_il,total_bal_il,il_util,open_rv_12m,open_rv_24m,max_bal_bc,all_util,total_rev_hi_lim,inq_fi,total_cu_tl,inq_last_12m']"
      ]
     },
     "execution_count": 353,
     "metadata": {},
     "output_type": "execute_result"
    }
   ],
   "source": [
    "# All column names\n",
    "sc.textFile(\"loan.csv\").take(1)"
   ]
  },
  {
   "cell_type": "code",
   "execution_count": 354,
   "metadata": {
    "collapsed": false
   },
   "outputs": [
    {
     "data": {
      "text/plain": [
       "pyspark.sql.dataframe.DataFrame"
      ]
     },
     "execution_count": 354,
     "metadata": {},
     "output_type": "execute_result"
    }
   ],
   "source": [
    "# load data as dataframe\n",
    "loan_df = spark.read.csv(\"loan.csv\",header=True)\n",
    "loan_df.rdd.getNumPartitions()\n",
    "type(loan_df)"
   ]
  },
  {
   "cell_type": "markdown",
   "metadata": {},
   "source": [
    "Select useful columns to create smaller dataframe for future use"
   ]
  },
  {
   "cell_type": "markdown",
   "metadata": {},
   "source": [
    "## 3. Create response variable and features"
   ]
  },
  {
   "cell_type": "markdown",
   "metadata": {},
   "source": [
    "### 3.1 Remove some columns based on EDA results"
   ]
  },
  {
   "cell_type": "code",
   "execution_count": 355,
   "metadata": {
    "collapsed": false
   },
   "outputs": [],
   "source": [
    "loan_df1 = loan_df.drop('desc','mths_since_last_delinq','mths_since_last_record','next_pymnt_d',\n",
    "                        'mths_since_last_major_derog','annual_inc_joint','dti_joint','verification_status_joint',\n",
    "                        'open_acc_6m','open_il_6m','open_il_12m','open_il_24m','mths_since_rcnt_il','total_bal_il',\n",
    "                        'il_util','open_rv_12m','open_rv_24m','max_bal_bc','all_util','inq_fi','total_cu_tl',\n",
    "                        'inq_last_12m', # with a lot NA\n",
    "                        'id','member_id','collection_recovery_fee','last_pymnt_amnt','last_pymnt_d','out_prncp','out_prncp_inv',\n",
    "                        'pymnt_plan','recoveries','term','title','total_pymnt','total_pymnt_inv','total_rec_int',\n",
    "                        'total_rec_late_fee','total_rec_prncp','url','verification_status', 'initial_list_status', \n",
    "                        'last_credit_pull_d','policy_code','emp_title','last_credit_pull_d' # domain knowledge\n",
    "                       )"
   ]
  },
  {
   "cell_type": "code",
   "execution_count": 308,
   "metadata": {
    "collapsed": false
   },
   "outputs": [
    {
     "data": {
      "text/plain": [
       "Row(loan_amnt=u'5000.0', funded_amnt=u'5000.0', funded_amnt_inv=u'4975.0', int_rate=u'10.65', installment=u'162.87', grade=u'B', sub_grade=u'B2', emp_length=u'10+ years', home_ownership=u'RENT', annual_inc=u'24000.0', issue_d=u'Dec-2011', loan_status=u'Fully Paid', purpose=u'credit_card', zip_code=u'860xx', addr_state=u'AZ', dti=u'27.65', delinq_2yrs=u'0.0', earliest_cr_line=u'Jan-1985', inq_last_6mths=u'1.0', open_acc=u'3.0', pub_rec=u'0.0', revol_bal=u'13648.0', revol_util=u'83.7', total_acc=u'9.0', collections_12_mths_ex_med=u'0.0', application_type=u'INDIVIDUAL', acc_now_delinq=u'0.0', tot_coll_amt=None, tot_cur_bal=None, total_rev_hi_lim=None)"
      ]
     },
     "execution_count": 308,
     "metadata": {},
     "output_type": "execute_result"
    }
   ],
   "source": [
    "loan_df1.head()"
   ]
  },
  {
   "cell_type": "code",
   "execution_count": 309,
   "metadata": {
    "collapsed": false
   },
   "outputs": [
    {
     "data": {
      "text/plain": [
       "30"
      ]
     },
     "execution_count": 309,
     "metadata": {},
     "output_type": "execute_result"
    }
   ],
   "source": [
    "len(loan_df1.columns)"
   ]
  },
  {
   "cell_type": "code",
   "execution_count": 326,
   "metadata": {
    "collapsed": true
   },
   "outputs": [],
   "source": [
    "# Convert left columns into right format\n",
    "loan_df2 = loan_df.select(\n",
    "    loan_df.loan_amnt.cast(\"integer\"),\n",
    "    loan_df.funded_amnt.cast(\"integer\"),\n",
    "    loan_df.funded_amnt_inv.cast(\"integer\"),\n",
    "    loan_df.int_rate.cast(\"integer\"),\n",
    "    loan_df.installment.cast(\"integer\"),\n",
    "    'grade',\n",
    "    #'sub_grade',\n",
    "    #'emp_title',\n",
    "    'emp_length',\n",
    "    'home_ownership',\n",
    "    loan_df.annual_inc.cast(\"integer\"),\n",
    "    # 'issue_d',\n",
    "    'loan_status', # response variable\n",
    "    'purpose',\n",
    "    # 'zip_code',\n",
    "    # 'addr_state',\n",
    "    loan_df.dti.cast(\"integer\"),\n",
    "    loan_df.delinq_2yrs.cast(\"integer\"),  # Above done-Maxine\n",
    "    # 'earliest_cr_line',\n",
    "    loan_df.inq_last_6mths.cast(\"integer\"),\n",
    "    loan_df.open_acc.cast(\"integer\"),\n",
    "    loan_df.pub_rec.cast(\"integer\"),\n",
    "    loan_df.revol_bal.cast(\"integer\"),\n",
    "    loan_df.revol_util.cast(\"integer\"),\n",
    "    loan_df.total_acc.cast(\"integer\"),\n",
    "    #loan_df.last_credit_pull_d.cast(\"integer\"),\n",
    "    'application_type',\n",
    "    loan_df.acc_now_delinq.cast(\"integer\"),\n",
    "    loan_df.tot_coll_amt.cast(\"integer\"),\n",
    "    loan_df.tot_cur_bal.cast(\"integer\"),\n",
    "    loan_df.total_rev_hi_lim.cast(\"integer\")\n",
    ")\n"
   ]
  },
  {
   "cell_type": "markdown",
   "metadata": {},
   "source": [
    "### 3.2 Create response variable and remove rows with no valid response variable"
   ]
  },
  {
   "cell_type": "code",
   "execution_count": 327,
   "metadata": {
    "collapsed": true
   },
   "outputs": [],
   "source": [
    "def whetherpaid(x):\n",
    "    if x in ['Default', 'Charged Off', 'Does not meet the credit policy. Status:Charged Off']:\n",
    "        return 0\n",
    "    elif x in ['Does not meet the credit policy. Status:Fully Paid', 'Fully Paid']:\n",
    "        return 1\n",
    "    else:\n",
    "        return -1"
   ]
  },
  {
   "cell_type": "code",
   "execution_count": 328,
   "metadata": {
    "collapsed": true
   },
   "outputs": [],
   "source": [
    "paidflag = udf(lambda x: whetherpaid(x))"
   ]
  },
  {
   "cell_type": "code",
   "execution_count": 329,
   "metadata": {
    "collapsed": false
   },
   "outputs": [],
   "source": [
    "loan_df3 = loan_df2.withColumn('paid_flag',paidflag('loan_status')).where(\"paid_flag != -1\").drop('loan_status')"
   ]
  },
  {
   "cell_type": "markdown",
   "metadata": {},
   "source": [
    "### 3.3 Create features"
   ]
  },
  {
   "cell_type": "markdown",
   "metadata": {},
   "source": [
    "#### 3.3.1 Creating a category feature for \"Loan Purpose\""
   ]
  },
  {
   "cell_type": "markdown",
   "metadata": {},
   "source": [
    "There are 14 types of loan purpose. StringIndexer encodes a string column of labels to a column of label indices, and most frequent label gets index 0."
   ]
  },
  {
   "cell_type": "code",
   "execution_count": 330,
   "metadata": {
    "collapsed": false,
    "scrolled": false
   },
   "outputs": [],
   "source": [
    "indexer = StringIndexer(inputCol=\"purpose\", outputCol=\"purposeIndex\")\n",
    "loan_df4 = indexer.fit(loan_df3).transform(loan_df3).drop('purpose')"
   ]
  },
  {
   "cell_type": "markdown",
   "metadata": {
    "collapsed": true
   },
   "source": [
    "####  3.3.2 Create a numeric feature for \"emp_length\""
   ]
  },
  {
   "cell_type": "code",
   "execution_count": 331,
   "metadata": {
    "collapsed": false
   },
   "outputs": [],
   "source": [
    "import re\n",
    "def convert_to_int(s):\n",
    "    s = re.sub('\\\\D', '', s)\n",
    "    \n",
    "    try:\n",
    "        return s\n",
    "    except ValueError:\n",
    "        return 'NaN'\n",
    "\n",
    "emp_to_num = udf(convert_to_int)\n",
    "loan_df5 = loan_df4.withColumn('emp_len',emp_to_num('emp_length')).drop('emp_length')"
   ]
  },
  {
   "cell_type": "code",
   "execution_count": 332,
   "metadata": {
    "collapsed": false
   },
   "outputs": [
    {
     "data": {
      "text/plain": [
       "[Row(loan_amnt=5000, funded_amnt=5000, funded_amnt_inv=4975, int_rate=11, installment=163, grade=u'B', home_ownership=u'RENT', annual_inc=24000, dti=28, delinq_2yrs=0, inq_last_6mths=1, open_acc=3, pub_rec=0, revol_bal=13648, revol_util=84, total_acc=9, application_type=u'INDIVIDUAL', acc_now_delinq=0, tot_coll_amt=None, tot_cur_bal=None, total_rev_hi_lim=None, paid_flag=u'1', purposeIndex=1.0, emp_len=u'10')]"
      ]
     },
     "execution_count": 332,
     "metadata": {},
     "output_type": "execute_result"
    }
   ],
   "source": [
    "loan_df5.take(1)"
   ]
  },
  {
   "cell_type": "markdown",
   "metadata": {},
   "source": [
    "#### 3.3.3 Create numeric variable for grade"
   ]
  },
  {
   "cell_type": "code",
   "execution_count": 333,
   "metadata": {
    "collapsed": false
   },
   "outputs": [
    {
     "name": "stdout",
     "output_type": "stream",
     "text": [
      "+---------+-----------+---------------+--------+-----------+-----+--------------+----------+---+\n",
      "|loan_amnt|funded_amnt|funded_amnt_inv|int_rate|installment|grade|home_ownership|annual_inc|dti|\n",
      "+---------+-----------+---------------+--------+-----------+-----+--------------+----------+---+\n",
      "|        0|          0|              0|       0|          0|    0|             0|         4|252|\n",
      "+---------+-----------+---------------+--------+-----------+-----+--------------+----------+---+\n",
      "\n"
     ]
    }
   ],
   "source": [
    "# count how many nulls in each column\n",
    "def count_null(c):\n",
    "    return sum(col(c).isNull().cast(\"integer\")).alias(c)\n",
    "\n",
    "exprs = [count_null(c) for c in loan_df5.columns[0:9]]\n",
    "loan_df5.agg(*exprs).show()"
   ]
  },
  {
   "cell_type": "code",
   "execution_count": 334,
   "metadata": {
    "collapsed": false
   },
   "outputs": [
    {
     "name": "stdout",
     "output_type": "stream",
     "text": [
      "+-----+-----+\n",
      "|grade|count|\n",
      "+-----+-----+\n",
      "|    F| 7986|\n",
      "|    E|19923|\n",
      "|    B|76617|\n",
      "|    D|41509|\n",
      "|    C|66309|\n",
      "|    A|42441|\n",
      "|    G| 2154|\n",
      "+-----+-----+\n",
      "\n"
     ]
    }
   ],
   "source": [
    "loan_df5.groupBy('grade').count().show()"
   ]
  },
  {
   "cell_type": "code",
   "execution_count": 335,
   "metadata": {
    "collapsed": false
   },
   "outputs": [],
   "source": [
    "indexer = StringIndexer(inputCol=\"grade\", outputCol=\"gradeIndex\")\n",
    "loan_df6 = indexer.fit(loan_df5).transform(loan_df5).drop('grade')"
   ]
  },
  {
   "cell_type": "markdown",
   "metadata": {},
   "source": [
    "#### 3.3.4 Create numeric variable for home_ownership"
   ]
  },
  {
   "cell_type": "code",
   "execution_count": 336,
   "metadata": {
    "collapsed": false
   },
   "outputs": [
    {
     "name": "stdout",
     "output_type": "stream",
     "text": [
      "+--------------+------+\n",
      "|home_ownership| count|\n",
      "+--------------+------+\n",
      "|           OWN| 22282|\n",
      "|          RENT|107831|\n",
      "|      MORTGAGE|126598|\n",
      "|           ANY|     1|\n",
      "|         OTHER|   179|\n",
      "|          NONE|    48|\n",
      "+--------------+------+\n",
      "\n"
     ]
    }
   ],
   "source": [
    "loan_df6.groupBy('home_ownership').count().show()"
   ]
  },
  {
   "cell_type": "code",
   "execution_count": 337,
   "metadata": {
    "collapsed": false
   },
   "outputs": [],
   "source": [
    "def home_ownership_func(x):\n",
    "    if x in ['ANY','OTHER','NONE']:\n",
    "        return 'Other'\n",
    "    else: \n",
    "        return x\n",
    "\n",
    "home_ownership = udf(home_ownership_func)\n",
    "loan_df7 = loan_df6.withColumn('homeownership',emp_to_num('home_ownership')).drop('home_ownership')"
   ]
  },
  {
   "cell_type": "code",
   "execution_count": 338,
   "metadata": {
    "collapsed": true
   },
   "outputs": [],
   "source": [
    "indexer = StringIndexer(inputCol=\"homeownership\", outputCol=\"homeownershipIndex\")\n",
    "loan_df8 = indexer.fit(loan_df7).transform(loan_df7).drop('homeownership')"
   ]
  },
  {
   "cell_type": "code",
   "execution_count": 339,
   "metadata": {
    "collapsed": false
   },
   "outputs": [
    {
     "data": {
      "text/plain": [
       "[Row(loan_amnt=5000, funded_amnt=5000, funded_amnt_inv=4975, int_rate=11, installment=163, annual_inc=24000, dti=28, delinq_2yrs=0, inq_last_6mths=1, open_acc=3, pub_rec=0, revol_bal=13648, revol_util=84, total_acc=9, application_type=u'INDIVIDUAL', acc_now_delinq=0, tot_coll_amt=None, tot_cur_bal=None, total_rev_hi_lim=None, paid_flag=u'1', purposeIndex=1.0, emp_len=u'10', gradeIndex=0.0, homeownershipIndex=0.0)]"
      ]
     },
     "execution_count": 339,
     "metadata": {},
     "output_type": "execute_result"
    }
   ],
   "source": [
    "len(loan_df8.columns)\n",
    "loan_df8.take(1)"
   ]
  },
  {
   "cell_type": "markdown",
   "metadata": {},
   "source": [
    "#### Replace missing values of annual income and dti with mean value"
   ]
  },
  {
   "cell_type": "code",
   "execution_count": 340,
   "metadata": {
    "collapsed": false
   },
   "outputs": [],
   "source": [
    "loan_df9 = loan_df8.fillna(0.0, ['annual_inc','dti']).where('delinq_2yrs is not null')"
   ]
  },
  {
   "cell_type": "code",
   "execution_count": 361,
   "metadata": {
    "collapsed": false
   },
   "outputs": [
    {
     "name": "stdout",
     "output_type": "stream",
     "text": [
      "+---------+-----------+---------------+--------+-----------+----------+---+-----------+\n",
      "|loan_amnt|funded_amnt|funded_amnt_inv|int_rate|installment|annual_inc|dti|delinq_2yrs|\n",
      "+---------+-----------+---------------+--------+-----------+----------+---+-----------+\n",
      "|        0|          0|              0|       0|          0|         0|  0|          0|\n",
      "+---------+-----------+---------------+--------+-----------+----------+---+-----------+\n",
      "\n"
     ]
    }
   ],
   "source": [
    "exprs = [count_null(c) for c in loan_df9.columns[0:8]]\n",
    "loan_df9.agg(*exprs).show()"
   ]
  },
  {
   "cell_type": "markdown",
   "metadata": {},
   "source": [
    "#### Add loan_inc_ratio feature"
   ]
  },
  {
   "cell_type": "code",
   "execution_count": 344,
   "metadata": {
    "collapsed": true
   },
   "outputs": [],
   "source": [
    "def calculate_ratio(a, b):\n",
    "    try:\n",
    "        return a/float(b)\n",
    "    except TypeError:\n",
    "        return 'NaN'\n",
    "    except ZeroDivisionError:\n",
    "        return 'NaN'\n",
    "\n",
    "ratio = udf(calculate_ratio)"
   ]
  },
  {
   "cell_type": "code",
   "execution_count": 346,
   "metadata": {
    "collapsed": false
   },
   "outputs": [],
   "source": [
    "loan_df10 = loan_df9.withColumn('loan_inc_ratio',ratio('loan_amnt','annual_inc').cast('float'))"
   ]
  },
  {
   "cell_type": "markdown",
   "metadata": {},
   "source": [
    "#### Add feature instal_inc_ratio"
   ]
  },
  {
   "cell_type": "code",
   "execution_count": 356,
   "metadata": {
    "collapsed": true
   },
   "outputs": [],
   "source": [
    "def calculate_monthly_ratio(a, b):\n",
    "    try:\n",
    "        return a/(float(b)/12)\n",
    "    except TypeError:\n",
    "        return 'NaN'\n",
    "    except ZeroDivisionError:\n",
    "        return 'NaN'\n",
    "    \n",
    "monthly_ratio = udf(calculate_monthly_ratio)"
   ]
  },
  {
   "cell_type": "code",
   "execution_count": 357,
   "metadata": {
    "collapsed": true
   },
   "outputs": [],
   "source": [
    "loan_df11 = loan_df10.withColumn('instal_inc_ratio',ratio('installment','annual_inc').cast('float'))"
   ]
  },
  {
   "cell_type": "code",
   "execution_count": 358,
   "metadata": {
    "collapsed": false
   },
   "outputs": [
    {
     "name": "stdout",
     "output_type": "stream",
     "text": [
      "root\n",
      " |-- loan_amnt: integer (nullable = true)\n",
      " |-- funded_amnt: integer (nullable = true)\n",
      " |-- funded_amnt_inv: integer (nullable = true)\n",
      " |-- int_rate: integer (nullable = true)\n",
      " |-- installment: integer (nullable = true)\n",
      " |-- annual_inc: integer (nullable = true)\n",
      " |-- dti: integer (nullable = true)\n",
      " |-- delinq_2yrs: integer (nullable = true)\n",
      " |-- inq_last_6mths: integer (nullable = true)\n",
      " |-- open_acc: integer (nullable = true)\n",
      " |-- pub_rec: integer (nullable = true)\n",
      " |-- revol_bal: integer (nullable = true)\n",
      " |-- revol_util: integer (nullable = true)\n",
      " |-- total_acc: integer (nullable = true)\n",
      " |-- application_type: string (nullable = true)\n",
      " |-- acc_now_delinq: integer (nullable = true)\n",
      " |-- tot_coll_amt: integer (nullable = true)\n",
      " |-- tot_cur_bal: integer (nullable = true)\n",
      " |-- total_rev_hi_lim: integer (nullable = true)\n",
      " |-- paid_flag: string (nullable = true)\n",
      " |-- purposeIndex: double (nullable = true)\n",
      " |-- emp_len: string (nullable = true)\n",
      " |-- gradeIndex: double (nullable = true)\n",
      " |-- homeownershipIndex: double (nullable = true)\n",
      " |-- loan_inc_ratio: float (nullable = true)\n",
      " |-- instal_inc_ratio: float (nullable = true)\n",
      "\n"
     ]
    }
   ],
   "source": [
    "loan_df11.printSchema()"
   ]
  },
  {
   "cell_type": "markdown",
   "metadata": {},
   "source": [
    "### 4. Modeling\n",
    "\n",
    "Currently this part was written using python, will re-write using MLlib later"
   ]
  },
  {
   "cell_type": "code",
   "execution_count": 362,
   "metadata": {
    "collapsed": true
   },
   "outputs": [],
   "source": [
    "loan_df_final = loan_df11.select('loan_amnt','funded_amnt','funded_amnt_inv',\n",
    "                                 'int_rate','annual_inc','dti','delinq_2yrs',\n",
    "                                'loan_inc_ratio','instal_inc_ratio','paid_flag')"
   ]
  },
  {
   "cell_type": "code",
   "execution_count": null,
   "metadata": {
    "collapsed": true
   },
   "outputs": [],
   "source": []
  },
  {
   "cell_type": "code",
   "execution_count": null,
   "metadata": {
    "collapsed": true
   },
   "outputs": [],
   "source": []
  },
  {
   "cell_type": "code",
   "execution_count": null,
   "metadata": {
    "collapsed": true
   },
   "outputs": [],
   "source": []
  },
  {
   "cell_type": "code",
   "execution_count": null,
   "metadata": {
    "collapsed": true
   },
   "outputs": [],
   "source": []
  }
 ],
 "metadata": {
  "anaconda-cloud": {},
  "kernelspec": {
   "display_name": "Python [conda root]",
   "language": "python",
   "name": "conda-root-py"
  },
  "language_info": {
   "codemirror_mode": {
    "name": "ipython",
    "version": 2
   },
   "file_extension": ".py",
   "mimetype": "text/x-python",
   "name": "python",
   "nbconvert_exporter": "python",
   "pygments_lexer": "ipython2",
   "version": "2.7.12"
  }
 },
 "nbformat": 4,
 "nbformat_minor": 1
}
