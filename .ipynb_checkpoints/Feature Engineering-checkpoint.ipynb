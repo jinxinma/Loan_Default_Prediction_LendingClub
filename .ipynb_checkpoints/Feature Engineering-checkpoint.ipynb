{
 "cells": [
  {
   "cell_type": "markdown",
   "metadata": {},
   "source": [
    "### Import Libraries"
   ]
  },
  {
   "cell_type": "code",
   "execution_count": 2,
   "metadata": {
    "collapsed": true
   },
   "outputs": [],
   "source": [
    "from pyspark.sql.types import *\n",
    "import pyspark.sql.functions as F"
   ]
  },
  {
   "cell_type": "markdown",
   "metadata": {},
   "source": [
    "### Load Data and Convert to Data Frame"
   ]
  },
  {
   "cell_type": "code",
   "execution_count": 3,
   "metadata": {
    "collapsed": false
   },
   "outputs": [],
   "source": [
    "# All column names"
   ]
  },
  {
   "cell_type": "code",
   "execution_count": 4,
   "metadata": {
    "collapsed": false
   },
   "outputs": [],
   "source": [
    "# load data as dataframe\n",
    "loan_df = spark.read.csv(\"/Users/jma/Dropbox/MSAN/module3/msan694/loan_train.csv\",header=True)"
   ]
  },
  {
   "cell_type": "code",
   "execution_count": 5,
   "metadata": {
    "collapsed": false
   },
   "outputs": [],
   "source": [
    "# select useful columns to create smaller dataframe\n",
    "# column selected: loan_amount, int_rate, purpose columns\n",
    "loan_df1 = loan_df.select(loan_df.loan_amnt.cast(\"integer\").alias('loan_amount'),\n",
    "                          loan_df.int_rate.cast(\"integer\").alias('int_rate'),\n",
    "                          'purpose')"
   ]
  },
  {
   "cell_type": "code",
   "execution_count": 6,
   "metadata": {
    "collapsed": false
   },
   "outputs": [
    {
     "name": "stdout",
     "output_type": "stream",
     "text": [
      "root\n",
      " |-- loan_amount: integer (nullable = true)\n",
      " |-- int_rate: integer (nullable = true)\n",
      " |-- purpose: string (nullable = true)\n",
      "\n"
     ]
    }
   ],
   "source": [
    "loan_df1.printSchema()"
   ]
  },
  {
   "cell_type": "markdown",
   "metadata": {},
   "source": [
    "### Creating a category feature for \"Loan Purpose\""
   ]
  },
  {
   "cell_type": "code",
   "execution_count": 7,
   "metadata": {
    "collapsed": false
   },
   "outputs": [
    {
     "name": "stdout",
     "output_type": "stream",
     "text": [
      "CPU times: user 1.3 s, sys: 188 ms, total: 1.49 s\n",
      "Wall time: 3.86 s\n"
     ]
    }
   ],
   "source": [
    "#Converting the PySpark Dataframe to a Pandas Dataframe (for plotting)\n",
    "%time loan_df2 = loan_df1.toPandas()"
   ]
  },
  {
   "cell_type": "code",
   "execution_count": 8,
   "metadata": {
    "collapsed": false
   },
   "outputs": [],
   "source": [
    "def purpose_cat(value):\n",
    "    if value == 'debt_consolidation':\n",
    "        value = 1\n",
    "    if value == 'credit_card':\n",
    "        value = 2\n",
    "    if value == 'home_improvement':\n",
    "        value = 3\n",
    "    if value == 'other':\n",
    "        value = 4  \n",
    "    if value == 'major_purchase':\n",
    "        value = 5 \n",
    "    if value == 'small_business':\n",
    "        value = 6 \n",
    "    if value == 'car':\n",
    "        value = 7 \n",
    "    if value == 'medical':\n",
    "        value = 8 \n",
    "    if value == 'moving':\n",
    "        value = 9 \n",
    "    if value == 'vacation':\n",
    "        value = 10 \n",
    "    if value == 'house':\n",
    "        value = 11 \n",
    "    if value == 'wedding':\n",
    "        value = 12 \n",
    "    if value == 'renewable_energy':\n",
    "        value = 13     \n",
    "    if value == 'educational':\n",
    "        value = 14\n",
    "loan_df2['Purpose_cat'] = loan_df2['purpose'].apply(purpose_cat)"
   ]
  }
 ],
 "metadata": {
  "anaconda-cloud": {},
  "kernelspec": {
   "display_name": "Python [conda root]",
   "language": "python",
   "name": "conda-root-py"
  },
  "language_info": {
   "codemirror_mode": {
    "name": "ipython",
    "version": 2
   },
   "file_extension": ".py",
   "mimetype": "text/x-python",
   "name": "python",
   "nbconvert_exporter": "python",
   "pygments_lexer": "ipython2",
   "version": "2.7.12"
  }
 },
 "nbformat": 4,
 "nbformat_minor": 1
}
