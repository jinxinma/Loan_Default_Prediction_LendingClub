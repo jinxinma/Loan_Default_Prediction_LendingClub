{
 "cells": [
  {
   "cell_type": "markdown",
   "metadata": {},
   "source": [
    "### Import Libraries"
   ]
  },
  {
   "cell_type": "code",
   "execution_count": 71,
   "metadata": {
    "collapsed": true
   },
   "outputs": [],
   "source": [
    "from pyspark.sql.types import *\n",
    "import pyspark.sql.functions as F"
   ]
  },
  {
   "cell_type": "markdown",
   "metadata": {},
   "source": [
    "### Load Data and Convert to Data Frame"
   ]
  },
  {
   "cell_type": "code",
   "execution_count": 91,
   "metadata": {
    "collapsed": false
   },
   "outputs": [
    {
     "data": {
      "text/plain": [
       "[[u',id,member_id,loan_amnt,funded_amnt,funded_amnt_inv,term,int_rate,installment,grade,sub_grade,emp_title,emp_length,home_ownership,annual_inc,verification_status,issue_d,pymnt_plan,url,desc,purpose,title,zip_code,addr_state,dti,delinq_2yrs,earliest_cr_line,inq_last_6mths,mths_since_last_delinq,mths_since_last_record,open_acc,pub_rec,revol_bal,revol_util,total_acc,initial_list_status,out_prncp,out_prncp_inv,total_pymnt,total_pymnt_inv,total_rec_prncp,total_rec_int,total_rec_late_fee,recoveries,collection_recovery_fee,last_pymnt_d,last_pymnt_amnt,next_pymnt_d,last_credit_pull_d,collections_12_mths_ex_med,mths_since_last_major_derog,policy_code,application_type,annual_inc_joint,dti_joint,verification_status_joint,acc_now_delinq,tot_coll_amt,tot_cur_bal,open_acc_6m,open_il_6m,open_il_12m,open_il_24m,mths_since_rcnt_il,total_bal_il,il_util,open_rv_12m,open_rv_24m,max_bal_bc,all_util,total_rev_hi_lim,inq_fi,total_cu_tl,inq_last_12m,status']]"
      ]
     },
     "execution_count": 91,
     "metadata": {},
     "output_type": "execute_result"
    }
   ],
   "source": [
    "# All column names"
   ]
  },
  {
   "cell_type": "code",
   "execution_count": 92,
   "metadata": {
    "collapsed": false
   },
   "outputs": [],
   "source": [
    "# load data as dataframe\n",
    "loan_df = spark.read.csv(\"loan_train.csv\",header=True)"
   ]
  },
  {
   "cell_type": "code",
   "execution_count": 100,
   "metadata": {
    "collapsed": false
   },
   "outputs": [],
   "source": [
    "# select useful columns to create smaller dataframe\n",
    "# column selected: loan_amount, int_rate, purpose columns\n",
    "loan_df1 = loan_df.select(loan_df.loan_amnt.cast(\"integer\").alias('loan_amount'),\n",
    "                          loan_df.int_rate.cast(\"integer\").alias('int_rate'),\n",
    "                          'purpose')"
   ]
  },
  {
   "cell_type": "code",
   "execution_count": 101,
   "metadata": {
    "collapsed": false
   },
   "outputs": [
    {
     "name": "stdout",
     "output_type": "stream",
     "text": [
      "root\n",
      " |-- loan_amount: integer (nullable = true)\n",
      " |-- int_rate: integer (nullable = true)\n",
      " |-- purpose: string (nullable = true)\n",
      "\n"
     ]
    }
   ],
   "source": [
    "loan_df1.printSchema()"
   ]
  },
  {
   "cell_type": "markdown",
   "metadata": {},
   "source": [
    "### Creating a category feature for \"Loan Purpose\""
   ]
  },
  {
   "cell_type": "code",
   "execution_count": 104,
   "metadata": {
    "collapsed": false
   },
   "outputs": [
    {
     "name": "stdout",
     "output_type": "stream",
     "text": [
      "CPU times: user 1.41 s, sys: 225 ms, total: 1.64 s\n",
      "Wall time: 2.25 s\n"
     ]
    }
   ],
   "source": [
    "#Converting the PySpark Dataframe to a Pandas Dataframe (for plotting)\n",
    "%time loan_df2 = loan_df1.toPandas()"
   ]
  },
  {
   "cell_type": "code",
   "execution_count": 115,
   "metadata": {
    "collapsed": false
   },
   "outputs": [],
   "source": [
    "def purpose_cat(value):\n",
    "    if value == 'debt_consolidation':\n",
    "        value = 1\n",
    "    if value == 'credit_card':\n",
    "        value = 2\n",
    "    if value == 'home_improvement':\n",
    "        value = 3\n",
    "    if value == 'other':\n",
    "        value = 4  \n",
    "    if value == 'major_purchase':\n",
    "        value = 5 \n",
    "    if value == 'small_business':\n",
    "        value = 6 \n",
    "    if value == 'car':\n",
    "        value = 7 \n",
    "    if value == 'medical':\n",
    "        value = 8 \n",
    "    if value == 'moving':\n",
    "        value = 9 \n",
    "    if value == 'vacation':\n",
    "        value = 10 \n",
    "    if value == 'house':\n",
    "        value = 11 \n",
    "    if value == 'wedding':\n",
    "        value = 12 \n",
    "    if value == 'renewable_energy':\n",
    "        value = 13     \n",
    "    if value == 'educational':\n",
    "        value = 14\n",
    "loan_df2['Purpose_cat'] = loan_df2['purpose'].apply(purpose_cat)"
   ]
  },
  {
   "cell_type": "code",
   "execution_count": 118,
   "metadata": {
    "collapsed": false
   },
   "outputs": [],
   "source": []
  },
  {
   "cell_type": "code",
   "execution_count": null,
   "metadata": {
    "collapsed": true
   },
   "outputs": [],
   "source": []
  }
 ],
 "metadata": {
  "anaconda-cloud": {},
  "kernelspec": {
   "display_name": "Python [conda root]",
   "language": "python",
   "name": "conda-root-py"
  },
  "language_info": {
   "codemirror_mode": {
    "name": "ipython",
    "version": 2
   },
   "file_extension": ".py",
   "mimetype": "text/x-python",
   "name": "python",
   "nbconvert_exporter": "python",
   "pygments_lexer": "ipython2",
   "version": "2.7.12"
  }
 },
 "nbformat": 4,
 "nbformat_minor": 1
}
