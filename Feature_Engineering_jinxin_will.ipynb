{
 "cells": [
  {
   "cell_type": "markdown",
   "metadata": {},
   "source": [
    "## 1. Import Libraries"
   ]
  },
  {
   "cell_type": "code",
   "execution_count": 1,
   "metadata": {
    "collapsed": false
   },
   "outputs": [],
   "source": [
    "from pyspark.sql.types import *\n",
    "import pyspark.sql.functions as F\n",
    "from pyspark.ml.feature import StringIndexer\n",
    "from pyspark.sql.functions import *"
   ]
  },
  {
   "cell_type": "markdown",
   "metadata": {},
   "source": [
    "## 2. Load Data and Convert to Spark Data Frame"
   ]
  },
  {
   "cell_type": "code",
   "execution_count": 3,
   "metadata": {
    "collapsed": false
   },
   "outputs": [
    {
     "data": {
      "text/plain": [
       "[u'id,member_id,loan_amnt,funded_amnt,funded_amnt_inv,term,int_rate,installment,grade,sub_grade,emp_title,emp_length,home_ownership,annual_inc,verification_status,issue_d,loan_status,pymnt_plan,url,desc,purpose,title,zip_code,addr_state,dti,delinq_2yrs,earliest_cr_line,inq_last_6mths,mths_since_last_delinq,mths_since_last_record,open_acc,pub_rec,revol_bal,revol_util,total_acc,initial_list_status,out_prncp,out_prncp_inv,total_pymnt,total_pymnt_inv,total_rec_prncp,total_rec_int,total_rec_late_fee,recoveries,collection_recovery_fee,last_pymnt_d,last_pymnt_amnt,next_pymnt_d,last_credit_pull_d,collections_12_mths_ex_med,mths_since_last_major_derog,policy_code,application_type,annual_inc_joint,dti_joint,verification_status_joint,acc_now_delinq,tot_coll_amt,tot_cur_bal,open_acc_6m,open_il_6m,open_il_12m,open_il_24m,mths_since_rcnt_il,total_bal_il,il_util,open_rv_12m,open_rv_24m,max_bal_bc,all_util,total_rev_hi_lim,inq_fi,total_cu_tl,inq_last_12m']"
      ]
     },
     "execution_count": 3,
     "metadata": {},
     "output_type": "execute_result"
    }
   ],
   "source": [
    "# All column names\n",
    "sc.textFile(\"loan.csv\").take(1)"
   ]
  },
  {
   "cell_type": "code",
   "execution_count": 4,
   "metadata": {
    "collapsed": false
   },
   "outputs": [
    {
     "data": {
      "text/plain": [
       "pyspark.sql.dataframe.DataFrame"
      ]
     },
     "execution_count": 4,
     "metadata": {},
     "output_type": "execute_result"
    }
   ],
   "source": [
    "# load data as dataframe\n",
    "loan_df = spark.read.csv(\"loan.csv\",header=True)\n",
    "loan_df.rdd.getNumPartitions()\n",
    "type(loan_df)"
   ]
  },
  {
   "cell_type": "markdown",
   "metadata": {},
   "source": [
    "Select useful columns to create smaller dataframe for future use"
   ]
  },
  {
   "cell_type": "markdown",
   "metadata": {},
   "source": [
    "## 3. Create response variable and features"
   ]
  },
  {
   "cell_type": "markdown",
   "metadata": {},
   "source": [
    "### 3.1 Remove some columns based on EDA results"
   ]
  },
  {
   "cell_type": "code",
   "execution_count": 5,
   "metadata": {
    "collapsed": false
   },
   "outputs": [],
   "source": [
    "loan_df1 = loan_df.drop('desc','mths_since_last_delinq','mths_since_last_record','next_pymnt_d',\n",
    "                        'mths_since_last_major_derog','annual_inc_joint','dti_joint','verification_status_joint',\n",
    "                        'open_acc_6m','open_il_6m','open_il_12m','open_il_24m','mths_since_rcnt_il','total_bal_il',\n",
    "                        'il_util','open_rv_12m','open_rv_24m','max_bal_bc','all_util','inq_fi','total_cu_tl',\n",
    "                        'inq_last_12m', # with a lot NA\n",
    "                        'id','member_id','collection_recovery_fee','last_pymnt_amnt','last_pymnt_d','out_prncp','out_prncp_inv',\n",
    "                        'pymnt_plan','recoveries','term','title','total_pymnt','total_pymnt_inv','total_rec_int',\n",
    "                        'total_rec_late_fee','total_rec_prncp','url','verification_status', 'initial_list_status', \n",
    "                        'last_credit_pull_d','policy_code'# domain knowledge\n",
    "                       )"
   ]
  },
  {
   "cell_type": "code",
   "execution_count": 6,
   "metadata": {
    "collapsed": false
   },
   "outputs": [
    {
     "data": {
      "text/plain": [
       "Row(loan_amnt=u'5000.0', funded_amnt=u'5000.0', funded_amnt_inv=u'4975.0', int_rate=u'10.65', installment=u'162.87', grade=u'B', sub_grade=u'B2', emp_title=None, emp_length=u'10+ years', home_ownership=u'RENT', annual_inc=u'24000.0', issue_d=u'Dec-2011', loan_status=u'Fully Paid', purpose=u'credit_card', zip_code=u'860xx', addr_state=u'AZ', dti=u'27.65', delinq_2yrs=u'0.0', earliest_cr_line=u'Jan-1985', inq_last_6mths=u'1.0', open_acc=u'3.0', pub_rec=u'0.0', revol_bal=u'13648.0', revol_util=u'83.7', total_acc=u'9.0', collections_12_mths_ex_med=u'0.0', application_type=u'INDIVIDUAL', acc_now_delinq=u'0.0', tot_coll_amt=None, tot_cur_bal=None, total_rev_hi_lim=None)"
      ]
     },
     "execution_count": 6,
     "metadata": {},
     "output_type": "execute_result"
    }
   ],
   "source": [
    "loan_df1.head()"
   ]
  },
  {
   "cell_type": "code",
   "execution_count": 7,
   "metadata": {
    "collapsed": false
   },
   "outputs": [
    {
     "data": {
      "text/plain": [
       "31"
      ]
     },
     "execution_count": 7,
     "metadata": {},
     "output_type": "execute_result"
    }
   ],
   "source": [
    "len(loan_df1.columns)"
   ]
  },
  {
   "cell_type": "code",
   "execution_count": 97,
   "metadata": {
    "collapsed": true
   },
   "outputs": [],
   "source": [
    "# Convert left columns into right format\n",
    "loan_df2 = loan_df.select(\n",
    "    loan_df.loan_amnt.cast(\"integer\"),\n",
    "    loan_df.funded_amnt.cast(\"integer\"),\n",
    "    loan_df.funded_amnt_inv.cast(\"integer\"),\n",
    "    loan_df.int_rate.cast(\"float\"),\n",
    "    loan_df.installment.cast(\"integer\"),\n",
    "    'grade',\n",
    "    'sub_grade',\n",
    "    'emp_title',\n",
    "    'emp_length',\n",
    "    'home_ownership',\n",
    "    loan_df.annual_inc.cast(\"integer\"),\n",
    "    'issue_d',\n",
    "    'loan_status', # response variable\n",
    "    'purpose',\n",
    "    'zip_code',\n",
    "    'addr_state',\n",
    "    loan_df.dti.cast(\"float\"),\n",
    "    loan_df.delinq_2yrs.cast(\"integer\"),\n",
    "    'earliest_cr_line',\n",
    "    loan_df.inq_last_6mths.cast(\"integer\"),\n",
    "    loan_df.open_acc.cast(\"integer\"),\n",
    "    loan_df.pub_rec.cast(\"integer\"),\n",
    "    loan_df.revol_bal.cast(\"integer\"),\n",
    "    loan_df.revol_util.cast(\"float\"),\n",
    "    loan_df.total_acc.cast(\"integer\"),\n",
    "    loan_df.last_credit_pull_d.cast(\"integer\"),\n",
    "    'application_type',\n",
    "    loan_df.acc_now_delinq.cast(\"integer\"),\n",
    "    loan_df.tot_coll_amt.cast(\"float\"),\n",
    "    loan_df.tot_cur_bal.cast(\"float\"),\n",
    "    loan_df.total_rev_hi_lim.cast(\"integer\"),\n",
    "    loan_df.collections_12_mths_ex_med.cast(\"integer\"),\n",
    "    'verification_status',\n",
    "    'initial_list_status'\n",
    ")\n"
   ]
  },
  {
   "cell_type": "code",
   "execution_count": 131,
   "metadata": {
    "collapsed": false
   },
   "outputs": [
    {
     "data": {
      "text/plain": [
       "Row(loan_amnt=5000, funded_amnt=5000, funded_amnt_inv=4975, int_rate=11, installment=163, grade=u'B', sub_grade=u'B2', emp_title=None, emp_length=u'10+ years', home_ownership=u'RENT', annual_inc=24000, issue_d=u'Dec-2011', loan_status=u'Fully Paid', purpose=u'credit_card', zip_code=u'860xx', addr_state=u'AZ', dti=27.649999618530273, delinq_2yrs=0, earliest_cr_line=u'Jan-1985', inq_last_6mths=1, open_acc=3, pub_rec=0, revol_bal=13648, revol_util=83.69999694824219, total_acc=9, last_credit_pull_d=None, application_type=u'INDIVIDUAL', acc_now_delinq=0, tot_coll_amt=None, tot_cur_bal=None, total_rev_hi_lim=None, collections_12_mths_ex_med=0, verification_status=u'Verified', initial_list_status=u'f')"
      ]
     },
     "execution_count": 131,
     "metadata": {},
     "output_type": "execute_result"
    }
   ],
   "source": [
    "loan_df2.head()"
   ]
  },
  {
   "cell_type": "markdown",
   "metadata": {},
   "source": [
    "### 3.2 Create response variable and remove rows with no valid response variable"
   ]
  },
  {
   "cell_type": "code",
   "execution_count": 98,
   "metadata": {
    "collapsed": true
   },
   "outputs": [],
   "source": [
    "def whetherpaid(x):\n",
    "    if x in ['Default', 'Charged Off', 'Does not meet the credit policy. Status:Charged Off']:\n",
    "        return 0\n",
    "    elif x in ['Does not meet the credit policy. Status:Fully Paid', 'Fully Paid']:\n",
    "        return 1\n",
    "    else:\n",
    "        return -1"
   ]
  },
  {
   "cell_type": "code",
   "execution_count": 99,
   "metadata": {
    "collapsed": true
   },
   "outputs": [],
   "source": [
    "paidflag = udf(lambda x: whetherpaid(x))"
   ]
  },
  {
   "cell_type": "code",
   "execution_count": 100,
   "metadata": {
    "collapsed": false
   },
   "outputs": [],
   "source": [
    "loan_df3 = loan_df2.withColumn('paid_flag',paidflag('loan_status')).where(\"paid_flag != -1\").drop('loan_status')"
   ]
  },
  {
   "cell_type": "markdown",
   "metadata": {},
   "source": [
    "### 3.3 Create features"
   ]
  },
  {
   "cell_type": "markdown",
   "metadata": {},
   "source": [
    "#### 3.3.1 Creating a category feature for \"Loan Purpose\", \"grade\", \"sub_grade\", and \"verification_status\""
   ]
  },
  {
   "cell_type": "markdown",
   "metadata": {},
   "source": [
    "There are 14 types of loan purpose. StringIndexer encodes a string column of labels to a column of label indices, and most frequent label gets index 0."
   ]
  },
  {
   "cell_type": "code",
   "execution_count": 133,
   "metadata": {
    "collapsed": false,
    "scrolled": false
   },
   "outputs": [],
   "source": [
    "indexer = StringIndexer(inputCol=\"purpose\", outputCol=\"purposeIndex\")\n",
    "loan_df4 = indexer.fit(loan_df3).transform(loan_df3).drop('purpose')\n",
    "\n",
    "convert_list = [      \n",
    "               'grade',\n",
    "               'sub_grade',\n",
    "               'verification_status',\n",
    "#                'zip_code',\n",
    "#                'addr_state',\n",
    "#                'initial_list_status'\n",
    "                ]\n",
    "\n",
    "for item in convert_list:\n",
    "    indexer = StringIndexer(inputCol=item, outputCol=item + 'Index')    \n",
    "    loan_df4 = indexer.fit(loan_df4).transform(loan_df4).drop(item)"
   ]
  },
  {
   "cell_type": "markdown",
   "metadata": {
    "collapsed": true
   },
   "source": [
    "####  3.3.2 Create a numeric feature for \"emp_length\""
   ]
  },
  {
   "cell_type": "code",
   "execution_count": 192,
   "metadata": {
    "collapsed": false
   },
   "outputs": [],
   "source": [
    "import re\n",
    "def convert_to_int(s):\n",
    "    s = re.sub('\\\\D', '', s)\n",
    "    \n",
    "    try:\n",
    "        return s\n",
    "    except ValueError:\n",
    "        return 'NaN'\n",
    "\n",
    "def calculate_ratio(a, b):\n",
    "    try:\n",
    "        return a/float(b)\n",
    "    except TypeError:\n",
    "        return 'NaN'\n",
    "    except ZeroDivisionError:\n",
    "        return 'NaN'\n",
    "\n",
    "def calculate_monthly_ratio(a, b):\n",
    "    try:\n",
    "        return a/(float(b)/12)\n",
    "    except TypeError:\n",
    "        return 'NaN'\n",
    "    except ZeroDivisionError:\n",
    "        return 'NaN'\n",
    "    \n",
    "emp_to_num = udf(convert_to_int)\n",
    "ratio = udf(calculate_ratio)\n",
    "monthly_ratio = udf(calculate_monthly_ratio)\n",
    "\n",
    "loan_df5 = loan_df4.select('loan_amnt',\n",
    "                           'int_rate',\n",
    "                           'annual_inc',\n",
    "                           'purposeIndex',\n",
    "                           'installment',       \n",
    "                           'gradeIndex',\n",
    "                           'sub_gradeIndex',\n",
    "                           'verification_statusIndex',\n",
    "#                            'zip_code',\n",
    "                           'dti',\n",
    "                           'delinq_2yrs',\n",
    "                           'inq_last_6mths',\n",
    "                           'open_acc',\n",
    "                           'pub_rec',\n",
    "                           'revol_util',\n",
    "                           'total_acc',\n",
    "                           'acc_now_delinq',\n",
    "#                            'addr_state',\n",
    "#                            'initial_list_status',\n",
    "                           'collections_12_mths_ex_med',\n",
    "                           'tot_coll_amt',\n",
    "                           'tot_cur_bal',\n",
    "                           'total_rev_hi_lim',\n",
    "                           ratio('loan_amnt','annual_inc').alias('loan_inc_ratio').cast('float'),\n",
    "                           monthly_ratio('installment','annual_inc').alias('instal_inc_ratio').cast('float'),\n",
    "                           emp_to_num('emp_length').alias('emp_length').cast('integer')\n",
    "                           )"
   ]
  },
  {
   "cell_type": "code",
   "execution_count": 193,
   "metadata": {
    "collapsed": false
   },
   "outputs": [],
   "source": [
    "loan_df6 = loan_df5.fillna(0.0, ['tot_coll_amt','tot_cur_bal', 'total_rev_hi_lim'])"
   ]
  },
  {
   "cell_type": "code",
   "execution_count": 194,
   "metadata": {
    "collapsed": true
   },
   "outputs": [],
   "source": [
    "loan_df7 = loan_df6.dropna()"
   ]
  },
  {
   "cell_type": "code",
   "execution_count": 195,
   "metadata": {
    "collapsed": false
   },
   "outputs": [
    {
     "data": {
      "text/plain": [
       "256939"
      ]
     },
     "execution_count": 195,
     "metadata": {},
     "output_type": "execute_result"
    }
   ],
   "source": [
    "loan_df6.count()"
   ]
  },
  {
   "cell_type": "code",
   "execution_count": 196,
   "metadata": {
    "collapsed": false
   },
   "outputs": [
    {
     "data": {
      "text/plain": [
       "246344"
      ]
     },
     "execution_count": 196,
     "metadata": {},
     "output_type": "execute_result"
    }
   ],
   "source": [
    "loan_df7.count()"
   ]
  },
  {
   "cell_type": "code",
   "execution_count": 197,
   "metadata": {
    "collapsed": false
   },
   "outputs": [
    {
     "data": {
      "text/plain": [
       "<bound method DataFrame.printSchema of DataFrame[loan_amnt: int, int_rate: int, annual_inc: int, purposeIndex: double, installment: int, gradeIndex: double, sub_gradeIndex: double, verification_statusIndex: double, dti: float, delinq_2yrs: int, inq_last_6mths: int, open_acc: int, pub_rec: int, revol_util: float, total_acc: int, acc_now_delinq: int, collections_12_mths_ex_med: int, tot_coll_amt: float, tot_cur_bal: float, total_rev_hi_lim: int, loan_inc_ratio: float, instal_inc_ratio: float, emp_length: int]>"
      ]
     },
     "execution_count": 197,
     "metadata": {},
     "output_type": "execute_result"
    }
   ],
   "source": [
    "loan_df7.printSchema"
   ]
  }
 ],
 "metadata": {
  "anaconda-cloud": {},
  "kernelspec": {
   "display_name": "Python [conda root]",
   "language": "python",
   "name": "conda-root-py"
  },
  "language_info": {
   "codemirror_mode": {
    "name": "ipython",
    "version": 2
   },
   "file_extension": ".py",
   "mimetype": "text/x-python",
   "name": "python",
   "nbconvert_exporter": "python",
   "pygments_lexer": "ipython2",
   "version": "2.7.12"
  }
 },
 "nbformat": 4,
 "nbformat_minor": 1
}
